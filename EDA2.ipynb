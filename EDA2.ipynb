{
 "cells": [
  {
   "cell_type": "code",
   "execution_count": 1,
   "metadata": {
    "collapsed": true,
    "pycharm": {
     "name": "#%%\n"
    }
   },
   "outputs": [],
   "source": [
    "import matplotlib.pyplot\n",
    "from catboost import Pool,CatBoostClassifier\n",
    "import tensorflow as tf\n",
    "from sklearn.model_selection import StratifiedKFold , KFold\n",
    "import matplotlib.pyplot as plt\n",
    "import numpy as np\n",
    "import optuna\n",
    "import lightgbm as lgbm\n",
    "import matplotlib.pyplot as plt\n",
    "import pandas as pd\n",
    "from sklearn.ensemble import RandomForestClassifier\n",
    "from sklearn.model_selection import train_test_split\n",
    "from typing import List ,Dict, Tuple\n",
    "from sklearn.metrics import log_loss\n",
    "import lightgbm as lgbm\n",
    "from optuna import trial\n",
    "from optuna.integration import LightGBMPruningCallback\n",
    "import seaborn as sns\n",
    "from numpy import mean\n",
    "from numpy import std\n",
    "from sklearn.datasets import make_regression\n",
    "from catboost import CatBoostRegressor\n",
    "from sklearn.model_selection import cross_val_score\n",
    "from sklearn.model_selection import RepeatedKFold\n",
    "from matplotlib import pyplot\n",
    "from optuna.trial import Trial\n",
    "\n",
    "import pandas as pd\n",
    "import numpy as np\n",
    "from sklearn.feature_selection import SelectKBest\n",
    "from sklearn.feature_selection import chi2"
   ]
  },
  {
   "cell_type": "code",
   "execution_count": 2,
   "outputs": [],
   "source": [
    "\n",
    "\n",
    "DATA_PATH = './JobCare_data/'\n",
    "#train = pd.read_csv('./JobCare_data/train.csv')\n",
    "code_d = pd.read_csv(f'{DATA_PATH}속성_D_코드.csv')\n",
    "code_h = pd.read_csv(f'{DATA_PATH}속성_H_코드.csv')\n",
    "code_l = pd.read_csv(f'{DATA_PATH}속성_L_코드.csv')\n",
    "train_data = pd.read_csv(f'{DATA_PATH}train.csv')\n",
    "test_data = pd.read_csv(f'{DATA_PATH}test.csv')"
   ],
   "metadata": {
    "collapsed": false,
    "pycharm": {
     "name": "#%%\n"
    }
   }
  },
  {
   "cell_type": "code",
   "execution_count": 3,
   "outputs": [
    {
     "data": {
      "text/plain": "     속성 H 코드  속성 H 중분류코드  속성 H 대분류코드\n0          2         315           1\n1          4         316           3\n2          5         317           3\n3          6         318           3\n4          7         319           3\n..       ...         ...         ...\n289      309         566         308\n290      310         567         308\n291      311         568         308\n292      313         569         312\n293      314         570         314\n\n[294 rows x 3 columns]",
      "text/html": "<div>\n<style scoped>\n    .dataframe tbody tr th:only-of-type {\n        vertical-align: middle;\n    }\n\n    .dataframe tbody tr th {\n        vertical-align: top;\n    }\n\n    .dataframe thead th {\n        text-align: right;\n    }\n</style>\n<table border=\"1\" class=\"dataframe\">\n  <thead>\n    <tr style=\"text-align: right;\">\n      <th></th>\n      <th>속성 H 코드</th>\n      <th>속성 H 중분류코드</th>\n      <th>속성 H 대분류코드</th>\n    </tr>\n  </thead>\n  <tbody>\n    <tr>\n      <th>0</th>\n      <td>2</td>\n      <td>315</td>\n      <td>1</td>\n    </tr>\n    <tr>\n      <th>1</th>\n      <td>4</td>\n      <td>316</td>\n      <td>3</td>\n    </tr>\n    <tr>\n      <th>2</th>\n      <td>5</td>\n      <td>317</td>\n      <td>3</td>\n    </tr>\n    <tr>\n      <th>3</th>\n      <td>6</td>\n      <td>318</td>\n      <td>3</td>\n    </tr>\n    <tr>\n      <th>4</th>\n      <td>7</td>\n      <td>319</td>\n      <td>3</td>\n    </tr>\n    <tr>\n      <th>...</th>\n      <td>...</td>\n      <td>...</td>\n      <td>...</td>\n    </tr>\n    <tr>\n      <th>289</th>\n      <td>309</td>\n      <td>566</td>\n      <td>308</td>\n    </tr>\n    <tr>\n      <th>290</th>\n      <td>310</td>\n      <td>567</td>\n      <td>308</td>\n    </tr>\n    <tr>\n      <th>291</th>\n      <td>311</td>\n      <td>568</td>\n      <td>308</td>\n    </tr>\n    <tr>\n      <th>292</th>\n      <td>313</td>\n      <td>569</td>\n      <td>312</td>\n    </tr>\n    <tr>\n      <th>293</th>\n      <td>314</td>\n      <td>570</td>\n      <td>314</td>\n    </tr>\n  </tbody>\n</table>\n<p>294 rows × 3 columns</p>\n</div>"
     },
     "execution_count": 3,
     "metadata": {},
     "output_type": "execute_result"
    }
   ],
   "source": [
    "code_h"
   ],
   "metadata": {
    "collapsed": false,
    "pycharm": {
     "name": "#%%\n"
    }
   }
  },
  {
   "cell_type": "code",
   "execution_count": 4,
   "outputs": [],
   "source": [
    "ordinal_cols = ['person_attribute_a_1','person_attribute_b', 'person_prefer_e', 'contents_attribute_e']\n",
    "nominal_cols = ['person_attribute_a_1','person_attribute_b','person_prefer_e','contents_attribute_e']"
   ],
   "metadata": {
    "collapsed": false,
    "pycharm": {
     "name": "#%%\n"
    }
   }
  },
  {
   "cell_type": "code",
   "execution_count": 5,
   "outputs": [
    {
     "data": {
      "text/plain": "     속성 H 코드  속성 H 중분류코드  속성 H 대분류코드\n0          2         315           1\n1          4         316           3\n2          5         317           3\n3          6         318           3\n4          7         319           3\n..       ...         ...         ...\n289      309         566         308\n290      310         567         308\n291      311         568         308\n292      313         569         312\n293      314         570         314\n\n[294 rows x 3 columns]",
      "text/html": "<div>\n<style scoped>\n    .dataframe tbody tr th:only-of-type {\n        vertical-align: middle;\n    }\n\n    .dataframe tbody tr th {\n        vertical-align: top;\n    }\n\n    .dataframe thead th {\n        text-align: right;\n    }\n</style>\n<table border=\"1\" class=\"dataframe\">\n  <thead>\n    <tr style=\"text-align: right;\">\n      <th></th>\n      <th>속성 H 코드</th>\n      <th>속성 H 중분류코드</th>\n      <th>속성 H 대분류코드</th>\n    </tr>\n  </thead>\n  <tbody>\n    <tr>\n      <th>0</th>\n      <td>2</td>\n      <td>315</td>\n      <td>1</td>\n    </tr>\n    <tr>\n      <th>1</th>\n      <td>4</td>\n      <td>316</td>\n      <td>3</td>\n    </tr>\n    <tr>\n      <th>2</th>\n      <td>5</td>\n      <td>317</td>\n      <td>3</td>\n    </tr>\n    <tr>\n      <th>3</th>\n      <td>6</td>\n      <td>318</td>\n      <td>3</td>\n    </tr>\n    <tr>\n      <th>4</th>\n      <td>7</td>\n      <td>319</td>\n      <td>3</td>\n    </tr>\n    <tr>\n      <th>...</th>\n      <td>...</td>\n      <td>...</td>\n      <td>...</td>\n    </tr>\n    <tr>\n      <th>289</th>\n      <td>309</td>\n      <td>566</td>\n      <td>308</td>\n    </tr>\n    <tr>\n      <th>290</th>\n      <td>310</td>\n      <td>567</td>\n      <td>308</td>\n    </tr>\n    <tr>\n      <th>291</th>\n      <td>311</td>\n      <td>568</td>\n      <td>308</td>\n    </tr>\n    <tr>\n      <th>292</th>\n      <td>313</td>\n      <td>569</td>\n      <td>312</td>\n    </tr>\n    <tr>\n      <th>293</th>\n      <td>314</td>\n      <td>570</td>\n      <td>314</td>\n    </tr>\n  </tbody>\n</table>\n<p>294 rows × 3 columns</p>\n</div>"
     },
     "execution_count": 5,
     "metadata": {},
     "output_type": "execute_result"
    }
   ],
   "source": [
    "code_h"
   ],
   "metadata": {
    "collapsed": false,
    "pycharm": {
     "name": "#%%\n"
    }
   }
  },
  {
   "cell_type": "code",
   "execution_count": 6,
   "outputs": [],
   "source": [
    "code_d.columns= [\"attribute_d\",\"attribute_d_d\",\"attribute_d_s\",\"attribute_d_m\",\"attribute_d_l\"]\n",
    "code_h.columns= [\"attribute_h\",\"attribute_h_m\",\"attribute_h_l\"]\n",
    "code_l.columns= [\"attribute_l\",\"attribute_l_d\",\"attribute_l_s\",\"attribute_l_m\",\"attribute_l_l\"]\n",
    "# 오버피팅이 자주 발생하는 mean encoding 이므로 cross validation 과 정규화 같이 사용한다=\n",
    "# 변환 하고자 하는 범주형 변수 선택\n",
    "# 범주형 변수 그룹화 -> 타깃 변수 총합 합계\n",
    "# 범주형 변수 그룹화 타깃 빈도수 합계\n",
    "# 총합을 카운트로 나누고 본래 범주 값에 업데이트\n",
    "# 여러가지 방법으로 적용 가능하다\n",
    "# 비슷한 범주 사이에 있는 관계 표현 특징, 범주와 타깃사이에만 국한된다\n",
    "# 범주가 많은 경우 이 방법은 데이터를 훨씬 더 단순화 한다"
   ],
   "metadata": {
    "collapsed": false,
    "pycharm": {
     "name": "#%%\n"
    }
   }
  },
  {
   "cell_type": "code",
   "execution_count": 7,
   "outputs": [
    {
     "data": {
      "text/plain": "Index(['attribute_d', 'attribute_d_d', 'attribute_d_s', 'attribute_d_m',\n       'attribute_d_l'],\n      dtype='object')"
     },
     "execution_count": 7,
     "metadata": {},
     "output_type": "execute_result"
    }
   ],
   "source": [
    "code_d.columns\n",
    "\n"
   ],
   "metadata": {
    "collapsed": false,
    "pycharm": {
     "name": "#%%\n"
    }
   }
  },
  {
   "cell_type": "code",
   "execution_count": 8,
   "outputs": [],
   "source": [
    "# 소분류 중분류 대분류 속성코드 merge 컬럼명 및 데이터 프레임 리스트\n",
    "cols_merge = [\n",
    "              (\"person_prefer_d_1\" , code_d),\n",
    "              (\"person_prefer_d_2\" , code_d),\n",
    "              (\"person_prefer_d_3\" , code_d),\n",
    "              (\"contents_attribute_d\" , code_d),\n",
    "              (\"person_prefer_h_1\" , code_h),\n",
    "              (\"person_prefer_h_2\" , code_h),\n",
    "              (\"person_prefer_h_3\" , code_h),\n",
    "              (\"contents_attribute_h\" , code_h),\n",
    "              (\"contents_attribute_l\" , code_l),\n",
    "]"
   ],
   "metadata": {
    "collapsed": false,
    "pycharm": {
     "name": "#%%\n"
    }
   }
  },
  {
   "cell_type": "code",
   "execution_count": 60,
   "outputs": [
    {
     "data": {
      "text/plain": "     attribute_h  attribute_h_m  attribute_h_l\n0              2            315              1\n1              4            316              3\n2              5            317              3\n3              6            318              3\n4              7            319              3\n..           ...            ...            ...\n289          309            566            308\n290          310            567            308\n291          311            568            308\n292          313            569            312\n293          314            570            314\n\n[294 rows x 3 columns]",
      "text/html": "<div>\n<style scoped>\n    .dataframe tbody tr th:only-of-type {\n        vertical-align: middle;\n    }\n\n    .dataframe tbody tr th {\n        vertical-align: top;\n    }\n\n    .dataframe thead th {\n        text-align: right;\n    }\n</style>\n<table border=\"1\" class=\"dataframe\">\n  <thead>\n    <tr style=\"text-align: right;\">\n      <th></th>\n      <th>attribute_h</th>\n      <th>attribute_h_m</th>\n      <th>attribute_h_l</th>\n    </tr>\n  </thead>\n  <tbody>\n    <tr>\n      <th>0</th>\n      <td>2</td>\n      <td>315</td>\n      <td>1</td>\n    </tr>\n    <tr>\n      <th>1</th>\n      <td>4</td>\n      <td>316</td>\n      <td>3</td>\n    </tr>\n    <tr>\n      <th>2</th>\n      <td>5</td>\n      <td>317</td>\n      <td>3</td>\n    </tr>\n    <tr>\n      <th>3</th>\n      <td>6</td>\n      <td>318</td>\n      <td>3</td>\n    </tr>\n    <tr>\n      <th>4</th>\n      <td>7</td>\n      <td>319</td>\n      <td>3</td>\n    </tr>\n    <tr>\n      <th>...</th>\n      <td>...</td>\n      <td>...</td>\n      <td>...</td>\n    </tr>\n    <tr>\n      <th>289</th>\n      <td>309</td>\n      <td>566</td>\n      <td>308</td>\n    </tr>\n    <tr>\n      <th>290</th>\n      <td>310</td>\n      <td>567</td>\n      <td>308</td>\n    </tr>\n    <tr>\n      <th>291</th>\n      <td>311</td>\n      <td>568</td>\n      <td>308</td>\n    </tr>\n    <tr>\n      <th>292</th>\n      <td>313</td>\n      <td>569</td>\n      <td>312</td>\n    </tr>\n    <tr>\n      <th>293</th>\n      <td>314</td>\n      <td>570</td>\n      <td>314</td>\n    </tr>\n  </tbody>\n</table>\n<p>294 rows × 3 columns</p>\n</div>"
     },
     "execution_count": 60,
     "metadata": {},
     "output_type": "execute_result"
    }
   ],
   "source": [
    "code_h"
   ],
   "metadata": {
    "collapsed": false,
    "pycharm": {
     "name": "#%%\n"
    }
   }
  },
  {
   "cell_type": "code",
   "execution_count": 9,
   "outputs": [],
   "source": [
    "# 회원 속성과 콘텐츠 속성의 동일한 코드 여부에 대한 컬럼명 리스트\n",
    "# cols_merge 으로 생성된 컬럼으로 비교한다\n",
    "cols_equi = [\n",
    "\n",
    "    (\"contents_attribute_c\",\"person_prefer_c\"),\n",
    "    (\"contents_attribute_e\",\"person_prefer_e\"),\n",
    "\n",
    "    (\"person_prefer_d_2_attribute_d_s\" , \"contents_attribute_d_attribute_d_s\"),\n",
    "    (\"person_prefer_d_2_attribute_d_m\" , \"contents_attribute_d_attribute_d_m\"),\n",
    "    (\"person_prefer_d_2_attribute_d_l\" , \"contents_attribute_d_attribute_d_l\"),\n",
    "    (\"person_prefer_d_3_attribute_d_s\" , \"contents_attribute_d_attribute_d_s\"),\n",
    "    (\"person_prefer_d_3_attribute_d_m\" , \"contents_attribute_d_attribute_d_m\"),\n",
    "    (\"person_prefer_d_3_attribute_d_l\" , \"contents_attribute_d_attribute_d_l\"),\n",
    "    (\"person_prefer_h_1_attribute_h_l\" , \"contents_attribute_h_attribute_h_l\"),\n",
    "    (\"person_prefer_h_1_attribute_h_m\" , \"contents_attribute_h_attribute_h_m\"),\n",
    "    (\"person_prefer_h_2_attribute_h_l\" , \"contents_attribute_h_attribute_h_l\"),\n",
    "    (\"person_prefer_h_2_attribute_h_m\" , \"contents_attribute_h_attribute_h_m\"),\n",
    "    (\"person_prefer_h_3_attribute_h_l\" , \"contents_attribute_h_attribute_h_l\"),\n",
    "    (\"person_prefer_h_3_attribute_h_m\" , \"contents_attribute_h_attribute_h_m\"),\n",
    "]"
   ],
   "metadata": {
    "collapsed": false,
    "pycharm": {
     "name": "#%%\n"
    }
   }
  },
  {
   "cell_type": "code",
   "execution_count": 57,
   "outputs": [
    {
     "data": {
      "text/plain": "      attribute_l  attribute_l_d  attribute_l_s  attribute_l_m  attribute_l_l\n0               1              1              1              1           2004\n1               2              2              2              1           2004\n2               3              3              2              1           2004\n3               4              3              2              1           2004\n4               5              5              2              1           2004\n...           ...            ...            ...            ...            ...\n2020         2021           2021           2021           2021           2021\n2021         2022           2022           2022           2022           2022\n2022         2023           2023           2023           2023           2023\n2023         2024           2024           2024           2024           2024\n2024         2025           2025           2025           2025           2025\n\n[2025 rows x 5 columns]",
      "text/html": "<div>\n<style scoped>\n    .dataframe tbody tr th:only-of-type {\n        vertical-align: middle;\n    }\n\n    .dataframe tbody tr th {\n        vertical-align: top;\n    }\n\n    .dataframe thead th {\n        text-align: right;\n    }\n</style>\n<table border=\"1\" class=\"dataframe\">\n  <thead>\n    <tr style=\"text-align: right;\">\n      <th></th>\n      <th>attribute_l</th>\n      <th>attribute_l_d</th>\n      <th>attribute_l_s</th>\n      <th>attribute_l_m</th>\n      <th>attribute_l_l</th>\n    </tr>\n  </thead>\n  <tbody>\n    <tr>\n      <th>0</th>\n      <td>1</td>\n      <td>1</td>\n      <td>1</td>\n      <td>1</td>\n      <td>2004</td>\n    </tr>\n    <tr>\n      <th>1</th>\n      <td>2</td>\n      <td>2</td>\n      <td>2</td>\n      <td>1</td>\n      <td>2004</td>\n    </tr>\n    <tr>\n      <th>2</th>\n      <td>3</td>\n      <td>3</td>\n      <td>2</td>\n      <td>1</td>\n      <td>2004</td>\n    </tr>\n    <tr>\n      <th>3</th>\n      <td>4</td>\n      <td>3</td>\n      <td>2</td>\n      <td>1</td>\n      <td>2004</td>\n    </tr>\n    <tr>\n      <th>4</th>\n      <td>5</td>\n      <td>5</td>\n      <td>2</td>\n      <td>1</td>\n      <td>2004</td>\n    </tr>\n    <tr>\n      <th>...</th>\n      <td>...</td>\n      <td>...</td>\n      <td>...</td>\n      <td>...</td>\n      <td>...</td>\n    </tr>\n    <tr>\n      <th>2020</th>\n      <td>2021</td>\n      <td>2021</td>\n      <td>2021</td>\n      <td>2021</td>\n      <td>2021</td>\n    </tr>\n    <tr>\n      <th>2021</th>\n      <td>2022</td>\n      <td>2022</td>\n      <td>2022</td>\n      <td>2022</td>\n      <td>2022</td>\n    </tr>\n    <tr>\n      <th>2022</th>\n      <td>2023</td>\n      <td>2023</td>\n      <td>2023</td>\n      <td>2023</td>\n      <td>2023</td>\n    </tr>\n    <tr>\n      <th>2023</th>\n      <td>2024</td>\n      <td>2024</td>\n      <td>2024</td>\n      <td>2024</td>\n      <td>2024</td>\n    </tr>\n    <tr>\n      <th>2024</th>\n      <td>2025</td>\n      <td>2025</td>\n      <td>2025</td>\n      <td>2025</td>\n      <td>2025</td>\n    </tr>\n  </tbody>\n</table>\n<p>2025 rows × 5 columns</p>\n</div>"
     },
     "execution_count": 57,
     "metadata": {},
     "output_type": "execute_result"
    }
   ],
   "source": [
    "\n"
   ],
   "metadata": {
    "collapsed": false,
    "pycharm": {
     "name": "#%%\n"
    }
   }
  },
  {
   "cell_type": "code",
   "execution_count": 10,
   "outputs": [],
   "source": [
    "# 학습에 필요없는 컬럼 리스트 눈이 삐었나\n",
    "cols_drop = [\"id\",\"person_prefer_f\",\"person_prefer_g\" ,\"contents_open_dt\", \"contents_rn\", ]"
   ],
   "metadata": {
    "collapsed": false,
    "pycharm": {
     "name": "#%%\n"
    }
   }
  },
  {
   "cell_type": "code",
   "execution_count": 11,
   "outputs": [
    {
     "data": {
      "text/plain": "        d_l_match_yn  d_m_match_yn  d_s_match_yn  h_l_match_yn  h_m_match_yn  \\\n0               True          True          True         False         False   \n1              False         False         False          True          True   \n2              False         False         False          True         False   \n3              False         False         False          True         False   \n4               True          True          True         False         False   \n...              ...           ...           ...           ...           ...   \n501946         False         False         False          True         False   \n501947          True          True         False          True         False   \n501948          True          True          True          True         False   \n501949          True         False         False          True         False   \n501950          True          True          True          True         False   \n\n        h_s_match_yn  person_attribute_a  person_attribute_a_1  \\\n0              False                   1                     4   \n1              False                   1                     3   \n2              False                   2                     0   \n3              False                   2                     0   \n4              False                   1                     3   \n...              ...                 ...                   ...   \n501946         False                   1                     1   \n501947         False                   1                     6   \n501948         False                   1                     7   \n501949         False                   1                     1   \n501950         False                   1                     6   \n\n        person_attribute_b  person_prefer_c  ...  contents_attribute_j_1  \\\n0                        3                5  ...                      10   \n1                        4                1  ...                       5   \n2                        3                5  ...                      10   \n3                        2                5  ...                       5   \n4                        4                5  ...                      10   \n...                    ...              ...  ...                     ...   \n501946                   2                2  ...                       5   \n501947                   2                1  ...                      10   \n501948                   4                1  ...                       5   \n501949                   2                1  ...                       5   \n501950                   3                5  ...                       5   \n\n        contents_attribute_j  contents_attribute_c  contents_attribute_k  \\\n0                          2                     1                     2   \n1                          1                     1                     2   \n2                          2                     1                     1   \n3                          1                     1                     2   \n4                          2                     1                     2   \n...                      ...                   ...                   ...   \n501946                     1                     1                     2   \n501947                     2                     1                     2   \n501948                     1                     1                     2   \n501949                     1                     1                     2   \n501950                     1                     1                     2   \n\n        contents_attribute_l  contents_attribute_d  contents_attribute_m  \\\n0                       1608                   275                     1   \n1                       1608                   275                     1   \n2                       1600                    94                     1   \n3                       1608                   275                     5   \n4                       1608                   275                     1   \n...                      ...                   ...                   ...   \n501946                   354                   147                     1   \n501947                   163                   120                     1   \n501948                   438                   147                     2   \n501949                   660                   147                     3   \n501950                   786                   147                     2   \n\n        contents_attribute_e  contents_attribute_h  target  \n0                          4                   139       1  \n1                          4                   133       0  \n2                          4                    53       0  \n3                          3                    74       0  \n4                          4                    74       0  \n...                      ...                   ...     ...  \n501946                     5                    65       1  \n501947                     4                   142       1  \n501948                     7                    65       1  \n501949                     4                   259       1  \n501950                     5                   289       1  \n\n[501951 rows x 31 columns]",
      "text/html": "<div>\n<style scoped>\n    .dataframe tbody tr th:only-of-type {\n        vertical-align: middle;\n    }\n\n    .dataframe tbody tr th {\n        vertical-align: top;\n    }\n\n    .dataframe thead th {\n        text-align: right;\n    }\n</style>\n<table border=\"1\" class=\"dataframe\">\n  <thead>\n    <tr style=\"text-align: right;\">\n      <th></th>\n      <th>d_l_match_yn</th>\n      <th>d_m_match_yn</th>\n      <th>d_s_match_yn</th>\n      <th>h_l_match_yn</th>\n      <th>h_m_match_yn</th>\n      <th>h_s_match_yn</th>\n      <th>person_attribute_a</th>\n      <th>person_attribute_a_1</th>\n      <th>person_attribute_b</th>\n      <th>person_prefer_c</th>\n      <th>...</th>\n      <th>contents_attribute_j_1</th>\n      <th>contents_attribute_j</th>\n      <th>contents_attribute_c</th>\n      <th>contents_attribute_k</th>\n      <th>contents_attribute_l</th>\n      <th>contents_attribute_d</th>\n      <th>contents_attribute_m</th>\n      <th>contents_attribute_e</th>\n      <th>contents_attribute_h</th>\n      <th>target</th>\n    </tr>\n  </thead>\n  <tbody>\n    <tr>\n      <th>0</th>\n      <td>True</td>\n      <td>True</td>\n      <td>True</td>\n      <td>False</td>\n      <td>False</td>\n      <td>False</td>\n      <td>1</td>\n      <td>4</td>\n      <td>3</td>\n      <td>5</td>\n      <td>...</td>\n      <td>10</td>\n      <td>2</td>\n      <td>1</td>\n      <td>2</td>\n      <td>1608</td>\n      <td>275</td>\n      <td>1</td>\n      <td>4</td>\n      <td>139</td>\n      <td>1</td>\n    </tr>\n    <tr>\n      <th>1</th>\n      <td>False</td>\n      <td>False</td>\n      <td>False</td>\n      <td>True</td>\n      <td>True</td>\n      <td>False</td>\n      <td>1</td>\n      <td>3</td>\n      <td>4</td>\n      <td>1</td>\n      <td>...</td>\n      <td>5</td>\n      <td>1</td>\n      <td>1</td>\n      <td>2</td>\n      <td>1608</td>\n      <td>275</td>\n      <td>1</td>\n      <td>4</td>\n      <td>133</td>\n      <td>0</td>\n    </tr>\n    <tr>\n      <th>2</th>\n      <td>False</td>\n      <td>False</td>\n      <td>False</td>\n      <td>True</td>\n      <td>False</td>\n      <td>False</td>\n      <td>2</td>\n      <td>0</td>\n      <td>3</td>\n      <td>5</td>\n      <td>...</td>\n      <td>10</td>\n      <td>2</td>\n      <td>1</td>\n      <td>1</td>\n      <td>1600</td>\n      <td>94</td>\n      <td>1</td>\n      <td>4</td>\n      <td>53</td>\n      <td>0</td>\n    </tr>\n    <tr>\n      <th>3</th>\n      <td>False</td>\n      <td>False</td>\n      <td>False</td>\n      <td>True</td>\n      <td>False</td>\n      <td>False</td>\n      <td>2</td>\n      <td>0</td>\n      <td>2</td>\n      <td>5</td>\n      <td>...</td>\n      <td>5</td>\n      <td>1</td>\n      <td>1</td>\n      <td>2</td>\n      <td>1608</td>\n      <td>275</td>\n      <td>5</td>\n      <td>3</td>\n      <td>74</td>\n      <td>0</td>\n    </tr>\n    <tr>\n      <th>4</th>\n      <td>True</td>\n      <td>True</td>\n      <td>True</td>\n      <td>False</td>\n      <td>False</td>\n      <td>False</td>\n      <td>1</td>\n      <td>3</td>\n      <td>4</td>\n      <td>5</td>\n      <td>...</td>\n      <td>10</td>\n      <td>2</td>\n      <td>1</td>\n      <td>2</td>\n      <td>1608</td>\n      <td>275</td>\n      <td>1</td>\n      <td>4</td>\n      <td>74</td>\n      <td>0</td>\n    </tr>\n    <tr>\n      <th>...</th>\n      <td>...</td>\n      <td>...</td>\n      <td>...</td>\n      <td>...</td>\n      <td>...</td>\n      <td>...</td>\n      <td>...</td>\n      <td>...</td>\n      <td>...</td>\n      <td>...</td>\n      <td>...</td>\n      <td>...</td>\n      <td>...</td>\n      <td>...</td>\n      <td>...</td>\n      <td>...</td>\n      <td>...</td>\n      <td>...</td>\n      <td>...</td>\n      <td>...</td>\n      <td>...</td>\n    </tr>\n    <tr>\n      <th>501946</th>\n      <td>False</td>\n      <td>False</td>\n      <td>False</td>\n      <td>True</td>\n      <td>False</td>\n      <td>False</td>\n      <td>1</td>\n      <td>1</td>\n      <td>2</td>\n      <td>2</td>\n      <td>...</td>\n      <td>5</td>\n      <td>1</td>\n      <td>1</td>\n      <td>2</td>\n      <td>354</td>\n      <td>147</td>\n      <td>1</td>\n      <td>5</td>\n      <td>65</td>\n      <td>1</td>\n    </tr>\n    <tr>\n      <th>501947</th>\n      <td>True</td>\n      <td>True</td>\n      <td>False</td>\n      <td>True</td>\n      <td>False</td>\n      <td>False</td>\n      <td>1</td>\n      <td>6</td>\n      <td>2</td>\n      <td>1</td>\n      <td>...</td>\n      <td>10</td>\n      <td>2</td>\n      <td>1</td>\n      <td>2</td>\n      <td>163</td>\n      <td>120</td>\n      <td>1</td>\n      <td>4</td>\n      <td>142</td>\n      <td>1</td>\n    </tr>\n    <tr>\n      <th>501948</th>\n      <td>True</td>\n      <td>True</td>\n      <td>True</td>\n      <td>True</td>\n      <td>False</td>\n      <td>False</td>\n      <td>1</td>\n      <td>7</td>\n      <td>4</td>\n      <td>1</td>\n      <td>...</td>\n      <td>5</td>\n      <td>1</td>\n      <td>1</td>\n      <td>2</td>\n      <td>438</td>\n      <td>147</td>\n      <td>2</td>\n      <td>7</td>\n      <td>65</td>\n      <td>1</td>\n    </tr>\n    <tr>\n      <th>501949</th>\n      <td>True</td>\n      <td>False</td>\n      <td>False</td>\n      <td>True</td>\n      <td>False</td>\n      <td>False</td>\n      <td>1</td>\n      <td>1</td>\n      <td>2</td>\n      <td>1</td>\n      <td>...</td>\n      <td>5</td>\n      <td>1</td>\n      <td>1</td>\n      <td>2</td>\n      <td>660</td>\n      <td>147</td>\n      <td>3</td>\n      <td>4</td>\n      <td>259</td>\n      <td>1</td>\n    </tr>\n    <tr>\n      <th>501950</th>\n      <td>True</td>\n      <td>True</td>\n      <td>True</td>\n      <td>True</td>\n      <td>False</td>\n      <td>False</td>\n      <td>1</td>\n      <td>6</td>\n      <td>3</td>\n      <td>5</td>\n      <td>...</td>\n      <td>5</td>\n      <td>1</td>\n      <td>1</td>\n      <td>2</td>\n      <td>786</td>\n      <td>147</td>\n      <td>2</td>\n      <td>5</td>\n      <td>289</td>\n      <td>1</td>\n    </tr>\n  </tbody>\n</table>\n<p>501951 rows × 31 columns</p>\n</div>"
     },
     "execution_count": 11,
     "metadata": {},
     "output_type": "execute_result"
    }
   ],
   "source": [
    "train_data.drop(['id','contents_open_dt','contents_rn','person_rn'],axis=1)"
   ],
   "metadata": {
    "collapsed": false,
    "pycharm": {
     "name": "#%%\n"
    }
   }
  },
  {
   "cell_type": "code",
   "execution_count": 12,
   "outputs": [
    {
     "data": {
      "text/plain": "0          59\n1          96\n2          56\n3           2\n4         209\n         ... \n501946     95\n501947     95\n501948    139\n501949    258\n501950     49\nName: person_prefer_h_3, Length: 501951, dtype: int64"
     },
     "execution_count": 12,
     "metadata": {},
     "output_type": "execute_result"
    }
   ],
   "source": [
    "# 회원 선호 속성 1 ,2 ,3 이라는게 우선 순위 인듯 하다 계속 보다보니\n",
    "train_data['person_prefer_h_3']"
   ],
   "metadata": {
    "collapsed": false,
    "pycharm": {
     "name": "#%%\n"
    }
   }
  },
  {
   "cell_type": "code",
   "execution_count": 13,
   "outputs": [],
   "source": [
    "def merge_codes(df:pd.DataFrame,df_code:pd.DataFrame,col:str)->pd.DataFrame:\n",
    "    df = df.copy()\n",
    "    df_code = df_code.copy()\n",
    "\n",
    "    # 속성 코드에 대해 검사하는 컬럼별로 prefix 를 붙인다\n",
    "    #\n",
    "    df_code = df_code.add_prefix(f\"{col}_\")\n",
    "    df_code.columns.values[0] = col\n",
    "    return pd.merge(df,df_code,how=\"left\",on=col)"
   ],
   "metadata": {
    "collapsed": false,
    "pycharm": {
     "name": "#%%\n"
    }
   }
  },
  {
   "cell_type": "code",
   "execution_count": 13,
   "outputs": [],
   "source": [],
   "metadata": {
    "collapsed": false,
    "pycharm": {
     "name": "#%%\n"
    }
   }
  },
  {
   "cell_type": "code",
   "execution_count": 13,
   "outputs": [],
   "source": [],
   "metadata": {
    "collapsed": false,
    "pycharm": {
     "name": "#%%\n"
    }
   }
  },
  {
   "cell_type": "code",
   "execution_count": 66,
   "outputs": [],
   "source": [
    "# def merge_codes(df:pd.DataFrame, df_code:pd.DataFrame, col:str) -> pd.DataFrame:\n",
    "#     df = df.copy()\n",
    "#     df_code = df_code.copy()\n",
    "#     df_code = df_code.add_prefix(f\"{col}_\")\n",
    "#     # join key 설정\n",
    "#     df_code.columns.values[0] = col\n",
    "#     # print('df :' ,df)\n",
    "#     # print('df_code : ', df_code)\n",
    "#     # print('merge data : ',pd.merge(df,df_code , how='left', on= col) )\n",
    "#     return pd.merge(df,df_code , how='left', on= col)"
   ],
   "metadata": {
    "collapsed": false,
    "pycharm": {
     "name": "#%%\n"
    }
   }
  },
  {
   "cell_type": "code",
   "execution_count": 15,
   "outputs": [
    {
     "data": {
      "text/plain": "Int64Index([  2, 198, 215, 214, 213, 212, 211, 210, 209, 207,\n            ...\n            113, 111, 104, 110, 109, 108, 107, 106, 105, 314],\n           dtype='int64', length=294)"
     },
     "execution_count": 15,
     "metadata": {},
     "output_type": "execute_result"
    }
   ],
   "source": [],
   "metadata": {
    "collapsed": false,
    "pycharm": {
     "name": "#%%\n"
    }
   }
  },
  {
   "cell_type": "code",
   "execution_count": 66,
   "outputs": [],
   "source": [
    "\n"
   ],
   "metadata": {
    "collapsed": false,
    "pycharm": {
     "name": "#%%\n"
    }
   }
  },
  {
   "cell_type": "code",
   "execution_count": 14,
   "outputs": [],
   "source": [
    "def preprocess_data(\n",
    "                    df:pd.DataFrame,is_train:bool = True, cols_merge:List[Tuple[str,pd.DataFrame]] = []  , cols_equi:List[Tuple[str,str]]= [] ,\n",
    "                    cols_drop:List[str] = [\"id\",\"person_prefer_f\",\"person_prefer_g\" ,\"contents_open_dt\"]\n",
    "                    )->Tuple[pd.DataFrame,np.ndarray]:\n",
    "    df = df.copy()\n",
    "\n",
    "    y_data = None\n",
    "    if is_train:\n",
    "        y_data = df[\"target\"].to_numpy()\n",
    "        df = df.drop(columns=\"target\")\n",
    "\n",
    "    for col, df_code in cols_merge:\n",
    "        df = merge_codes(df,df_code,col)\n",
    "\n",
    "    cols = df.select_dtypes(bool).columns.tolist()\n",
    "    df[cols] = df[cols].astype(int)\n",
    "\n",
    "    for col1, col2 in cols_equi:\n",
    "        df[f\"{col1}_{col2}\"] = (df[col1] == df[col2] ).astype(int)\n",
    "\n",
    "    df = df.drop(columns=cols_drop)\n",
    "    return (df , y_data)"
   ],
   "metadata": {
    "collapsed": false,
    "pycharm": {
     "name": "#%%\n"
    }
   }
  },
  {
   "cell_type": "code",
   "execution_count": 15,
   "outputs": [],
   "source": [
    "def get_meta_data(train_data):\n",
    "    cols = train_data.columns\n",
    "    temp =[]\n",
    "    binary_col = []\n",
    "    nominal_col = []\n",
    "    ordinal_col = []\n",
    "    for col in cols:\n",
    "        if 'yn' in col:\n",
    "            temp.append((col,'binary'))\n",
    "        elif col in ordinal_cols:\n",
    "            temp.append((col,'ordinal'))\n",
    "        else:\n",
    "            temp.append((col,'nominal'))\n",
    "\n",
    "    temp = pd.DataFrame(data)\n",
    "\n",
    "    temp.columns = ['col_name', 'type']\n",
    "    return temp"
   ],
   "metadata": {
    "collapsed": false,
    "pycharm": {
     "name": "#%%\n"
    }
   }
  },
  {
   "cell_type": "code",
   "execution_count": 16,
   "outputs": [],
   "source": [
    "x_train, y_train = preprocess_data(train_data,  cols_merge=cols_merge, cols_equi=cols_equi, cols_drop=cols_drop)"
   ],
   "metadata": {
    "collapsed": false,
    "pycharm": {
     "name": "#%%\n"
    }
   }
  },
  {
   "cell_type": "code",
   "execution_count": 17,
   "outputs": [],
   "source": [
    "x_test , _ = preprocess_data(test_data, is_train  =False , cols_merge= cols_merge, cols_equi= cols_equi, cols_drop = cols_drop)\n"
   ],
   "metadata": {
    "collapsed": false,
    "pycharm": {
     "name": "#%%\n"
    }
   }
  },
  {
   "cell_type": "code",
   "execution_count": 18,
   "outputs": [
    {
     "data": {
      "text/plain": "((501951, 71), (501951,), (46404, 71))"
     },
     "execution_count": 18,
     "metadata": {},
     "output_type": "execute_result"
    }
   ],
   "source": [
    "x_train.shape, y_train.shape , x_test.shape"
   ],
   "metadata": {
    "collapsed": false,
    "pycharm": {
     "name": "#%%\n"
    }
   }
  },
  {
   "cell_type": "code",
   "execution_count": 19,
   "outputs": [],
   "source": [
    "cat_features = x_train.columns[x_train.nunique() > 2].tolist()\n"
   ],
   "metadata": {
    "collapsed": false,
    "pycharm": {
     "name": "#%%\n"
    }
   }
  },
  {
   "cell_type": "code",
   "execution_count": 20,
   "outputs": [
    {
     "data": {
      "text/plain": "['person_attribute_a_1',\n 'person_attribute_b',\n 'person_prefer_c',\n 'person_prefer_d_1',\n 'person_prefer_d_2',\n 'person_prefer_d_3',\n 'person_prefer_e',\n 'person_prefer_h_1',\n 'person_prefer_h_2',\n 'person_prefer_h_3',\n 'contents_attribute_i',\n 'contents_attribute_a',\n 'contents_attribute_j_1',\n 'contents_attribute_c',\n 'contents_attribute_l',\n 'contents_attribute_d',\n 'contents_attribute_m',\n 'contents_attribute_e',\n 'contents_attribute_h',\n 'person_rn',\n 'person_prefer_d_1_attribute_d_d',\n 'person_prefer_d_1_attribute_d_s',\n 'person_prefer_d_1_attribute_d_m',\n 'person_prefer_d_1_attribute_d_l',\n 'person_prefer_d_2_attribute_d_d',\n 'person_prefer_d_2_attribute_d_s',\n 'person_prefer_d_2_attribute_d_m',\n 'person_prefer_d_2_attribute_d_l',\n 'person_prefer_d_3_attribute_d_d',\n 'person_prefer_d_3_attribute_d_s',\n 'person_prefer_d_3_attribute_d_m',\n 'person_prefer_d_3_attribute_d_l',\n 'contents_attribute_d_attribute_d_d',\n 'contents_attribute_d_attribute_d_s',\n 'contents_attribute_d_attribute_d_m',\n 'contents_attribute_d_attribute_d_l',\n 'person_prefer_h_1_attribute_h_m',\n 'person_prefer_h_1_attribute_h_l',\n 'person_prefer_h_2_attribute_h_m',\n 'person_prefer_h_2_attribute_h_l',\n 'person_prefer_h_3_attribute_h_m',\n 'person_prefer_h_3_attribute_h_l',\n 'contents_attribute_h_attribute_h_m',\n 'contents_attribute_h_attribute_h_l',\n 'contents_attribute_l_attribute_l_d',\n 'contents_attribute_l_attribute_l_s',\n 'contents_attribute_l_attribute_l_m',\n 'contents_attribute_l_attribute_l_l']"
     },
     "execution_count": 20,
     "metadata": {},
     "output_type": "execute_result"
    }
   ],
   "source": [
    "cat_features"
   ],
   "metadata": {
    "collapsed": false,
    "pycharm": {
     "name": "#%%\n"
    }
   }
  },
  {
   "cell_type": "code",
   "execution_count": 21,
   "outputs": [],
   "source": [
    "SEED=42\n",
    "isholdout = False\n",
    "n_splits = 5\n",
    "iterations = 3000\n",
    "patience = 50\n",
    "\n",
    "cv = KFold(n_splits=n_splits, shuffle=True , random_state=SEED)"
   ],
   "metadata": {
    "collapsed": false,
    "pycharm": {
     "name": "#%%\n"
    }
   }
  },
  {
   "cell_type": "code",
   "execution_count": 23,
   "outputs": [
    {
     "name": "stdout",
     "output_type": "stream",
     "text": [
      "==================================================\n"
     ]
    },
    {
     "name": "stderr",
     "output_type": "stream",
     "text": [
      "Custom logger is already specified. Specify more than one logger at same time is not thread safe."
     ]
    },
    {
     "name": "stdout",
     "output_type": "stream",
     "text": [
      "Learning rate set to 0.086395\n",
      "0:\tlearn: 0.6065167\ttest: 0.6062566\tbest: 0.6062566 (0)\ttotal: 2.24s\tremaining: 1h 51m 55s\n",
      "100:\tlearn: 0.6633278\ttest: 0.6867998\tbest: 0.6867998 (100)\ttotal: 3m 22s\tremaining: 1h 37m 2s\n",
      "200:\tlearn: 0.6695217\ttest: 0.6900888\tbest: 0.6903794 (179)\ttotal: 6m 52s\tremaining: 1h 35m 44s\n",
      "300:\tlearn: 0.6735240\ttest: 0.6921928\tbest: 0.6922372 (287)\ttotal: 10m 33s\tremaining: 1h 34m 36s\n",
      "400:\tlearn: 0.6760803\ttest: 0.6929551\tbest: 0.6929551 (400)\ttotal: 13m 26s\tremaining: 1h 27m 5s\n",
      "Stopped by overfitting detector  (50 iterations wait)\n",
      "\n",
      "bestTest = 0.6929551329\n",
      "bestIteration = 400\n",
      "\n",
      "Shrink model to first 401 iterations.\n",
      "==================================================\n",
      "Learning rate set to 0.086395\n",
      "0:\tlearn: 0.5957885\ttest: 0.6076535\tbest: 0.6076535 (0)\ttotal: 2.82s\tremaining: 2h 21m 6s\n",
      "100:\tlearn: 0.6630940\ttest: 0.6867308\tbest: 0.6868377 (95)\ttotal: 3m 16s\tremaining: 1h 34m 7s\n",
      "200:\tlearn: 0.6691893\ttest: 0.6915610\tbest: 0.6918382 (191)\ttotal: 7m 1s\tremaining: 1h 37m 54s\n",
      "300:\tlearn: 0.6727952\ttest: 0.6951114\tbest: 0.6951829 (297)\ttotal: 10m 10s\tremaining: 1h 31m 12s\n",
      "400:\tlearn: 0.6758817\ttest: 0.6966693\tbest: 0.6966693 (400)\ttotal: 13m 24s\tremaining: 1h 26m 56s\n",
      "500:\tlearn: 0.6778325\ttest: 0.6970580\tbest: 0.6977255 (459)\ttotal: 16m 45s\tremaining: 1h 23m 36s\n",
      "Stopped by overfitting detector  (50 iterations wait)\n",
      "\n",
      "bestTest = 0.6977254552\n",
      "bestIteration = 459\n",
      "\n",
      "Shrink model to first 460 iterations.\n",
      "==================================================\n",
      "Learning rate set to 0.086395\n",
      "0:\tlearn: 0.6323568\ttest: 0.6413236\tbest: 0.6413236 (0)\ttotal: 2.29s\tremaining: 1h 54m 30s\n",
      "100:\tlearn: 0.6632914\ttest: 0.6795125\tbest: 0.6824536 (66)\ttotal: 3m 54s\tremaining: 1h 52m 19s\n",
      "Stopped by overfitting detector  (50 iterations wait)\n",
      "\n",
      "bestTest = 0.682453584\n",
      "bestIteration = 66\n",
      "\n",
      "Shrink model to first 67 iterations.\n",
      "==================================================\n",
      "Learning rate set to 0.086395\n",
      "0:\tlearn: 0.6310515\ttest: 0.6365449\tbest: 0.6365449 (0)\ttotal: 1.61s\tremaining: 1h 20m 35s\n",
      "100:\tlearn: 0.6633228\ttest: 0.6841811\tbest: 0.6841944 (96)\ttotal: 3m 4s\tremaining: 1h 28m 22s\n",
      "200:\tlearn: 0.6700846\ttest: 0.6893189\tbest: 0.6893189 (200)\ttotal: 6m 15s\tremaining: 1h 27m 5s\n",
      "300:\tlearn: 0.6738296\ttest: 0.6943676\tbest: 0.6944040 (298)\ttotal: 9m 20s\tremaining: 1h 23m 42s\n",
      "400:\tlearn: 0.6759818\ttest: 0.6956154\tbest: 0.6957312 (384)\ttotal: 12m 16s\tremaining: 1h 19m 30s\n",
      "500:\tlearn: 0.6778555\ttest: 0.6960339\tbest: 0.6961648 (470)\ttotal: 15m 4s\tremaining: 1h 15m 9s\n",
      "Stopped by overfitting detector  (50 iterations wait)\n",
      "\n",
      "bestTest = 0.6961648119\n",
      "bestIteration = 470\n",
      "\n",
      "Shrink model to first 471 iterations.\n",
      "==================================================\n",
      "Learning rate set to 0.086395\n",
      "0:\tlearn: 0.5975234\ttest: 0.5941896\tbest: 0.5941896 (0)\ttotal: 1.63s\tremaining: 1h 21m 33s\n",
      "100:\tlearn: 0.6648904\ttest: 0.6804961\tbest: 0.6821052 (89)\ttotal: 3m 22s\tremaining: 1h 36m 45s\n",
      "Stopped by overfitting detector  (50 iterations wait)\n",
      "\n",
      "bestTest = 0.6824272119\n",
      "bestIteration = 119\n",
      "\n",
      "Shrink model to first 120 iterations.\n"
     ]
    }
   ],
   "source": [
    "scores = []\n",
    "models = []\n",
    "\n",
    "is_holdout =False\n",
    "models = []\n",
    "for tri , vai in cv.split(x_train):\n",
    "    print(\"=\"*50)\n",
    "    preds = []\n",
    "\n",
    "    model = CatBoostClassifier(iterations=iterations  ,random_state=SEED , eval_metric=\"F1\", cat_features=cat_features,\n",
    "                               one_hot_max_size=4, )\n",
    "    model.fit(x_train.iloc[tri], y_train[tri],\n",
    "              eval_set=[(x_train.iloc[vai] , y_train[vai])],\n",
    "              early_stopping_rounds=patience,\n",
    "              verbose =100\n",
    "              )\n",
    "    models.append(model)\n",
    "    scores.append(model.get_best_score()[\"validation\"][\"F1\"])\n",
    "    if is_holdout:\n",
    "        break"
   ],
   "metadata": {
    "collapsed": false,
    "pycharm": {
     "name": "#%%\n"
    }
   }
  },
  {
   "cell_type": "code",
   "execution_count": null,
   "outputs": [],
   "source": [
    "train_data"
   ],
   "metadata": {
    "collapsed": false,
    "pycharm": {
     "name": "#%%\n"
    }
   }
  },
  {
   "cell_type": "code",
   "execution_count": 25,
   "outputs": [
    {
     "name": "stdout",
     "output_type": "stream",
     "text": [
      "[]\n",
      "nan\n"
     ]
    },
    {
     "name": "stderr",
     "output_type": "stream",
     "text": [
      "/Users/seongminpark/PycharmProjects/pythonProject/venv/lib/python3.8/site-packages/numpy/core/fromnumeric.py:3419: RuntimeWarning: Mean of empty slice.\n",
      "  return _methods._mean(a, axis=axis, dtype=dtype,\n",
      "/Users/seongminpark/PycharmProjects/pythonProject/venv/lib/python3.8/site-packages/numpy/core/_methods.py:188: RuntimeWarning: invalid value encountered in double_scalars\n",
      "  ret = ret.dtype.type(ret / rcount)\n"
     ]
    }
   ],
   "source": [
    "#https://soobarkbar.tistory.com/34 catboost explain\n",
    "#cat boost work 현재 트리 이전에 사용된 모든 범주형 feature를 조합한다 그리고 연결한다\n",
    "# 작은 데이터셋에서 ORDERED 모드가 유용 데이터 특질 이해하기\n",
    "print(scores)\n",
    "print(np.mean(scores))\n",
    "threshold=0.4"
   ],
   "metadata": {
    "collapsed": false,
    "pycharm": {
     "name": "#%%\n"
    }
   }
  },
  {
   "cell_type": "code",
   "execution_count": 26,
   "outputs": [
    {
     "name": "stdout",
     "output_type": "stream",
     "text": [
      "[0.718845786229854, 0.7172267536704731, 0.7102823177414579, 0.7153543147208121, 0.7103137267624824]\n",
      "0.7144045798250158\n"
     ]
    }
   ],
   "source": [
    "from sklearn.metrics import f1_score\n",
    "pred_list =[]\n",
    "scores=[]\n",
    "\n",
    "for i , (tri, vai) in enumerate(cv.split(x_train)):\n",
    "    pred = models[i].predict_proba(x_train.iloc[vai])[:,1]\n",
    "    pred = np.where(pred >= threshold , 1, 0)\n",
    "    score = f1_score(y_train[vai], pred)\n",
    "    scores.append(score)\n",
    "    pred = models[i].predict_proba(x_test)[:,1]\n",
    "    pred_list.append(pred)\n",
    "print(scores)\n",
    "print(np.mean(scores))"
   ],
   "metadata": {
    "collapsed": false,
    "pycharm": {
     "name": "#%%\n"
    }
   }
  },
  {
   "cell_type": "code",
   "execution_count": 28,
   "outputs": [],
   "source": [
    "pred = np.mean(pred_list, axis=0)\n",
    "pred = np.where(pred >= threshold, 1,0)"
   ],
   "metadata": {
    "collapsed": false,
    "pycharm": {
     "name": "#%%\n"
    }
   }
  },
  {
   "cell_type": "code",
   "execution_count": 29,
   "outputs": [
    {
     "data": {
      "text/plain": "          id  target\n0          0       1\n1          1       0\n2          2       1\n3          3       0\n4          4       0\n...      ...     ...\n46399  46399       1\n46400  46400       1\n46401  46401       1\n46402  46402       1\n46403  46403       1\n\n[46404 rows x 2 columns]",
      "text/html": "<div>\n<style scoped>\n    .dataframe tbody tr th:only-of-type {\n        vertical-align: middle;\n    }\n\n    .dataframe tbody tr th {\n        vertical-align: top;\n    }\n\n    .dataframe thead th {\n        text-align: right;\n    }\n</style>\n<table border=\"1\" class=\"dataframe\">\n  <thead>\n    <tr style=\"text-align: right;\">\n      <th></th>\n      <th>id</th>\n      <th>target</th>\n    </tr>\n  </thead>\n  <tbody>\n    <tr>\n      <th>0</th>\n      <td>0</td>\n      <td>1</td>\n    </tr>\n    <tr>\n      <th>1</th>\n      <td>1</td>\n      <td>0</td>\n    </tr>\n    <tr>\n      <th>2</th>\n      <td>2</td>\n      <td>1</td>\n    </tr>\n    <tr>\n      <th>3</th>\n      <td>3</td>\n      <td>0</td>\n    </tr>\n    <tr>\n      <th>4</th>\n      <td>4</td>\n      <td>0</td>\n    </tr>\n    <tr>\n      <th>...</th>\n      <td>...</td>\n      <td>...</td>\n    </tr>\n    <tr>\n      <th>46399</th>\n      <td>46399</td>\n      <td>1</td>\n    </tr>\n    <tr>\n      <th>46400</th>\n      <td>46400</td>\n      <td>1</td>\n    </tr>\n    <tr>\n      <th>46401</th>\n      <td>46401</td>\n      <td>1</td>\n    </tr>\n    <tr>\n      <th>46402</th>\n      <td>46402</td>\n      <td>1</td>\n    </tr>\n    <tr>\n      <th>46403</th>\n      <td>46403</td>\n      <td>1</td>\n    </tr>\n  </tbody>\n</table>\n<p>46404 rows × 2 columns</p>\n</div>"
     },
     "execution_count": 29,
     "metadata": {},
     "output_type": "execute_result"
    }
   ],
   "source": [
    "sample_submission = pd.read_csv(f\"{DATA_PATH}sample_submission.csv\")\n",
    "sample_submission['target'] = pred\n",
    "sample_submission"
   ],
   "metadata": {
    "collapsed": false,
    "pycharm": {
     "name": "#%%\n"
    }
   }
  },
  {
   "cell_type": "code",
   "execution_count": 32,
   "outputs": [],
   "source": [
    "SUBMIT_PATH = './submission/'\n",
    "sample_submission.to_csv(f\"{SUBMIT_PATH}prediction.csv\", index=False)"
   ],
   "metadata": {
    "collapsed": false,
    "pycharm": {
     "name": "#%%\n"
    }
   }
  },
  {
   "cell_type": "code",
   "execution_count": 36,
   "outputs": [],
   "source": [
    "from optuna.samplers import TPESampler"
   ],
   "metadata": {
    "collapsed": false,
    "pycharm": {
     "name": "#%%\n"
    }
   }
  },
  {
   "cell_type": "code",
   "execution_count": 33,
   "outputs": [
    {
     "data": {
      "text/plain": "(501951, 71)"
     },
     "execution_count": 33,
     "metadata": {},
     "output_type": "execute_result"
    }
   ],
   "source": [
    "# optuna hyperparameter tuning\n",
    "# 일반 데이터셋에서 best parameter 를 추출하고 catboost에 다시 적용\n",
    "\n",
    "x_train.shape, y_train.shape"
   ],
   "metadata": {
    "collapsed": false,
    "pycharm": {
     "name": "#%%\n"
    }
   }
  },
  {
   "cell_type": "code",
   "execution_count": 41,
   "outputs": [],
   "source": [
    "def objective(trial):\n",
    "  param = {\n",
    "      \"objective\": trial.suggest_categorical(\"objective\", [\"Logloss\", \"CrossEntropy\"]),\n",
    "      \"random_state\":42,\n",
    "      'learning_rate' : trial.suggest_loguniform('learning_rate', 0.01, 0.3),\n",
    "      'bagging_temperature' :trial.suggest_loguniform('bagging_temperature', 0.01, 100.00),\n",
    "      \"n_estimators\":trial.suggest_int(\"n_estimators\", 1000, 10000),\n",
    "      \"max_depth\":trial.suggest_int(\"max_depth\", 4, 16),\n",
    "      'random_strength' :trial.suggest_int('random_strength', 0, 100),\n",
    "      \"colsample_bylevel\":trial.suggest_float(\"colsample_bylevel\", 0.4, 1.0),\n",
    "      \"l2_leaf_reg\":trial.suggest_float(\"l2_leaf_reg\",1e-8,3e-5),\n",
    "      \"min_child_samples\": trial.suggest_int(\"min_child_samples\", 5, 100),\n",
    "      \"boosting_type\": trial.suggest_categorical(\"boosting_type\", [\"Ordered\", \"Plain\"]),\n",
    "      \"max_bin\": trial.suggest_int(\"max_bin\", 200, 500),\n",
    "      'od_type': trial.suggest_categorical('od_type', ['IncToDec', 'Iter']),\n",
    "      \"used_ram_limit\": \"2gb\",\n",
    "  }\n",
    "\n",
    "  X_train, X_valid, Y_train, Y_valid = train_test_split(x_train,y_train,test_size=0.2)\n",
    "\n",
    "  cat_features =[0,1,2,5,6,7,8,15,18]\n",
    "  cat = CatBoostClassifier(**param)\n",
    "  cat.fit(X_train, Y_train,\n",
    "          eval_set=[ (X_valid,Y_valid)],\n",
    "          early_stopping_rounds=35,cat_features=cat_features,\n",
    "          verbose=100)\n",
    "  cat_pred = cat.predict_proba(X_valid)\n",
    "  log_score = log_loss(Y_valid, cat_pred)\n",
    "\n",
    "  return log_score"
   ],
   "metadata": {
    "collapsed": false,
    "pycharm": {
     "name": "#%%\n"
    }
   }
  },
  {
   "cell_type": "code",
   "execution_count": null,
   "outputs": [
    {
     "name": "stderr",
     "output_type": "stream",
     "text": [
      "\u001B[32m[I 2022-01-26 23:50:00,036]\u001B[0m A new study created in memory with name: cat_parameter_opt\u001B[0m\n",
      "CatBoost is using more CPU RAM (2.73GiB) than the limit (2GiB)\n",
      "CatBoost is using more CPU RAM (2.73GiB) than the limit (2GiB)\n",
      "Resource CPU RAM: functionWithResourceUsage.ResourceUsage(1667920) > ResourceQuota(0)\n",
      "Resource CPU RAM: functionWithResourceUsage.ResourceUsage(1667920) > ResourceQuota(0)\n",
      "Resource CPU RAM: functionWithResourceUsage.ResourceUsage(1667920) > ResourceQuota(0)\n",
      "Resource CPU RAM: functionWithResourceUsage.ResourceUsage(1667920) > ResourceQuota(0)\n",
      "Resource CPU RAM: functionWithResourceUsage.ResourceUsage(1667920) > ResourceQuota(0)\n",
      "Resource CPU RAM: functionWithResourceUsage.ResourceUsage(1667920) > ResourceQuota(0)\n",
      "Resource CPU RAM: functionWithResourceUsage.ResourceUsage(1667920) > ResourceQuota(0)\n",
      "Resource CPU RAM: functionWithResourceUsage.ResourceUsage(1667920) > ResourceQuota(0)\n",
      "Resource CPU RAM: functionWithResourceUsage.ResourceUsage(1667920) > ResourceQuota(0)\n",
      "Resource CPU RAM: functionWithResourceUsage.ResourceUsage(1667920) > ResourceQuota(0)\n",
      "Resource CPU RAM: functionWithResourceUsage.ResourceUsage(1667920) > ResourceQuota(0)\n",
      "Resource CPU RAM: functionWithResourceUsage.ResourceUsage(1667920) > ResourceQuota(0)\n",
      "Resource CPU RAM: functionWithResourceUsage.ResourceUsage(1667920) > ResourceQuota(0)\n",
      "Resource CPU RAM: functionWithResourceUsage.ResourceUsage(1667920) > ResourceQuota(0)\n",
      "Resource CPU RAM: functionWithResourceUsage.ResourceUsage(1667920) > ResourceQuota(0)\n",
      "Resource CPU RAM: functionWithResourceUsage.ResourceUsage(1667920) > ResourceQuota(0)\n",
      "Resource CPU RAM: functionWithResourceUsage.ResourceUsage(1667920) > ResourceQuota(0)\n",
      "Resource CPU RAM: functionWithResourceUsage.ResourceUsage(1667920) > ResourceQuota(0)\n",
      "Resource CPU RAM: functionWithResourceUsage.ResourceUsage(1667920) > ResourceQuota(0)\n",
      "Resource CPU RAM: functionWithResourceUsage.ResourceUsage(1667920) > ResourceQuota(0)\n",
      "Resource CPU RAM: functionWithResourceUsage.ResourceUsage(1667920) > ResourceQuota(0)\n",
      "Resource CPU RAM: functionWithResourceUsage.ResourceUsage(1667920) > ResourceQuota(0)\n",
      "Resource CPU RAM: functionWithResourceUsage.ResourceUsage(1667920) > ResourceQuota(0)\n",
      "Resource CPU RAM: functionWithResourceUsage.ResourceUsage(1667920) > ResourceQuota(0)\n",
      "Resource CPU RAM: functionWithResourceUsage.ResourceUsage(1667920) > ResourceQuota(0)\n",
      "Resource CPU RAM: functionWithResourceUsage.ResourceUsage(1667920) > ResourceQuota(0)\n",
      "Resource CPU RAM: functionWithResourceUsage.ResourceUsage(1667920) > ResourceQuota(0)\n",
      "Resource CPU RAM: functionWithResourceUsage.ResourceUsage(1667920) > ResourceQuota(0)\n",
      "Resource CPU RAM: functionWithResourceUsage.ResourceUsage(1667920) > ResourceQuota(0)\n",
      "Resource CPU RAM: functionWithResourceUsage.ResourceUsage(1667920) > ResourceQuota(0)\n",
      "Resource CPU RAM: functionWithResourceUsage.ResourceUsage(1667920) > ResourceQuota(0)\n",
      "Resource CPU RAM: functionWithResourceUsage.ResourceUsage(1667920) > ResourceQuota(0)\n",
      "Resource CPU RAM: functionWithResourceUsage.ResourceUsage(1667920) > ResourceQuota(0)\n",
      "Resource CPU RAM: functionWithResourceUsage.ResourceUsage(1667920) > ResourceQuota(0)\n",
      "Resource CPU RAM: functionWithResourceUsage.ResourceUsage(1667920) > ResourceQuota(0)\n",
      "Resource CPU RAM: functionWithResourceUsage.ResourceUsage(1667920) > ResourceQuota(0)\n",
      "Resource CPU RAM: functionWithResourceUsage.ResourceUsage(1667920) > ResourceQuota(0)\n",
      "Resource CPU RAM: functionWithResourceUsage.ResourceUsage(1667920) > ResourceQuota(0)\n",
      "Resource CPU RAM: functionWithResourceUsage.ResourceUsage(1667920) > ResourceQuota(0)\n",
      "Resource CPU RAM: functionWithResourceUsage.ResourceUsage(1667920) > ResourceQuota(0)\n",
      "Resource CPU RAM: functionWithResourceUsage.ResourceUsage(1667920) > ResourceQuota(0)\n",
      "Resource CPU RAM: functionWithResourceUsage.ResourceUsage(1667920) > ResourceQuota(0)\n",
      "Resource CPU RAM: functionWithResourceUsage.ResourceUsage(1667920) > ResourceQuota(0)\n",
      "Resource CPU RAM: functionWithResourceUsage.ResourceUsage(1667920) > ResourceQuota(0)\n",
      "Resource CPU RAM: functionWithResourceUsage.ResourceUsage(1667920) > ResourceQuota(0)\n",
      "Resource CPU RAM: functionWithResourceUsage.ResourceUsage(1667920) > ResourceQuota(0)\n",
      "Resource CPU RAM: functionWithResourceUsage.ResourceUsage(1667920) > ResourceQuota(0)\n",
      "Resource CPU RAM: functionWithResourceUsage.ResourceUsage(1667920) > ResourceQuota(0)\n",
      "Resource CPU RAM: functionWithResourceUsage.ResourceUsage(1667920) > ResourceQuota(0)\n",
      "Resource CPU RAM: functionWithResourceUsage.ResourceUsage(1667920) > ResourceQuota(0)\n",
      "Resource CPU RAM: functionWithResourceUsage.ResourceUsage(1667920) > ResourceQuota(0)\n",
      "Resource CPU RAM: functionWithResourceUsage.ResourceUsage(1667920) > ResourceQuota(0)\n",
      "Resource CPU RAM: functionWithResourceUsage.ResourceUsage(1667920) > ResourceQuota(0)\n",
      "Resource CPU RAM: functionWithResourceUsage.ResourceUsage(1667920) > ResourceQuota(0)\n",
      "Resource CPU RAM: functionWithResourceUsage.ResourceUsage(1667920) > ResourceQuota(0)\n",
      "Resource CPU RAM: functionWithResourceUsage.ResourceUsage(1667920) > ResourceQuota(0)\n",
      "Resource CPU RAM: functionWithResourceUsage.ResourceUsage(1667920) > ResourceQuota(0)\n",
      "Resource CPU RAM: functionWithResourceUsage.ResourceUsage(1667920) > ResourceQuota(0)\n",
      "Resource CPU RAM: functionWithResourceUsage.ResourceUsage(1667920) > ResourceQuota(0)\n",
      "Resource CPU RAM: functionWithResourceUsage.ResourceUsage(1667920) > ResourceQuota(0)\n",
      "Resource CPU RAM: functionWithResourceUsage.ResourceUsage(1667920) > ResourceQuota(0)\n",
      "Resource CPU RAM: functionWithResourceUsage.ResourceUsage(1667920) > ResourceQuota(0)\n",
      "Resource CPU RAM: functionWithResourceUsage.ResourceUsage(14456160) > ResourceQuota(0)\n",
      "Resource CPU RAM: functionWithResourceUsage.ResourceUsage(14456160) > ResourceQuota(0)\n",
      "Resource CPU RAM: functionWithResourceUsage.ResourceUsage(14456160) > ResourceQuota(0)\n",
      "Resource CPU RAM: functionWithResourceUsage.ResourceUsage(14456160) > ResourceQuota(0)\n",
      "Resource CPU RAM: functionWithResourceUsage.ResourceUsage(14456160) > ResourceQuota(0)\n",
      "Resource CPU RAM: functionWithResourceUsage.ResourceUsage(14456160) > ResourceQuota(0)\n",
      "Resource CPU RAM: functionWithResourceUsage.ResourceUsage(14456160) > ResourceQuota(0)\n",
      "Resource CPU RAM: functionWithResourceUsage.ResourceUsage(14456160) > ResourceQuota(0)\n",
      "Resource CPU RAM: functionWithResourceUsage.ResourceUsage(14456160) > ResourceQuota(0)\n",
      "CatBoost is using more CPU RAM (2.74GiB) than the limit (2GiB)\n",
      "Resource CPU RAM: functionWithResourceUsage.ResourceUsage(401560) > ResourceQuota(0)\n",
      "Resource CPU RAM: functionWithResourceUsage.ResourceUsage(803120) > ResourceQuota(0)\n",
      "Resource CPU RAM: functionWithResourceUsage.ResourceUsage(803120) > ResourceQuota(0)\n",
      "Resource CPU RAM: functionWithResourceUsage.ResourceUsage(803120) > ResourceQuota(0)\n",
      "Resource CPU RAM: functionWithResourceUsage.ResourceUsage(401560) > ResourceQuota(0)\n",
      "Resource CPU RAM: functionWithResourceUsage.ResourceUsage(803120) > ResourceQuota(0)\n",
      "Resource CPU RAM: functionWithResourceUsage.ResourceUsage(803120) > ResourceQuota(0)\n",
      "Resource CPU RAM: functionWithResourceUsage.ResourceUsage(401560) > ResourceQuota(0)\n",
      "Resource CPU RAM: functionWithResourceUsage.ResourceUsage(401560) > ResourceQuota(0)\n",
      "Resource CPU RAM: functionWithResourceUsage.ResourceUsage(401560) > ResourceQuota(0)\n",
      "Resource CPU RAM: functionWithResourceUsage.ResourceUsage(803120) > ResourceQuota(0)\n",
      "Resource CPU RAM: functionWithResourceUsage.ResourceUsage(803120) > ResourceQuota(0)\n",
      "Resource CPU RAM: functionWithResourceUsage.ResourceUsage(401560) > ResourceQuota(0)\n",
      "Resource CPU RAM: functionWithResourceUsage.ResourceUsage(401560) > ResourceQuota(0)\n",
      "Resource CPU RAM: functionWithResourceUsage.ResourceUsage(401560) > ResourceQuota(0)\n",
      "Resource CPU RAM: functionWithResourceUsage.ResourceUsage(803120) > ResourceQuota(0)\n",
      "Resource CPU RAM: functionWithResourceUsage.ResourceUsage(803120) > ResourceQuota(0)\n",
      "Resource CPU RAM: functionWithResourceUsage.ResourceUsage(401560) > ResourceQuota(0)\n",
      "Resource CPU RAM: functionWithResourceUsage.ResourceUsage(401560) > ResourceQuota(0)\n",
      "Resource CPU RAM: functionWithResourceUsage.ResourceUsage(401560) > ResourceQuota(0)\n",
      "Resource CPU RAM: functionWithResourceUsage.ResourceUsage(803120) > ResourceQuota(0)\n",
      "Resource CPU RAM: functionWithResourceUsage.ResourceUsage(401560) > ResourceQuota(0)\n",
      "Resource CPU RAM: functionWithResourceUsage.ResourceUsage(401560) > ResourceQuota(0)\n",
      "Resource CPU RAM: functionWithResourceUsage.ResourceUsage(401560) > ResourceQuota(0)\n",
      "Resource CPU RAM: functionWithResourceUsage.ResourceUsage(803120) > ResourceQuota(0)\n",
      "Resource CPU RAM: functionWithResourceUsage.ResourceUsage(401560) > ResourceQuota(0)\n",
      "Resource CPU RAM: functionWithResourceUsage.ResourceUsage(401560) > ResourceQuota(0)\n",
      "Resource CPU RAM: functionWithResourceUsage.ResourceUsage(401560) > ResourceQuota(0)\n",
      "Resource CPU RAM: functionWithResourceUsage.ResourceUsage(803120) > ResourceQuota(0)\n",
      "Resource CPU RAM: functionWithResourceUsage.ResourceUsage(401560) > ResourceQuota(0)\n",
      "Resource CPU RAM: functionWithResourceUsage.ResourceUsage(401560) > ResourceQuota(0)\n",
      "Resource CPU RAM: functionWithResourceUsage.ResourceUsage(401560) > ResourceQuota(0)\n",
      "Resource CPU RAM: functionWithResourceUsage.ResourceUsage(401560) > ResourceQuota(0)\n",
      "Resource CPU RAM: functionWithResourceUsage.ResourceUsage(401560) > ResourceQuota(0)\n",
      "Resource CPU RAM: functionWithResourceUsage.ResourceUsage(401560) > ResourceQuota(0)\n",
      "Resource CPU RAM: functionWithResourceUsage.ResourceUsage(401560) > ResourceQuota(0)\n",
      "Resource CPU RAM: functionWithResourceUsage.ResourceUsage(401560) > ResourceQuota(0)\n",
      "Resource CPU RAM: functionWithResourceUsage.ResourceUsage(401560) > ResourceQuota(0)\n",
      "Resource CPU RAM: functionWithResourceUsage.ResourceUsage(401560) > ResourceQuota(0)\n",
      "Resource CPU RAM: functionWithResourceUsage.ResourceUsage(401560) > ResourceQuota(0)\n",
      "Resource CPU RAM: functionWithResourceUsage.ResourceUsage(803120) > ResourceQuota(0)\n",
      "Resource CPU RAM: functionWithResourceUsage.ResourceUsage(803120) > ResourceQuota(0)\n",
      "Resource CPU RAM: functionWithResourceUsage.ResourceUsage(401560) > ResourceQuota(0)\n",
      "Resource CPU RAM: functionWithResourceUsage.ResourceUsage(401560) > ResourceQuota(0)\n",
      "Resource CPU RAM: functionWithResourceUsage.ResourceUsage(1606240) > ResourceQuota(0)\n",
      "Resource CPU RAM: functionWithResourceUsage.ResourceUsage(1606240) > ResourceQuota(0)\n",
      "Resource CPU RAM: functionWithResourceUsage.ResourceUsage(1606240) > ResourceQuota(0)\n",
      "Resource CPU RAM: functionWithResourceUsage.ResourceUsage(1606240) > ResourceQuota(0)\n",
      "Resource CPU RAM: functionWithResourceUsage.ResourceUsage(401560) > ResourceQuota(0)\n",
      "Resource CPU RAM: functionWithResourceUsage.ResourceUsage(401560) > ResourceQuota(0)\n",
      "Resource CPU RAM: functionWithResourceUsage.ResourceUsage(401560) > ResourceQuota(0)\n",
      "CatBoost is using more CPU RAM (2.74GiB) than the limit (2GiB)\n",
      "Resource CPU RAM: functionWithResourceUsage.ResourceUsage(100392) > ResourceQuota(0)\n",
      "Resource CPU RAM: functionWithResourceUsage.ResourceUsage(100392) > ResourceQuota(0)\n",
      "Resource CPU RAM: functionWithResourceUsage.ResourceUsage(100392) > ResourceQuota(0)\n",
      "Resource CPU RAM: functionWithResourceUsage.ResourceUsage(200784) > ResourceQuota(0)\n",
      "Resource CPU RAM: functionWithResourceUsage.ResourceUsage(200784) > ResourceQuota(0)\n",
      "Resource CPU RAM: functionWithResourceUsage.ResourceUsage(200784) > ResourceQuota(0)\n",
      "Resource CPU RAM: functionWithResourceUsage.ResourceUsage(100392) > ResourceQuota(0)\n",
      "Resource CPU RAM: functionWithResourceUsage.ResourceUsage(200784) > ResourceQuota(0)\n",
      "Resource CPU RAM: functionWithResourceUsage.ResourceUsage(200784) > ResourceQuota(0)\n",
      "Resource CPU RAM: functionWithResourceUsage.ResourceUsage(100392) > ResourceQuota(0)\n",
      "Resource CPU RAM: functionWithResourceUsage.ResourceUsage(100392) > ResourceQuota(0)\n",
      "Resource CPU RAM: functionWithResourceUsage.ResourceUsage(100392) > ResourceQuota(0)\n",
      "Resource CPU RAM: functionWithResourceUsage.ResourceUsage(100392) > ResourceQuota(0)\n",
      "Resource CPU RAM: functionWithResourceUsage.ResourceUsage(100392) > ResourceQuota(0)\n",
      "Resource CPU RAM: functionWithResourceUsage.ResourceUsage(200784) > ResourceQuota(0)\n",
      "Resource CPU RAM: functionWithResourceUsage.ResourceUsage(200784) > ResourceQuota(0)\n",
      "Resource CPU RAM: functionWithResourceUsage.ResourceUsage(100392) > ResourceQuota(0)\n",
      "Resource CPU RAM: functionWithResourceUsage.ResourceUsage(100392) > ResourceQuota(0)\n",
      "Resource CPU RAM: functionWithResourceUsage.ResourceUsage(100392) > ResourceQuota(0)\n",
      "Resource CPU RAM: functionWithResourceUsage.ResourceUsage(200784) > ResourceQuota(0)\n",
      "Resource CPU RAM: functionWithResourceUsage.ResourceUsage(200784) > ResourceQuota(0)\n",
      "Resource CPU RAM: functionWithResourceUsage.ResourceUsage(100392) > ResourceQuota(0)\n",
      "Resource CPU RAM: functionWithResourceUsage.ResourceUsage(100392) > ResourceQuota(0)\n",
      "Resource CPU RAM: functionWithResourceUsage.ResourceUsage(100392) > ResourceQuota(0)\n",
      "Resource CPU RAM: functionWithResourceUsage.ResourceUsage(200784) > ResourceQuota(0)\n",
      "Resource CPU RAM: functionWithResourceUsage.ResourceUsage(100392) > ResourceQuota(0)\n",
      "Resource CPU RAM: functionWithResourceUsage.ResourceUsage(100392) > ResourceQuota(0)\n",
      "Resource CPU RAM: functionWithResourceUsage.ResourceUsage(100392) > ResourceQuota(0)\n",
      "Resource CPU RAM: functionWithResourceUsage.ResourceUsage(200784) > ResourceQuota(0)\n",
      "Resource CPU RAM: functionWithResourceUsage.ResourceUsage(100392) > ResourceQuota(0)\n",
      "Resource CPU RAM: functionWithResourceUsage.ResourceUsage(100392) > ResourceQuota(0)\n",
      "Resource CPU RAM: functionWithResourceUsage.ResourceUsage(100392) > ResourceQuota(0)\n",
      "Resource CPU RAM: functionWithResourceUsage.ResourceUsage(200784) > ResourceQuota(0)\n",
      "Resource CPU RAM: functionWithResourceUsage.ResourceUsage(100392) > ResourceQuota(0)\n",
      "Resource CPU RAM: functionWithResourceUsage.ResourceUsage(100392) > ResourceQuota(0)\n",
      "Resource CPU RAM: functionWithResourceUsage.ResourceUsage(100392) > ResourceQuota(0)\n",
      "Resource CPU RAM: functionWithResourceUsage.ResourceUsage(100392) > ResourceQuota(0)\n",
      "Resource CPU RAM: functionWithResourceUsage.ResourceUsage(100392) > ResourceQuota(0)\n",
      "Resource CPU RAM: functionWithResourceUsage.ResourceUsage(100392) > ResourceQuota(0)\n",
      "Resource CPU RAM: functionWithResourceUsage.ResourceUsage(100392) > ResourceQuota(0)\n",
      "Resource CPU RAM: functionWithResourceUsage.ResourceUsage(100392) > ResourceQuota(0)\n",
      "Resource CPU RAM: functionWithResourceUsage.ResourceUsage(100392) > ResourceQuota(0)\n",
      "Resource CPU RAM: functionWithResourceUsage.ResourceUsage(100392) > ResourceQuota(0)\n",
      "Resource CPU RAM: functionWithResourceUsage.ResourceUsage(100392) > ResourceQuota(0)\n",
      "Resource CPU RAM: functionWithResourceUsage.ResourceUsage(200784) > ResourceQuota(0)\n",
      "Resource CPU RAM: functionWithResourceUsage.ResourceUsage(200784) > ResourceQuota(0)\n",
      "Resource CPU RAM: functionWithResourceUsage.ResourceUsage(100392) > ResourceQuota(0)\n",
      "Resource CPU RAM: functionWithResourceUsage.ResourceUsage(100392) > ResourceQuota(0)\n",
      "Resource CPU RAM: functionWithResourceUsage.ResourceUsage(100392) > ResourceQuota(0)\n",
      "Resource CPU RAM: functionWithResourceUsage.ResourceUsage(100392) > ResourceQuota(0)\n",
      "Resource CPU RAM: functionWithResourceUsage.ResourceUsage(100392) > ResourceQuota(0)\n",
      "Resource CPU RAM: functionWithResourceUsage.ResourceUsage(100392) > ResourceQuota(0)\n",
      "Resource CPU RAM: functionWithResourceUsage.ResourceUsage(100392) > ResourceQuota(0)\n",
      "Resource CPU RAM: functionWithResourceUsage.ResourceUsage(100392) > ResourceQuota(0)\n",
      "Resource CPU RAM: functionWithResourceUsage.ResourceUsage(100392) > ResourceQuota(0)\n",
      "Resource CPU RAM: functionWithResourceUsage.ResourceUsage(100392) > ResourceQuota(0)\n",
      "Resource CPU RAM: functionWithResourceUsage.ResourceUsage(100392) > ResourceQuota(0)\n",
      "Resource CPU RAM: functionWithResourceUsage.ResourceUsage(100392) > ResourceQuota(0)\n",
      "Resource CPU RAM: functionWithResourceUsage.ResourceUsage(100392) > ResourceQuota(0)\n",
      "Resource CPU RAM: functionWithResourceUsage.ResourceUsage(100392) > ResourceQuota(0)\n",
      "Resource CPU RAM: functionWithResourceUsage.ResourceUsage(100392) > ResourceQuota(0)\n",
      "Resource CPU RAM: functionWithResourceUsage.ResourceUsage(100392) > ResourceQuota(0)\n",
      "Resource CPU RAM: functionWithResourceUsage.ResourceUsage(3614076) > ResourceQuota(0)\n",
      "Resource CPU RAM: functionWithResourceUsage.ResourceUsage(3614076) > ResourceQuota(0)\n",
      "Resource CPU RAM: functionWithResourceUsage.ResourceUsage(3614076) > ResourceQuota(0)\n",
      "Resource CPU RAM: functionWithResourceUsage.ResourceUsage(3614076) > ResourceQuota(0)\n",
      "Resource CPU RAM: functionWithResourceUsage.ResourceUsage(3614076) > ResourceQuota(0)\n",
      "Resource CPU RAM: functionWithResourceUsage.ResourceUsage(3614076) > ResourceQuota(0)\n",
      "Resource CPU RAM: functionWithResourceUsage.ResourceUsage(3614076) > ResourceQuota(0)\n",
      "Resource CPU RAM: functionWithResourceUsage.ResourceUsage(3614076) > ResourceQuota(0)\n",
      "Resource CPU RAM: functionWithResourceUsage.ResourceUsage(3614076) > ResourceQuota(0)\n",
      "CatBoost is using more CPU RAM (2.75GiB) than the limit (2GiB)\n",
      "Resource CPU RAM: functionWithResourceUsage.ResourceUsage(100391) > ResourceQuota(0)\n",
      "Resource CPU RAM: functionWithResourceUsage.ResourceUsage(200782) > ResourceQuota(0)\n",
      "Resource CPU RAM: functionWithResourceUsage.ResourceUsage(200782) > ResourceQuota(0)\n",
      "Resource CPU RAM: functionWithResourceUsage.ResourceUsage(200782) > ResourceQuota(0)\n",
      "Resource CPU RAM: functionWithResourceUsage.ResourceUsage(100391) > ResourceQuota(0)\n",
      "Resource CPU RAM: functionWithResourceUsage.ResourceUsage(200782) > ResourceQuota(0)\n",
      "Resource CPU RAM: functionWithResourceUsage.ResourceUsage(200782) > ResourceQuota(0)\n",
      "Resource CPU RAM: functionWithResourceUsage.ResourceUsage(100391) > ResourceQuota(0)\n",
      "Resource CPU RAM: functionWithResourceUsage.ResourceUsage(100391) > ResourceQuota(0)\n",
      "Resource CPU RAM: functionWithResourceUsage.ResourceUsage(100391) > ResourceQuota(0)\n",
      "Resource CPU RAM: functionWithResourceUsage.ResourceUsage(200782) > ResourceQuota(0)\n",
      "Resource CPU RAM: functionWithResourceUsage.ResourceUsage(200782) > ResourceQuota(0)\n",
      "Resource CPU RAM: functionWithResourceUsage.ResourceUsage(100391) > ResourceQuota(0)\n",
      "Resource CPU RAM: functionWithResourceUsage.ResourceUsage(100391) > ResourceQuota(0)\n",
      "Resource CPU RAM: functionWithResourceUsage.ResourceUsage(100391) > ResourceQuota(0)\n",
      "Resource CPU RAM: functionWithResourceUsage.ResourceUsage(200782) > ResourceQuota(0)\n",
      "Resource CPU RAM: functionWithResourceUsage.ResourceUsage(200782) > ResourceQuota(0)\n",
      "Resource CPU RAM: functionWithResourceUsage.ResourceUsage(100391) > ResourceQuota(0)\n",
      "Resource CPU RAM: functionWithResourceUsage.ResourceUsage(100391) > ResourceQuota(0)\n",
      "Resource CPU RAM: functionWithResourceUsage.ResourceUsage(100391) > ResourceQuota(0)\n",
      "Resource CPU RAM: functionWithResourceUsage.ResourceUsage(200782) > ResourceQuota(0)\n",
      "Resource CPU RAM: functionWithResourceUsage.ResourceUsage(100391) > ResourceQuota(0)\n",
      "Resource CPU RAM: functionWithResourceUsage.ResourceUsage(100391) > ResourceQuota(0)\n",
      "Resource CPU RAM: functionWithResourceUsage.ResourceUsage(100391) > ResourceQuota(0)\n",
      "Resource CPU RAM: functionWithResourceUsage.ResourceUsage(200782) > ResourceQuota(0)\n",
      "Resource CPU RAM: functionWithResourceUsage.ResourceUsage(100391) > ResourceQuota(0)\n",
      "Resource CPU RAM: functionWithResourceUsage.ResourceUsage(100391) > ResourceQuota(0)\n",
      "Resource CPU RAM: functionWithResourceUsage.ResourceUsage(100391) > ResourceQuota(0)\n",
      "Resource CPU RAM: functionWithResourceUsage.ResourceUsage(200782) > ResourceQuota(0)\n",
      "Resource CPU RAM: functionWithResourceUsage.ResourceUsage(100391) > ResourceQuota(0)\n",
      "Resource CPU RAM: functionWithResourceUsage.ResourceUsage(100391) > ResourceQuota(0)\n",
      "Resource CPU RAM: functionWithResourceUsage.ResourceUsage(100391) > ResourceQuota(0)\n",
      "Resource CPU RAM: functionWithResourceUsage.ResourceUsage(100391) > ResourceQuota(0)\n",
      "Resource CPU RAM: functionWithResourceUsage.ResourceUsage(100391) > ResourceQuota(0)\n",
      "Resource CPU RAM: functionWithResourceUsage.ResourceUsage(100391) > ResourceQuota(0)\n",
      "Resource CPU RAM: functionWithResourceUsage.ResourceUsage(100391) > ResourceQuota(0)\n",
      "Resource CPU RAM: functionWithResourceUsage.ResourceUsage(100391) > ResourceQuota(0)\n",
      "Resource CPU RAM: functionWithResourceUsage.ResourceUsage(100391) > ResourceQuota(0)\n",
      "Resource CPU RAM: functionWithResourceUsage.ResourceUsage(100391) > ResourceQuota(0)\n",
      "Resource CPU RAM: functionWithResourceUsage.ResourceUsage(100391) > ResourceQuota(0)\n",
      "Resource CPU RAM: functionWithResourceUsage.ResourceUsage(200782) > ResourceQuota(0)\n",
      "Resource CPU RAM: functionWithResourceUsage.ResourceUsage(200782) > ResourceQuota(0)\n",
      "Resource CPU RAM: functionWithResourceUsage.ResourceUsage(100391) > ResourceQuota(0)\n",
      "Resource CPU RAM: functionWithResourceUsage.ResourceUsage(100391) > ResourceQuota(0)\n",
      "Resource CPU RAM: functionWithResourceUsage.ResourceUsage(401564) > ResourceQuota(0)\n",
      "Resource CPU RAM: functionWithResourceUsage.ResourceUsage(401564) > ResourceQuota(0)\n",
      "Resource CPU RAM: functionWithResourceUsage.ResourceUsage(401564) > ResourceQuota(0)\n",
      "Resource CPU RAM: functionWithResourceUsage.ResourceUsage(401564) > ResourceQuota(0)\n",
      "Resource CPU RAM: functionWithResourceUsage.ResourceUsage(100391) > ResourceQuota(0)\n",
      "Resource CPU RAM: functionWithResourceUsage.ResourceUsage(100391) > ResourceQuota(0)\n",
      "Resource CPU RAM: functionWithResourceUsage.ResourceUsage(100391) > ResourceQuota(0)\n"
     ]
    },
    {
     "name": "stdout",
     "output_type": "stream",
     "text": [
      "0:\tlearn: 0.6884558\ttest: 0.6884648\tbest: 0.6884648 (0)\ttotal: 332ms\tremaining: 13m 18s\n",
      "100:\tlearn: 0.6552317\ttest: 0.6566346\tbest: 0.6566346 (100)\ttotal: 21.4s\tremaining: 8m 8s\n",
      "200:\tlearn: 0.6455188\ttest: 0.6484221\tbest: 0.6484221 (200)\ttotal: 42.7s\tremaining: 7m 47s\n",
      "300:\tlearn: 0.6402046\ttest: 0.6452321\tbest: 0.6452321 (300)\ttotal: 1m 4s\tremaining: 7m 29s\n",
      "400:\tlearn: 0.6361480\ttest: 0.6436568\tbest: 0.6436568 (400)\ttotal: 1m 25s\tremaining: 7m 8s\n",
      "500:\tlearn: 0.6324935\ttest: 0.6423112\tbest: 0.6423112 (500)\ttotal: 1m 47s\tremaining: 6m 46s\n",
      "600:\tlearn: 0.6291614\ttest: 0.6414226\tbest: 0.6414226 (600)\ttotal: 2m 8s\tremaining: 6m 26s\n",
      "700:\tlearn: 0.6262126\ttest: 0.6409973\tbest: 0.6409973 (700)\ttotal: 2m 30s\tremaining: 6m 4s\n",
      "800:\tlearn: 0.6233830\ttest: 0.6404102\tbest: 0.6403989 (799)\ttotal: 2m 51s\tremaining: 5m 43s\n",
      "900:\tlearn: 0.6205586\ttest: 0.6400788\tbest: 0.6400575 (894)\ttotal: 3m 13s\tremaining: 5m 23s\n",
      "1000:\tlearn: 0.6178037\ttest: 0.6397558\tbest: 0.6397454 (996)\ttotal: 3m 35s\tremaining: 5m 1s\n",
      "1100:\tlearn: 0.6154271\ttest: 0.6393504\tbest: 0.6393491 (1091)\ttotal: 3m 57s\tremaining: 4m 40s\n",
      "Stopped by overfitting detector  (35 iterations wait)\n",
      "\n",
      "bestTest = 0.6391837716\n",
      "bestIteration = 1149\n",
      "\n",
      "Shrink model to first 1150 iterations.\n"
     ]
    },
    {
     "name": "stderr",
     "output_type": "stream",
     "text": [
      "CatBoost is using more CPU RAM (3.12GiB) than the limit (2GiB)\n",
      "Resource CPU RAM: functionWithResourceUsage.ResourceUsage(32572608) > ResourceQuota(0)\n",
      "Resource CPU RAM: functionWithResourceUsage.ResourceUsage(32572608) > ResourceQuota(0)\n",
      "Resource CPU RAM: functionWithResourceUsage.ResourceUsage(32572608) > ResourceQuota(0)\n",
      "Resource CPU RAM: functionWithResourceUsage.ResourceUsage(32572608) > ResourceQuota(0)\n",
      "Resource CPU RAM: functionWithResourceUsage.ResourceUsage(32572608) > ResourceQuota(0)\n",
      "Resource CPU RAM: functionWithResourceUsage.ResourceUsage(32572608) > ResourceQuota(0)\n",
      "Resource CPU RAM: functionWithResourceUsage.ResourceUsage(32572608) > ResourceQuota(0)\n",
      "Resource CPU RAM: functionWithResourceUsage.ResourceUsage(32572608) > ResourceQuota(0)\n",
      "Resource CPU RAM: functionWithResourceUsage.ResourceUsage(32572608) > ResourceQuota(0)\n",
      "Resource CPU RAM: functionWithResourceUsage.ResourceUsage(32572608) > ResourceQuota(0)\n",
      "Resource CPU RAM: functionWithResourceUsage.ResourceUsage(32572608) > ResourceQuota(0)\n",
      "Resource CPU RAM: functionWithResourceUsage.ResourceUsage(32572608) > ResourceQuota(0)\n",
      "Resource CPU RAM: functionWithResourceUsage.ResourceUsage(32572608) > ResourceQuota(0)\n",
      "Resource CPU RAM: functionWithResourceUsage.ResourceUsage(32572608) > ResourceQuota(0)\n",
      "Resource CPU RAM: functionWithResourceUsage.ResourceUsage(32572608) > ResourceQuota(0)\n",
      "Resource CPU RAM: functionWithResourceUsage.ResourceUsage(32572608) > ResourceQuota(0)\n",
      "Resource CPU RAM: functionWithResourceUsage.ResourceUsage(32572608) > ResourceQuota(0)\n",
      "Resource CPU RAM: functionWithResourceUsage.ResourceUsage(32572608) > ResourceQuota(0)\n",
      "Resource CPU RAM: functionWithResourceUsage.ResourceUsage(32572608) > ResourceQuota(0)\n",
      "Resource CPU RAM: functionWithResourceUsage.ResourceUsage(32572608) > ResourceQuota(0)\n",
      "Resource CPU RAM: functionWithResourceUsage.ResourceUsage(32572608) > ResourceQuota(0)\n",
      "Resource CPU RAM: functionWithResourceUsage.ResourceUsage(32572608) > ResourceQuota(0)\n",
      "Resource CPU RAM: functionWithResourceUsage.ResourceUsage(32572608) > ResourceQuota(0)\n",
      "Resource CPU RAM: functionWithResourceUsage.ResourceUsage(32572608) > ResourceQuota(0)\n",
      "Resource CPU RAM: functionWithResourceUsage.ResourceUsage(32572608) > ResourceQuota(0)\n",
      "Resource CPU RAM: functionWithResourceUsage.ResourceUsage(32572608) > ResourceQuota(0)\n",
      "Resource CPU RAM: functionWithResourceUsage.ResourceUsage(32572608) > ResourceQuota(0)\n",
      "Resource CPU RAM: functionWithResourceUsage.ResourceUsage(32572608) > ResourceQuota(0)\n",
      "Resource CPU RAM: functionWithResourceUsage.ResourceUsage(32572608) > ResourceQuota(0)\n",
      "Resource CPU RAM: functionWithResourceUsage.ResourceUsage(32572608) > ResourceQuota(0)\n",
      "Resource CPU RAM: functionWithResourceUsage.ResourceUsage(32572608) > ResourceQuota(0)\n",
      "Resource CPU RAM: functionWithResourceUsage.ResourceUsage(32572608) > ResourceQuota(0)\n",
      "Resource CPU RAM: functionWithResourceUsage.ResourceUsage(32572608) > ResourceQuota(0)\n",
      "Resource CPU RAM: functionWithResourceUsage.ResourceUsage(32572608) > ResourceQuota(0)\n",
      "Resource CPU RAM: functionWithResourceUsage.ResourceUsage(32572608) > ResourceQuota(0)\n",
      "Resource CPU RAM: functionWithResourceUsage.ResourceUsage(32572608) > ResourceQuota(0)\n",
      "Resource CPU RAM: functionWithResourceUsage.ResourceUsage(32572608) > ResourceQuota(0)\n",
      "Resource CPU RAM: functionWithResourceUsage.ResourceUsage(32572608) > ResourceQuota(0)\n",
      "Resource CPU RAM: functionWithResourceUsage.ResourceUsage(32572608) > ResourceQuota(0)\n",
      "Resource CPU RAM: functionWithResourceUsage.ResourceUsage(32572608) > ResourceQuota(0)\n",
      "Resource CPU RAM: functionWithResourceUsage.ResourceUsage(32572608) > ResourceQuota(0)\n",
      "Resource CPU RAM: functionWithResourceUsage.ResourceUsage(32572608) > ResourceQuota(0)\n",
      "Resource CPU RAM: functionWithResourceUsage.ResourceUsage(32572608) > ResourceQuota(0)\n",
      "Resource CPU RAM: functionWithResourceUsage.ResourceUsage(32572608) > ResourceQuota(0)\n",
      "Resource CPU RAM: functionWithResourceUsage.ResourceUsage(32572608) > ResourceQuota(0)\n",
      "Resource CPU RAM: functionWithResourceUsage.ResourceUsage(32572608) > ResourceQuota(0)\n",
      "Resource CPU RAM: functionWithResourceUsage.ResourceUsage(32572608) > ResourceQuota(0)\n",
      "Resource CPU RAM: functionWithResourceUsage.ResourceUsage(32572608) > ResourceQuota(0)\n",
      "Resource CPU RAM: functionWithResourceUsage.ResourceUsage(32572608) > ResourceQuota(0)\n",
      "Resource CPU RAM: functionWithResourceUsage.ResourceUsage(32572608) > ResourceQuota(0)\n",
      "Resource CPU RAM: functionWithResourceUsage.ResourceUsage(32572608) > ResourceQuota(0)\n",
      "Resource CPU RAM: functionWithResourceUsage.ResourceUsage(32572608) > ResourceQuota(0)\n",
      "Resource CPU RAM: functionWithResourceUsage.ResourceUsage(32572608) > ResourceQuota(0)\n",
      "Resource CPU RAM: functionWithResourceUsage.ResourceUsage(32572608) > ResourceQuota(0)\n",
      "Resource CPU RAM: functionWithResourceUsage.ResourceUsage(32572608) > ResourceQuota(0)\n",
      "Resource CPU RAM: functionWithResourceUsage.ResourceUsage(32572608) > ResourceQuota(0)\n",
      "Resource CPU RAM: functionWithResourceUsage.ResourceUsage(32572608) > ResourceQuota(0)\n",
      "Resource CPU RAM: functionWithResourceUsage.ResourceUsage(32572608) > ResourceQuota(0)\n",
      "Resource CPU RAM: functionWithResourceUsage.ResourceUsage(32572608) > ResourceQuota(0)\n",
      "Resource CPU RAM: functionWithResourceUsage.ResourceUsage(32572608) > ResourceQuota(0)\n",
      "Resource CPU RAM: functionWithResourceUsage.ResourceUsage(32572608) > ResourceQuota(0)\n",
      "Resource CPU RAM: functionWithResourceUsage.ResourceUsage(32572608) > ResourceQuota(0)\n",
      "Resource CPU RAM: functionWithResourceUsage.ResourceUsage(32572608) > ResourceQuota(0)\n",
      "Resource CPU RAM: functionWithResourceUsage.ResourceUsage(32572608) > ResourceQuota(0)\n",
      "Resource CPU RAM: functionWithResourceUsage.ResourceUsage(32572608) > ResourceQuota(0)\n",
      "Resource CPU RAM: functionWithResourceUsage.ResourceUsage(32572608) > ResourceQuota(0)\n",
      "Resource CPU RAM: functionWithResourceUsage.ResourceUsage(32572608) > ResourceQuota(0)\n",
      "Resource CPU RAM: functionWithResourceUsage.ResourceUsage(32572608) > ResourceQuota(0)\n",
      "Resource CPU RAM: functionWithResourceUsage.ResourceUsage(32572608) > ResourceQuota(0)\n",
      "Resource CPU RAM: functionWithResourceUsage.ResourceUsage(32572608) > ResourceQuota(0)\n",
      "Resource CPU RAM: functionWithResourceUsage.ResourceUsage(32572608) > ResourceQuota(0)\n",
      "Resource CPU RAM: functionWithResourceUsage.ResourceUsage(32572608) > ResourceQuota(0)\n",
      "Resource CPU RAM: functionWithResourceUsage.ResourceUsage(32572608) > ResourceQuota(0)\n",
      "Resource CPU RAM: functionWithResourceUsage.ResourceUsage(32572608) > ResourceQuota(0)\n",
      "Resource CPU RAM: functionWithResourceUsage.ResourceUsage(32572608) > ResourceQuota(0)\n",
      "Resource CPU RAM: functionWithResourceUsage.ResourceUsage(32572608) > ResourceQuota(0)\n",
      "Resource CPU RAM: functionWithResourceUsage.ResourceUsage(32572608) > ResourceQuota(0)\n",
      "Resource CPU RAM: functionWithResourceUsage.ResourceUsage(32572608) > ResourceQuota(0)\n",
      "Resource CPU RAM: functionWithResourceUsage.ResourceUsage(32572608) > ResourceQuota(0)\n",
      "Resource CPU RAM: functionWithResourceUsage.ResourceUsage(32572608) > ResourceQuota(0)\n",
      "Resource CPU RAM: functionWithResourceUsage.ResourceUsage(32572608) > ResourceQuota(0)\n",
      "Resource CPU RAM: functionWithResourceUsage.ResourceUsage(32572608) > ResourceQuota(0)\n",
      "Resource CPU RAM: functionWithResourceUsage.ResourceUsage(32572608) > ResourceQuota(0)\n",
      "Resource CPU RAM: functionWithResourceUsage.ResourceUsage(32572608) > ResourceQuota(0)\n",
      "Resource CPU RAM: functionWithResourceUsage.ResourceUsage(32572608) > ResourceQuota(0)\n",
      "Resource CPU RAM: functionWithResourceUsage.ResourceUsage(32572608) > ResourceQuota(0)\n",
      "Resource CPU RAM: functionWithResourceUsage.ResourceUsage(32572608) > ResourceQuota(0)\n",
      "Resource CPU RAM: functionWithResourceUsage.ResourceUsage(32572608) > ResourceQuota(0)\n",
      "Resource CPU RAM: functionWithResourceUsage.ResourceUsage(32572608) > ResourceQuota(0)\n",
      "Resource CPU RAM: functionWithResourceUsage.ResourceUsage(32572608) > ResourceQuota(0)\n",
      "Resource CPU RAM: functionWithResourceUsage.ResourceUsage(32572608) > ResourceQuota(0)\n",
      "Resource CPU RAM: functionWithResourceUsage.ResourceUsage(32572608) > ResourceQuota(0)\n",
      "Resource CPU RAM: functionWithResourceUsage.ResourceUsage(32572608) > ResourceQuota(0)\n",
      "Resource CPU RAM: functionWithResourceUsage.ResourceUsage(32572608) > ResourceQuota(0)\n",
      "Resource CPU RAM: functionWithResourceUsage.ResourceUsage(32572608) > ResourceQuota(0)\n",
      "Resource CPU RAM: functionWithResourceUsage.ResourceUsage(32572608) > ResourceQuota(0)\n",
      "Resource CPU RAM: functionWithResourceUsage.ResourceUsage(32572608) > ResourceQuota(0)\n",
      "Resource CPU RAM: functionWithResourceUsage.ResourceUsage(32572608) > ResourceQuota(0)\n",
      "Resource CPU RAM: functionWithResourceUsage.ResourceUsage(32572608) > ResourceQuota(0)\n",
      "Resource CPU RAM: functionWithResourceUsage.ResourceUsage(32572608) > ResourceQuota(0)\n",
      "Resource CPU RAM: functionWithResourceUsage.ResourceUsage(32572608) > ResourceQuota(0)\n",
      "Resource CPU RAM: functionWithResourceUsage.ResourceUsage(32572608) > ResourceQuota(0)\n",
      "Resource CPU RAM: functionWithResourceUsage.ResourceUsage(32572608) > ResourceQuota(0)\n",
      "Resource CPU RAM: functionWithResourceUsage.ResourceUsage(32572608) > ResourceQuota(0)\n",
      "Resource CPU RAM: functionWithResourceUsage.ResourceUsage(32572608) > ResourceQuota(0)\n",
      "Resource CPU RAM: functionWithResourceUsage.ResourceUsage(32572608) > ResourceQuota(0)\n",
      "Resource CPU RAM: functionWithResourceUsage.ResourceUsage(32572608) > ResourceQuota(0)\n",
      "Resource CPU RAM: functionWithResourceUsage.ResourceUsage(32572608) > ResourceQuota(0)\n",
      "Resource CPU RAM: functionWithResourceUsage.ResourceUsage(32572608) > ResourceQuota(0)\n",
      "Resource CPU RAM: functionWithResourceUsage.ResourceUsage(32572608) > ResourceQuota(0)\n",
      "Resource CPU RAM: functionWithResourceUsage.ResourceUsage(32572608) > ResourceQuota(0)\n",
      "Resource CPU RAM: functionWithResourceUsage.ResourceUsage(32572608) > ResourceQuota(0)\n",
      "Resource CPU RAM: functionWithResourceUsage.ResourceUsage(32572608) > ResourceQuota(0)\n",
      "Resource CPU RAM: functionWithResourceUsage.ResourceUsage(32572608) > ResourceQuota(0)\n",
      "Resource CPU RAM: functionWithResourceUsage.ResourceUsage(32572608) > ResourceQuota(0)\n",
      "Resource CPU RAM: functionWithResourceUsage.ResourceUsage(32572608) > ResourceQuota(0)\n",
      "Resource CPU RAM: functionWithResourceUsage.ResourceUsage(32572608) > ResourceQuota(0)\n",
      "Resource CPU RAM: functionWithResourceUsage.ResourceUsage(32572608) > ResourceQuota(0)\n",
      "Resource CPU RAM: functionWithResourceUsage.ResourceUsage(32572608) > ResourceQuota(0)\n",
      "Resource CPU RAM: functionWithResourceUsage.ResourceUsage(32572608) > ResourceQuota(0)\n",
      "Resource CPU RAM: functionWithResourceUsage.ResourceUsage(32572608) > ResourceQuota(0)\n",
      "Resource CPU RAM: functionWithResourceUsage.ResourceUsage(32572608) > ResourceQuota(0)\n",
      "Resource CPU RAM: functionWithResourceUsage.ResourceUsage(32572608) > ResourceQuota(0)\n",
      "Resource CPU RAM: functionWithResourceUsage.ResourceUsage(32572608) > ResourceQuota(0)\n",
      "Resource CPU RAM: functionWithResourceUsage.ResourceUsage(32572608) > ResourceQuota(0)\n",
      "Resource CPU RAM: functionWithResourceUsage.ResourceUsage(32572608) > ResourceQuota(0)\n",
      "Resource CPU RAM: functionWithResourceUsage.ResourceUsage(32572608) > ResourceQuota(0)\n",
      "Resource CPU RAM: functionWithResourceUsage.ResourceUsage(32572608) > ResourceQuota(0)\n",
      "Resource CPU RAM: functionWithResourceUsage.ResourceUsage(32572608) > ResourceQuota(0)\n",
      "Resource CPU RAM: functionWithResourceUsage.ResourceUsage(32572608) > ResourceQuota(0)\n",
      "Resource CPU RAM: functionWithResourceUsage.ResourceUsage(32572608) > ResourceQuota(0)\n",
      "Resource CPU RAM: functionWithResourceUsage.ResourceUsage(32572608) > ResourceQuota(0)\n",
      "Resource CPU RAM: functionWithResourceUsage.ResourceUsage(32572608) > ResourceQuota(0)\n",
      "Resource CPU RAM: functionWithResourceUsage.ResourceUsage(32572608) > ResourceQuota(0)\n",
      "Resource CPU RAM: functionWithResourceUsage.ResourceUsage(32572608) > ResourceQuota(0)\n",
      "Resource CPU RAM: functionWithResourceUsage.ResourceUsage(32572608) > ResourceQuota(0)\n",
      "Resource CPU RAM: functionWithResourceUsage.ResourceUsage(32572608) > ResourceQuota(0)\n",
      "Resource CPU RAM: functionWithResourceUsage.ResourceUsage(32572608) > ResourceQuota(0)\n",
      "Resource CPU RAM: functionWithResourceUsage.ResourceUsage(32572608) > ResourceQuota(0)\n",
      "Resource CPU RAM: functionWithResourceUsage.ResourceUsage(32572608) > ResourceQuota(0)\n",
      "Resource CPU RAM: functionWithResourceUsage.ResourceUsage(32572608) > ResourceQuota(0)\n",
      "Resource CPU RAM: functionWithResourceUsage.ResourceUsage(32572608) > ResourceQuota(0)\n",
      "Resource CPU RAM: functionWithResourceUsage.ResourceUsage(32572608) > ResourceQuota(0)\n",
      "Resource CPU RAM: functionWithResourceUsage.ResourceUsage(32572608) > ResourceQuota(0)\n",
      "Resource CPU RAM: functionWithResourceUsage.ResourceUsage(32572608) > ResourceQuota(0)\n",
      "Resource CPU RAM: functionWithResourceUsage.ResourceUsage(32572608) > ResourceQuota(0)\n",
      "Resource CPU RAM: functionWithResourceUsage.ResourceUsage(32572608) > ResourceQuota(0)\n",
      "Resource CPU RAM: functionWithResourceUsage.ResourceUsage(32572608) > ResourceQuota(0)\n",
      "Resource CPU RAM: functionWithResourceUsage.ResourceUsage(32572608) > ResourceQuota(0)\n",
      "Resource CPU RAM: functionWithResourceUsage.ResourceUsage(32572608) > ResourceQuota(0)\n",
      "Resource CPU RAM: functionWithResourceUsage.ResourceUsage(32572608) > ResourceQuota(0)\n",
      "Resource CPU RAM: functionWithResourceUsage.ResourceUsage(32572608) > ResourceQuota(0)\n",
      "Resource CPU RAM: functionWithResourceUsage.ResourceUsage(32572608) > ResourceQuota(0)\n",
      "Resource CPU RAM: functionWithResourceUsage.ResourceUsage(32572608) > ResourceQuota(0)\n",
      "Resource CPU RAM: functionWithResourceUsage.ResourceUsage(32572608) > ResourceQuota(0)\n",
      "Resource CPU RAM: functionWithResourceUsage.ResourceUsage(32572608) > ResourceQuota(0)\n",
      "Resource CPU RAM: functionWithResourceUsage.ResourceUsage(32572608) > ResourceQuota(0)\n",
      "Resource CPU RAM: functionWithResourceUsage.ResourceUsage(32572608) > ResourceQuota(0)\n",
      "Resource CPU RAM: functionWithResourceUsage.ResourceUsage(32572608) > ResourceQuota(0)\n",
      "Resource CPU RAM: functionWithResourceUsage.ResourceUsage(32572608) > ResourceQuota(0)\n",
      "Resource CPU RAM: functionWithResourceUsage.ResourceUsage(32572608) > ResourceQuota(0)\n",
      "Resource CPU RAM: functionWithResourceUsage.ResourceUsage(32572608) > ResourceQuota(0)\n",
      "Resource CPU RAM: functionWithResourceUsage.ResourceUsage(32572608) > ResourceQuota(0)\n",
      "Resource CPU RAM: functionWithResourceUsage.ResourceUsage(32572608) > ResourceQuota(0)\n",
      "Resource CPU RAM: functionWithResourceUsage.ResourceUsage(32572608) > ResourceQuota(0)\n",
      "Resource CPU RAM: functionWithResourceUsage.ResourceUsage(32572608) > ResourceQuota(0)\n",
      "Resource CPU RAM: functionWithResourceUsage.ResourceUsage(32572608) > ResourceQuota(0)\n",
      "Resource CPU RAM: functionWithResourceUsage.ResourceUsage(32572608) > ResourceQuota(0)\n",
      "Resource CPU RAM: functionWithResourceUsage.ResourceUsage(32572608) > ResourceQuota(0)\n",
      "Resource CPU RAM: functionWithResourceUsage.ResourceUsage(32572608) > ResourceQuota(0)\n",
      "Resource CPU RAM: functionWithResourceUsage.ResourceUsage(32572608) > ResourceQuota(0)\n",
      "Resource CPU RAM: functionWithResourceUsage.ResourceUsage(32572608) > ResourceQuota(0)\n",
      "Resource CPU RAM: functionWithResourceUsage.ResourceUsage(32572608) > ResourceQuota(0)\n",
      "Resource CPU RAM: functionWithResourceUsage.ResourceUsage(32572608) > ResourceQuota(0)\n",
      "Resource CPU RAM: functionWithResourceUsage.ResourceUsage(32572608) > ResourceQuota(0)\n",
      "Resource CPU RAM: functionWithResourceUsage.ResourceUsage(32572608) > ResourceQuota(0)\n",
      "Resource CPU RAM: functionWithResourceUsage.ResourceUsage(32572608) > ResourceQuota(0)\n",
      "Resource CPU RAM: functionWithResourceUsage.ResourceUsage(32572608) > ResourceQuota(0)\n",
      "Resource CPU RAM: functionWithResourceUsage.ResourceUsage(32572608) > ResourceQuota(0)\n",
      "Resource CPU RAM: functionWithResourceUsage.ResourceUsage(32572608) > ResourceQuota(0)\n",
      "Resource CPU RAM: functionWithResourceUsage.ResourceUsage(32572608) > ResourceQuota(0)\n",
      "Resource CPU RAM: functionWithResourceUsage.ResourceUsage(32572608) > ResourceQuota(0)\n",
      "Resource CPU RAM: functionWithResourceUsage.ResourceUsage(32572608) > ResourceQuota(0)\n",
      "Resource CPU RAM: functionWithResourceUsage.ResourceUsage(32572608) > ResourceQuota(0)\n",
      "Resource CPU RAM: functionWithResourceUsage.ResourceUsage(32572608) > ResourceQuota(0)\n",
      "Resource CPU RAM: functionWithResourceUsage.ResourceUsage(32572608) > ResourceQuota(0)\n",
      "Resource CPU RAM: functionWithResourceUsage.ResourceUsage(32572608) > ResourceQuota(0)\n",
      "Resource CPU RAM: functionWithResourceUsage.ResourceUsage(32572608) > ResourceQuota(0)\n",
      "Resource CPU RAM: functionWithResourceUsage.ResourceUsage(32572608) > ResourceQuota(0)\n",
      "Resource CPU RAM: functionWithResourceUsage.ResourceUsage(32572608) > ResourceQuota(0)\n",
      "Resource CPU RAM: functionWithResourceUsage.ResourceUsage(32572608) > ResourceQuota(0)\n",
      "Resource CPU RAM: functionWithResourceUsage.ResourceUsage(32572608) > ResourceQuota(0)\n",
      "Resource CPU RAM: functionWithResourceUsage.ResourceUsage(32572608) > ResourceQuota(0)\n",
      "Resource CPU RAM: functionWithResourceUsage.ResourceUsage(32572608) > ResourceQuota(0)\n",
      "Resource CPU RAM: functionWithResourceUsage.ResourceUsage(32572608) > ResourceQuota(0)\n",
      "Resource CPU RAM: functionWithResourceUsage.ResourceUsage(32572608) > ResourceQuota(0)\n",
      "Resource CPU RAM: functionWithResourceUsage.ResourceUsage(32572608) > ResourceQuota(0)\n",
      "Resource CPU RAM: functionWithResourceUsage.ResourceUsage(32572608) > ResourceQuota(0)\n",
      "Resource CPU RAM: functionWithResourceUsage.ResourceUsage(32572608) > ResourceQuota(0)\n",
      "Resource CPU RAM: functionWithResourceUsage.ResourceUsage(32572608) > ResourceQuota(0)\n",
      "Resource CPU RAM: functionWithResourceUsage.ResourceUsage(32572608) > ResourceQuota(0)\n",
      "Resource CPU RAM: functionWithResourceUsage.ResourceUsage(32572608) > ResourceQuota(0)\n",
      "Resource CPU RAM: functionWithResourceUsage.ResourceUsage(32572608) > ResourceQuota(0)\n",
      "Resource CPU RAM: functionWithResourceUsage.ResourceUsage(32572608) > ResourceQuota(0)\n",
      "Resource CPU RAM: functionWithResourceUsage.ResourceUsage(32572608) > ResourceQuota(0)\n",
      "Resource CPU RAM: functionWithResourceUsage.ResourceUsage(32572608) > ResourceQuota(0)\n",
      "Resource CPU RAM: functionWithResourceUsage.ResourceUsage(32572608) > ResourceQuota(0)\n",
      "Resource CPU RAM: functionWithResourceUsage.ResourceUsage(32572608) > ResourceQuota(0)\n",
      "Resource CPU RAM: functionWithResourceUsage.ResourceUsage(32572608) > ResourceQuota(0)\n",
      "Resource CPU RAM: functionWithResourceUsage.ResourceUsage(32572608) > ResourceQuota(0)\n",
      "Resource CPU RAM: functionWithResourceUsage.ResourceUsage(32572608) > ResourceQuota(0)\n",
      "Resource CPU RAM: functionWithResourceUsage.ResourceUsage(32572608) > ResourceQuota(0)\n",
      "Resource CPU RAM: functionWithResourceUsage.ResourceUsage(32572608) > ResourceQuota(0)\n",
      "Resource CPU RAM: functionWithResourceUsage.ResourceUsage(32572608) > ResourceQuota(0)\n",
      "Resource CPU RAM: functionWithResourceUsage.ResourceUsage(32572608) > ResourceQuota(0)\n",
      "Resource CPU RAM: functionWithResourceUsage.ResourceUsage(32572608) > ResourceQuota(0)\n",
      "Resource CPU RAM: functionWithResourceUsage.ResourceUsage(32572608) > ResourceQuota(0)\n",
      "Resource CPU RAM: functionWithResourceUsage.ResourceUsage(32572608) > ResourceQuota(0)\n",
      "Resource CPU RAM: functionWithResourceUsage.ResourceUsage(32572608) > ResourceQuota(0)\n",
      "Resource CPU RAM: functionWithResourceUsage.ResourceUsage(32572608) > ResourceQuota(0)\n",
      "Resource CPU RAM: functionWithResourceUsage.ResourceUsage(32572608) > ResourceQuota(0)\n",
      "Resource CPU RAM: functionWithResourceUsage.ResourceUsage(32572608) > ResourceQuota(0)\n",
      "Resource CPU RAM: functionWithResourceUsage.ResourceUsage(32572608) > ResourceQuota(0)\n",
      "Resource CPU RAM: functionWithResourceUsage.ResourceUsage(32572608) > ResourceQuota(0)\n",
      "Resource CPU RAM: functionWithResourceUsage.ResourceUsage(32572608) > ResourceQuota(0)\n",
      "Resource CPU RAM: functionWithResourceUsage.ResourceUsage(32572608) > ResourceQuota(0)\n",
      "Resource CPU RAM: functionWithResourceUsage.ResourceUsage(32572608) > ResourceQuota(0)\n",
      "Resource CPU RAM: functionWithResourceUsage.ResourceUsage(32572608) > ResourceQuota(0)\n",
      "Resource CPU RAM: functionWithResourceUsage.ResourceUsage(32572608) > ResourceQuota(0)\n",
      "Resource CPU RAM: functionWithResourceUsage.ResourceUsage(32572608) > ResourceQuota(0)\n",
      "Resource CPU RAM: functionWithResourceUsage.ResourceUsage(32572608) > ResourceQuota(0)\n",
      "Resource CPU RAM: functionWithResourceUsage.ResourceUsage(32572608) > ResourceQuota(0)\n",
      "Resource CPU RAM: functionWithResourceUsage.ResourceUsage(32572608) > ResourceQuota(0)\n",
      "Resource CPU RAM: functionWithResourceUsage.ResourceUsage(32572608) > ResourceQuota(0)\n",
      "Resource CPU RAM: functionWithResourceUsage.ResourceUsage(32572608) > ResourceQuota(0)\n",
      "Resource CPU RAM: functionWithResourceUsage.ResourceUsage(32572608) > ResourceQuota(0)\n",
      "Resource CPU RAM: functionWithResourceUsage.ResourceUsage(32572608) > ResourceQuota(0)\n",
      "Resource CPU RAM: functionWithResourceUsage.ResourceUsage(32572608) > ResourceQuota(0)\n",
      "Resource CPU RAM: functionWithResourceUsage.ResourceUsage(32572608) > ResourceQuota(0)\n",
      "Resource CPU RAM: functionWithResourceUsage.ResourceUsage(32572608) > ResourceQuota(0)\n",
      "Resource CPU RAM: functionWithResourceUsage.ResourceUsage(32572608) > ResourceQuota(0)\n",
      "Resource CPU RAM: functionWithResourceUsage.ResourceUsage(32572608) > ResourceQuota(0)\n",
      "Resource CPU RAM: functionWithResourceUsage.ResourceUsage(32572608) > ResourceQuota(0)\n",
      "Resource CPU RAM: functionWithResourceUsage.ResourceUsage(32572608) > ResourceQuota(0)\n",
      "Resource CPU RAM: functionWithResourceUsage.ResourceUsage(32572608) > ResourceQuota(0)\n",
      "Resource CPU RAM: functionWithResourceUsage.ResourceUsage(32572608) > ResourceQuota(0)\n",
      "Resource CPU RAM: functionWithResourceUsage.ResourceUsage(32572608) > ResourceQuota(0)\n",
      "Resource CPU RAM: functionWithResourceUsage.ResourceUsage(32572608) > ResourceQuota(0)\n",
      "Resource CPU RAM: functionWithResourceUsage.ResourceUsage(32572608) > ResourceQuota(0)\n",
      "Resource CPU RAM: functionWithResourceUsage.ResourceUsage(32572608) > ResourceQuota(0)\n",
      "Resource CPU RAM: functionWithResourceUsage.ResourceUsage(32572608) > ResourceQuota(0)\n",
      "Resource CPU RAM: functionWithResourceUsage.ResourceUsage(32572608) > ResourceQuota(0)\n",
      "Resource CPU RAM: functionWithResourceUsage.ResourceUsage(32572608) > ResourceQuota(0)\n",
      "Resource CPU RAM: functionWithResourceUsage.ResourceUsage(32572608) > ResourceQuota(0)\n",
      "Resource CPU RAM: functionWithResourceUsage.ResourceUsage(32572608) > ResourceQuota(0)\n",
      "Resource CPU RAM: functionWithResourceUsage.ResourceUsage(32572608) > ResourceQuota(0)\n",
      "Resource CPU RAM: functionWithResourceUsage.ResourceUsage(32572608) > ResourceQuota(0)\n",
      "Resource CPU RAM: functionWithResourceUsage.ResourceUsage(32572608) > ResourceQuota(0)\n",
      "Resource CPU RAM: functionWithResourceUsage.ResourceUsage(32572608) > ResourceQuota(0)\n",
      "Resource CPU RAM: functionWithResourceUsage.ResourceUsage(32572608) > ResourceQuota(0)\n",
      "Resource CPU RAM: functionWithResourceUsage.ResourceUsage(32572608) > ResourceQuota(0)\n",
      "Resource CPU RAM: functionWithResourceUsage.ResourceUsage(32572608) > ResourceQuota(0)\n",
      "Resource CPU RAM: functionWithResourceUsage.ResourceUsage(32572608) > ResourceQuota(0)\n",
      "Resource CPU RAM: functionWithResourceUsage.ResourceUsage(32572608) > ResourceQuota(0)\n",
      "Resource CPU RAM: functionWithResourceUsage.ResourceUsage(32572608) > ResourceQuota(0)\n",
      "Resource CPU RAM: functionWithResourceUsage.ResourceUsage(32572608) > ResourceQuota(0)\n",
      "Resource CPU RAM: functionWithResourceUsage.ResourceUsage(32572608) > ResourceQuota(0)\n",
      "Resource CPU RAM: functionWithResourceUsage.ResourceUsage(32572608) > ResourceQuota(0)\n",
      "Resource CPU RAM: functionWithResourceUsage.ResourceUsage(32572608) > ResourceQuota(0)\n",
      "Resource CPU RAM: functionWithResourceUsage.ResourceUsage(32572608) > ResourceQuota(0)\n",
      "Resource CPU RAM: functionWithResourceUsage.ResourceUsage(32572608) > ResourceQuota(0)\n",
      "Resource CPU RAM: functionWithResourceUsage.ResourceUsage(32572608) > ResourceQuota(0)\n",
      "Resource CPU RAM: functionWithResourceUsage.ResourceUsage(32572608) > ResourceQuota(0)\n",
      "Resource CPU RAM: functionWithResourceUsage.ResourceUsage(32572608) > ResourceQuota(0)\n",
      "Resource CPU RAM: functionWithResourceUsage.ResourceUsage(32572608) > ResourceQuota(0)\n",
      "Resource CPU RAM: functionWithResourceUsage.ResourceUsage(32572608) > ResourceQuota(0)\n",
      "Resource CPU RAM: functionWithResourceUsage.ResourceUsage(32572608) > ResourceQuota(0)\n",
      "Resource CPU RAM: functionWithResourceUsage.ResourceUsage(32572608) > ResourceQuota(0)\n",
      "Resource CPU RAM: functionWithResourceUsage.ResourceUsage(32572608) > ResourceQuota(0)\n",
      "Resource CPU RAM: functionWithResourceUsage.ResourceUsage(32572608) > ResourceQuota(0)\n",
      "Resource CPU RAM: functionWithResourceUsage.ResourceUsage(32572608) > ResourceQuota(0)\n",
      "Resource CPU RAM: functionWithResourceUsage.ResourceUsage(32572608) > ResourceQuota(0)\n",
      "Resource CPU RAM: functionWithResourceUsage.ResourceUsage(32572608) > ResourceQuota(0)\n",
      "Resource CPU RAM: functionWithResourceUsage.ResourceUsage(32572608) > ResourceQuota(0)\n",
      "Resource CPU RAM: functionWithResourceUsage.ResourceUsage(32572608) > ResourceQuota(0)\n",
      "Resource CPU RAM: functionWithResourceUsage.ResourceUsage(32572608) > ResourceQuota(0)\n",
      "Resource CPU RAM: functionWithResourceUsage.ResourceUsage(32572608) > ResourceQuota(0)\n",
      "Resource CPU RAM: functionWithResourceUsage.ResourceUsage(32572608) > ResourceQuota(0)\n",
      "Resource CPU RAM: functionWithResourceUsage.ResourceUsage(32572608) > ResourceQuota(0)\n",
      "Resource CPU RAM: functionWithResourceUsage.ResourceUsage(32572608) > ResourceQuota(0)\n",
      "Resource CPU RAM: functionWithResourceUsage.ResourceUsage(32572608) > ResourceQuota(0)\n",
      "Resource CPU RAM: functionWithResourceUsage.ResourceUsage(32572608) > ResourceQuota(0)\n",
      "Resource CPU RAM: functionWithResourceUsage.ResourceUsage(32572608) > ResourceQuota(0)\n",
      "Resource CPU RAM: functionWithResourceUsage.ResourceUsage(32572608) > ResourceQuota(0)\n",
      "Resource CPU RAM: functionWithResourceUsage.ResourceUsage(32572608) > ResourceQuota(0)\n",
      "Resource CPU RAM: functionWithResourceUsage.ResourceUsage(32572608) > ResourceQuota(0)\n",
      "Resource CPU RAM: functionWithResourceUsage.ResourceUsage(32572608) > ResourceQuota(0)\n",
      "Resource CPU RAM: functionWithResourceUsage.ResourceUsage(32572608) > ResourceQuota(0)\n",
      "Resource CPU RAM: functionWithResourceUsage.ResourceUsage(32572608) > ResourceQuota(0)\n",
      "Resource CPU RAM: functionWithResourceUsage.ResourceUsage(32572608) > ResourceQuota(0)\n",
      "Resource CPU RAM: functionWithResourceUsage.ResourceUsage(32572608) > ResourceQuota(0)\n",
      "Resource CPU RAM: functionWithResourceUsage.ResourceUsage(32572608) > ResourceQuota(0)\n",
      "Resource CPU RAM: functionWithResourceUsage.ResourceUsage(32572608) > ResourceQuota(0)\n",
      "Resource CPU RAM: functionWithResourceUsage.ResourceUsage(32572608) > ResourceQuota(0)\n",
      "Resource CPU RAM: functionWithResourceUsage.ResourceUsage(32572608) > ResourceQuota(0)\n",
      "Resource CPU RAM: functionWithResourceUsage.ResourceUsage(32572608) > ResourceQuota(0)\n",
      "Resource CPU RAM: functionWithResourceUsage.ResourceUsage(32572608) > ResourceQuota(0)\n",
      "Resource CPU RAM: functionWithResourceUsage.ResourceUsage(32572608) > ResourceQuota(0)\n",
      "Resource CPU RAM: functionWithResourceUsage.ResourceUsage(32572608) > ResourceQuota(0)\n",
      "Resource CPU RAM: functionWithResourceUsage.ResourceUsage(32572608) > ResourceQuota(0)\n",
      "Resource CPU RAM: functionWithResourceUsage.ResourceUsage(32572608) > ResourceQuota(0)\n",
      "Resource CPU RAM: functionWithResourceUsage.ResourceUsage(32572608) > ResourceQuota(0)\n",
      "Resource CPU RAM: functionWithResourceUsage.ResourceUsage(32572608) > ResourceQuota(0)\n",
      "\u001B[32m[I 2022-01-26 23:54:21,119]\u001B[0m Trial 0 finished with value: 0.6391837715546788 and parameters: {'objective': 'CrossEntropy', 'learning_rate': 0.1205712628744377, 'bagging_temperature': 2.481040974867813, 'n_estimators': 2404, 'max_depth': 6, 'random_strength': 5, 'colsample_bylevel': 0.9197056874649611, 'l2_leaf_reg': 1.8037439202178834e-05, 'min_child_samples': 72, 'boosting_type': 'Plain', 'max_bin': 450, 'od_type': 'IncToDec'}. Best is trial 0 with value: 0.6391837715546788.\u001B[0m\n",
      "CatBoost is using more CPU RAM (3.04GiB) than the limit (2GiB)\n",
      "CatBoost is using more CPU RAM (3.04GiB) than the limit (2GiB)\n",
      "Resource CPU RAM: functionWithResourceUsage.ResourceUsage(1654096) > ResourceQuota(0)\n",
      "Resource CPU RAM: functionWithResourceUsage.ResourceUsage(1654096) > ResourceQuota(0)\n",
      "Resource CPU RAM: functionWithResourceUsage.ResourceUsage(1654096) > ResourceQuota(0)\n",
      "Resource CPU RAM: functionWithResourceUsage.ResourceUsage(1654096) > ResourceQuota(0)\n",
      "Resource CPU RAM: functionWithResourceUsage.ResourceUsage(1654096) > ResourceQuota(0)\n",
      "Resource CPU RAM: functionWithResourceUsage.ResourceUsage(1654096) > ResourceQuota(0)\n",
      "Resource CPU RAM: functionWithResourceUsage.ResourceUsage(1654096) > ResourceQuota(0)\n",
      "Resource CPU RAM: functionWithResourceUsage.ResourceUsage(1654096) > ResourceQuota(0)\n",
      "Resource CPU RAM: functionWithResourceUsage.ResourceUsage(1654096) > ResourceQuota(0)\n",
      "Resource CPU RAM: functionWithResourceUsage.ResourceUsage(1654096) > ResourceQuota(0)\n",
      "Resource CPU RAM: functionWithResourceUsage.ResourceUsage(1654096) > ResourceQuota(0)\n",
      "Resource CPU RAM: functionWithResourceUsage.ResourceUsage(1654096) > ResourceQuota(0)\n",
      "Resource CPU RAM: functionWithResourceUsage.ResourceUsage(1654096) > ResourceQuota(0)\n",
      "Resource CPU RAM: functionWithResourceUsage.ResourceUsage(1654096) > ResourceQuota(0)\n",
      "Resource CPU RAM: functionWithResourceUsage.ResourceUsage(1654096) > ResourceQuota(0)\n",
      "Resource CPU RAM: functionWithResourceUsage.ResourceUsage(1654096) > ResourceQuota(0)\n",
      "Resource CPU RAM: functionWithResourceUsage.ResourceUsage(1654096) > ResourceQuota(0)\n",
      "Resource CPU RAM: functionWithResourceUsage.ResourceUsage(1654096) > ResourceQuota(0)\n",
      "Resource CPU RAM: functionWithResourceUsage.ResourceUsage(1654096) > ResourceQuota(0)\n",
      "Resource CPU RAM: functionWithResourceUsage.ResourceUsage(1654096) > ResourceQuota(0)\n",
      "Resource CPU RAM: functionWithResourceUsage.ResourceUsage(1654096) > ResourceQuota(0)\n",
      "Resource CPU RAM: functionWithResourceUsage.ResourceUsage(1654096) > ResourceQuota(0)\n",
      "Resource CPU RAM: functionWithResourceUsage.ResourceUsage(1654096) > ResourceQuota(0)\n",
      "Resource CPU RAM: functionWithResourceUsage.ResourceUsage(1654096) > ResourceQuota(0)\n",
      "Resource CPU RAM: functionWithResourceUsage.ResourceUsage(1654096) > ResourceQuota(0)\n",
      "Resource CPU RAM: functionWithResourceUsage.ResourceUsage(1654096) > ResourceQuota(0)\n",
      "Resource CPU RAM: functionWithResourceUsage.ResourceUsage(1654096) > ResourceQuota(0)\n",
      "Resource CPU RAM: functionWithResourceUsage.ResourceUsage(1654096) > ResourceQuota(0)\n",
      "Resource CPU RAM: functionWithResourceUsage.ResourceUsage(1654096) > ResourceQuota(0)\n",
      "Resource CPU RAM: functionWithResourceUsage.ResourceUsage(1654096) > ResourceQuota(0)\n",
      "Resource CPU RAM: functionWithResourceUsage.ResourceUsage(1654096) > ResourceQuota(0)\n",
      "Resource CPU RAM: functionWithResourceUsage.ResourceUsage(1654096) > ResourceQuota(0)\n",
      "Resource CPU RAM: functionWithResourceUsage.ResourceUsage(1654096) > ResourceQuota(0)\n",
      "Resource CPU RAM: functionWithResourceUsage.ResourceUsage(1654096) > ResourceQuota(0)\n",
      "Resource CPU RAM: functionWithResourceUsage.ResourceUsage(1654096) > ResourceQuota(0)\n",
      "Resource CPU RAM: functionWithResourceUsage.ResourceUsage(1654096) > ResourceQuota(0)\n",
      "Resource CPU RAM: functionWithResourceUsage.ResourceUsage(1654096) > ResourceQuota(0)\n",
      "Resource CPU RAM: functionWithResourceUsage.ResourceUsage(1654096) > ResourceQuota(0)\n",
      "Resource CPU RAM: functionWithResourceUsage.ResourceUsage(1654096) > ResourceQuota(0)\n",
      "Resource CPU RAM: functionWithResourceUsage.ResourceUsage(1654096) > ResourceQuota(0)\n",
      "Resource CPU RAM: functionWithResourceUsage.ResourceUsage(1654096) > ResourceQuota(0)\n",
      "Resource CPU RAM: functionWithResourceUsage.ResourceUsage(1654096) > ResourceQuota(0)\n",
      "Resource CPU RAM: functionWithResourceUsage.ResourceUsage(1654096) > ResourceQuota(0)\n",
      "Resource CPU RAM: functionWithResourceUsage.ResourceUsage(1654096) > ResourceQuota(0)\n",
      "Resource CPU RAM: functionWithResourceUsage.ResourceUsage(1654096) > ResourceQuota(0)\n",
      "Resource CPU RAM: functionWithResourceUsage.ResourceUsage(1654096) > ResourceQuota(0)\n",
      "Resource CPU RAM: functionWithResourceUsage.ResourceUsage(1654096) > ResourceQuota(0)\n",
      "Resource CPU RAM: functionWithResourceUsage.ResourceUsage(1654096) > ResourceQuota(0)\n",
      "Resource CPU RAM: functionWithResourceUsage.ResourceUsage(1654096) > ResourceQuota(0)\n",
      "Resource CPU RAM: functionWithResourceUsage.ResourceUsage(1654096) > ResourceQuota(0)\n",
      "Resource CPU RAM: functionWithResourceUsage.ResourceUsage(1654096) > ResourceQuota(0)\n",
      "Resource CPU RAM: functionWithResourceUsage.ResourceUsage(1654096) > ResourceQuota(0)\n",
      "Resource CPU RAM: functionWithResourceUsage.ResourceUsage(1654096) > ResourceQuota(0)\n",
      "Resource CPU RAM: functionWithResourceUsage.ResourceUsage(1654096) > ResourceQuota(0)\n",
      "Resource CPU RAM: functionWithResourceUsage.ResourceUsage(1654096) > ResourceQuota(0)\n",
      "Resource CPU RAM: functionWithResourceUsage.ResourceUsage(1654096) > ResourceQuota(0)\n",
      "Resource CPU RAM: functionWithResourceUsage.ResourceUsage(1654096) > ResourceQuota(0)\n",
      "Resource CPU RAM: functionWithResourceUsage.ResourceUsage(1654096) > ResourceQuota(0)\n",
      "Resource CPU RAM: functionWithResourceUsage.ResourceUsage(1654096) > ResourceQuota(0)\n",
      "Resource CPU RAM: functionWithResourceUsage.ResourceUsage(1654096) > ResourceQuota(0)\n",
      "Resource CPU RAM: functionWithResourceUsage.ResourceUsage(1654096) > ResourceQuota(0)\n",
      "Resource CPU RAM: functionWithResourceUsage.ResourceUsage(1654096) > ResourceQuota(0)\n",
      "Resource CPU RAM: functionWithResourceUsage.ResourceUsage(14456160) > ResourceQuota(0)\n",
      "Resource CPU RAM: functionWithResourceUsage.ResourceUsage(14456160) > ResourceQuota(0)\n",
      "Resource CPU RAM: functionWithResourceUsage.ResourceUsage(14456160) > ResourceQuota(0)\n",
      "Resource CPU RAM: functionWithResourceUsage.ResourceUsage(14456160) > ResourceQuota(0)\n",
      "Resource CPU RAM: functionWithResourceUsage.ResourceUsage(14456160) > ResourceQuota(0)\n",
      "Resource CPU RAM: functionWithResourceUsage.ResourceUsage(14456160) > ResourceQuota(0)\n",
      "Resource CPU RAM: functionWithResourceUsage.ResourceUsage(14456160) > ResourceQuota(0)\n",
      "Resource CPU RAM: functionWithResourceUsage.ResourceUsage(14456160) > ResourceQuota(0)\n",
      "Resource CPU RAM: functionWithResourceUsage.ResourceUsage(14456160) > ResourceQuota(0)\n",
      "CatBoost is using more CPU RAM (3.04GiB) than the limit (2GiB)\n",
      "Resource CPU RAM: functionWithResourceUsage.ResourceUsage(401560) > ResourceQuota(0)\n",
      "Resource CPU RAM: functionWithResourceUsage.ResourceUsage(803120) > ResourceQuota(0)\n",
      "Resource CPU RAM: functionWithResourceUsage.ResourceUsage(803120) > ResourceQuota(0)\n",
      "Resource CPU RAM: functionWithResourceUsage.ResourceUsage(803120) > ResourceQuota(0)\n",
      "Resource CPU RAM: functionWithResourceUsage.ResourceUsage(401560) > ResourceQuota(0)\n",
      "Resource CPU RAM: functionWithResourceUsage.ResourceUsage(803120) > ResourceQuota(0)\n",
      "Resource CPU RAM: functionWithResourceUsage.ResourceUsage(803120) > ResourceQuota(0)\n",
      "Resource CPU RAM: functionWithResourceUsage.ResourceUsage(401560) > ResourceQuota(0)\n",
      "Resource CPU RAM: functionWithResourceUsage.ResourceUsage(401560) > ResourceQuota(0)\n",
      "Resource CPU RAM: functionWithResourceUsage.ResourceUsage(401560) > ResourceQuota(0)\n",
      "Resource CPU RAM: functionWithResourceUsage.ResourceUsage(803120) > ResourceQuota(0)\n",
      "Resource CPU RAM: functionWithResourceUsage.ResourceUsage(803120) > ResourceQuota(0)\n",
      "Resource CPU RAM: functionWithResourceUsage.ResourceUsage(401560) > ResourceQuota(0)\n",
      "Resource CPU RAM: functionWithResourceUsage.ResourceUsage(401560) > ResourceQuota(0)\n",
      "Resource CPU RAM: functionWithResourceUsage.ResourceUsage(401560) > ResourceQuota(0)\n",
      "Resource CPU RAM: functionWithResourceUsage.ResourceUsage(803120) > ResourceQuota(0)\n",
      "Resource CPU RAM: functionWithResourceUsage.ResourceUsage(803120) > ResourceQuota(0)\n",
      "Resource CPU RAM: functionWithResourceUsage.ResourceUsage(401560) > ResourceQuota(0)\n",
      "Resource CPU RAM: functionWithResourceUsage.ResourceUsage(401560) > ResourceQuota(0)\n",
      "Resource CPU RAM: functionWithResourceUsage.ResourceUsage(401560) > ResourceQuota(0)\n",
      "Resource CPU RAM: functionWithResourceUsage.ResourceUsage(803120) > ResourceQuota(0)\n",
      "Resource CPU RAM: functionWithResourceUsage.ResourceUsage(401560) > ResourceQuota(0)\n",
      "Resource CPU RAM: functionWithResourceUsage.ResourceUsage(401560) > ResourceQuota(0)\n",
      "Resource CPU RAM: functionWithResourceUsage.ResourceUsage(401560) > ResourceQuota(0)\n",
      "Resource CPU RAM: functionWithResourceUsage.ResourceUsage(803120) > ResourceQuota(0)\n",
      "Resource CPU RAM: functionWithResourceUsage.ResourceUsage(401560) > ResourceQuota(0)\n",
      "Resource CPU RAM: functionWithResourceUsage.ResourceUsage(401560) > ResourceQuota(0)\n",
      "Resource CPU RAM: functionWithResourceUsage.ResourceUsage(401560) > ResourceQuota(0)\n",
      "Resource CPU RAM: functionWithResourceUsage.ResourceUsage(803120) > ResourceQuota(0)\n",
      "Resource CPU RAM: functionWithResourceUsage.ResourceUsage(401560) > ResourceQuota(0)\n",
      "Resource CPU RAM: functionWithResourceUsage.ResourceUsage(401560) > ResourceQuota(0)\n",
      "Resource CPU RAM: functionWithResourceUsage.ResourceUsage(401560) > ResourceQuota(0)\n",
      "Resource CPU RAM: functionWithResourceUsage.ResourceUsage(401560) > ResourceQuota(0)\n",
      "Resource CPU RAM: functionWithResourceUsage.ResourceUsage(401560) > ResourceQuota(0)\n",
      "Resource CPU RAM: functionWithResourceUsage.ResourceUsage(401560) > ResourceQuota(0)\n",
      "Resource CPU RAM: functionWithResourceUsage.ResourceUsage(401560) > ResourceQuota(0)\n",
      "Resource CPU RAM: functionWithResourceUsage.ResourceUsage(401560) > ResourceQuota(0)\n",
      "Resource CPU RAM: functionWithResourceUsage.ResourceUsage(401560) > ResourceQuota(0)\n",
      "Resource CPU RAM: functionWithResourceUsage.ResourceUsage(401560) > ResourceQuota(0)\n",
      "Resource CPU RAM: functionWithResourceUsage.ResourceUsage(401560) > ResourceQuota(0)\n",
      "Resource CPU RAM: functionWithResourceUsage.ResourceUsage(803120) > ResourceQuota(0)\n",
      "Resource CPU RAM: functionWithResourceUsage.ResourceUsage(803120) > ResourceQuota(0)\n",
      "Resource CPU RAM: functionWithResourceUsage.ResourceUsage(401560) > ResourceQuota(0)\n",
      "Resource CPU RAM: functionWithResourceUsage.ResourceUsage(401560) > ResourceQuota(0)\n",
      "Resource CPU RAM: functionWithResourceUsage.ResourceUsage(1606240) > ResourceQuota(0)\n",
      "Resource CPU RAM: functionWithResourceUsage.ResourceUsage(1606240) > ResourceQuota(0)\n",
      "Resource CPU RAM: functionWithResourceUsage.ResourceUsage(1606240) > ResourceQuota(0)\n",
      "Resource CPU RAM: functionWithResourceUsage.ResourceUsage(1606240) > ResourceQuota(0)\n",
      "Resource CPU RAM: functionWithResourceUsage.ResourceUsage(401560) > ResourceQuota(0)\n",
      "Resource CPU RAM: functionWithResourceUsage.ResourceUsage(401560) > ResourceQuota(0)\n",
      "Resource CPU RAM: functionWithResourceUsage.ResourceUsage(401560) > ResourceQuota(0)\n",
      "CatBoost is using more CPU RAM (3.04GiB) than the limit (2GiB)\n",
      "Resource CPU RAM: functionWithResourceUsage.ResourceUsage(100392) > ResourceQuota(0)\n",
      "Resource CPU RAM: functionWithResourceUsage.ResourceUsage(100392) > ResourceQuota(0)\n",
      "Resource CPU RAM: functionWithResourceUsage.ResourceUsage(100392) > ResourceQuota(0)\n",
      "Resource CPU RAM: functionWithResourceUsage.ResourceUsage(200784) > ResourceQuota(0)\n",
      "Resource CPU RAM: functionWithResourceUsage.ResourceUsage(200784) > ResourceQuota(0)\n",
      "Resource CPU RAM: functionWithResourceUsage.ResourceUsage(200784) > ResourceQuota(0)\n",
      "Resource CPU RAM: functionWithResourceUsage.ResourceUsage(100392) > ResourceQuota(0)\n",
      "Resource CPU RAM: functionWithResourceUsage.ResourceUsage(200784) > ResourceQuota(0)\n",
      "Resource CPU RAM: functionWithResourceUsage.ResourceUsage(200784) > ResourceQuota(0)\n",
      "Resource CPU RAM: functionWithResourceUsage.ResourceUsage(100392) > ResourceQuota(0)\n",
      "Resource CPU RAM: functionWithResourceUsage.ResourceUsage(100392) > ResourceQuota(0)\n",
      "Resource CPU RAM: functionWithResourceUsage.ResourceUsage(100392) > ResourceQuota(0)\n",
      "Resource CPU RAM: functionWithResourceUsage.ResourceUsage(100392) > ResourceQuota(0)\n",
      "Resource CPU RAM: functionWithResourceUsage.ResourceUsage(100392) > ResourceQuota(0)\n",
      "Resource CPU RAM: functionWithResourceUsage.ResourceUsage(200784) > ResourceQuota(0)\n",
      "Resource CPU RAM: functionWithResourceUsage.ResourceUsage(200784) > ResourceQuota(0)\n",
      "Resource CPU RAM: functionWithResourceUsage.ResourceUsage(100392) > ResourceQuota(0)\n",
      "Resource CPU RAM: functionWithResourceUsage.ResourceUsage(100392) > ResourceQuota(0)\n",
      "Resource CPU RAM: functionWithResourceUsage.ResourceUsage(100392) > ResourceQuota(0)\n",
      "Resource CPU RAM: functionWithResourceUsage.ResourceUsage(200784) > ResourceQuota(0)\n",
      "Resource CPU RAM: functionWithResourceUsage.ResourceUsage(200784) > ResourceQuota(0)\n",
      "Resource CPU RAM: functionWithResourceUsage.ResourceUsage(100392) > ResourceQuota(0)\n",
      "Resource CPU RAM: functionWithResourceUsage.ResourceUsage(100392) > ResourceQuota(0)\n",
      "Resource CPU RAM: functionWithResourceUsage.ResourceUsage(100392) > ResourceQuota(0)\n",
      "Resource CPU RAM: functionWithResourceUsage.ResourceUsage(200784) > ResourceQuota(0)\n",
      "Resource CPU RAM: functionWithResourceUsage.ResourceUsage(100392) > ResourceQuota(0)\n",
      "Resource CPU RAM: functionWithResourceUsage.ResourceUsage(100392) > ResourceQuota(0)\n",
      "Resource CPU RAM: functionWithResourceUsage.ResourceUsage(100392) > ResourceQuota(0)\n",
      "Resource CPU RAM: functionWithResourceUsage.ResourceUsage(200784) > ResourceQuota(0)\n",
      "Resource CPU RAM: functionWithResourceUsage.ResourceUsage(100392) > ResourceQuota(0)\n",
      "Resource CPU RAM: functionWithResourceUsage.ResourceUsage(100392) > ResourceQuota(0)\n",
      "Resource CPU RAM: functionWithResourceUsage.ResourceUsage(100392) > ResourceQuota(0)\n",
      "Resource CPU RAM: functionWithResourceUsage.ResourceUsage(200784) > ResourceQuota(0)\n",
      "Resource CPU RAM: functionWithResourceUsage.ResourceUsage(100392) > ResourceQuota(0)\n",
      "Resource CPU RAM: functionWithResourceUsage.ResourceUsage(100392) > ResourceQuota(0)\n",
      "Resource CPU RAM: functionWithResourceUsage.ResourceUsage(100392) > ResourceQuota(0)\n",
      "Resource CPU RAM: functionWithResourceUsage.ResourceUsage(100392) > ResourceQuota(0)\n",
      "Resource CPU RAM: functionWithResourceUsage.ResourceUsage(100392) > ResourceQuota(0)\n",
      "Resource CPU RAM: functionWithResourceUsage.ResourceUsage(100392) > ResourceQuota(0)\n",
      "Resource CPU RAM: functionWithResourceUsage.ResourceUsage(100392) > ResourceQuota(0)\n",
      "Resource CPU RAM: functionWithResourceUsage.ResourceUsage(100392) > ResourceQuota(0)\n",
      "Resource CPU RAM: functionWithResourceUsage.ResourceUsage(100392) > ResourceQuota(0)\n",
      "Resource CPU RAM: functionWithResourceUsage.ResourceUsage(100392) > ResourceQuota(0)\n",
      "Resource CPU RAM: functionWithResourceUsage.ResourceUsage(100392) > ResourceQuota(0)\n",
      "Resource CPU RAM: functionWithResourceUsage.ResourceUsage(200784) > ResourceQuota(0)\n",
      "Resource CPU RAM: functionWithResourceUsage.ResourceUsage(200784) > ResourceQuota(0)\n",
      "Resource CPU RAM: functionWithResourceUsage.ResourceUsage(100392) > ResourceQuota(0)\n",
      "Resource CPU RAM: functionWithResourceUsage.ResourceUsage(100392) > ResourceQuota(0)\n",
      "Resource CPU RAM: functionWithResourceUsage.ResourceUsage(100392) > ResourceQuota(0)\n",
      "Resource CPU RAM: functionWithResourceUsage.ResourceUsage(100392) > ResourceQuota(0)\n",
      "Resource CPU RAM: functionWithResourceUsage.ResourceUsage(100392) > ResourceQuota(0)\n",
      "Resource CPU RAM: functionWithResourceUsage.ResourceUsage(100392) > ResourceQuota(0)\n",
      "Resource CPU RAM: functionWithResourceUsage.ResourceUsage(100392) > ResourceQuota(0)\n",
      "Resource CPU RAM: functionWithResourceUsage.ResourceUsage(100392) > ResourceQuota(0)\n",
      "Resource CPU RAM: functionWithResourceUsage.ResourceUsage(100392) > ResourceQuota(0)\n",
      "Resource CPU RAM: functionWithResourceUsage.ResourceUsage(100392) > ResourceQuota(0)\n",
      "Resource CPU RAM: functionWithResourceUsage.ResourceUsage(100392) > ResourceQuota(0)\n",
      "Resource CPU RAM: functionWithResourceUsage.ResourceUsage(100392) > ResourceQuota(0)\n",
      "Resource CPU RAM: functionWithResourceUsage.ResourceUsage(100392) > ResourceQuota(0)\n",
      "Resource CPU RAM: functionWithResourceUsage.ResourceUsage(100392) > ResourceQuota(0)\n",
      "Resource CPU RAM: functionWithResourceUsage.ResourceUsage(100392) > ResourceQuota(0)\n",
      "Resource CPU RAM: functionWithResourceUsage.ResourceUsage(100392) > ResourceQuota(0)\n",
      "Resource CPU RAM: functionWithResourceUsage.ResourceUsage(3614076) > ResourceQuota(0)\n",
      "Resource CPU RAM: functionWithResourceUsage.ResourceUsage(3614076) > ResourceQuota(0)\n",
      "Resource CPU RAM: functionWithResourceUsage.ResourceUsage(3614076) > ResourceQuota(0)\n",
      "Resource CPU RAM: functionWithResourceUsage.ResourceUsage(3614076) > ResourceQuota(0)\n",
      "Resource CPU RAM: functionWithResourceUsage.ResourceUsage(3614076) > ResourceQuota(0)\n",
      "Resource CPU RAM: functionWithResourceUsage.ResourceUsage(3614076) > ResourceQuota(0)\n",
      "Resource CPU RAM: functionWithResourceUsage.ResourceUsage(3614076) > ResourceQuota(0)\n",
      "Resource CPU RAM: functionWithResourceUsage.ResourceUsage(3614076) > ResourceQuota(0)\n",
      "Resource CPU RAM: functionWithResourceUsage.ResourceUsage(3614076) > ResourceQuota(0)\n",
      "CatBoost is using more CPU RAM (3.04GiB) than the limit (2GiB)\n",
      "Resource CPU RAM: functionWithResourceUsage.ResourceUsage(100391) > ResourceQuota(0)\n",
      "Resource CPU RAM: functionWithResourceUsage.ResourceUsage(200782) > ResourceQuota(0)\n",
      "Resource CPU RAM: functionWithResourceUsage.ResourceUsage(200782) > ResourceQuota(0)\n",
      "Resource CPU RAM: functionWithResourceUsage.ResourceUsage(200782) > ResourceQuota(0)\n",
      "Resource CPU RAM: functionWithResourceUsage.ResourceUsage(100391) > ResourceQuota(0)\n",
      "Resource CPU RAM: functionWithResourceUsage.ResourceUsage(200782) > ResourceQuota(0)\n",
      "Resource CPU RAM: functionWithResourceUsage.ResourceUsage(200782) > ResourceQuota(0)\n",
      "Resource CPU RAM: functionWithResourceUsage.ResourceUsage(100391) > ResourceQuota(0)\n",
      "Resource CPU RAM: functionWithResourceUsage.ResourceUsage(100391) > ResourceQuota(0)\n",
      "Resource CPU RAM: functionWithResourceUsage.ResourceUsage(100391) > ResourceQuota(0)\n",
      "Resource CPU RAM: functionWithResourceUsage.ResourceUsage(200782) > ResourceQuota(0)\n",
      "Resource CPU RAM: functionWithResourceUsage.ResourceUsage(200782) > ResourceQuota(0)\n",
      "Resource CPU RAM: functionWithResourceUsage.ResourceUsage(100391) > ResourceQuota(0)\n",
      "Resource CPU RAM: functionWithResourceUsage.ResourceUsage(100391) > ResourceQuota(0)\n",
      "Resource CPU RAM: functionWithResourceUsage.ResourceUsage(100391) > ResourceQuota(0)\n",
      "Resource CPU RAM: functionWithResourceUsage.ResourceUsage(200782) > ResourceQuota(0)\n",
      "Resource CPU RAM: functionWithResourceUsage.ResourceUsage(200782) > ResourceQuota(0)\n",
      "Resource CPU RAM: functionWithResourceUsage.ResourceUsage(100391) > ResourceQuota(0)\n",
      "Resource CPU RAM: functionWithResourceUsage.ResourceUsage(100391) > ResourceQuota(0)\n",
      "Resource CPU RAM: functionWithResourceUsage.ResourceUsage(100391) > ResourceQuota(0)\n",
      "Resource CPU RAM: functionWithResourceUsage.ResourceUsage(200782) > ResourceQuota(0)\n",
      "Resource CPU RAM: functionWithResourceUsage.ResourceUsage(100391) > ResourceQuota(0)\n",
      "Resource CPU RAM: functionWithResourceUsage.ResourceUsage(100391) > ResourceQuota(0)\n",
      "Resource CPU RAM: functionWithResourceUsage.ResourceUsage(100391) > ResourceQuota(0)\n",
      "Resource CPU RAM: functionWithResourceUsage.ResourceUsage(200782) > ResourceQuota(0)\n",
      "Resource CPU RAM: functionWithResourceUsage.ResourceUsage(100391) > ResourceQuota(0)\n",
      "Resource CPU RAM: functionWithResourceUsage.ResourceUsage(100391) > ResourceQuota(0)\n",
      "Resource CPU RAM: functionWithResourceUsage.ResourceUsage(100391) > ResourceQuota(0)\n",
      "Resource CPU RAM: functionWithResourceUsage.ResourceUsage(200782) > ResourceQuota(0)\n",
      "Resource CPU RAM: functionWithResourceUsage.ResourceUsage(100391) > ResourceQuota(0)\n",
      "Resource CPU RAM: functionWithResourceUsage.ResourceUsage(100391) > ResourceQuota(0)\n",
      "Resource CPU RAM: functionWithResourceUsage.ResourceUsage(100391) > ResourceQuota(0)\n",
      "Resource CPU RAM: functionWithResourceUsage.ResourceUsage(100391) > ResourceQuota(0)\n",
      "Resource CPU RAM: functionWithResourceUsage.ResourceUsage(100391) > ResourceQuota(0)\n",
      "Resource CPU RAM: functionWithResourceUsage.ResourceUsage(100391) > ResourceQuota(0)\n",
      "Resource CPU RAM: functionWithResourceUsage.ResourceUsage(100391) > ResourceQuota(0)\n",
      "Resource CPU RAM: functionWithResourceUsage.ResourceUsage(100391) > ResourceQuota(0)\n",
      "Resource CPU RAM: functionWithResourceUsage.ResourceUsage(100391) > ResourceQuota(0)\n",
      "Resource CPU RAM: functionWithResourceUsage.ResourceUsage(100391) > ResourceQuota(0)\n",
      "Resource CPU RAM: functionWithResourceUsage.ResourceUsage(100391) > ResourceQuota(0)\n",
      "Resource CPU RAM: functionWithResourceUsage.ResourceUsage(200782) > ResourceQuota(0)\n",
      "Resource CPU RAM: functionWithResourceUsage.ResourceUsage(200782) > ResourceQuota(0)\n",
      "Resource CPU RAM: functionWithResourceUsage.ResourceUsage(100391) > ResourceQuota(0)\n",
      "Resource CPU RAM: functionWithResourceUsage.ResourceUsage(100391) > ResourceQuota(0)\n",
      "Resource CPU RAM: functionWithResourceUsage.ResourceUsage(401564) > ResourceQuota(0)\n",
      "Resource CPU RAM: functionWithResourceUsage.ResourceUsage(401564) > ResourceQuota(0)\n",
      "Resource CPU RAM: functionWithResourceUsage.ResourceUsage(401564) > ResourceQuota(0)\n",
      "Resource CPU RAM: functionWithResourceUsage.ResourceUsage(401564) > ResourceQuota(0)\n",
      "Resource CPU RAM: functionWithResourceUsage.ResourceUsage(100391) > ResourceQuota(0)\n",
      "Resource CPU RAM: functionWithResourceUsage.ResourceUsage(100391) > ResourceQuota(0)\n",
      "Resource CPU RAM: functionWithResourceUsage.ResourceUsage(100391) > ResourceQuota(0)\n"
     ]
    },
    {
     "name": "stdout",
     "output_type": "stream",
     "text": [
      "0:\tlearn: 0.6911580\ttest: 0.6912120\tbest: 0.6912120 (0)\ttotal: 378ms\tremaining: 22m 47s\n",
      "100:\tlearn: 0.6611166\ttest: 0.6661091\tbest: 0.6661091 (100)\ttotal: 1m 22s\tremaining: 47m 55s\n",
      "200:\tlearn: 0.6542939\ttest: 0.6627736\tbest: 0.6627736 (200)\ttotal: 2m 47s\tremaining: 47m 27s\n",
      "300:\tlearn: 0.6465254\ttest: 0.6581029\tbest: 0.6580791 (299)\ttotal: 4m 22s\tremaining: 48m 16s\n",
      "400:\tlearn: 0.6405370\ttest: 0.6564741\tbest: 0.6564632 (396)\ttotal: 6m 45s\tremaining: 54m 20s\n",
      "500:\tlearn: 0.6377637\ttest: 0.6564283\tbest: 0.6562905 (475)\ttotal: 9m\tremaining: 56m 15s\n",
      "Stopped by overfitting detector  (35 iterations wait)\n",
      "\n",
      "bestTest = 0.6562904848\n",
      "bestIteration = 475\n",
      "\n",
      "Shrink model to first 476 iterations.\n"
     ]
    },
    {
     "name": "stderr",
     "output_type": "stream",
     "text": [
      "CatBoost is using more CPU RAM (2.21GiB) than the limit (2GiB)\n",
      "Resource CPU RAM: functionWithResourceUsage.ResourceUsage(32572608) > ResourceQuota(0)\n",
      "Resource CPU RAM: functionWithResourceUsage.ResourceUsage(32572608) > ResourceQuota(0)\n",
      "Resource CPU RAM: functionWithResourceUsage.ResourceUsage(32572608) > ResourceQuota(0)\n",
      "Resource CPU RAM: functionWithResourceUsage.ResourceUsage(32572608) > ResourceQuota(0)\n",
      "Resource CPU RAM: functionWithResourceUsage.ResourceUsage(32572608) > ResourceQuota(0)\n",
      "Resource CPU RAM: functionWithResourceUsage.ResourceUsage(32572608) > ResourceQuota(0)\n",
      "Resource CPU RAM: functionWithResourceUsage.ResourceUsage(32572608) > ResourceQuota(0)\n",
      "Resource CPU RAM: functionWithResourceUsage.ResourceUsage(32572608) > ResourceQuota(0)\n",
      "Resource CPU RAM: functionWithResourceUsage.ResourceUsage(32572608) > ResourceQuota(0)\n",
      "Resource CPU RAM: functionWithResourceUsage.ResourceUsage(32572608) > ResourceQuota(0)\n",
      "Resource CPU RAM: functionWithResourceUsage.ResourceUsage(32572608) > ResourceQuota(0)\n",
      "Resource CPU RAM: functionWithResourceUsage.ResourceUsage(32572608) > ResourceQuota(0)\n",
      "Resource CPU RAM: functionWithResourceUsage.ResourceUsage(32572608) > ResourceQuota(0)\n",
      "Resource CPU RAM: functionWithResourceUsage.ResourceUsage(32572608) > ResourceQuota(0)\n",
      "Resource CPU RAM: functionWithResourceUsage.ResourceUsage(32572608) > ResourceQuota(0)\n",
      "Resource CPU RAM: functionWithResourceUsage.ResourceUsage(32572608) > ResourceQuota(0)\n",
      "Resource CPU RAM: functionWithResourceUsage.ResourceUsage(32572608) > ResourceQuota(0)\n",
      "Resource CPU RAM: functionWithResourceUsage.ResourceUsage(32572608) > ResourceQuota(0)\n",
      "Resource CPU RAM: functionWithResourceUsage.ResourceUsage(32572608) > ResourceQuota(0)\n",
      "Resource CPU RAM: functionWithResourceUsage.ResourceUsage(32572608) > ResourceQuota(0)\n",
      "Resource CPU RAM: functionWithResourceUsage.ResourceUsage(32572608) > ResourceQuota(0)\n",
      "Resource CPU RAM: functionWithResourceUsage.ResourceUsage(32572608) > ResourceQuota(0)\n",
      "Resource CPU RAM: functionWithResourceUsage.ResourceUsage(32572608) > ResourceQuota(0)\n",
      "Resource CPU RAM: functionWithResourceUsage.ResourceUsage(32572608) > ResourceQuota(0)\n",
      "Resource CPU RAM: functionWithResourceUsage.ResourceUsage(32572608) > ResourceQuota(0)\n",
      "Resource CPU RAM: functionWithResourceUsage.ResourceUsage(32572608) > ResourceQuota(0)\n",
      "Resource CPU RAM: functionWithResourceUsage.ResourceUsage(32572608) > ResourceQuota(0)\n",
      "Resource CPU RAM: functionWithResourceUsage.ResourceUsage(32572608) > ResourceQuota(0)\n",
      "Resource CPU RAM: functionWithResourceUsage.ResourceUsage(32572608) > ResourceQuota(0)\n",
      "Resource CPU RAM: functionWithResourceUsage.ResourceUsage(32572608) > ResourceQuota(0)\n",
      "Resource CPU RAM: functionWithResourceUsage.ResourceUsage(32572608) > ResourceQuota(0)\n",
      "Resource CPU RAM: functionWithResourceUsage.ResourceUsage(32572608) > ResourceQuota(0)\n",
      "Resource CPU RAM: functionWithResourceUsage.ResourceUsage(32572608) > ResourceQuota(0)\n",
      "Resource CPU RAM: functionWithResourceUsage.ResourceUsage(32572608) > ResourceQuota(0)\n",
      "Resource CPU RAM: functionWithResourceUsage.ResourceUsage(32572608) > ResourceQuota(0)\n",
      "Resource CPU RAM: functionWithResourceUsage.ResourceUsage(32572608) > ResourceQuota(0)\n",
      "Resource CPU RAM: functionWithResourceUsage.ResourceUsage(32572608) > ResourceQuota(0)\n",
      "Resource CPU RAM: functionWithResourceUsage.ResourceUsage(32572608) > ResourceQuota(0)\n",
      "Resource CPU RAM: functionWithResourceUsage.ResourceUsage(32572608) > ResourceQuota(0)\n",
      "Resource CPU RAM: functionWithResourceUsage.ResourceUsage(32572608) > ResourceQuota(0)\n",
      "Resource CPU RAM: functionWithResourceUsage.ResourceUsage(32572608) > ResourceQuota(0)\n",
      "Resource CPU RAM: functionWithResourceUsage.ResourceUsage(32572608) > ResourceQuota(0)\n",
      "Resource CPU RAM: functionWithResourceUsage.ResourceUsage(32572608) > ResourceQuota(0)\n",
      "Resource CPU RAM: functionWithResourceUsage.ResourceUsage(32572608) > ResourceQuota(0)\n",
      "Resource CPU RAM: functionWithResourceUsage.ResourceUsage(32572608) > ResourceQuota(0)\n",
      "Resource CPU RAM: functionWithResourceUsage.ResourceUsage(32572608) > ResourceQuota(0)\n",
      "Resource CPU RAM: functionWithResourceUsage.ResourceUsage(32572608) > ResourceQuota(0)\n",
      "Resource CPU RAM: functionWithResourceUsage.ResourceUsage(32572608) > ResourceQuota(0)\n",
      "Resource CPU RAM: functionWithResourceUsage.ResourceUsage(32572608) > ResourceQuota(0)\n",
      "Resource CPU RAM: functionWithResourceUsage.ResourceUsage(32572608) > ResourceQuota(0)\n",
      "Resource CPU RAM: functionWithResourceUsage.ResourceUsage(32572608) > ResourceQuota(0)\n",
      "Resource CPU RAM: functionWithResourceUsage.ResourceUsage(32572608) > ResourceQuota(0)\n",
      "Resource CPU RAM: functionWithResourceUsage.ResourceUsage(32572608) > ResourceQuota(0)\n",
      "Resource CPU RAM: functionWithResourceUsage.ResourceUsage(32572608) > ResourceQuota(0)\n",
      "Resource CPU RAM: functionWithResourceUsage.ResourceUsage(32572608) > ResourceQuota(0)\n",
      "Resource CPU RAM: functionWithResourceUsage.ResourceUsage(32572608) > ResourceQuota(0)\n",
      "Resource CPU RAM: functionWithResourceUsage.ResourceUsage(32572608) > ResourceQuota(0)\n",
      "Resource CPU RAM: functionWithResourceUsage.ResourceUsage(32572608) > ResourceQuota(0)\n",
      "Resource CPU RAM: functionWithResourceUsage.ResourceUsage(32572608) > ResourceQuota(0)\n",
      "Resource CPU RAM: functionWithResourceUsage.ResourceUsage(32572608) > ResourceQuota(0)\n",
      "Resource CPU RAM: functionWithResourceUsage.ResourceUsage(32572608) > ResourceQuota(0)\n",
      "Resource CPU RAM: functionWithResourceUsage.ResourceUsage(32572608) > ResourceQuota(0)\n",
      "Resource CPU RAM: functionWithResourceUsage.ResourceUsage(32572608) > ResourceQuota(0)\n",
      "Resource CPU RAM: functionWithResourceUsage.ResourceUsage(32572608) > ResourceQuota(0)\n",
      "Resource CPU RAM: functionWithResourceUsage.ResourceUsage(32572608) > ResourceQuota(0)\n",
      "Resource CPU RAM: functionWithResourceUsage.ResourceUsage(32572608) > ResourceQuota(0)\n",
      "Resource CPU RAM: functionWithResourceUsage.ResourceUsage(32572608) > ResourceQuota(0)\n",
      "Resource CPU RAM: functionWithResourceUsage.ResourceUsage(32572608) > ResourceQuota(0)\n",
      "Resource CPU RAM: functionWithResourceUsage.ResourceUsage(32572608) > ResourceQuota(0)\n",
      "Resource CPU RAM: functionWithResourceUsage.ResourceUsage(32572608) > ResourceQuota(0)\n",
      "Resource CPU RAM: functionWithResourceUsage.ResourceUsage(32572608) > ResourceQuota(0)\n",
      "Resource CPU RAM: functionWithResourceUsage.ResourceUsage(32572608) > ResourceQuota(0)\n",
      "Resource CPU RAM: functionWithResourceUsage.ResourceUsage(32572608) > ResourceQuota(0)\n",
      "Resource CPU RAM: functionWithResourceUsage.ResourceUsage(32572608) > ResourceQuota(0)\n",
      "Resource CPU RAM: functionWithResourceUsage.ResourceUsage(32572608) > ResourceQuota(0)\n",
      "Resource CPU RAM: functionWithResourceUsage.ResourceUsage(32572608) > ResourceQuota(0)\n",
      "Resource CPU RAM: functionWithResourceUsage.ResourceUsage(32572608) > ResourceQuota(0)\n",
      "Resource CPU RAM: functionWithResourceUsage.ResourceUsage(32572608) > ResourceQuota(0)\n",
      "Resource CPU RAM: functionWithResourceUsage.ResourceUsage(32572608) > ResourceQuota(0)\n",
      "Resource CPU RAM: functionWithResourceUsage.ResourceUsage(32572608) > ResourceQuota(0)\n",
      "Resource CPU RAM: functionWithResourceUsage.ResourceUsage(32572608) > ResourceQuota(0)\n",
      "Resource CPU RAM: functionWithResourceUsage.ResourceUsage(32572608) > ResourceQuota(0)\n",
      "Resource CPU RAM: functionWithResourceUsage.ResourceUsage(32572608) > ResourceQuota(0)\n",
      "Resource CPU RAM: functionWithResourceUsage.ResourceUsage(32572608) > ResourceQuota(0)\n",
      "Resource CPU RAM: functionWithResourceUsage.ResourceUsage(32572608) > ResourceQuota(0)\n",
      "Resource CPU RAM: functionWithResourceUsage.ResourceUsage(32572608) > ResourceQuota(0)\n",
      "Resource CPU RAM: functionWithResourceUsage.ResourceUsage(32572608) > ResourceQuota(0)\n",
      "Resource CPU RAM: functionWithResourceUsage.ResourceUsage(32572608) > ResourceQuota(0)\n",
      "Resource CPU RAM: functionWithResourceUsage.ResourceUsage(32572608) > ResourceQuota(0)\n",
      "Resource CPU RAM: functionWithResourceUsage.ResourceUsage(32572608) > ResourceQuota(0)\n",
      "Resource CPU RAM: functionWithResourceUsage.ResourceUsage(32572608) > ResourceQuota(0)\n",
      "Resource CPU RAM: functionWithResourceUsage.ResourceUsage(32572608) > ResourceQuota(0)\n",
      "Resource CPU RAM: functionWithResourceUsage.ResourceUsage(32572608) > ResourceQuota(0)\n",
      "Resource CPU RAM: functionWithResourceUsage.ResourceUsage(32572608) > ResourceQuota(0)\n",
      "Resource CPU RAM: functionWithResourceUsage.ResourceUsage(32572608) > ResourceQuota(0)\n",
      "Resource CPU RAM: functionWithResourceUsage.ResourceUsage(32572608) > ResourceQuota(0)\n",
      "Resource CPU RAM: functionWithResourceUsage.ResourceUsage(32572608) > ResourceQuota(0)\n",
      "Resource CPU RAM: functionWithResourceUsage.ResourceUsage(32572608) > ResourceQuota(0)\n",
      "Resource CPU RAM: functionWithResourceUsage.ResourceUsage(32572608) > ResourceQuota(0)\n",
      "Resource CPU RAM: functionWithResourceUsage.ResourceUsage(32572608) > ResourceQuota(0)\n",
      "Resource CPU RAM: functionWithResourceUsage.ResourceUsage(32572608) > ResourceQuota(0)\n",
      "Resource CPU RAM: functionWithResourceUsage.ResourceUsage(32572608) > ResourceQuota(0)\n",
      "Resource CPU RAM: functionWithResourceUsage.ResourceUsage(32572608) > ResourceQuota(0)\n",
      "Resource CPU RAM: functionWithResourceUsage.ResourceUsage(32572608) > ResourceQuota(0)\n",
      "Resource CPU RAM: functionWithResourceUsage.ResourceUsage(32572608) > ResourceQuota(0)\n",
      "Resource CPU RAM: functionWithResourceUsage.ResourceUsage(32572608) > ResourceQuota(0)\n",
      "Resource CPU RAM: functionWithResourceUsage.ResourceUsage(32572608) > ResourceQuota(0)\n",
      "Resource CPU RAM: functionWithResourceUsage.ResourceUsage(32572608) > ResourceQuota(0)\n",
      "Resource CPU RAM: functionWithResourceUsage.ResourceUsage(32572608) > ResourceQuota(0)\n",
      "Resource CPU RAM: functionWithResourceUsage.ResourceUsage(32572608) > ResourceQuota(0)\n",
      "Resource CPU RAM: functionWithResourceUsage.ResourceUsage(32572608) > ResourceQuota(0)\n",
      "Resource CPU RAM: functionWithResourceUsage.ResourceUsage(32572608) > ResourceQuota(0)\n",
      "Resource CPU RAM: functionWithResourceUsage.ResourceUsage(32572608) > ResourceQuota(0)\n",
      "Resource CPU RAM: functionWithResourceUsage.ResourceUsage(32572608) > ResourceQuota(0)\n",
      "Resource CPU RAM: functionWithResourceUsage.ResourceUsage(32572608) > ResourceQuota(0)\n",
      "Resource CPU RAM: functionWithResourceUsage.ResourceUsage(32572608) > ResourceQuota(0)\n",
      "Resource CPU RAM: functionWithResourceUsage.ResourceUsage(32572608) > ResourceQuota(0)\n",
      "Resource CPU RAM: functionWithResourceUsage.ResourceUsage(32572608) > ResourceQuota(0)\n",
      "Resource CPU RAM: functionWithResourceUsage.ResourceUsage(32572608) > ResourceQuota(0)\n",
      "Resource CPU RAM: functionWithResourceUsage.ResourceUsage(32572608) > ResourceQuota(0)\n",
      "Resource CPU RAM: functionWithResourceUsage.ResourceUsage(32572608) > ResourceQuota(0)\n",
      "Resource CPU RAM: functionWithResourceUsage.ResourceUsage(32572608) > ResourceQuota(0)\n",
      "Resource CPU RAM: functionWithResourceUsage.ResourceUsage(32572608) > ResourceQuota(0)\n",
      "Resource CPU RAM: functionWithResourceUsage.ResourceUsage(32572608) > ResourceQuota(0)\n",
      "Resource CPU RAM: functionWithResourceUsage.ResourceUsage(32572608) > ResourceQuota(0)\n",
      "Resource CPU RAM: functionWithResourceUsage.ResourceUsage(32572608) > ResourceQuota(0)\n",
      "Resource CPU RAM: functionWithResourceUsage.ResourceUsage(32572608) > ResourceQuota(0)\n",
      "Resource CPU RAM: functionWithResourceUsage.ResourceUsage(32572608) > ResourceQuota(0)\n",
      "Resource CPU RAM: functionWithResourceUsage.ResourceUsage(32572608) > ResourceQuota(0)\n",
      "Resource CPU RAM: functionWithResourceUsage.ResourceUsage(32572608) > ResourceQuota(0)\n",
      "Resource CPU RAM: functionWithResourceUsage.ResourceUsage(32572608) > ResourceQuota(0)\n",
      "Resource CPU RAM: functionWithResourceUsage.ResourceUsage(32572608) > ResourceQuota(0)\n",
      "Resource CPU RAM: functionWithResourceUsage.ResourceUsage(32572608) > ResourceQuota(0)\n",
      "Resource CPU RAM: functionWithResourceUsage.ResourceUsage(32572608) > ResourceQuota(0)\n",
      "Resource CPU RAM: functionWithResourceUsage.ResourceUsage(32572608) > ResourceQuota(0)\n",
      "Resource CPU RAM: functionWithResourceUsage.ResourceUsage(32572608) > ResourceQuota(0)\n",
      "Resource CPU RAM: functionWithResourceUsage.ResourceUsage(32572608) > ResourceQuota(0)\n",
      "Resource CPU RAM: functionWithResourceUsage.ResourceUsage(32572608) > ResourceQuota(0)\n",
      "Resource CPU RAM: functionWithResourceUsage.ResourceUsage(32572608) > ResourceQuota(0)\n",
      "Resource CPU RAM: functionWithResourceUsage.ResourceUsage(32572608) > ResourceQuota(0)\n",
      "Resource CPU RAM: functionWithResourceUsage.ResourceUsage(32572608) > ResourceQuota(0)\n",
      "Resource CPU RAM: functionWithResourceUsage.ResourceUsage(32572608) > ResourceQuota(0)\n",
      "Resource CPU RAM: functionWithResourceUsage.ResourceUsage(32572608) > ResourceQuota(0)\n",
      "Resource CPU RAM: functionWithResourceUsage.ResourceUsage(32572608) > ResourceQuota(0)\n",
      "Resource CPU RAM: functionWithResourceUsage.ResourceUsage(32572608) > ResourceQuota(0)\n",
      "Resource CPU RAM: functionWithResourceUsage.ResourceUsage(32572608) > ResourceQuota(0)\n",
      "Resource CPU RAM: functionWithResourceUsage.ResourceUsage(32572608) > ResourceQuota(0)\n",
      "Resource CPU RAM: functionWithResourceUsage.ResourceUsage(32572608) > ResourceQuota(0)\n",
      "Resource CPU RAM: functionWithResourceUsage.ResourceUsage(32572608) > ResourceQuota(0)\n",
      "Resource CPU RAM: functionWithResourceUsage.ResourceUsage(32572608) > ResourceQuota(0)\n",
      "Resource CPU RAM: functionWithResourceUsage.ResourceUsage(32572608) > ResourceQuota(0)\n",
      "Resource CPU RAM: functionWithResourceUsage.ResourceUsage(32572608) > ResourceQuota(0)\n",
      "Resource CPU RAM: functionWithResourceUsage.ResourceUsage(32572608) > ResourceQuota(0)\n",
      "Resource CPU RAM: functionWithResourceUsage.ResourceUsage(32572608) > ResourceQuota(0)\n",
      "Resource CPU RAM: functionWithResourceUsage.ResourceUsage(32572608) > ResourceQuota(0)\n",
      "Resource CPU RAM: functionWithResourceUsage.ResourceUsage(32572608) > ResourceQuota(0)\n",
      "Resource CPU RAM: functionWithResourceUsage.ResourceUsage(32572608) > ResourceQuota(0)\n",
      "Resource CPU RAM: functionWithResourceUsage.ResourceUsage(32572608) > ResourceQuota(0)\n",
      "Resource CPU RAM: functionWithResourceUsage.ResourceUsage(32572608) > ResourceQuota(0)\n",
      "Resource CPU RAM: functionWithResourceUsage.ResourceUsage(32572608) > ResourceQuota(0)\n",
      "Resource CPU RAM: functionWithResourceUsage.ResourceUsage(32572608) > ResourceQuota(0)\n",
      "Resource CPU RAM: functionWithResourceUsage.ResourceUsage(32572608) > ResourceQuota(0)\n",
      "Resource CPU RAM: functionWithResourceUsage.ResourceUsage(32572608) > ResourceQuota(0)\n",
      "Resource CPU RAM: functionWithResourceUsage.ResourceUsage(32572608) > ResourceQuota(0)\n",
      "Resource CPU RAM: functionWithResourceUsage.ResourceUsage(32572608) > ResourceQuota(0)\n",
      "Resource CPU RAM: functionWithResourceUsage.ResourceUsage(32572608) > ResourceQuota(0)\n",
      "Resource CPU RAM: functionWithResourceUsage.ResourceUsage(32572608) > ResourceQuota(0)\n",
      "Resource CPU RAM: functionWithResourceUsage.ResourceUsage(32572608) > ResourceQuota(0)\n",
      "Resource CPU RAM: functionWithResourceUsage.ResourceUsage(32572608) > ResourceQuota(0)\n",
      "Resource CPU RAM: functionWithResourceUsage.ResourceUsage(32572608) > ResourceQuota(0)\n",
      "Resource CPU RAM: functionWithResourceUsage.ResourceUsage(32572608) > ResourceQuota(0)\n",
      "Resource CPU RAM: functionWithResourceUsage.ResourceUsage(32572608) > ResourceQuota(0)\n",
      "Resource CPU RAM: functionWithResourceUsage.ResourceUsage(32572608) > ResourceQuota(0)\n",
      "Resource CPU RAM: functionWithResourceUsage.ResourceUsage(32572608) > ResourceQuota(0)\n",
      "Resource CPU RAM: functionWithResourceUsage.ResourceUsage(32572608) > ResourceQuota(0)\n",
      "Resource CPU RAM: functionWithResourceUsage.ResourceUsage(32572608) > ResourceQuota(0)\n",
      "Resource CPU RAM: functionWithResourceUsage.ResourceUsage(32572608) > ResourceQuota(0)\n",
      "Resource CPU RAM: functionWithResourceUsage.ResourceUsage(32572608) > ResourceQuota(0)\n",
      "Resource CPU RAM: functionWithResourceUsage.ResourceUsage(32572608) > ResourceQuota(0)\n",
      "Resource CPU RAM: functionWithResourceUsage.ResourceUsage(32572608) > ResourceQuota(0)\n",
      "Resource CPU RAM: functionWithResourceUsage.ResourceUsage(32572608) > ResourceQuota(0)\n",
      "Resource CPU RAM: functionWithResourceUsage.ResourceUsage(32572608) > ResourceQuota(0)\n",
      "Resource CPU RAM: functionWithResourceUsage.ResourceUsage(32572608) > ResourceQuota(0)\n",
      "Resource CPU RAM: functionWithResourceUsage.ResourceUsage(32572608) > ResourceQuota(0)\n",
      "Resource CPU RAM: functionWithResourceUsage.ResourceUsage(32572608) > ResourceQuota(0)\n",
      "Resource CPU RAM: functionWithResourceUsage.ResourceUsage(32572608) > ResourceQuota(0)\n",
      "Resource CPU RAM: functionWithResourceUsage.ResourceUsage(32572608) > ResourceQuota(0)\n",
      "Resource CPU RAM: functionWithResourceUsage.ResourceUsage(32572608) > ResourceQuota(0)\n",
      "Resource CPU RAM: functionWithResourceUsage.ResourceUsage(32572608) > ResourceQuota(0)\n",
      "Resource CPU RAM: functionWithResourceUsage.ResourceUsage(32572608) > ResourceQuota(0)\n",
      "Resource CPU RAM: functionWithResourceUsage.ResourceUsage(32572608) > ResourceQuota(0)\n",
      "Resource CPU RAM: functionWithResourceUsage.ResourceUsage(32572608) > ResourceQuota(0)\n",
      "Resource CPU RAM: functionWithResourceUsage.ResourceUsage(32572608) > ResourceQuota(0)\n",
      "Resource CPU RAM: functionWithResourceUsage.ResourceUsage(32572608) > ResourceQuota(0)\n",
      "Resource CPU RAM: functionWithResourceUsage.ResourceUsage(32572608) > ResourceQuota(0)\n",
      "Resource CPU RAM: functionWithResourceUsage.ResourceUsage(32572608) > ResourceQuota(0)\n",
      "Resource CPU RAM: functionWithResourceUsage.ResourceUsage(32572608) > ResourceQuota(0)\n",
      "Resource CPU RAM: functionWithResourceUsage.ResourceUsage(32572608) > ResourceQuota(0)\n",
      "Resource CPU RAM: functionWithResourceUsage.ResourceUsage(32572608) > ResourceQuota(0)\n",
      "Resource CPU RAM: functionWithResourceUsage.ResourceUsage(32572608) > ResourceQuota(0)\n",
      "Resource CPU RAM: functionWithResourceUsage.ResourceUsage(32572608) > ResourceQuota(0)\n",
      "Resource CPU RAM: functionWithResourceUsage.ResourceUsage(32572608) > ResourceQuota(0)\n",
      "Resource CPU RAM: functionWithResourceUsage.ResourceUsage(32572608) > ResourceQuota(0)\n",
      "Resource CPU RAM: functionWithResourceUsage.ResourceUsage(32572608) > ResourceQuota(0)\n",
      "Resource CPU RAM: functionWithResourceUsage.ResourceUsage(32572608) > ResourceQuota(0)\n",
      "Resource CPU RAM: functionWithResourceUsage.ResourceUsage(32572608) > ResourceQuota(0)\n",
      "Resource CPU RAM: functionWithResourceUsage.ResourceUsage(32572608) > ResourceQuota(0)\n",
      "Resource CPU RAM: functionWithResourceUsage.ResourceUsage(32572608) > ResourceQuota(0)\n",
      "Resource CPU RAM: functionWithResourceUsage.ResourceUsage(32572608) > ResourceQuota(0)\n",
      "Resource CPU RAM: functionWithResourceUsage.ResourceUsage(32572608) > ResourceQuota(0)\n",
      "Resource CPU RAM: functionWithResourceUsage.ResourceUsage(32572608) > ResourceQuota(0)\n",
      "Resource CPU RAM: functionWithResourceUsage.ResourceUsage(32572608) > ResourceQuota(0)\n",
      "Resource CPU RAM: functionWithResourceUsage.ResourceUsage(32572608) > ResourceQuota(0)\n",
      "Resource CPU RAM: functionWithResourceUsage.ResourceUsage(32572608) > ResourceQuota(0)\n",
      "Resource CPU RAM: functionWithResourceUsage.ResourceUsage(32572608) > ResourceQuota(0)\n",
      "Resource CPU RAM: functionWithResourceUsage.ResourceUsage(32572608) > ResourceQuota(0)\n",
      "Resource CPU RAM: functionWithResourceUsage.ResourceUsage(32572608) > ResourceQuota(0)\n",
      "Resource CPU RAM: functionWithResourceUsage.ResourceUsage(32572608) > ResourceQuota(0)\n",
      "Resource CPU RAM: functionWithResourceUsage.ResourceUsage(32572608) > ResourceQuota(0)\n",
      "Resource CPU RAM: functionWithResourceUsage.ResourceUsage(32572608) > ResourceQuota(0)\n",
      "Resource CPU RAM: functionWithResourceUsage.ResourceUsage(32572608) > ResourceQuota(0)\n",
      "Resource CPU RAM: functionWithResourceUsage.ResourceUsage(32572608) > ResourceQuota(0)\n",
      "Resource CPU RAM: functionWithResourceUsage.ResourceUsage(32572608) > ResourceQuota(0)\n",
      "Resource CPU RAM: functionWithResourceUsage.ResourceUsage(32572608) > ResourceQuota(0)\n",
      "Resource CPU RAM: functionWithResourceUsage.ResourceUsage(32572608) > ResourceQuota(0)\n",
      "Resource CPU RAM: functionWithResourceUsage.ResourceUsage(32572608) > ResourceQuota(0)\n",
      "Resource CPU RAM: functionWithResourceUsage.ResourceUsage(32572608) > ResourceQuota(0)\n",
      "Resource CPU RAM: functionWithResourceUsage.ResourceUsage(32572608) > ResourceQuota(0)\n",
      "Resource CPU RAM: functionWithResourceUsage.ResourceUsage(32572608) > ResourceQuota(0)\n",
      "Resource CPU RAM: functionWithResourceUsage.ResourceUsage(32572608) > ResourceQuota(0)\n",
      "Resource CPU RAM: functionWithResourceUsage.ResourceUsage(32572608) > ResourceQuota(0)\n",
      "Resource CPU RAM: functionWithResourceUsage.ResourceUsage(32572608) > ResourceQuota(0)\n",
      "Resource CPU RAM: functionWithResourceUsage.ResourceUsage(32572608) > ResourceQuota(0)\n",
      "Resource CPU RAM: functionWithResourceUsage.ResourceUsage(32572608) > ResourceQuota(0)\n",
      "Resource CPU RAM: functionWithResourceUsage.ResourceUsage(32572608) > ResourceQuota(0)\n",
      "Resource CPU RAM: functionWithResourceUsage.ResourceUsage(32572608) > ResourceQuota(0)\n",
      "Resource CPU RAM: functionWithResourceUsage.ResourceUsage(32572608) > ResourceQuota(0)\n",
      "Resource CPU RAM: functionWithResourceUsage.ResourceUsage(32572608) > ResourceQuota(0)\n",
      "Resource CPU RAM: functionWithResourceUsage.ResourceUsage(32572608) > ResourceQuota(0)\n",
      "Resource CPU RAM: functionWithResourceUsage.ResourceUsage(32572608) > ResourceQuota(0)\n",
      "Resource CPU RAM: functionWithResourceUsage.ResourceUsage(32572608) > ResourceQuota(0)\n",
      "Resource CPU RAM: functionWithResourceUsage.ResourceUsage(32572608) > ResourceQuota(0)\n",
      "Resource CPU RAM: functionWithResourceUsage.ResourceUsage(32572608) > ResourceQuota(0)\n",
      "Resource CPU RAM: functionWithResourceUsage.ResourceUsage(32572608) > ResourceQuota(0)\n",
      "Resource CPU RAM: functionWithResourceUsage.ResourceUsage(32572608) > ResourceQuota(0)\n",
      "Resource CPU RAM: functionWithResourceUsage.ResourceUsage(32572608) > ResourceQuota(0)\n",
      "Resource CPU RAM: functionWithResourceUsage.ResourceUsage(32572608) > ResourceQuota(0)\n",
      "Resource CPU RAM: functionWithResourceUsage.ResourceUsage(32572608) > ResourceQuota(0)\n",
      "Resource CPU RAM: functionWithResourceUsage.ResourceUsage(32572608) > ResourceQuota(0)\n",
      "Resource CPU RAM: functionWithResourceUsage.ResourceUsage(32572608) > ResourceQuota(0)\n",
      "Resource CPU RAM: functionWithResourceUsage.ResourceUsage(32572608) > ResourceQuota(0)\n",
      "Resource CPU RAM: functionWithResourceUsage.ResourceUsage(32572608) > ResourceQuota(0)\n",
      "Resource CPU RAM: functionWithResourceUsage.ResourceUsage(32572608) > ResourceQuota(0)\n",
      "Resource CPU RAM: functionWithResourceUsage.ResourceUsage(32572608) > ResourceQuota(0)\n",
      "Resource CPU RAM: functionWithResourceUsage.ResourceUsage(32572608) > ResourceQuota(0)\n",
      "Resource CPU RAM: functionWithResourceUsage.ResourceUsage(32572608) > ResourceQuota(0)\n",
      "Resource CPU RAM: functionWithResourceUsage.ResourceUsage(32572608) > ResourceQuota(0)\n",
      "Resource CPU RAM: functionWithResourceUsage.ResourceUsage(32572608) > ResourceQuota(0)\n",
      "Resource CPU RAM: functionWithResourceUsage.ResourceUsage(32572608) > ResourceQuota(0)\n",
      "Resource CPU RAM: functionWithResourceUsage.ResourceUsage(32572608) > ResourceQuota(0)\n",
      "Resource CPU RAM: functionWithResourceUsage.ResourceUsage(32572608) > ResourceQuota(0)\n",
      "Resource CPU RAM: functionWithResourceUsage.ResourceUsage(32572608) > ResourceQuota(0)\n",
      "Resource CPU RAM: functionWithResourceUsage.ResourceUsage(32572608) > ResourceQuota(0)\n",
      "Resource CPU RAM: functionWithResourceUsage.ResourceUsage(32572608) > ResourceQuota(0)\n",
      "Resource CPU RAM: functionWithResourceUsage.ResourceUsage(32572608) > ResourceQuota(0)\n",
      "Resource CPU RAM: functionWithResourceUsage.ResourceUsage(32572608) > ResourceQuota(0)\n",
      "Resource CPU RAM: functionWithResourceUsage.ResourceUsage(32572608) > ResourceQuota(0)\n",
      "Resource CPU RAM: functionWithResourceUsage.ResourceUsage(32572608) > ResourceQuota(0)\n",
      "Resource CPU RAM: functionWithResourceUsage.ResourceUsage(32572608) > ResourceQuota(0)\n",
      "Resource CPU RAM: functionWithResourceUsage.ResourceUsage(32572608) > ResourceQuota(0)\n",
      "Resource CPU RAM: functionWithResourceUsage.ResourceUsage(32572608) > ResourceQuota(0)\n",
      "Resource CPU RAM: functionWithResourceUsage.ResourceUsage(32572608) > ResourceQuota(0)\n",
      "Resource CPU RAM: functionWithResourceUsage.ResourceUsage(32572608) > ResourceQuota(0)\n",
      "Resource CPU RAM: functionWithResourceUsage.ResourceUsage(32572608) > ResourceQuota(0)\n",
      "Resource CPU RAM: functionWithResourceUsage.ResourceUsage(32572608) > ResourceQuota(0)\n",
      "Resource CPU RAM: functionWithResourceUsage.ResourceUsage(32572608) > ResourceQuota(0)\n",
      "Resource CPU RAM: functionWithResourceUsage.ResourceUsage(32572608) > ResourceQuota(0)\n",
      "Resource CPU RAM: functionWithResourceUsage.ResourceUsage(32572608) > ResourceQuota(0)\n",
      "Resource CPU RAM: functionWithResourceUsage.ResourceUsage(32572608) > ResourceQuota(0)\n",
      "Resource CPU RAM: functionWithResourceUsage.ResourceUsage(32572608) > ResourceQuota(0)\n",
      "Resource CPU RAM: functionWithResourceUsage.ResourceUsage(32572608) > ResourceQuota(0)\n",
      "Resource CPU RAM: functionWithResourceUsage.ResourceUsage(32572608) > ResourceQuota(0)\n",
      "Resource CPU RAM: functionWithResourceUsage.ResourceUsage(32572608) > ResourceQuota(0)\n",
      "Resource CPU RAM: functionWithResourceUsage.ResourceUsage(32572608) > ResourceQuota(0)\n",
      "Resource CPU RAM: functionWithResourceUsage.ResourceUsage(32572608) > ResourceQuota(0)\n",
      "Resource CPU RAM: functionWithResourceUsage.ResourceUsage(32572608) > ResourceQuota(0)\n",
      "Resource CPU RAM: functionWithResourceUsage.ResourceUsage(32572608) > ResourceQuota(0)\n",
      "Resource CPU RAM: functionWithResourceUsage.ResourceUsage(32572608) > ResourceQuota(0)\n",
      "Resource CPU RAM: functionWithResourceUsage.ResourceUsage(32572608) > ResourceQuota(0)\n",
      "Resource CPU RAM: functionWithResourceUsage.ResourceUsage(32572608) > ResourceQuota(0)\n",
      "Resource CPU RAM: functionWithResourceUsage.ResourceUsage(32572608) > ResourceQuota(0)\n",
      "Resource CPU RAM: functionWithResourceUsage.ResourceUsage(32572608) > ResourceQuota(0)\n",
      "Resource CPU RAM: functionWithResourceUsage.ResourceUsage(32572608) > ResourceQuota(0)\n",
      "Resource CPU RAM: functionWithResourceUsage.ResourceUsage(32572608) > ResourceQuota(0)\n",
      "Resource CPU RAM: functionWithResourceUsage.ResourceUsage(32572608) > ResourceQuota(0)\n",
      "Resource CPU RAM: functionWithResourceUsage.ResourceUsage(32572608) > ResourceQuota(0)\n",
      "Resource CPU RAM: functionWithResourceUsage.ResourceUsage(32572608) > ResourceQuota(0)\n",
      "Resource CPU RAM: functionWithResourceUsage.ResourceUsage(32572608) > ResourceQuota(0)\n",
      "Resource CPU RAM: functionWithResourceUsage.ResourceUsage(32572608) > ResourceQuota(0)\n",
      "Resource CPU RAM: functionWithResourceUsage.ResourceUsage(32572608) > ResourceQuota(0)\n",
      "Resource CPU RAM: functionWithResourceUsage.ResourceUsage(32572608) > ResourceQuota(0)\n",
      "Resource CPU RAM: functionWithResourceUsage.ResourceUsage(32572608) > ResourceQuota(0)\n",
      "Resource CPU RAM: functionWithResourceUsage.ResourceUsage(32572608) > ResourceQuota(0)\n",
      "Resource CPU RAM: functionWithResourceUsage.ResourceUsage(32572608) > ResourceQuota(0)\n",
      "Resource CPU RAM: functionWithResourceUsage.ResourceUsage(32572608) > ResourceQuota(0)\n",
      "Resource CPU RAM: functionWithResourceUsage.ResourceUsage(32572608) > ResourceQuota(0)\n",
      "Resource CPU RAM: functionWithResourceUsage.ResourceUsage(32572608) > ResourceQuota(0)\n",
      "Resource CPU RAM: functionWithResourceUsage.ResourceUsage(32572608) > ResourceQuota(0)\n",
      "Resource CPU RAM: functionWithResourceUsage.ResourceUsage(32572608) > ResourceQuota(0)\n",
      "Resource CPU RAM: functionWithResourceUsage.ResourceUsage(32572608) > ResourceQuota(0)\n",
      "Resource CPU RAM: functionWithResourceUsage.ResourceUsage(32572608) > ResourceQuota(0)\n",
      "Resource CPU RAM: functionWithResourceUsage.ResourceUsage(32572608) > ResourceQuota(0)\n",
      "Resource CPU RAM: functionWithResourceUsage.ResourceUsage(32572608) > ResourceQuota(0)\n",
      "Resource CPU RAM: functionWithResourceUsage.ResourceUsage(32572608) > ResourceQuota(0)\n",
      "Resource CPU RAM: functionWithResourceUsage.ResourceUsage(32572608) > ResourceQuota(0)\n",
      "Resource CPU RAM: functionWithResourceUsage.ResourceUsage(32572608) > ResourceQuota(0)\n",
      "Resource CPU RAM: functionWithResourceUsage.ResourceUsage(32572608) > ResourceQuota(0)\n",
      "Resource CPU RAM: functionWithResourceUsage.ResourceUsage(32572608) > ResourceQuota(0)\n",
      "Resource CPU RAM: functionWithResourceUsage.ResourceUsage(32572608) > ResourceQuota(0)\n",
      "Resource CPU RAM: functionWithResourceUsage.ResourceUsage(32572608) > ResourceQuota(0)\n",
      "Resource CPU RAM: functionWithResourceUsage.ResourceUsage(32572608) > ResourceQuota(0)\n",
      "Resource CPU RAM: functionWithResourceUsage.ResourceUsage(32572608) > ResourceQuota(0)\n",
      "Resource CPU RAM: functionWithResourceUsage.ResourceUsage(32572608) > ResourceQuota(0)\n",
      "Resource CPU RAM: functionWithResourceUsage.ResourceUsage(32572608) > ResourceQuota(0)\n",
      "Resource CPU RAM: functionWithResourceUsage.ResourceUsage(32572608) > ResourceQuota(0)\n",
      "Resource CPU RAM: functionWithResourceUsage.ResourceUsage(32572608) > ResourceQuota(0)\n",
      "Resource CPU RAM: functionWithResourceUsage.ResourceUsage(32572608) > ResourceQuota(0)\n",
      "Resource CPU RAM: functionWithResourceUsage.ResourceUsage(32572608) > ResourceQuota(0)\n",
      "Resource CPU RAM: functionWithResourceUsage.ResourceUsage(32572608) > ResourceQuota(0)\n",
      "Resource CPU RAM: functionWithResourceUsage.ResourceUsage(32572608) > ResourceQuota(0)\n",
      "Resource CPU RAM: functionWithResourceUsage.ResourceUsage(32572608) > ResourceQuota(0)\n",
      "Resource CPU RAM: functionWithResourceUsage.ResourceUsage(32572608) > ResourceQuota(0)\n",
      "Resource CPU RAM: functionWithResourceUsage.ResourceUsage(32572608) > ResourceQuota(0)\n",
      "Resource CPU RAM: functionWithResourceUsage.ResourceUsage(32572608) > ResourceQuota(0)\n",
      "Resource CPU RAM: functionWithResourceUsage.ResourceUsage(32572608) > ResourceQuota(0)\n",
      "Resource CPU RAM: functionWithResourceUsage.ResourceUsage(32572608) > ResourceQuota(0)\n",
      "Resource CPU RAM: functionWithResourceUsage.ResourceUsage(32572608) > ResourceQuota(0)\n",
      "Resource CPU RAM: functionWithResourceUsage.ResourceUsage(32572608) > ResourceQuota(0)\n",
      "Resource CPU RAM: functionWithResourceUsage.ResourceUsage(32572608) > ResourceQuota(0)\n",
      "Resource CPU RAM: functionWithResourceUsage.ResourceUsage(32572608) > ResourceQuota(0)\n",
      "Resource CPU RAM: functionWithResourceUsage.ResourceUsage(32572608) > ResourceQuota(0)\n",
      "Resource CPU RAM: functionWithResourceUsage.ResourceUsage(32572608) > ResourceQuota(0)\n",
      "Resource CPU RAM: functionWithResourceUsage.ResourceUsage(32572608) > ResourceQuota(0)\n",
      "Resource CPU RAM: functionWithResourceUsage.ResourceUsage(32572608) > ResourceQuota(0)\n",
      "Resource CPU RAM: functionWithResourceUsage.ResourceUsage(32572608) > ResourceQuota(0)\n",
      "Resource CPU RAM: functionWithResourceUsage.ResourceUsage(32572608) > ResourceQuota(0)\n",
      "Resource CPU RAM: functionWithResourceUsage.ResourceUsage(32572608) > ResourceQuota(0)\n",
      "Resource CPU RAM: functionWithResourceUsage.ResourceUsage(32572608) > ResourceQuota(0)\n",
      "Resource CPU RAM: functionWithResourceUsage.ResourceUsage(32572608) > ResourceQuota(0)\n",
      "Resource CPU RAM: functionWithResourceUsage.ResourceUsage(32572608) > ResourceQuota(0)\n",
      "Resource CPU RAM: functionWithResourceUsage.ResourceUsage(32572608) > ResourceQuota(0)\n",
      "Resource CPU RAM: functionWithResourceUsage.ResourceUsage(32572608) > ResourceQuota(0)\n",
      "Resource CPU RAM: functionWithResourceUsage.ResourceUsage(32572608) > ResourceQuota(0)\n",
      "Resource CPU RAM: functionWithResourceUsage.ResourceUsage(32572608) > ResourceQuota(0)\n",
      "Resource CPU RAM: functionWithResourceUsage.ResourceUsage(32572608) > ResourceQuota(0)\n",
      "Resource CPU RAM: functionWithResourceUsage.ResourceUsage(32572608) > ResourceQuota(0)\n",
      "Resource CPU RAM: functionWithResourceUsage.ResourceUsage(32572608) > ResourceQuota(0)\n",
      "Resource CPU RAM: functionWithResourceUsage.ResourceUsage(32572608) > ResourceQuota(0)\n",
      "Resource CPU RAM: functionWithResourceUsage.ResourceUsage(32572608) > ResourceQuota(0)\n",
      "Resource CPU RAM: functionWithResourceUsage.ResourceUsage(32572608) > ResourceQuota(0)\n",
      "Resource CPU RAM: functionWithResourceUsage.ResourceUsage(32572608) > ResourceQuota(0)\n",
      "Resource CPU RAM: functionWithResourceUsage.ResourceUsage(32572608) > ResourceQuota(0)\n",
      "Resource CPU RAM: functionWithResourceUsage.ResourceUsage(32572608) > ResourceQuota(0)\n",
      "Resource CPU RAM: functionWithResourceUsage.ResourceUsage(32572608) > ResourceQuota(0)\n",
      "Resource CPU RAM: functionWithResourceUsage.ResourceUsage(32572608) > ResourceQuota(0)\n",
      "Resource CPU RAM: functionWithResourceUsage.ResourceUsage(32572608) > ResourceQuota(0)\n",
      "Resource CPU RAM: functionWithResourceUsage.ResourceUsage(32572608) > ResourceQuota(0)\n",
      "Resource CPU RAM: functionWithResourceUsage.ResourceUsage(32572608) > ResourceQuota(0)\n",
      "Resource CPU RAM: functionWithResourceUsage.ResourceUsage(32572608) > ResourceQuota(0)\n",
      "Resource CPU RAM: functionWithResourceUsage.ResourceUsage(32572608) > ResourceQuota(0)\n",
      "Resource CPU RAM: functionWithResourceUsage.ResourceUsage(32572608) > ResourceQuota(0)\n",
      "Resource CPU RAM: functionWithResourceUsage.ResourceUsage(32572608) > ResourceQuota(0)\n",
      "Resource CPU RAM: functionWithResourceUsage.ResourceUsage(32572608) > ResourceQuota(0)\n",
      "Resource CPU RAM: functionWithResourceUsage.ResourceUsage(32572608) > ResourceQuota(0)\n",
      "Resource CPU RAM: functionWithResourceUsage.ResourceUsage(32572608) > ResourceQuota(0)\n",
      "Resource CPU RAM: functionWithResourceUsage.ResourceUsage(32572608) > ResourceQuota(0)\n",
      "Resource CPU RAM: functionWithResourceUsage.ResourceUsage(32572608) > ResourceQuota(0)\n",
      "Resource CPU RAM: functionWithResourceUsage.ResourceUsage(32572608) > ResourceQuota(0)\n",
      "Resource CPU RAM: functionWithResourceUsage.ResourceUsage(32572608) > ResourceQuota(0)\n",
      "Resource CPU RAM: functionWithResourceUsage.ResourceUsage(32572608) > ResourceQuota(0)\n",
      "Resource CPU RAM: functionWithResourceUsage.ResourceUsage(32572608) > ResourceQuota(0)\n",
      "Resource CPU RAM: functionWithResourceUsage.ResourceUsage(32572608) > ResourceQuota(0)\n",
      "Resource CPU RAM: functionWithResourceUsage.ResourceUsage(32572608) > ResourceQuota(0)\n",
      "Resource CPU RAM: functionWithResourceUsage.ResourceUsage(32572608) > ResourceQuota(0)\n",
      "Resource CPU RAM: functionWithResourceUsage.ResourceUsage(32572608) > ResourceQuota(0)\n",
      "Resource CPU RAM: functionWithResourceUsage.ResourceUsage(32572608) > ResourceQuota(0)\n",
      "Resource CPU RAM: functionWithResourceUsage.ResourceUsage(32572608) > ResourceQuota(0)\n",
      "Resource CPU RAM: functionWithResourceUsage.ResourceUsage(32572608) > ResourceQuota(0)\n",
      "Resource CPU RAM: functionWithResourceUsage.ResourceUsage(32572608) > ResourceQuota(0)\n",
      "Resource CPU RAM: functionWithResourceUsage.ResourceUsage(32572608) > ResourceQuota(0)\n",
      "Resource CPU RAM: functionWithResourceUsage.ResourceUsage(32572608) > ResourceQuota(0)\n",
      "Resource CPU RAM: functionWithResourceUsage.ResourceUsage(32572608) > ResourceQuota(0)\n",
      "Resource CPU RAM: functionWithResourceUsage.ResourceUsage(32572608) > ResourceQuota(0)\n",
      "Resource CPU RAM: functionWithResourceUsage.ResourceUsage(32572608) > ResourceQuota(0)\n",
      "Resource CPU RAM: functionWithResourceUsage.ResourceUsage(32572608) > ResourceQuota(0)\n",
      "Resource CPU RAM: functionWithResourceUsage.ResourceUsage(32572608) > ResourceQuota(0)\n",
      "Resource CPU RAM: functionWithResourceUsage.ResourceUsage(32572608) > ResourceQuota(0)\n",
      "Resource CPU RAM: functionWithResourceUsage.ResourceUsage(32572608) > ResourceQuota(0)\n",
      "Resource CPU RAM: functionWithResourceUsage.ResourceUsage(32572608) > ResourceQuota(0)\n",
      "Resource CPU RAM: functionWithResourceUsage.ResourceUsage(32572608) > ResourceQuota(0)\n",
      "Resource CPU RAM: functionWithResourceUsage.ResourceUsage(32572608) > ResourceQuota(0)\n",
      "Resource CPU RAM: functionWithResourceUsage.ResourceUsage(32572608) > ResourceQuota(0)\n",
      "Resource CPU RAM: functionWithResourceUsage.ResourceUsage(32572608) > ResourceQuota(0)\n",
      "Resource CPU RAM: functionWithResourceUsage.ResourceUsage(32572608) > ResourceQuota(0)\n",
      "Resource CPU RAM: functionWithResourceUsage.ResourceUsage(32572608) > ResourceQuota(0)\n",
      "Resource CPU RAM: functionWithResourceUsage.ResourceUsage(32572608) > ResourceQuota(0)\n",
      "Resource CPU RAM: functionWithResourceUsage.ResourceUsage(32572608) > ResourceQuota(0)\n",
      "Resource CPU RAM: functionWithResourceUsage.ResourceUsage(32572608) > ResourceQuota(0)\n",
      "Resource CPU RAM: functionWithResourceUsage.ResourceUsage(32572608) > ResourceQuota(0)\n",
      "Resource CPU RAM: functionWithResourceUsage.ResourceUsage(32572608) > ResourceQuota(0)\n",
      "Resource CPU RAM: functionWithResourceUsage.ResourceUsage(32572608) > ResourceQuota(0)\n",
      "Resource CPU RAM: functionWithResourceUsage.ResourceUsage(32572608) > ResourceQuota(0)\n",
      "Resource CPU RAM: functionWithResourceUsage.ResourceUsage(32572608) > ResourceQuota(0)\n",
      "Resource CPU RAM: functionWithResourceUsage.ResourceUsage(32572608) > ResourceQuota(0)\n",
      "Resource CPU RAM: functionWithResourceUsage.ResourceUsage(32572608) > ResourceQuota(0)\n",
      "Resource CPU RAM: functionWithResourceUsage.ResourceUsage(32572608) > ResourceQuota(0)\n",
      "Resource CPU RAM: functionWithResourceUsage.ResourceUsage(32572608) > ResourceQuota(0)\n",
      "Resource CPU RAM: functionWithResourceUsage.ResourceUsage(32572608) > ResourceQuota(0)\n",
      "Resource CPU RAM: functionWithResourceUsage.ResourceUsage(32572608) > ResourceQuota(0)\n",
      "Resource CPU RAM: functionWithResourceUsage.ResourceUsage(32572608) > ResourceQuota(0)\n",
      "Resource CPU RAM: functionWithResourceUsage.ResourceUsage(32572608) > ResourceQuota(0)\n",
      "Resource CPU RAM: functionWithResourceUsage.ResourceUsage(32572608) > ResourceQuota(0)\n",
      "Resource CPU RAM: functionWithResourceUsage.ResourceUsage(32572608) > ResourceQuota(0)\n",
      "Resource CPU RAM: functionWithResourceUsage.ResourceUsage(32572608) > ResourceQuota(0)\n",
      "Resource CPU RAM: functionWithResourceUsage.ResourceUsage(32572608) > ResourceQuota(0)\n",
      "Resource CPU RAM: functionWithResourceUsage.ResourceUsage(32572608) > ResourceQuota(0)\n",
      "Resource CPU RAM: functionWithResourceUsage.ResourceUsage(32572608) > ResourceQuota(0)\n",
      "Resource CPU RAM: functionWithResourceUsage.ResourceUsage(32572608) > ResourceQuota(0)\n",
      "Resource CPU RAM: functionWithResourceUsage.ResourceUsage(32572608) > ResourceQuota(0)\n",
      "Resource CPU RAM: functionWithResourceUsage.ResourceUsage(32572608) > ResourceQuota(0)\n",
      "Resource CPU RAM: functionWithResourceUsage.ResourceUsage(32572608) > ResourceQuota(0)\n",
      "Resource CPU RAM: functionWithResourceUsage.ResourceUsage(32572608) > ResourceQuota(0)\n",
      "Resource CPU RAM: functionWithResourceUsage.ResourceUsage(32572608) > ResourceQuota(0)\n",
      "Resource CPU RAM: functionWithResourceUsage.ResourceUsage(32572608) > ResourceQuota(0)\n",
      "Resource CPU RAM: functionWithResourceUsage.ResourceUsage(32572608) > ResourceQuota(0)\n",
      "Resource CPU RAM: functionWithResourceUsage.ResourceUsage(32572608) > ResourceQuota(0)\n",
      "Resource CPU RAM: functionWithResourceUsage.ResourceUsage(32572608) > ResourceQuota(0)\n",
      "Resource CPU RAM: functionWithResourceUsage.ResourceUsage(32572608) > ResourceQuota(0)\n",
      "\u001B[32m[I 2022-01-27 00:03:45,867]\u001B[0m Trial 1 finished with value: 0.6562904847668863 and parameters: {'objective': 'CrossEntropy', 'learning_rate': 0.05958389350068958, 'bagging_temperature': 0.5342937261279778, 'n_estimators': 3621, 'max_depth': 11, 'random_strength': 14, 'colsample_bylevel': 0.5752867891211308, 'l2_leaf_reg': 1.0997191680377813e-05, 'min_child_samples': 48, 'boosting_type': 'Ordered', 'max_bin': 354, 'od_type': 'IncToDec'}. Best is trial 0 with value: 0.6391837715546788.\u001B[0m\n",
      "CatBoost is using more CPU RAM (2.76GiB) than the limit (2GiB)\n",
      "CatBoost is using more CPU RAM (2.76GiB) than the limit (2GiB)\n",
      "Resource CPU RAM: functionWithResourceUsage.ResourceUsage(1231800) > ResourceQuota(0)\n",
      "Resource CPU RAM: functionWithResourceUsage.ResourceUsage(1231800) > ResourceQuota(0)\n",
      "Resource CPU RAM: functionWithResourceUsage.ResourceUsage(1231800) > ResourceQuota(0)\n",
      "Resource CPU RAM: functionWithResourceUsage.ResourceUsage(1231800) > ResourceQuota(0)\n",
      "Resource CPU RAM: functionWithResourceUsage.ResourceUsage(1231800) > ResourceQuota(0)\n",
      "Resource CPU RAM: functionWithResourceUsage.ResourceUsage(1231800) > ResourceQuota(0)\n",
      "Resource CPU RAM: functionWithResourceUsage.ResourceUsage(1231800) > ResourceQuota(0)\n",
      "Resource CPU RAM: functionWithResourceUsage.ResourceUsage(1231800) > ResourceQuota(0)\n",
      "Resource CPU RAM: functionWithResourceUsage.ResourceUsage(1231800) > ResourceQuota(0)\n",
      "Resource CPU RAM: functionWithResourceUsage.ResourceUsage(1231800) > ResourceQuota(0)\n",
      "Resource CPU RAM: functionWithResourceUsage.ResourceUsage(1231800) > ResourceQuota(0)\n",
      "Resource CPU RAM: functionWithResourceUsage.ResourceUsage(1231800) > ResourceQuota(0)\n",
      "Resource CPU RAM: functionWithResourceUsage.ResourceUsage(1231800) > ResourceQuota(0)\n",
      "Resource CPU RAM: functionWithResourceUsage.ResourceUsage(1231800) > ResourceQuota(0)\n",
      "Resource CPU RAM: functionWithResourceUsage.ResourceUsage(1231800) > ResourceQuota(0)\n",
      "Resource CPU RAM: functionWithResourceUsage.ResourceUsage(1231800) > ResourceQuota(0)\n",
      "Resource CPU RAM: functionWithResourceUsage.ResourceUsage(1231800) > ResourceQuota(0)\n",
      "Resource CPU RAM: functionWithResourceUsage.ResourceUsage(1231800) > ResourceQuota(0)\n",
      "Resource CPU RAM: functionWithResourceUsage.ResourceUsage(1231800) > ResourceQuota(0)\n",
      "Resource CPU RAM: functionWithResourceUsage.ResourceUsage(1231800) > ResourceQuota(0)\n",
      "Resource CPU RAM: functionWithResourceUsage.ResourceUsage(1231800) > ResourceQuota(0)\n",
      "Resource CPU RAM: functionWithResourceUsage.ResourceUsage(1231800) > ResourceQuota(0)\n",
      "Resource CPU RAM: functionWithResourceUsage.ResourceUsage(1231800) > ResourceQuota(0)\n",
      "Resource CPU RAM: functionWithResourceUsage.ResourceUsage(1231800) > ResourceQuota(0)\n",
      "Resource CPU RAM: functionWithResourceUsage.ResourceUsage(1231800) > ResourceQuota(0)\n",
      "Resource CPU RAM: functionWithResourceUsage.ResourceUsage(1231800) > ResourceQuota(0)\n",
      "Resource CPU RAM: functionWithResourceUsage.ResourceUsage(1231800) > ResourceQuota(0)\n",
      "Resource CPU RAM: functionWithResourceUsage.ResourceUsage(1231800) > ResourceQuota(0)\n",
      "Resource CPU RAM: functionWithResourceUsage.ResourceUsage(1231800) > ResourceQuota(0)\n",
      "Resource CPU RAM: functionWithResourceUsage.ResourceUsage(1231800) > ResourceQuota(0)\n",
      "Resource CPU RAM: functionWithResourceUsage.ResourceUsage(1231800) > ResourceQuota(0)\n",
      "Resource CPU RAM: functionWithResourceUsage.ResourceUsage(1231800) > ResourceQuota(0)\n",
      "Resource CPU RAM: functionWithResourceUsage.ResourceUsage(1231800) > ResourceQuota(0)\n",
      "Resource CPU RAM: functionWithResourceUsage.ResourceUsage(1231800) > ResourceQuota(0)\n",
      "Resource CPU RAM: functionWithResourceUsage.ResourceUsage(1231800) > ResourceQuota(0)\n",
      "Resource CPU RAM: functionWithResourceUsage.ResourceUsage(1231800) > ResourceQuota(0)\n",
      "Resource CPU RAM: functionWithResourceUsage.ResourceUsage(1231800) > ResourceQuota(0)\n",
      "Resource CPU RAM: functionWithResourceUsage.ResourceUsage(1231800) > ResourceQuota(0)\n",
      "Resource CPU RAM: functionWithResourceUsage.ResourceUsage(1231800) > ResourceQuota(0)\n",
      "Resource CPU RAM: functionWithResourceUsage.ResourceUsage(1231800) > ResourceQuota(0)\n",
      "Resource CPU RAM: functionWithResourceUsage.ResourceUsage(1231800) > ResourceQuota(0)\n",
      "Resource CPU RAM: functionWithResourceUsage.ResourceUsage(1231800) > ResourceQuota(0)\n",
      "Resource CPU RAM: functionWithResourceUsage.ResourceUsage(1231800) > ResourceQuota(0)\n",
      "Resource CPU RAM: functionWithResourceUsage.ResourceUsage(1231800) > ResourceQuota(0)\n",
      "Resource CPU RAM: functionWithResourceUsage.ResourceUsage(1231800) > ResourceQuota(0)\n",
      "Resource CPU RAM: functionWithResourceUsage.ResourceUsage(1231800) > ResourceQuota(0)\n",
      "Resource CPU RAM: functionWithResourceUsage.ResourceUsage(1231800) > ResourceQuota(0)\n",
      "Resource CPU RAM: functionWithResourceUsage.ResourceUsage(1231800) > ResourceQuota(0)\n",
      "Resource CPU RAM: functionWithResourceUsage.ResourceUsage(1231800) > ResourceQuota(0)\n",
      "Resource CPU RAM: functionWithResourceUsage.ResourceUsage(1231800) > ResourceQuota(0)\n",
      "Resource CPU RAM: functionWithResourceUsage.ResourceUsage(1231800) > ResourceQuota(0)\n",
      "Resource CPU RAM: functionWithResourceUsage.ResourceUsage(1231800) > ResourceQuota(0)\n",
      "Resource CPU RAM: functionWithResourceUsage.ResourceUsage(1231800) > ResourceQuota(0)\n",
      "Resource CPU RAM: functionWithResourceUsage.ResourceUsage(1231800) > ResourceQuota(0)\n",
      "Resource CPU RAM: functionWithResourceUsage.ResourceUsage(1231800) > ResourceQuota(0)\n",
      "Resource CPU RAM: functionWithResourceUsage.ResourceUsage(1231800) > ResourceQuota(0)\n",
      "Resource CPU RAM: functionWithResourceUsage.ResourceUsage(1231800) > ResourceQuota(0)\n",
      "Resource CPU RAM: functionWithResourceUsage.ResourceUsage(1231800) > ResourceQuota(0)\n",
      "Resource CPU RAM: functionWithResourceUsage.ResourceUsage(1231800) > ResourceQuota(0)\n",
      "Resource CPU RAM: functionWithResourceUsage.ResourceUsage(1231800) > ResourceQuota(0)\n",
      "Resource CPU RAM: functionWithResourceUsage.ResourceUsage(1231800) > ResourceQuota(0)\n",
      "Resource CPU RAM: functionWithResourceUsage.ResourceUsage(1231800) > ResourceQuota(0)\n",
      "Resource CPU RAM: functionWithResourceUsage.ResourceUsage(14456160) > ResourceQuota(0)\n",
      "Resource CPU RAM: functionWithResourceUsage.ResourceUsage(14456160) > ResourceQuota(0)\n",
      "Resource CPU RAM: functionWithResourceUsage.ResourceUsage(14456160) > ResourceQuota(0)\n",
      "Resource CPU RAM: functionWithResourceUsage.ResourceUsage(14456160) > ResourceQuota(0)\n",
      "Resource CPU RAM: functionWithResourceUsage.ResourceUsage(14456160) > ResourceQuota(0)\n",
      "Resource CPU RAM: functionWithResourceUsage.ResourceUsage(14456160) > ResourceQuota(0)\n",
      "Resource CPU RAM: functionWithResourceUsage.ResourceUsage(14456160) > ResourceQuota(0)\n",
      "Resource CPU RAM: functionWithResourceUsage.ResourceUsage(14456160) > ResourceQuota(0)\n",
      "Resource CPU RAM: functionWithResourceUsage.ResourceUsage(14456160) > ResourceQuota(0)\n",
      "CatBoost is using more CPU RAM (2.76GiB) than the limit (2GiB)\n",
      "Resource CPU RAM: functionWithResourceUsage.ResourceUsage(401560) > ResourceQuota(0)\n",
      "Resource CPU RAM: functionWithResourceUsage.ResourceUsage(401560) > ResourceQuota(0)\n",
      "Resource CPU RAM: functionWithResourceUsage.ResourceUsage(401560) > ResourceQuota(0)\n",
      "Resource CPU RAM: functionWithResourceUsage.ResourceUsage(401560) > ResourceQuota(0)\n",
      "Resource CPU RAM: functionWithResourceUsage.ResourceUsage(401560) > ResourceQuota(0)\n",
      "Resource CPU RAM: functionWithResourceUsage.ResourceUsage(401560) > ResourceQuota(0)\n",
      "Resource CPU RAM: functionWithResourceUsage.ResourceUsage(401560) > ResourceQuota(0)\n",
      "Resource CPU RAM: functionWithResourceUsage.ResourceUsage(401560) > ResourceQuota(0)\n",
      "Resource CPU RAM: functionWithResourceUsage.ResourceUsage(401560) > ResourceQuota(0)\n",
      "Resource CPU RAM: functionWithResourceUsage.ResourceUsage(401560) > ResourceQuota(0)\n",
      "Resource CPU RAM: functionWithResourceUsage.ResourceUsage(401560) > ResourceQuota(0)\n",
      "Resource CPU RAM: functionWithResourceUsage.ResourceUsage(401560) > ResourceQuota(0)\n",
      "Resource CPU RAM: functionWithResourceUsage.ResourceUsage(401560) > ResourceQuota(0)\n",
      "Resource CPU RAM: functionWithResourceUsage.ResourceUsage(401560) > ResourceQuota(0)\n",
      "Resource CPU RAM: functionWithResourceUsage.ResourceUsage(401560) > ResourceQuota(0)\n",
      "Resource CPU RAM: functionWithResourceUsage.ResourceUsage(401560) > ResourceQuota(0)\n",
      "Resource CPU RAM: functionWithResourceUsage.ResourceUsage(401560) > ResourceQuota(0)\n",
      "Resource CPU RAM: functionWithResourceUsage.ResourceUsage(401560) > ResourceQuota(0)\n",
      "Resource CPU RAM: functionWithResourceUsage.ResourceUsage(401560) > ResourceQuota(0)\n",
      "Resource CPU RAM: functionWithResourceUsage.ResourceUsage(401560) > ResourceQuota(0)\n",
      "Resource CPU RAM: functionWithResourceUsage.ResourceUsage(401560) > ResourceQuota(0)\n",
      "Resource CPU RAM: functionWithResourceUsage.ResourceUsage(401560) > ResourceQuota(0)\n",
      "Resource CPU RAM: functionWithResourceUsage.ResourceUsage(401560) > ResourceQuota(0)\n",
      "Resource CPU RAM: functionWithResourceUsage.ResourceUsage(401560) > ResourceQuota(0)\n",
      "Resource CPU RAM: functionWithResourceUsage.ResourceUsage(401560) > ResourceQuota(0)\n",
      "Resource CPU RAM: functionWithResourceUsage.ResourceUsage(401560) > ResourceQuota(0)\n",
      "Resource CPU RAM: functionWithResourceUsage.ResourceUsage(401560) > ResourceQuota(0)\n",
      "Resource CPU RAM: functionWithResourceUsage.ResourceUsage(401560) > ResourceQuota(0)\n",
      "Resource CPU RAM: functionWithResourceUsage.ResourceUsage(401560) > ResourceQuota(0)\n",
      "Resource CPU RAM: functionWithResourceUsage.ResourceUsage(401560) > ResourceQuota(0)\n",
      "Resource CPU RAM: functionWithResourceUsage.ResourceUsage(401560) > ResourceQuota(0)\n",
      "Resource CPU RAM: functionWithResourceUsage.ResourceUsage(401560) > ResourceQuota(0)\n",
      "Resource CPU RAM: functionWithResourceUsage.ResourceUsage(401560) > ResourceQuota(0)\n",
      "Resource CPU RAM: functionWithResourceUsage.ResourceUsage(401560) > ResourceQuota(0)\n",
      "Resource CPU RAM: functionWithResourceUsage.ResourceUsage(401560) > ResourceQuota(0)\n",
      "Resource CPU RAM: functionWithResourceUsage.ResourceUsage(401560) > ResourceQuota(0)\n",
      "Resource CPU RAM: functionWithResourceUsage.ResourceUsage(401560) > ResourceQuota(0)\n",
      "Resource CPU RAM: functionWithResourceUsage.ResourceUsage(401560) > ResourceQuota(0)\n",
      "Resource CPU RAM: functionWithResourceUsage.ResourceUsage(401560) > ResourceQuota(0)\n",
      "Resource CPU RAM: functionWithResourceUsage.ResourceUsage(401560) > ResourceQuota(0)\n",
      "Resource CPU RAM: functionWithResourceUsage.ResourceUsage(401560) > ResourceQuota(0)\n",
      "Resource CPU RAM: functionWithResourceUsage.ResourceUsage(401560) > ResourceQuota(0)\n",
      "Resource CPU RAM: functionWithResourceUsage.ResourceUsage(401560) > ResourceQuota(0)\n",
      "Resource CPU RAM: functionWithResourceUsage.ResourceUsage(401560) > ResourceQuota(0)\n",
      "Resource CPU RAM: functionWithResourceUsage.ResourceUsage(1606240) > ResourceQuota(0)\n",
      "Resource CPU RAM: functionWithResourceUsage.ResourceUsage(1606240) > ResourceQuota(0)\n",
      "Resource CPU RAM: functionWithResourceUsage.ResourceUsage(1606240) > ResourceQuota(0)\n",
      "Resource CPU RAM: functionWithResourceUsage.ResourceUsage(1606240) > ResourceQuota(0)\n",
      "Resource CPU RAM: functionWithResourceUsage.ResourceUsage(401560) > ResourceQuota(0)\n",
      "Resource CPU RAM: functionWithResourceUsage.ResourceUsage(401560) > ResourceQuota(0)\n",
      "Resource CPU RAM: functionWithResourceUsage.ResourceUsage(401560) > ResourceQuota(0)\n",
      "CatBoost is using more CPU RAM (2.76GiB) than the limit (2GiB)\n",
      "Resource CPU RAM: functionWithResourceUsage.ResourceUsage(100392) > ResourceQuota(0)\n",
      "Resource CPU RAM: functionWithResourceUsage.ResourceUsage(100392) > ResourceQuota(0)\n",
      "Resource CPU RAM: functionWithResourceUsage.ResourceUsage(100392) > ResourceQuota(0)\n",
      "Resource CPU RAM: functionWithResourceUsage.ResourceUsage(100392) > ResourceQuota(0)\n",
      "Resource CPU RAM: functionWithResourceUsage.ResourceUsage(100392) > ResourceQuota(0)\n",
      "Resource CPU RAM: functionWithResourceUsage.ResourceUsage(100392) > ResourceQuota(0)\n",
      "Resource CPU RAM: functionWithResourceUsage.ResourceUsage(100392) > ResourceQuota(0)\n",
      "Resource CPU RAM: functionWithResourceUsage.ResourceUsage(100392) > ResourceQuota(0)\n",
      "Resource CPU RAM: functionWithResourceUsage.ResourceUsage(100392) > ResourceQuota(0)\n",
      "Resource CPU RAM: functionWithResourceUsage.ResourceUsage(100392) > ResourceQuota(0)\n",
      "Resource CPU RAM: functionWithResourceUsage.ResourceUsage(100392) > ResourceQuota(0)\n",
      "Resource CPU RAM: functionWithResourceUsage.ResourceUsage(100392) > ResourceQuota(0)\n",
      "Resource CPU RAM: functionWithResourceUsage.ResourceUsage(100392) > ResourceQuota(0)\n",
      "Resource CPU RAM: functionWithResourceUsage.ResourceUsage(100392) > ResourceQuota(0)\n",
      "Resource CPU RAM: functionWithResourceUsage.ResourceUsage(100392) > ResourceQuota(0)\n",
      "Resource CPU RAM: functionWithResourceUsage.ResourceUsage(100392) > ResourceQuota(0)\n",
      "Resource CPU RAM: functionWithResourceUsage.ResourceUsage(100392) > ResourceQuota(0)\n",
      "Resource CPU RAM: functionWithResourceUsage.ResourceUsage(100392) > ResourceQuota(0)\n",
      "Resource CPU RAM: functionWithResourceUsage.ResourceUsage(100392) > ResourceQuota(0)\n",
      "Resource CPU RAM: functionWithResourceUsage.ResourceUsage(100392) > ResourceQuota(0)\n",
      "Resource CPU RAM: functionWithResourceUsage.ResourceUsage(100392) > ResourceQuota(0)\n",
      "Resource CPU RAM: functionWithResourceUsage.ResourceUsage(100392) > ResourceQuota(0)\n",
      "Resource CPU RAM: functionWithResourceUsage.ResourceUsage(100392) > ResourceQuota(0)\n",
      "Resource CPU RAM: functionWithResourceUsage.ResourceUsage(100392) > ResourceQuota(0)\n",
      "Resource CPU RAM: functionWithResourceUsage.ResourceUsage(100392) > ResourceQuota(0)\n",
      "Resource CPU RAM: functionWithResourceUsage.ResourceUsage(100392) > ResourceQuota(0)\n",
      "Resource CPU RAM: functionWithResourceUsage.ResourceUsage(100392) > ResourceQuota(0)\n",
      "Resource CPU RAM: functionWithResourceUsage.ResourceUsage(100392) > ResourceQuota(0)\n",
      "Resource CPU RAM: functionWithResourceUsage.ResourceUsage(100392) > ResourceQuota(0)\n",
      "Resource CPU RAM: functionWithResourceUsage.ResourceUsage(100392) > ResourceQuota(0)\n",
      "Resource CPU RAM: functionWithResourceUsage.ResourceUsage(100392) > ResourceQuota(0)\n",
      "Resource CPU RAM: functionWithResourceUsage.ResourceUsage(100392) > ResourceQuota(0)\n",
      "Resource CPU RAM: functionWithResourceUsage.ResourceUsage(100392) > ResourceQuota(0)\n",
      "Resource CPU RAM: functionWithResourceUsage.ResourceUsage(100392) > ResourceQuota(0)\n",
      "Resource CPU RAM: functionWithResourceUsage.ResourceUsage(100392) > ResourceQuota(0)\n",
      "Resource CPU RAM: functionWithResourceUsage.ResourceUsage(100392) > ResourceQuota(0)\n",
      "Resource CPU RAM: functionWithResourceUsage.ResourceUsage(100392) > ResourceQuota(0)\n",
      "Resource CPU RAM: functionWithResourceUsage.ResourceUsage(100392) > ResourceQuota(0)\n",
      "Resource CPU RAM: functionWithResourceUsage.ResourceUsage(100392) > ResourceQuota(0)\n",
      "Resource CPU RAM: functionWithResourceUsage.ResourceUsage(100392) > ResourceQuota(0)\n",
      "Resource CPU RAM: functionWithResourceUsage.ResourceUsage(100392) > ResourceQuota(0)\n",
      "Resource CPU RAM: functionWithResourceUsage.ResourceUsage(100392) > ResourceQuota(0)\n",
      "Resource CPU RAM: functionWithResourceUsage.ResourceUsage(100392) > ResourceQuota(0)\n",
      "Resource CPU RAM: functionWithResourceUsage.ResourceUsage(100392) > ResourceQuota(0)\n",
      "Resource CPU RAM: functionWithResourceUsage.ResourceUsage(100392) > ResourceQuota(0)\n",
      "Resource CPU RAM: functionWithResourceUsage.ResourceUsage(100392) > ResourceQuota(0)\n",
      "Resource CPU RAM: functionWithResourceUsage.ResourceUsage(100392) > ResourceQuota(0)\n",
      "Resource CPU RAM: functionWithResourceUsage.ResourceUsage(100392) > ResourceQuota(0)\n",
      "Resource CPU RAM: functionWithResourceUsage.ResourceUsage(100392) > ResourceQuota(0)\n",
      "Resource CPU RAM: functionWithResourceUsage.ResourceUsage(100392) > ResourceQuota(0)\n",
      "Resource CPU RAM: functionWithResourceUsage.ResourceUsage(100392) > ResourceQuota(0)\n",
      "Resource CPU RAM: functionWithResourceUsage.ResourceUsage(100392) > ResourceQuota(0)\n",
      "Resource CPU RAM: functionWithResourceUsage.ResourceUsage(100392) > ResourceQuota(0)\n",
      "Resource CPU RAM: functionWithResourceUsage.ResourceUsage(100392) > ResourceQuota(0)\n",
      "Resource CPU RAM: functionWithResourceUsage.ResourceUsage(100392) > ResourceQuota(0)\n",
      "Resource CPU RAM: functionWithResourceUsage.ResourceUsage(100392) > ResourceQuota(0)\n",
      "Resource CPU RAM: functionWithResourceUsage.ResourceUsage(100392) > ResourceQuota(0)\n",
      "Resource CPU RAM: functionWithResourceUsage.ResourceUsage(100392) > ResourceQuota(0)\n",
      "Resource CPU RAM: functionWithResourceUsage.ResourceUsage(100392) > ResourceQuota(0)\n",
      "Resource CPU RAM: functionWithResourceUsage.ResourceUsage(100392) > ResourceQuota(0)\n",
      "Resource CPU RAM: functionWithResourceUsage.ResourceUsage(100392) > ResourceQuota(0)\n",
      "Resource CPU RAM: functionWithResourceUsage.ResourceUsage(100392) > ResourceQuota(0)\n",
      "Resource CPU RAM: functionWithResourceUsage.ResourceUsage(3614076) > ResourceQuota(0)\n",
      "Resource CPU RAM: functionWithResourceUsage.ResourceUsage(3614076) > ResourceQuota(0)\n",
      "Resource CPU RAM: functionWithResourceUsage.ResourceUsage(3614076) > ResourceQuota(0)\n",
      "Resource CPU RAM: functionWithResourceUsage.ResourceUsage(3614076) > ResourceQuota(0)\n",
      "Resource CPU RAM: functionWithResourceUsage.ResourceUsage(3614076) > ResourceQuota(0)\n",
      "Resource CPU RAM: functionWithResourceUsage.ResourceUsage(3614076) > ResourceQuota(0)\n",
      "Resource CPU RAM: functionWithResourceUsage.ResourceUsage(3614076) > ResourceQuota(0)\n",
      "Resource CPU RAM: functionWithResourceUsage.ResourceUsage(3614076) > ResourceQuota(0)\n",
      "Resource CPU RAM: functionWithResourceUsage.ResourceUsage(3614076) > ResourceQuota(0)\n",
      "CatBoost is using more CPU RAM (2.76GiB) than the limit (2GiB)\n",
      "Resource CPU RAM: functionWithResourceUsage.ResourceUsage(100391) > ResourceQuota(0)\n",
      "Resource CPU RAM: functionWithResourceUsage.ResourceUsage(100391) > ResourceQuota(0)\n",
      "Resource CPU RAM: functionWithResourceUsage.ResourceUsage(100391) > ResourceQuota(0)\n",
      "Resource CPU RAM: functionWithResourceUsage.ResourceUsage(100391) > ResourceQuota(0)\n",
      "Resource CPU RAM: functionWithResourceUsage.ResourceUsage(100391) > ResourceQuota(0)\n",
      "Resource CPU RAM: functionWithResourceUsage.ResourceUsage(100391) > ResourceQuota(0)\n",
      "Resource CPU RAM: functionWithResourceUsage.ResourceUsage(100391) > ResourceQuota(0)\n",
      "Resource CPU RAM: functionWithResourceUsage.ResourceUsage(100391) > ResourceQuota(0)\n",
      "Resource CPU RAM: functionWithResourceUsage.ResourceUsage(100391) > ResourceQuota(0)\n",
      "Resource CPU RAM: functionWithResourceUsage.ResourceUsage(100391) > ResourceQuota(0)\n",
      "Resource CPU RAM: functionWithResourceUsage.ResourceUsage(100391) > ResourceQuota(0)\n",
      "Resource CPU RAM: functionWithResourceUsage.ResourceUsage(100391) > ResourceQuota(0)\n",
      "Resource CPU RAM: functionWithResourceUsage.ResourceUsage(100391) > ResourceQuota(0)\n",
      "Resource CPU RAM: functionWithResourceUsage.ResourceUsage(100391) > ResourceQuota(0)\n",
      "Resource CPU RAM: functionWithResourceUsage.ResourceUsage(100391) > ResourceQuota(0)\n",
      "Resource CPU RAM: functionWithResourceUsage.ResourceUsage(100391) > ResourceQuota(0)\n",
      "Resource CPU RAM: functionWithResourceUsage.ResourceUsage(100391) > ResourceQuota(0)\n",
      "Resource CPU RAM: functionWithResourceUsage.ResourceUsage(100391) > ResourceQuota(0)\n",
      "Resource CPU RAM: functionWithResourceUsage.ResourceUsage(100391) > ResourceQuota(0)\n",
      "Resource CPU RAM: functionWithResourceUsage.ResourceUsage(100391) > ResourceQuota(0)\n",
      "Resource CPU RAM: functionWithResourceUsage.ResourceUsage(100391) > ResourceQuota(0)\n",
      "Resource CPU RAM: functionWithResourceUsage.ResourceUsage(100391) > ResourceQuota(0)\n",
      "Resource CPU RAM: functionWithResourceUsage.ResourceUsage(100391) > ResourceQuota(0)\n",
      "Resource CPU RAM: functionWithResourceUsage.ResourceUsage(100391) > ResourceQuota(0)\n",
      "Resource CPU RAM: functionWithResourceUsage.ResourceUsage(100391) > ResourceQuota(0)\n",
      "Resource CPU RAM: functionWithResourceUsage.ResourceUsage(100391) > ResourceQuota(0)\n",
      "Resource CPU RAM: functionWithResourceUsage.ResourceUsage(100391) > ResourceQuota(0)\n",
      "Resource CPU RAM: functionWithResourceUsage.ResourceUsage(100391) > ResourceQuota(0)\n",
      "Resource CPU RAM: functionWithResourceUsage.ResourceUsage(100391) > ResourceQuota(0)\n",
      "Resource CPU RAM: functionWithResourceUsage.ResourceUsage(100391) > ResourceQuota(0)\n",
      "Resource CPU RAM: functionWithResourceUsage.ResourceUsage(100391) > ResourceQuota(0)\n",
      "Resource CPU RAM: functionWithResourceUsage.ResourceUsage(100391) > ResourceQuota(0)\n",
      "Resource CPU RAM: functionWithResourceUsage.ResourceUsage(100391) > ResourceQuota(0)\n",
      "Resource CPU RAM: functionWithResourceUsage.ResourceUsage(100391) > ResourceQuota(0)\n",
      "Resource CPU RAM: functionWithResourceUsage.ResourceUsage(100391) > ResourceQuota(0)\n",
      "Resource CPU RAM: functionWithResourceUsage.ResourceUsage(100391) > ResourceQuota(0)\n",
      "Resource CPU RAM: functionWithResourceUsage.ResourceUsage(100391) > ResourceQuota(0)\n",
      "Resource CPU RAM: functionWithResourceUsage.ResourceUsage(100391) > ResourceQuota(0)\n",
      "Resource CPU RAM: functionWithResourceUsage.ResourceUsage(100391) > ResourceQuota(0)\n",
      "Resource CPU RAM: functionWithResourceUsage.ResourceUsage(100391) > ResourceQuota(0)\n",
      "Resource CPU RAM: functionWithResourceUsage.ResourceUsage(100391) > ResourceQuota(0)\n",
      "Resource CPU RAM: functionWithResourceUsage.ResourceUsage(100391) > ResourceQuota(0)\n",
      "Resource CPU RAM: functionWithResourceUsage.ResourceUsage(100391) > ResourceQuota(0)\n",
      "Resource CPU RAM: functionWithResourceUsage.ResourceUsage(100391) > ResourceQuota(0)\n",
      "Resource CPU RAM: functionWithResourceUsage.ResourceUsage(401564) > ResourceQuota(0)\n",
      "Resource CPU RAM: functionWithResourceUsage.ResourceUsage(401564) > ResourceQuota(0)\n",
      "Resource CPU RAM: functionWithResourceUsage.ResourceUsage(401564) > ResourceQuota(0)\n",
      "Resource CPU RAM: functionWithResourceUsage.ResourceUsage(401564) > ResourceQuota(0)\n",
      "Resource CPU RAM: functionWithResourceUsage.ResourceUsage(100391) > ResourceQuota(0)\n",
      "Resource CPU RAM: functionWithResourceUsage.ResourceUsage(100391) > ResourceQuota(0)\n",
      "Resource CPU RAM: functionWithResourceUsage.ResourceUsage(100391) > ResourceQuota(0)\n"
     ]
    },
    {
     "name": "stdout",
     "output_type": "stream",
     "text": [
      "0:\tlearn: 0.6925847\ttest: 0.6927672\tbest: 0.6927672 (0)\ttotal: 1.54s\tremaining: 4h 8m 30s\n",
      "100:\tlearn: 0.6677383\ttest: 0.6744194\tbest: 0.6744194 (100)\ttotal: 1m 14s\tremaining: 1h 58m 35s\n",
      "200:\tlearn: 0.6573773\ttest: 0.6681034\tbest: 0.6681034 (200)\ttotal: 2m 35s\tremaining: 2h 2m 38s\n"
     ]
    }
   ],
   "source": [
    "sampler = TPESampler(seed=42)\n",
    "study = optuna.create_study(\n",
    "    study_name = 'cat_parameter_opt',\n",
    "    direction = 'minimize',\n",
    "    sampler = sampler,\n",
    ")\n",
    "study.optimize(objective, n_trials=10)\n",
    "print(\"Best Score:\",study.best_value)\n",
    "print(\"Best trial\",study.best_trial.params)"
   ],
   "metadata": {
    "collapsed": false,
    "pycharm": {
     "name": "#%%\n",
     "is_executing": true
    }
   }
  },
  {
   "cell_type": "code",
   "execution_count": null,
   "outputs": [],
   "source": [
    "# 사람 속성 , 속성 대분류 컬럼명\n",
    "# ex ) person_prefer_h_3, attribute_h_l -> person_prefer_h_3_attribute_h_l\n",
    "# -> person_prefer_h_3 에 대한 속성 h 대분류"
   ],
   "metadata": {
    "collapsed": false,
    "pycharm": {
     "name": "#%%\n"
    }
   }
  },
  {
   "cell_type": "code",
   "execution_count": 78,
   "outputs": [
    {
     "data": {
      "text/plain": "0          59\n1          96\n2          56\n3           2\n4         209\n         ... \n501946     95\n501947     95\n501948    139\n501949    258\n501950     49\nName: person_prefer_h_3, Length: 501951, dtype: int64"
     },
     "execution_count": 78,
     "metadata": {},
     "output_type": "execute_result"
    }
   ],
   "source": [
    "x_train['person_prefer_h_3']"
   ],
   "metadata": {
    "collapsed": false,
    "pycharm": {
     "name": "#%%\n"
    }
   }
  },
  {
   "cell_type": "code",
   "execution_count": 79,
   "outputs": [
    {
     "data": {
      "text/plain": "0          58\n1          94\n2          48\n3           1\n4         208\n         ... \n501946     94\n501947     94\n501948     94\n501949    250\n501950     48\nName: person_prefer_h_3_attribute_h_l, Length: 501951, dtype: int64"
     },
     "execution_count": 79,
     "metadata": {},
     "output_type": "execute_result"
    }
   ],
   "source": [
    "x_train['person_prefer_h_3_attribute_h_l']"
   ],
   "metadata": {
    "collapsed": false,
    "pycharm": {
     "name": "#%%\n"
    }
   }
  },
  {
   "cell_type": "code",
   "execution_count": null,
   "outputs": [],
   "source": [
    "from varname import nameof"
   ],
   "metadata": {
    "collapsed": false,
    "pycharm": {
     "name": "#%%\n"
    }
   }
  },
  {
   "cell_type": "code",
   "execution_count": 70,
   "outputs": [
    {
     "data": {
      "text/plain": "Index(['id', 'd_l_match_yn', 'd_m_match_yn', 'd_s_match_yn', 'h_l_match_yn',\n       'h_m_match_yn', 'h_s_match_yn', 'person_attribute_a',\n       'person_attribute_a_1', 'person_attribute_b', 'person_prefer_c',\n       'person_prefer_d_1', 'person_prefer_d_2', 'person_prefer_d_3',\n       'person_prefer_e', 'person_prefer_f', 'person_prefer_g',\n       'person_prefer_h_1', 'person_prefer_h_2', 'person_prefer_h_3',\n       'contents_attribute_i', 'contents_attribute_a',\n       'contents_attribute_j_1', 'contents_attribute_j',\n       'contents_attribute_c', 'contents_attribute_k', 'contents_attribute_l',\n       'contents_attribute_d', 'contents_attribute_m', 'contents_attribute_e',\n       'contents_attribute_h', 'person_rn', 'contents_rn', 'contents_open_dt'],\n      dtype='object')"
     },
     "execution_count": 70,
     "metadata": {},
     "output_type": "execute_result"
    }
   ],
   "source": [
    "test_data.columns"
   ],
   "metadata": {
    "collapsed": false,
    "pycharm": {
     "name": "#%%\n"
    }
   }
  },
  {
   "cell_type": "code",
   "execution_count": 39,
   "outputs": [],
   "source": [
    "# feature 각 value 별 target columns에 대한 평균 값\n",
    "#pd.DataFrame(test_data.groupby('person_attribute_a_1')['contents_attribute_l_l'].mean())"
   ],
   "metadata": {
    "collapsed": false,
    "pycharm": {
     "name": "#%%\n"
    }
   }
  },
  {
   "cell_type": "code",
   "execution_count": 39,
   "outputs": [],
   "source": [],
   "metadata": {
    "collapsed": false,
    "pycharm": {
     "name": "#%%\n"
    }
   }
  },
  {
   "cell_type": "code",
   "execution_count": 40,
   "outputs": [],
   "source": [
    "def get_mean_encode(train, nominal_cols):\n",
    "\n",
    "    for col in nominal_cols:\n",
    "        if 'attribute' in col:\n",
    "            name = col[col.index('attribute') + len('attribute')+1:]\n",
    "            var_name = 'attr_{}_mean_encode'.format(name)\n",
    "            #var_name = f'attr_{name}_mean_encode'\n",
    "            # target 값을 기반으로 만드는 feature\n",
    "            # groupby 는 col의 value 별 [target column]에 대한 mean , max 등의 연산을 지원한다\n",
    "\n",
    "            locals()[var_name] = train.groupby(col)[\"target\"].mean()\n",
    "\n",
    "        elif 'prefer' in col:\n",
    "            name = col[col.index('prefer') + len('prefer')+1:]\n",
    "            var_name = 'prefer_{}_mean_encode'.format(name)\n",
    "\n",
    "            locals()[var_name] = train.groupby(col)[\"target\"].mean()\n",
    "\n",
    "        train.loc[:,var_name] = train[col].map(locals()[var_name])\n",
    "    return train"
   ],
   "metadata": {
    "collapsed": false,
    "pycharm": {
     "name": "#%%\n"
    }
   }
  },
  {
   "cell_type": "code",
   "execution_count": 40,
   "outputs": [],
   "source": [],
   "metadata": {
    "collapsed": false,
    "pycharm": {
     "name": "#%%\n"
    }
   }
  },
  {
   "cell_type": "code",
   "execution_count": 41,
   "outputs": [],
   "source": [
    "def objective(trial,X,y):\n",
    "    param_grid = {\n",
    "        # \"device_type\" : trial.suggest_categorical(\"device_type\",['gpu']),\n",
    "        \"learning_rate\" : trial.suggest_float(\"learning_rate\", 0.1, 0.95, step=0.1 ),\n",
    "        \"num_leaves\" : trial.suggest_int(\"num_leaves\", 5, 100 ,step=5),\n",
    "        \"max_depth\" : trial.suggest_int(\"max_depth\", 1,30 , step=3),\n",
    "        \"min_data_in_leaf\" : trial.suggest_int(\"min_data_in_leaf\" ,50 , 1000 , step=50),\n",
    "        \"lambda_l1\" : trial.suggest_int(\"lambda_l1\", 0,100 , step=5),\n",
    "        \"lambda_l2\" : trial.suggest_int(\"lambda_l2\", 0, 100, step=5),\n",
    "        \"min_gain_to_split\" : trial.suggest_float(\"min_datin_to_split\" , 1,30, step=3),\n",
    "        \"bagging_fraction\" : trial.suggest_float(\"bagging_fraction\" , 0.1,0.99,step=0.1),\n",
    "        \"bagging_freq\" : trial.suggest_categorical(\"bagging_freq\",[1]),\n",
    "        \"feature_fraction\" : trial.suggest_float(\"feature_fraction\", 0.1,0.99,step=0.1),\n",
    "        \"n_estimators\" : trial.suggest_int(\"n_estimators\",10,2000, step=10),\n",
    "    }\n",
    "    cv=  StratifiedKFold(n_splits=5, shuffle=False)\n",
    "    cv_scores = np.empty(5)\n",
    "\n",
    "    for idx, (train_idx, test_idx ) in enumerate(cv.split(X,y)):\n",
    "        X_train , X_test = X.iloc[train_idx] , X.iloc[test_idx]\n",
    "        y_train , y_test = y[train_idx] , y[test_idx]\n",
    "        model = lgbm.LGBMClassifier(objective=\"binary\" , **param_grid)\n",
    "\n",
    "        model.fit(\n",
    "            X_train,\n",
    "            y_train,\n",
    "            eval_set = [(X_test, y_test)],\n",
    "            eval_metric = \"binary_logloss\",\n",
    "            early_stopping_rounds =100,\n",
    "            callbacks= [\n",
    "                LightGBMPruningCallback(trial, \"binary_logloss\")\n",
    "            ], # Add a pruning callback\n",
    "        )\n",
    "        preds = model.predict_proba(X_test)\n",
    "        cv_scores[idx] = log_loss(y_test,preds)\n",
    "\n",
    "    #return np.mean(f1_scores)\n",
    "    return np.mean(cv_scores)"
   ],
   "metadata": {
    "collapsed": false,
    "pycharm": {
     "name": "#%%\n"
    }
   }
  },
  {
   "cell_type": "code",
   "execution_count": null,
   "outputs": [],
   "source": [],
   "metadata": {
    "collapsed": false,
    "pycharm": {
     "name": "#%%\n"
    }
   }
  },
  {
   "cell_type": "code",
   "execution_count": null,
   "outputs": [],
   "source": [
    "# :::::::::::: META DATA MAKE :::::::::::::::::::\n",
    "data = get_meta_data(train_data)\n",
    "# :::::::::::: META DATA MAKE END :::::::::::::::::::\n",
    "# get mean_encdoe train set\n",
    "train = get_mean_encode(train, nominal_cols)\n",
    "target = train.target\n",
    "# drop target , contetns_open_dt, id\n",
    "train = train.drop(['contents_open_dt','id','target'],axis=1)\n",
    "x_train, x_valid, y_train, y_valid = train_test_split(train,target , test_size=0.3 , shuffle=True, stratify=target, random_state=34)\n",
    "# gradient boosting 이 randomforest 보다 좋다고 알려져있다\n",
    "rf= RandomForestClassifier(n_estimators=150 , max_depth=8 , min_samples_split=4, max_features=0.2, n_jobs=-1 ,random_state=0)\n",
    "rf.fit(x_train,y_train)"
   ],
   "metadata": {
    "collapsed": false,
    "pycharm": {
     "name": "#%%::::::::::::::: RADNOM FOREST START :::::::::::::::::::\n"
    }
   }
  },
  {
   "cell_type": "code",
   "execution_count": null,
   "outputs": [],
   "source": [
    "# :::::::::::: HYPER PARAMETER OPTUNA START  LGBM CLASSIFIER:::::::::::::::::::::::\n",
    "# mean encode값 랜포보다 성능좋다고 알려진 Lightgbm에 넣기\n",
    "study = optuna.create_study(direction=\"minimize\" , study_name = \"LGBM Classifier\")\n",
    "func = lambda trial: objective(trial,train,target )\n",
    "study.optimize(func,n_trials=20)\n",
    "Trial.suggest_float(name=\"learning_rate\",low= 0.1 ,high=0.95, step=0.1 )\n",
    "trial = Trial()\n",
    "trial.suggest_float(name=\"learning_rate\",low= 0.1 ,high=0.95, step=0.1 )\n",
    "# trial suggest_float 메서드는 self 가 필요한데 이렇게 익명함수 명을 함수명으로 해서 다른 함수의 인자로 넘기면 가능한가 ?\n",
    "train = train.drop(['person_rn','contents_rn'], axis=1)\n",
    "# 과적합일진 모르지만 그래도많이올랐따 만족할 수 없음\n",
    "# 0.57정도에서 0.59 정도로 mean encoding 으로 상승 -> 랜포말고 다른건 ?\n",
    "\n",
    "# :::::::::::: HYPER PARAMETER OPTUNA END  LGBM CLASSIFIER:::::::::::::::::::::::"
   ],
   "metadata": {
    "collapsed": false,
    "pycharm": {
     "name": "#%%::::::::::::::: RADNOM FOREST END :::::::::::::::::::\n"
    }
   }
  },
  {
   "cell_type": "code",
   "execution_count": 73,
   "outputs": [],
   "source": [
    "# 시작과 끝을 잘 경계짓고 , 범주를 잘 정리 변수의 위치 등"
   ],
   "metadata": {
    "collapsed": false,
    "pycharm": {
     "name": "#%%\n"
    }
   }
  },
  {
   "cell_type": "code",
   "execution_count": null,
   "outputs": [],
   "source": [
    "#define dataset\n",
    "y = y_train.values.tolist()\n",
    "# make regression to fit catboostregressor!\n",
    "X, y = make_regression(n_samples=1000, n_features=10 , n_informative=5, random_state=1)\n",
    "#evaluate the model\n",
    "model = CatBoostRegressor(verbose=0 , n_estimators=100)\n",
    "cv = RepeatedKFold(n_splits= 10 , n_repeats=3 , random_state=1)\n",
    "n_scores = cross_val_score(model, X,y , scoring='neg_mean_absolute_error', cv=cv)\n",
    "print('MAE : %.3f (%.3f)'  % (mean(n_scores), std(n_scores)))\n",
    "#fit the model on the whole dataset\n",
    "model.fit(X,y)\n",
    "# make a single prediction\n",
    "row = x_valid[[col for col in x_train.columns if 'mean_encode' in col]].values.tolist()\n",
    "#row = [[2.02220122, 0.31563495, 0.82797464, -0.30620401, 0.16003707, -1.44411381, 0.87616892, -0.50446586, 0.23009474, 0.76201118]]\n",
    "# make a single prediction\n",
    "yhat = model.predict(row)\n",
    "print('Prediction: %.3f' % yhat[0])\n",
    "(yhat == y_valid.values.tolist()).mean()\n",
    "#::::::::::::: CATBOOSTREGRESSOR END :::::::::::::::::::::#\n",
    "#catboost + cv 5fold + threshold"
   ],
   "metadata": {
    "collapsed": false,
    "pycharm": {
     "name": "#%%::::::::::::: CATBOOSTREGRESSOR START :::::::::::::::::::::#\n"
    }
   }
  },
  {
   "cell_type": "code",
   "execution_count": 1,
   "outputs": [],
   "source": [
    "#Backward difference 코딩에서\n",
    "# #수준에 대한 종속 변수의 평균은 이전 수준에 대한 종속 변수의 평균과 비교됩니다. 이러한 유형의 코딩은 명목 또는 순서 변수에 유용할 수 있습니다.'\n",
    "#In backward difference coding,\n",
    "# the mean of the dependent variable for a level is\n",
    "# compared with the mean of the dependent variable for the prior level.\n",
    "# This type of coding may be useful for a nominal or an ordinal variable.'\n",
    "\n",
    "#::::::::::::: SEABORN DATA PLOT START::::::::::::::::#\n",
    "fig, ax = plt.subplots(5,1,figsize=(10,20))\n",
    "for i in range(len(ordinal_cols)):\n",
    "    print(train_data[ordinal_cols[i]].value_counts())\n",
    "    sns.histplot(train_data[ordinal_cols[i]].values ,ax=ax[i])\n",
    "#::::::::::::: SEABORN DATA PLOT END::::::::::::::::#\n",
    "\n",
    "# 하나는 있는 거니까 , left merge는 있는 컬럼키면 그대로두고\n",
    "# 없는 컬럼 키면 그대로 붙이니까 merge가 가능하다"
   ],
   "metadata": {
    "collapsed": false,
    "pycharm": {
     "name": "#%%\n"
    }
   }
  },
  {
   "cell_type": "code",
   "execution_count": 28,
   "outputs": [
    {
     "name": "stdout",
     "output_type": "stream",
     "text": [
      "df :             id  d_l_match_yn  d_m_match_yn  d_s_match_yn  h_l_match_yn  \\\n",
      "0            0          True          True          True         False   \n",
      "1            1         False         False         False          True   \n",
      "2            2         False         False         False          True   \n",
      "3            3         False         False         False          True   \n",
      "4            4          True          True          True         False   \n",
      "...        ...           ...           ...           ...           ...   \n",
      "501946  501946         False         False         False          True   \n",
      "501947  501947          True          True         False          True   \n",
      "501948  501948          True          True          True          True   \n",
      "501949  501949          True         False         False          True   \n",
      "501950  501950          True          True          True          True   \n",
      "\n",
      "        h_m_match_yn  h_s_match_yn  person_attribute_a  person_attribute_a_1  \\\n",
      "0              False         False                   1                     4   \n",
      "1               True         False                   1                     3   \n",
      "2              False         False                   2                     0   \n",
      "3              False         False                   2                     0   \n",
      "4              False         False                   1                     3   \n",
      "...              ...           ...                 ...                   ...   \n",
      "501946         False         False                   1                     1   \n",
      "501947         False         False                   1                     6   \n",
      "501948         False         False                   1                     7   \n",
      "501949         False         False                   1                     1   \n",
      "501950         False         False                   1                     6   \n",
      "\n",
      "        person_attribute_b  ...  contents_attribute_c  contents_attribute_k  \\\n",
      "0                        3  ...                     1                     2   \n",
      "1                        4  ...                     1                     2   \n",
      "2                        3  ...                     1                     1   \n",
      "3                        2  ...                     1                     2   \n",
      "4                        4  ...                     1                     2   \n",
      "...                    ...  ...                   ...                   ...   \n",
      "501946                   2  ...                     1                     2   \n",
      "501947                   2  ...                     1                     2   \n",
      "501948                   4  ...                     1                     2   \n",
      "501949                   2  ...                     1                     2   \n",
      "501950                   3  ...                     1                     2   \n",
      "\n",
      "        contents_attribute_l  contents_attribute_d  contents_attribute_m  \\\n",
      "0                       1608                   275                     1   \n",
      "1                       1608                   275                     1   \n",
      "2                       1600                    94                     1   \n",
      "3                       1608                   275                     5   \n",
      "4                       1608                   275                     1   \n",
      "...                      ...                   ...                   ...   \n",
      "501946                   354                   147                     1   \n",
      "501947                   163                   120                     1   \n",
      "501948                   438                   147                     2   \n",
      "501949                   660                   147                     3   \n",
      "501950                   786                   147                     2   \n",
      "\n",
      "        contents_attribute_e  contents_attribute_h  person_rn  contents_rn  \\\n",
      "0                          4                   139     618822       354805   \n",
      "1                          4                   133     571659       346213   \n",
      "2                          4                    53     399816       206408   \n",
      "3                          3                    74     827967       572323   \n",
      "4                          4                    74     831614       573899   \n",
      "...                      ...                   ...        ...          ...   \n",
      "501946                     5                    65     503156       285850   \n",
      "501947                     4                   142     676255       456996   \n",
      "501948                     7                    65     484528       293258   \n",
      "501949                     4                   259     456330       273797   \n",
      "501950                     5                   289     235596       176650   \n",
      "\n",
      "           contents_open_dt  \n",
      "0       2020-01-17 12:09:36  \n",
      "1       2020-06-18 17:48:52  \n",
      "2       2020-07-08 20:00:10  \n",
      "3       2020-01-13 18:09:34  \n",
      "4       2020-03-09 20:39:22  \n",
      "...                     ...  \n",
      "501946  2020-03-13 12:55:52  \n",
      "501947  2020-01-20 11:51:51  \n",
      "501948  2020-08-05 17:27:24  \n",
      "501949  2020-06-15 09:23:21  \n",
      "501950  2020-05-25 14:34:48  \n",
      "\n",
      "[501951 rows x 34 columns]\n",
      "df_code :        person_prefer_d_1  person_prefer_d_1_속성 D 세분류코드  \\\n",
      "0                     4                             4   \n",
      "1                     5                             5   \n",
      "2                     7                             7   \n",
      "3                     8                             8   \n",
      "4                     9                             8   \n",
      "...                 ...                           ...   \n",
      "1109               1254                          1254   \n",
      "1110               1255                          1254   \n",
      "1111               1256                          1254   \n",
      "1112               1257                          1254   \n",
      "1113               1258                          1258   \n",
      "\n",
      "      person_prefer_d_1_속성 D 소분류코드  person_prefer_d_1_속성 D 중분류코드  \n",
      "0                                3                             2  \n",
      "1                                3                             2  \n",
      "2                                6                             2  \n",
      "3                                6                             2  \n",
      "4                                6                             2  \n",
      "...                            ...                           ...  \n",
      "1109                          1254                          1235  \n",
      "1110                          1254                          1235  \n",
      "1111                          1254                          1235  \n",
      "1112                          1254                          1235  \n",
      "1113                          1258                          1258  \n",
      "\n",
      "[1114 rows x 4 columns]\n",
      "merge data :              id  d_l_match_yn  d_m_match_yn  d_s_match_yn  h_l_match_yn  \\\n",
      "0            0          True          True          True         False   \n",
      "1            1         False         False         False          True   \n",
      "2            2         False         False         False          True   \n",
      "3            3         False         False         False          True   \n",
      "4            4          True          True          True         False   \n",
      "...        ...           ...           ...           ...           ...   \n",
      "501946  501946         False         False         False          True   \n",
      "501947  501947          True          True         False          True   \n",
      "501948  501948          True          True          True          True   \n",
      "501949  501949          True         False         False          True   \n",
      "501950  501950          True          True          True          True   \n",
      "\n",
      "        h_m_match_yn  h_s_match_yn  person_attribute_a  person_attribute_a_1  \\\n",
      "0              False         False                   1                     4   \n",
      "1               True         False                   1                     3   \n",
      "2              False         False                   2                     0   \n",
      "3              False         False                   2                     0   \n",
      "4              False         False                   1                     3   \n",
      "...              ...           ...                 ...                   ...   \n",
      "501946         False         False                   1                     1   \n",
      "501947         False         False                   1                     6   \n",
      "501948         False         False                   1                     7   \n",
      "501949         False         False                   1                     1   \n",
      "501950         False         False                   1                     6   \n",
      "\n",
      "        person_attribute_b  ...  contents_attribute_d  contents_attribute_m  \\\n",
      "0                        3  ...                   275                     1   \n",
      "1                        4  ...                   275                     1   \n",
      "2                        3  ...                    94                     1   \n",
      "3                        2  ...                   275                     5   \n",
      "4                        4  ...                   275                     1   \n",
      "...                    ...  ...                   ...                   ...   \n",
      "501946                   2  ...                   147                     1   \n",
      "501947                   2  ...                   120                     1   \n",
      "501948                   4  ...                   147                     2   \n",
      "501949                   2  ...                   147                     3   \n",
      "501950                   3  ...                   147                     2   \n",
      "\n",
      "        contents_attribute_e  contents_attribute_h  person_rn  contents_rn  \\\n",
      "0                          4                   139     618822       354805   \n",
      "1                          4                   133     571659       346213   \n",
      "2                          4                    53     399816       206408   \n",
      "3                          3                    74     827967       572323   \n",
      "4                          4                    74     831614       573899   \n",
      "...                      ...                   ...        ...          ...   \n",
      "501946                     5                    65     503156       285850   \n",
      "501947                     4                   142     676255       456996   \n",
      "501948                     7                    65     484528       293258   \n",
      "501949                     4                   259     456330       273797   \n",
      "501950                     5                   289     235596       176650   \n",
      "\n",
      "           contents_open_dt  person_prefer_d_1_속성 D 세분류코드  \\\n",
      "0       2020-01-17 12:09:36                           275   \n",
      "1       2020-06-18 17:48:52                           114   \n",
      "2       2020-07-08 20:00:10                           464   \n",
      "3       2020-01-13 18:09:34                           703   \n",
      "4       2020-03-09 20:39:22                           275   \n",
      "...                     ...                           ...   \n",
      "501946  2020-03-13 12:55:52                          1192   \n",
      "501947  2020-01-20 11:51:51                           114   \n",
      "501948  2020-08-05 17:27:24                           145   \n",
      "501949  2020-06-15 09:23:21                            46   \n",
      "501950  2020-05-25 14:34:48                           145   \n",
      "\n",
      "        person_prefer_d_1_속성 D 소분류코드  person_prefer_d_1_속성 D 중분류코드  \n",
      "0                                274                           274  \n",
      "1                                109                            56  \n",
      "2                                463                           450  \n",
      "3                                703                           690  \n",
      "4                                274                           274  \n",
      "...                              ...                           ...  \n",
      "501946                          1180                          1169  \n",
      "501947                           109                            56  \n",
      "501948                           123                            56  \n",
      "501949                            43                             2  \n",
      "501950                           123                            56  \n",
      "\n",
      "[501951 rows x 37 columns]\n",
      "df :             id  d_l_match_yn  d_m_match_yn  d_s_match_yn  h_l_match_yn  \\\n",
      "0            0          True          True          True         False   \n",
      "1            1         False         False         False          True   \n",
      "2            2         False         False         False          True   \n",
      "3            3         False         False         False          True   \n",
      "4            4          True          True          True         False   \n",
      "...        ...           ...           ...           ...           ...   \n",
      "501946  501946         False         False         False          True   \n",
      "501947  501947          True          True         False          True   \n",
      "501948  501948          True          True          True          True   \n",
      "501949  501949          True         False         False          True   \n",
      "501950  501950          True          True          True          True   \n",
      "\n",
      "        h_m_match_yn  h_s_match_yn  person_attribute_a  person_attribute_a_1  \\\n",
      "0              False         False                   1                     4   \n",
      "1               True         False                   1                     3   \n",
      "2              False         False                   2                     0   \n",
      "3              False         False                   2                     0   \n",
      "4              False         False                   1                     3   \n",
      "...              ...           ...                 ...                   ...   \n",
      "501946         False         False                   1                     1   \n",
      "501947         False         False                   1                     6   \n",
      "501948         False         False                   1                     7   \n",
      "501949         False         False                   1                     1   \n",
      "501950         False         False                   1                     6   \n",
      "\n",
      "        person_attribute_b  ...  contents_attribute_d  contents_attribute_m  \\\n",
      "0                        3  ...                   275                     1   \n",
      "1                        4  ...                   275                     1   \n",
      "2                        3  ...                    94                     1   \n",
      "3                        2  ...                   275                     5   \n",
      "4                        4  ...                   275                     1   \n",
      "...                    ...  ...                   ...                   ...   \n",
      "501946                   2  ...                   147                     1   \n",
      "501947                   2  ...                   120                     1   \n",
      "501948                   4  ...                   147                     2   \n",
      "501949                   2  ...                   147                     3   \n",
      "501950                   3  ...                   147                     2   \n",
      "\n",
      "        contents_attribute_e  contents_attribute_h  person_rn  contents_rn  \\\n",
      "0                          4                   139     618822       354805   \n",
      "1                          4                   133     571659       346213   \n",
      "2                          4                    53     399816       206408   \n",
      "3                          3                    74     827967       572323   \n",
      "4                          4                    74     831614       573899   \n",
      "...                      ...                   ...        ...          ...   \n",
      "501946                     5                    65     503156       285850   \n",
      "501947                     4                   142     676255       456996   \n",
      "501948                     7                    65     484528       293258   \n",
      "501949                     4                   259     456330       273797   \n",
      "501950                     5                   289     235596       176650   \n",
      "\n",
      "           contents_open_dt  person_prefer_d_1_속성 D 세분류코드  \\\n",
      "0       2020-01-17 12:09:36                           275   \n",
      "1       2020-06-18 17:48:52                           114   \n",
      "2       2020-07-08 20:00:10                           464   \n",
      "3       2020-01-13 18:09:34                           703   \n",
      "4       2020-03-09 20:39:22                           275   \n",
      "...                     ...                           ...   \n",
      "501946  2020-03-13 12:55:52                          1192   \n",
      "501947  2020-01-20 11:51:51                           114   \n",
      "501948  2020-08-05 17:27:24                           145   \n",
      "501949  2020-06-15 09:23:21                            46   \n",
      "501950  2020-05-25 14:34:48                           145   \n",
      "\n",
      "        person_prefer_d_1_속성 D 소분류코드  person_prefer_d_1_속성 D 중분류코드  \n",
      "0                                274                           274  \n",
      "1                                109                            56  \n",
      "2                                463                           450  \n",
      "3                                703                           690  \n",
      "4                                274                           274  \n",
      "...                              ...                           ...  \n",
      "501946                          1180                          1169  \n",
      "501947                           109                            56  \n",
      "501948                           123                            56  \n",
      "501949                            43                             2  \n",
      "501950                           123                            56  \n",
      "\n",
      "[501951 rows x 37 columns]\n",
      "df_code :        person_prefer_d_2  person_prefer_d_2_속성 D 세분류코드  \\\n",
      "0                     4                             4   \n",
      "1                     5                             5   \n",
      "2                     7                             7   \n",
      "3                     8                             8   \n",
      "4                     9                             8   \n",
      "...                 ...                           ...   \n",
      "1109               1254                          1254   \n",
      "1110               1255                          1254   \n",
      "1111               1256                          1254   \n",
      "1112               1257                          1254   \n",
      "1113               1258                          1258   \n",
      "\n",
      "      person_prefer_d_2_속성 D 소분류코드  person_prefer_d_2_속성 D 중분류코드  \n",
      "0                                3                             2  \n",
      "1                                3                             2  \n",
      "2                                6                             2  \n",
      "3                                6                             2  \n",
      "4                                6                             2  \n",
      "...                            ...                           ...  \n",
      "1109                          1254                          1235  \n",
      "1110                          1254                          1235  \n",
      "1111                          1254                          1235  \n",
      "1112                          1254                          1235  \n",
      "1113                          1258                          1258  \n",
      "\n",
      "[1114 rows x 4 columns]\n",
      "merge data :              id  d_l_match_yn  d_m_match_yn  d_s_match_yn  h_l_match_yn  \\\n",
      "0            0          True          True          True         False   \n",
      "1            1         False         False         False          True   \n",
      "2            2         False         False         False          True   \n",
      "3            3         False         False         False          True   \n",
      "4            4          True          True          True         False   \n",
      "...        ...           ...           ...           ...           ...   \n",
      "501946  501946         False         False         False          True   \n",
      "501947  501947          True          True         False          True   \n",
      "501948  501948          True          True          True          True   \n",
      "501949  501949          True         False         False          True   \n",
      "501950  501950          True          True          True          True   \n",
      "\n",
      "        h_m_match_yn  h_s_match_yn  person_attribute_a  person_attribute_a_1  \\\n",
      "0              False         False                   1                     4   \n",
      "1               True         False                   1                     3   \n",
      "2              False         False                   2                     0   \n",
      "3              False         False                   2                     0   \n",
      "4              False         False                   1                     3   \n",
      "...              ...           ...                 ...                   ...   \n",
      "501946         False         False                   1                     1   \n",
      "501947         False         False                   1                     6   \n",
      "501948         False         False                   1                     7   \n",
      "501949         False         False                   1                     1   \n",
      "501950         False         False                   1                     6   \n",
      "\n",
      "        person_attribute_b  ...  contents_attribute_h  person_rn  contents_rn  \\\n",
      "0                        3  ...                   139     618822       354805   \n",
      "1                        4  ...                   133     571659       346213   \n",
      "2                        3  ...                    53     399816       206408   \n",
      "3                        2  ...                    74     827967       572323   \n",
      "4                        4  ...                    74     831614       573899   \n",
      "...                    ...  ...                   ...        ...          ...   \n",
      "501946                   2  ...                    65     503156       285850   \n",
      "501947                   2  ...                   142     676255       456996   \n",
      "501948                   4  ...                    65     484528       293258   \n",
      "501949                   2  ...                   259     456330       273797   \n",
      "501950                   3  ...                   289     235596       176650   \n",
      "\n",
      "           contents_open_dt  person_prefer_d_1_속성 D 세분류코드  \\\n",
      "0       2020-01-17 12:09:36                           275   \n",
      "1       2020-06-18 17:48:52                           114   \n",
      "2       2020-07-08 20:00:10                           464   \n",
      "3       2020-01-13 18:09:34                           703   \n",
      "4       2020-03-09 20:39:22                           275   \n",
      "...                     ...                           ...   \n",
      "501946  2020-03-13 12:55:52                          1192   \n",
      "501947  2020-01-20 11:51:51                           114   \n",
      "501948  2020-08-05 17:27:24                           145   \n",
      "501949  2020-06-15 09:23:21                            46   \n",
      "501950  2020-05-25 14:34:48                           145   \n",
      "\n",
      "        person_prefer_d_1_속성 D 소분류코드  person_prefer_d_1_속성 D 중분류코드  \\\n",
      "0                                274                           274   \n",
      "1                                109                            56   \n",
      "2                                463                           450   \n",
      "3                                703                           690   \n",
      "4                                274                           274   \n",
      "...                              ...                           ...   \n",
      "501946                          1180                          1169   \n",
      "501947                           109                            56   \n",
      "501948                           123                            56   \n",
      "501949                            43                             2   \n",
      "501950                           123                            56   \n",
      "\n",
      "        person_prefer_d_2_속성 D 세분류코드  person_prefer_d_2_속성 D 소분류코드  \\\n",
      "0                                369                           368   \n",
      "1                                175                           152   \n",
      "2                                175                           152   \n",
      "3                                703                           703   \n",
      "4                                369                           368   \n",
      "...                              ...                           ...   \n",
      "501946                           929                           928   \n",
      "501947                           110                           109   \n",
      "501948                            46                            43   \n",
      "501949                           145                           123   \n",
      "501950                            46                            43   \n",
      "\n",
      "        person_prefer_d_2_속성 D 중분류코드  \n",
      "0                                297  \n",
      "1                                 56  \n",
      "2                                 56  \n",
      "3                                690  \n",
      "4                                297  \n",
      "...                              ...  \n",
      "501946                           927  \n",
      "501947                            56  \n",
      "501948                             2  \n",
      "501949                            56  \n",
      "501950                             2  \n",
      "\n",
      "[501951 rows x 40 columns]\n",
      "df :             id  d_l_match_yn  d_m_match_yn  d_s_match_yn  h_l_match_yn  \\\n",
      "0            0          True          True          True         False   \n",
      "1            1         False         False         False          True   \n",
      "2            2         False         False         False          True   \n",
      "3            3         False         False         False          True   \n",
      "4            4          True          True          True         False   \n",
      "...        ...           ...           ...           ...           ...   \n",
      "501946  501946         False         False         False          True   \n",
      "501947  501947          True          True         False          True   \n",
      "501948  501948          True          True          True          True   \n",
      "501949  501949          True         False         False          True   \n",
      "501950  501950          True          True          True          True   \n",
      "\n",
      "        h_m_match_yn  h_s_match_yn  person_attribute_a  person_attribute_a_1  \\\n",
      "0              False         False                   1                     4   \n",
      "1               True         False                   1                     3   \n",
      "2              False         False                   2                     0   \n",
      "3              False         False                   2                     0   \n",
      "4              False         False                   1                     3   \n",
      "...              ...           ...                 ...                   ...   \n",
      "501946         False         False                   1                     1   \n",
      "501947         False         False                   1                     6   \n",
      "501948         False         False                   1                     7   \n",
      "501949         False         False                   1                     1   \n",
      "501950         False         False                   1                     6   \n",
      "\n",
      "        person_attribute_b  ...  contents_attribute_h  person_rn  contents_rn  \\\n",
      "0                        3  ...                   139     618822       354805   \n",
      "1                        4  ...                   133     571659       346213   \n",
      "2                        3  ...                    53     399816       206408   \n",
      "3                        2  ...                    74     827967       572323   \n",
      "4                        4  ...                    74     831614       573899   \n",
      "...                    ...  ...                   ...        ...          ...   \n",
      "501946                   2  ...                    65     503156       285850   \n",
      "501947                   2  ...                   142     676255       456996   \n",
      "501948                   4  ...                    65     484528       293258   \n",
      "501949                   2  ...                   259     456330       273797   \n",
      "501950                   3  ...                   289     235596       176650   \n",
      "\n",
      "           contents_open_dt  person_prefer_d_1_속성 D 세분류코드  \\\n",
      "0       2020-01-17 12:09:36                           275   \n",
      "1       2020-06-18 17:48:52                           114   \n",
      "2       2020-07-08 20:00:10                           464   \n",
      "3       2020-01-13 18:09:34                           703   \n",
      "4       2020-03-09 20:39:22                           275   \n",
      "...                     ...                           ...   \n",
      "501946  2020-03-13 12:55:52                          1192   \n",
      "501947  2020-01-20 11:51:51                           114   \n",
      "501948  2020-08-05 17:27:24                           145   \n",
      "501949  2020-06-15 09:23:21                            46   \n",
      "501950  2020-05-25 14:34:48                           145   \n",
      "\n",
      "        person_prefer_d_1_속성 D 소분류코드  person_prefer_d_1_속성 D 중분류코드  \\\n",
      "0                                274                           274   \n",
      "1                                109                            56   \n",
      "2                                463                           450   \n",
      "3                                703                           690   \n",
      "4                                274                           274   \n",
      "...                              ...                           ...   \n",
      "501946                          1180                          1169   \n",
      "501947                           109                            56   \n",
      "501948                           123                            56   \n",
      "501949                            43                             2   \n",
      "501950                           123                            56   \n",
      "\n",
      "        person_prefer_d_2_속성 D 세분류코드  person_prefer_d_2_속성 D 소분류코드  \\\n",
      "0                                369                           368   \n",
      "1                                175                           152   \n",
      "2                                175                           152   \n",
      "3                                703                           703   \n",
      "4                                369                           368   \n",
      "...                              ...                           ...   \n",
      "501946                           929                           928   \n",
      "501947                           110                           109   \n",
      "501948                            46                            43   \n",
      "501949                           145                           123   \n",
      "501950                            46                            43   \n",
      "\n",
      "        person_prefer_d_2_속성 D 중분류코드  \n",
      "0                                297  \n",
      "1                                 56  \n",
      "2                                 56  \n",
      "3                                690  \n",
      "4                                297  \n",
      "...                              ...  \n",
      "501946                           927  \n",
      "501947                            56  \n",
      "501948                             2  \n",
      "501949                            56  \n",
      "501950                             2  \n",
      "\n",
      "[501951 rows x 40 columns]\n",
      "df_code :        person_prefer_d_3  person_prefer_d_3_속성 D 세분류코드  \\\n",
      "0                     4                             4   \n",
      "1                     5                             5   \n",
      "2                     7                             7   \n",
      "3                     8                             8   \n",
      "4                     9                             8   \n",
      "...                 ...                           ...   \n",
      "1109               1254                          1254   \n",
      "1110               1255                          1254   \n",
      "1111               1256                          1254   \n",
      "1112               1257                          1254   \n",
      "1113               1258                          1258   \n",
      "\n",
      "      person_prefer_d_3_속성 D 소분류코드  person_prefer_d_3_속성 D 중분류코드  \n",
      "0                                3                             2  \n",
      "1                                3                             2  \n",
      "2                                6                             2  \n",
      "3                                6                             2  \n",
      "4                                6                             2  \n",
      "...                            ...                           ...  \n",
      "1109                          1254                          1235  \n",
      "1110                          1254                          1235  \n",
      "1111                          1254                          1235  \n",
      "1112                          1254                          1235  \n",
      "1113                          1258                          1258  \n",
      "\n",
      "[1114 rows x 4 columns]\n",
      "merge data :              id  d_l_match_yn  d_m_match_yn  d_s_match_yn  h_l_match_yn  \\\n",
      "0            0          True          True          True         False   \n",
      "1            1         False         False         False          True   \n",
      "2            2         False         False         False          True   \n",
      "3            3         False         False         False          True   \n",
      "4            4          True          True          True         False   \n",
      "...        ...           ...           ...           ...           ...   \n",
      "501946  501946         False         False         False          True   \n",
      "501947  501947          True          True         False          True   \n",
      "501948  501948          True          True          True          True   \n",
      "501949  501949          True         False         False          True   \n",
      "501950  501950          True          True          True          True   \n",
      "\n",
      "        h_m_match_yn  h_s_match_yn  person_attribute_a  person_attribute_a_1  \\\n",
      "0              False         False                   1                     4   \n",
      "1               True         False                   1                     3   \n",
      "2              False         False                   2                     0   \n",
      "3              False         False                   2                     0   \n",
      "4              False         False                   1                     3   \n",
      "...              ...           ...                 ...                   ...   \n",
      "501946         False         False                   1                     1   \n",
      "501947         False         False                   1                     6   \n",
      "501948         False         False                   1                     7   \n",
      "501949         False         False                   1                     1   \n",
      "501950         False         False                   1                     6   \n",
      "\n",
      "        person_attribute_b  ...     contents_open_dt  \\\n",
      "0                        3  ...  2020-01-17 12:09:36   \n",
      "1                        4  ...  2020-06-18 17:48:52   \n",
      "2                        3  ...  2020-07-08 20:00:10   \n",
      "3                        2  ...  2020-01-13 18:09:34   \n",
      "4                        4  ...  2020-03-09 20:39:22   \n",
      "...                    ...  ...                  ...   \n",
      "501946                   2  ...  2020-03-13 12:55:52   \n",
      "501947                   2  ...  2020-01-20 11:51:51   \n",
      "501948                   4  ...  2020-08-05 17:27:24   \n",
      "501949                   2  ...  2020-06-15 09:23:21   \n",
      "501950                   3  ...  2020-05-25 14:34:48   \n",
      "\n",
      "        person_prefer_d_1_속성 D 세분류코드  person_prefer_d_1_속성 D 소분류코드  \\\n",
      "0                                275                           274   \n",
      "1                                114                           109   \n",
      "2                                464                           463   \n",
      "3                                703                           703   \n",
      "4                                275                           274   \n",
      "...                              ...                           ...   \n",
      "501946                          1192                          1180   \n",
      "501947                           114                           109   \n",
      "501948                           145                           123   \n",
      "501949                            46                            43   \n",
      "501950                           145                           123   \n",
      "\n",
      "        person_prefer_d_1_속성 D 중분류코드  person_prefer_d_2_속성 D 세분류코드  \\\n",
      "0                                274                           369   \n",
      "1                                 56                           175   \n",
      "2                                450                           175   \n",
      "3                                690                           703   \n",
      "4                                274                           369   \n",
      "...                              ...                           ...   \n",
      "501946                          1169                           929   \n",
      "501947                            56                           110   \n",
      "501948                            56                            46   \n",
      "501949                             2                           145   \n",
      "501950                            56                            46   \n",
      "\n",
      "        person_prefer_d_2_속성 D 소분류코드  person_prefer_d_2_속성 D 중분류코드  \\\n",
      "0                                368                           297   \n",
      "1                                152                            56   \n",
      "2                                152                            56   \n",
      "3                                703                           690   \n",
      "4                                368                           297   \n",
      "...                              ...                           ...   \n",
      "501946                           928                           927   \n",
      "501947                           109                            56   \n",
      "501948                            43                             2   \n",
      "501949                           123                            56   \n",
      "501950                            43                             2   \n",
      "\n",
      "        person_prefer_d_3_속성 D 세분류코드  person_prefer_d_3_속성 D 소분류코드  \\\n",
      "0                                369                           368   \n",
      "1                                175                           152   \n",
      "2                                452                           451   \n",
      "3                                703                           703   \n",
      "4                                369                           368   \n",
      "...                              ...                           ...   \n",
      "501946                          1227                          1227   \n",
      "501947                           110                           109   \n",
      "501948                           145                           123   \n",
      "501949                           145                           123   \n",
      "501950                           145                           123   \n",
      "\n",
      "        person_prefer_d_3_속성 D 중분류코드  \n",
      "0                                297  \n",
      "1                                 56  \n",
      "2                                450  \n",
      "3                                690  \n",
      "4                                297  \n",
      "...                              ...  \n",
      "501946                          1227  \n",
      "501947                            56  \n",
      "501948                            56  \n",
      "501949                            56  \n",
      "501950                            56  \n",
      "\n",
      "[501951 rows x 43 columns]\n",
      "df :             id  d_l_match_yn  d_m_match_yn  d_s_match_yn  h_l_match_yn  \\\n",
      "0            0          True          True          True         False   \n",
      "1            1         False         False         False          True   \n",
      "2            2         False         False         False          True   \n",
      "3            3         False         False         False          True   \n",
      "4            4          True          True          True         False   \n",
      "...        ...           ...           ...           ...           ...   \n",
      "501946  501946         False         False         False          True   \n",
      "501947  501947          True          True         False          True   \n",
      "501948  501948          True          True          True          True   \n",
      "501949  501949          True         False         False          True   \n",
      "501950  501950          True          True          True          True   \n",
      "\n",
      "        h_m_match_yn  h_s_match_yn  person_attribute_a  person_attribute_a_1  \\\n",
      "0              False         False                   1                     4   \n",
      "1               True         False                   1                     3   \n",
      "2              False         False                   2                     0   \n",
      "3              False         False                   2                     0   \n",
      "4              False         False                   1                     3   \n",
      "...              ...           ...                 ...                   ...   \n",
      "501946         False         False                   1                     1   \n",
      "501947         False         False                   1                     6   \n",
      "501948         False         False                   1                     7   \n",
      "501949         False         False                   1                     1   \n",
      "501950         False         False                   1                     6   \n",
      "\n",
      "        person_attribute_b  ...     contents_open_dt  \\\n",
      "0                        3  ...  2020-01-17 12:09:36   \n",
      "1                        4  ...  2020-06-18 17:48:52   \n",
      "2                        3  ...  2020-07-08 20:00:10   \n",
      "3                        2  ...  2020-01-13 18:09:34   \n",
      "4                        4  ...  2020-03-09 20:39:22   \n",
      "...                    ...  ...                  ...   \n",
      "501946                   2  ...  2020-03-13 12:55:52   \n",
      "501947                   2  ...  2020-01-20 11:51:51   \n",
      "501948                   4  ...  2020-08-05 17:27:24   \n",
      "501949                   2  ...  2020-06-15 09:23:21   \n",
      "501950                   3  ...  2020-05-25 14:34:48   \n",
      "\n",
      "        person_prefer_d_1_속성 D 세분류코드  person_prefer_d_1_속성 D 소분류코드  \\\n",
      "0                                275                           274   \n",
      "1                                114                           109   \n",
      "2                                464                           463   \n",
      "3                                703                           703   \n",
      "4                                275                           274   \n",
      "...                              ...                           ...   \n",
      "501946                          1192                          1180   \n",
      "501947                           114                           109   \n",
      "501948                           145                           123   \n",
      "501949                            46                            43   \n",
      "501950                           145                           123   \n",
      "\n",
      "        person_prefer_d_1_속성 D 중분류코드  person_prefer_d_2_속성 D 세분류코드  \\\n",
      "0                                274                           369   \n",
      "1                                 56                           175   \n",
      "2                                450                           175   \n",
      "3                                690                           703   \n",
      "4                                274                           369   \n",
      "...                              ...                           ...   \n",
      "501946                          1169                           929   \n",
      "501947                            56                           110   \n",
      "501948                            56                            46   \n",
      "501949                             2                           145   \n",
      "501950                            56                            46   \n",
      "\n",
      "        person_prefer_d_2_속성 D 소분류코드  person_prefer_d_2_속성 D 중분류코드  \\\n",
      "0                                368                           297   \n",
      "1                                152                            56   \n",
      "2                                152                            56   \n",
      "3                                703                           690   \n",
      "4                                368                           297   \n",
      "...                              ...                           ...   \n",
      "501946                           928                           927   \n",
      "501947                           109                            56   \n",
      "501948                            43                             2   \n",
      "501949                           123                            56   \n",
      "501950                            43                             2   \n",
      "\n",
      "        person_prefer_d_3_속성 D 세분류코드  person_prefer_d_3_속성 D 소분류코드  \\\n",
      "0                                369                           368   \n",
      "1                                175                           152   \n",
      "2                                452                           451   \n",
      "3                                703                           703   \n",
      "4                                369                           368   \n",
      "...                              ...                           ...   \n",
      "501946                          1227                          1227   \n",
      "501947                           110                           109   \n",
      "501948                           145                           123   \n",
      "501949                           145                           123   \n",
      "501950                           145                           123   \n",
      "\n",
      "        person_prefer_d_3_속성 D 중분류코드  \n",
      "0                                297  \n",
      "1                                 56  \n",
      "2                                450  \n",
      "3                                690  \n",
      "4                                297  \n",
      "...                              ...  \n",
      "501946                          1227  \n",
      "501947                            56  \n",
      "501948                            56  \n",
      "501949                            56  \n",
      "501950                            56  \n",
      "\n",
      "[501951 rows x 43 columns]\n",
      "df_code :        contents_attribute_d  contents_attribute_d_속성 D 세분류코드  \\\n",
      "0                        4                                4   \n",
      "1                        5                                5   \n",
      "2                        7                                7   \n",
      "3                        8                                8   \n",
      "4                        9                                8   \n",
      "...                    ...                              ...   \n",
      "1109                  1254                             1254   \n",
      "1110                  1255                             1254   \n",
      "1111                  1256                             1254   \n",
      "1112                  1257                             1254   \n",
      "1113                  1258                             1258   \n",
      "\n",
      "      contents_attribute_d_속성 D 소분류코드  contents_attribute_d_속성 D 중분류코드  \n",
      "0                                   3                                2  \n",
      "1                                   3                                2  \n",
      "2                                   6                                2  \n",
      "3                                   6                                2  \n",
      "4                                   6                                2  \n",
      "...                               ...                              ...  \n",
      "1109                             1254                             1235  \n",
      "1110                             1254                             1235  \n",
      "1111                             1254                             1235  \n",
      "1112                             1254                             1235  \n",
      "1113                             1258                             1258  \n",
      "\n",
      "[1114 rows x 4 columns]\n",
      "merge data :              id  d_l_match_yn  d_m_match_yn  d_s_match_yn  h_l_match_yn  \\\n",
      "0            0          True          True          True         False   \n",
      "1            1         False         False         False          True   \n",
      "2            2         False         False         False          True   \n",
      "3            3         False         False         False          True   \n",
      "4            4          True          True          True         False   \n",
      "...        ...           ...           ...           ...           ...   \n",
      "501946  501946         False         False         False          True   \n",
      "501947  501947          True          True         False          True   \n",
      "501948  501948          True          True          True          True   \n",
      "501949  501949          True         False         False          True   \n",
      "501950  501950          True          True          True          True   \n",
      "\n",
      "        h_m_match_yn  h_s_match_yn  person_attribute_a  person_attribute_a_1  \\\n",
      "0              False         False                   1                     4   \n",
      "1               True         False                   1                     3   \n",
      "2              False         False                   2                     0   \n",
      "3              False         False                   2                     0   \n",
      "4              False         False                   1                     3   \n",
      "...              ...           ...                 ...                   ...   \n",
      "501946         False         False                   1                     1   \n",
      "501947         False         False                   1                     6   \n",
      "501948         False         False                   1                     7   \n",
      "501949         False         False                   1                     1   \n",
      "501950         False         False                   1                     6   \n",
      "\n",
      "        person_attribute_b  ...  person_prefer_d_1_속성 D 중분류코드  \\\n",
      "0                        3  ...                           274   \n",
      "1                        4  ...                            56   \n",
      "2                        3  ...                           450   \n",
      "3                        2  ...                           690   \n",
      "4                        4  ...                           274   \n",
      "...                    ...  ...                           ...   \n",
      "501946                   2  ...                          1169   \n",
      "501947                   2  ...                            56   \n",
      "501948                   4  ...                            56   \n",
      "501949                   2  ...                             2   \n",
      "501950                   3  ...                            56   \n",
      "\n",
      "        person_prefer_d_2_속성 D 세분류코드  person_prefer_d_2_속성 D 소분류코드  \\\n",
      "0                                369                           368   \n",
      "1                                175                           152   \n",
      "2                                175                           152   \n",
      "3                                703                           703   \n",
      "4                                369                           368   \n",
      "...                              ...                           ...   \n",
      "501946                           929                           928   \n",
      "501947                           110                           109   \n",
      "501948                            46                            43   \n",
      "501949                           145                           123   \n",
      "501950                            46                            43   \n",
      "\n",
      "        person_prefer_d_2_속성 D 중분류코드  person_prefer_d_3_속성 D 세분류코드  \\\n",
      "0                                297                           369   \n",
      "1                                 56                           175   \n",
      "2                                 56                           452   \n",
      "3                                690                           703   \n",
      "4                                297                           369   \n",
      "...                              ...                           ...   \n",
      "501946                           927                          1227   \n",
      "501947                            56                           110   \n",
      "501948                             2                           145   \n",
      "501949                            56                           145   \n",
      "501950                             2                           145   \n",
      "\n",
      "        person_prefer_d_3_속성 D 소분류코드  person_prefer_d_3_속성 D 중분류코드  \\\n",
      "0                                368                           297   \n",
      "1                                152                            56   \n",
      "2                                451                           450   \n",
      "3                                703                           690   \n",
      "4                                368                           297   \n",
      "...                              ...                           ...   \n",
      "501946                          1227                          1227   \n",
      "501947                           109                            56   \n",
      "501948                           123                            56   \n",
      "501949                           123                            56   \n",
      "501950                           123                            56   \n",
      "\n",
      "        contents_attribute_d_속성 D 세분류코드  contents_attribute_d_속성 D 소분류코드  \\\n",
      "0                                   275                              274   \n",
      "1                                   275                              274   \n",
      "2                                    92                               91   \n",
      "3                                   275                              274   \n",
      "4                                   275                              274   \n",
      "...                                 ...                              ...   \n",
      "501946                              145                              123   \n",
      "501947                              114                              109   \n",
      "501948                              145                              123   \n",
      "501949                              145                              123   \n",
      "501950                              145                              123   \n",
      "\n",
      "        contents_attribute_d_속성 D 중분류코드  \n",
      "0                                   274  \n",
      "1                                   274  \n",
      "2                                    56  \n",
      "3                                   274  \n",
      "4                                   274  \n",
      "...                                 ...  \n",
      "501946                               56  \n",
      "501947                               56  \n",
      "501948                               56  \n",
      "501949                               56  \n",
      "501950                               56  \n",
      "\n",
      "[501951 rows x 46 columns]\n",
      "df :             id  d_l_match_yn  d_m_match_yn  d_s_match_yn  h_l_match_yn  \\\n",
      "0            0          True          True          True         False   \n",
      "1            1         False         False         False          True   \n",
      "2            2         False         False         False          True   \n",
      "3            3         False         False         False          True   \n",
      "4            4          True          True          True         False   \n",
      "...        ...           ...           ...           ...           ...   \n",
      "501946  501946         False         False         False          True   \n",
      "501947  501947          True          True         False          True   \n",
      "501948  501948          True          True          True          True   \n",
      "501949  501949          True         False         False          True   \n",
      "501950  501950          True          True          True          True   \n",
      "\n",
      "        h_m_match_yn  h_s_match_yn  person_attribute_a  person_attribute_a_1  \\\n",
      "0              False         False                   1                     4   \n",
      "1               True         False                   1                     3   \n",
      "2              False         False                   2                     0   \n",
      "3              False         False                   2                     0   \n",
      "4              False         False                   1                     3   \n",
      "...              ...           ...                 ...                   ...   \n",
      "501946         False         False                   1                     1   \n",
      "501947         False         False                   1                     6   \n",
      "501948         False         False                   1                     7   \n",
      "501949         False         False                   1                     1   \n",
      "501950         False         False                   1                     6   \n",
      "\n",
      "        person_attribute_b  ...  person_prefer_d_1_속성 D 중분류코드  \\\n",
      "0                        3  ...                           274   \n",
      "1                        4  ...                            56   \n",
      "2                        3  ...                           450   \n",
      "3                        2  ...                           690   \n",
      "4                        4  ...                           274   \n",
      "...                    ...  ...                           ...   \n",
      "501946                   2  ...                          1169   \n",
      "501947                   2  ...                            56   \n",
      "501948                   4  ...                            56   \n",
      "501949                   2  ...                             2   \n",
      "501950                   3  ...                            56   \n",
      "\n",
      "        person_prefer_d_2_속성 D 세분류코드  person_prefer_d_2_속성 D 소분류코드  \\\n",
      "0                                369                           368   \n",
      "1                                175                           152   \n",
      "2                                175                           152   \n",
      "3                                703                           703   \n",
      "4                                369                           368   \n",
      "...                              ...                           ...   \n",
      "501946                           929                           928   \n",
      "501947                           110                           109   \n",
      "501948                            46                            43   \n",
      "501949                           145                           123   \n",
      "501950                            46                            43   \n",
      "\n",
      "        person_prefer_d_2_속성 D 중분류코드  person_prefer_d_3_속성 D 세분류코드  \\\n",
      "0                                297                           369   \n",
      "1                                 56                           175   \n",
      "2                                 56                           452   \n",
      "3                                690                           703   \n",
      "4                                297                           369   \n",
      "...                              ...                           ...   \n",
      "501946                           927                          1227   \n",
      "501947                            56                           110   \n",
      "501948                             2                           145   \n",
      "501949                            56                           145   \n",
      "501950                             2                           145   \n",
      "\n",
      "        person_prefer_d_3_속성 D 소분류코드  person_prefer_d_3_속성 D 중분류코드  \\\n",
      "0                                368                           297   \n",
      "1                                152                            56   \n",
      "2                                451                           450   \n",
      "3                                703                           690   \n",
      "4                                368                           297   \n",
      "...                              ...                           ...   \n",
      "501946                          1227                          1227   \n",
      "501947                           109                            56   \n",
      "501948                           123                            56   \n",
      "501949                           123                            56   \n",
      "501950                           123                            56   \n",
      "\n",
      "        contents_attribute_d_속성 D 세분류코드  contents_attribute_d_속성 D 소분류코드  \\\n",
      "0                                   275                              274   \n",
      "1                                   275                              274   \n",
      "2                                    92                               91   \n",
      "3                                   275                              274   \n",
      "4                                   275                              274   \n",
      "...                                 ...                              ...   \n",
      "501946                              145                              123   \n",
      "501947                              114                              109   \n",
      "501948                              145                              123   \n",
      "501949                              145                              123   \n",
      "501950                              145                              123   \n",
      "\n",
      "        contents_attribute_d_속성 D 중분류코드  \n",
      "0                                   274  \n",
      "1                                   274  \n",
      "2                                    56  \n",
      "3                                   274  \n",
      "4                                   274  \n",
      "...                                 ...  \n",
      "501946                               56  \n",
      "501947                               56  \n",
      "501948                               56  \n",
      "501949                               56  \n",
      "501950                               56  \n",
      "\n",
      "[501951 rows x 46 columns]\n",
      "df_code :       person_prefer_h_1  person_prefer_h_1_속성 H 중분류코드  \\\n",
      "0                    2                           315   \n",
      "1                    4                           316   \n",
      "2                    5                           317   \n",
      "3                    6                           318   \n",
      "4                    7                           319   \n",
      "..                 ...                           ...   \n",
      "289                309                           566   \n",
      "290                310                           567   \n",
      "291                311                           568   \n",
      "292                313                           569   \n",
      "293                314                           570   \n",
      "\n",
      "     person_prefer_h_1_속성 H 대분류코드  \n",
      "0                               1  \n",
      "1                               3  \n",
      "2                               3  \n",
      "3                               3  \n",
      "4                               3  \n",
      "..                            ...  \n",
      "289                           308  \n",
      "290                           308  \n",
      "291                           308  \n",
      "292                           312  \n",
      "293                           314  \n",
      "\n",
      "[294 rows x 3 columns]\n",
      "merge data :              id  d_l_match_yn  d_m_match_yn  d_s_match_yn  h_l_match_yn  \\\n",
      "0            0          True          True          True         False   \n",
      "1            1         False         False         False          True   \n",
      "2            2         False         False         False          True   \n",
      "3            3         False         False         False          True   \n",
      "4            4          True          True          True         False   \n",
      "...        ...           ...           ...           ...           ...   \n",
      "501946  501946         False         False         False          True   \n",
      "501947  501947          True          True         False          True   \n",
      "501948  501948          True          True          True          True   \n",
      "501949  501949          True         False         False          True   \n",
      "501950  501950          True          True          True          True   \n",
      "\n",
      "        h_m_match_yn  h_s_match_yn  person_attribute_a  person_attribute_a_1  \\\n",
      "0              False         False                   1                     4   \n",
      "1               True         False                   1                     3   \n",
      "2              False         False                   2                     0   \n",
      "3              False         False                   2                     0   \n",
      "4              False         False                   1                     3   \n",
      "...              ...           ...                 ...                   ...   \n",
      "501946         False         False                   1                     1   \n",
      "501947         False         False                   1                     6   \n",
      "501948         False         False                   1                     7   \n",
      "501949         False         False                   1                     1   \n",
      "501950         False         False                   1                     6   \n",
      "\n",
      "        person_attribute_b  ...  person_prefer_d_2_속성 D 소분류코드  \\\n",
      "0                        3  ...                           368   \n",
      "1                        4  ...                           152   \n",
      "2                        3  ...                           152   \n",
      "3                        2  ...                           703   \n",
      "4                        4  ...                           368   \n",
      "...                    ...  ...                           ...   \n",
      "501946                   2  ...                           928   \n",
      "501947                   2  ...                           109   \n",
      "501948                   4  ...                            43   \n",
      "501949                   2  ...                           123   \n",
      "501950                   3  ...                            43   \n",
      "\n",
      "        person_prefer_d_2_속성 D 중분류코드  person_prefer_d_3_속성 D 세분류코드  \\\n",
      "0                                297                           369   \n",
      "1                                 56                           175   \n",
      "2                                 56                           452   \n",
      "3                                690                           703   \n",
      "4                                297                           369   \n",
      "...                              ...                           ...   \n",
      "501946                           927                          1227   \n",
      "501947                            56                           110   \n",
      "501948                             2                           145   \n",
      "501949                            56                           145   \n",
      "501950                             2                           145   \n",
      "\n",
      "        person_prefer_d_3_속성 D 소분류코드  person_prefer_d_3_속성 D 중분류코드  \\\n",
      "0                                368                           297   \n",
      "1                                152                            56   \n",
      "2                                451                           450   \n",
      "3                                703                           690   \n",
      "4                                368                           297   \n",
      "...                              ...                           ...   \n",
      "501946                          1227                          1227   \n",
      "501947                           109                            56   \n",
      "501948                           123                            56   \n",
      "501949                           123                            56   \n",
      "501950                           123                            56   \n",
      "\n",
      "        contents_attribute_d_속성 D 세분류코드  contents_attribute_d_속성 D 소분류코드  \\\n",
      "0                                   275                              274   \n",
      "1                                   275                              274   \n",
      "2                                    92                               91   \n",
      "3                                   275                              274   \n",
      "4                                   275                              274   \n",
      "...                                 ...                              ...   \n",
      "501946                              145                              123   \n",
      "501947                              114                              109   \n",
      "501948                              145                              123   \n",
      "501949                              145                              123   \n",
      "501950                              145                              123   \n",
      "\n",
      "        contents_attribute_d_속성 D 중분류코드  person_prefer_h_1_속성 H 중분류코드  \\\n",
      "0                                   274                           316   \n",
      "1                                   274                           417   \n",
      "2                                    56                           364   \n",
      "3                                   274                           379   \n",
      "4                                   274                           483   \n",
      "...                                 ...                           ...   \n",
      "501946                               56                           368   \n",
      "501947                               56                           401   \n",
      "501948                               56                           368   \n",
      "501949                               56                           518   \n",
      "501950                               56                           542   \n",
      "\n",
      "        person_prefer_h_1_속성 H 대분류코드  \n",
      "0                                  3  \n",
      "1                                 94  \n",
      "2                                 48  \n",
      "3                                 71  \n",
      "4                                208  \n",
      "...                              ...  \n",
      "501946                            58  \n",
      "501947                            94  \n",
      "501948                            58  \n",
      "501949                           250  \n",
      "501950                           277  \n",
      "\n",
      "[501951 rows x 48 columns]\n",
      "df :             id  d_l_match_yn  d_m_match_yn  d_s_match_yn  h_l_match_yn  \\\n",
      "0            0          True          True          True         False   \n",
      "1            1         False         False         False          True   \n",
      "2            2         False         False         False          True   \n",
      "3            3         False         False         False          True   \n",
      "4            4          True          True          True         False   \n",
      "...        ...           ...           ...           ...           ...   \n",
      "501946  501946         False         False         False          True   \n",
      "501947  501947          True          True         False          True   \n",
      "501948  501948          True          True          True          True   \n",
      "501949  501949          True         False         False          True   \n",
      "501950  501950          True          True          True          True   \n",
      "\n",
      "        h_m_match_yn  h_s_match_yn  person_attribute_a  person_attribute_a_1  \\\n",
      "0              False         False                   1                     4   \n",
      "1               True         False                   1                     3   \n",
      "2              False         False                   2                     0   \n",
      "3              False         False                   2                     0   \n",
      "4              False         False                   1                     3   \n",
      "...              ...           ...                 ...                   ...   \n",
      "501946         False         False                   1                     1   \n",
      "501947         False         False                   1                     6   \n",
      "501948         False         False                   1                     7   \n",
      "501949         False         False                   1                     1   \n",
      "501950         False         False                   1                     6   \n",
      "\n",
      "        person_attribute_b  ...  person_prefer_d_2_속성 D 소분류코드  \\\n",
      "0                        3  ...                           368   \n",
      "1                        4  ...                           152   \n",
      "2                        3  ...                           152   \n",
      "3                        2  ...                           703   \n",
      "4                        4  ...                           368   \n",
      "...                    ...  ...                           ...   \n",
      "501946                   2  ...                           928   \n",
      "501947                   2  ...                           109   \n",
      "501948                   4  ...                            43   \n",
      "501949                   2  ...                           123   \n",
      "501950                   3  ...                            43   \n",
      "\n",
      "        person_prefer_d_2_속성 D 중분류코드  person_prefer_d_3_속성 D 세분류코드  \\\n",
      "0                                297                           369   \n",
      "1                                 56                           175   \n",
      "2                                 56                           452   \n",
      "3                                690                           703   \n",
      "4                                297                           369   \n",
      "...                              ...                           ...   \n",
      "501946                           927                          1227   \n",
      "501947                            56                           110   \n",
      "501948                             2                           145   \n",
      "501949                            56                           145   \n",
      "501950                             2                           145   \n",
      "\n",
      "        person_prefer_d_3_속성 D 소분류코드  person_prefer_d_3_속성 D 중분류코드  \\\n",
      "0                                368                           297   \n",
      "1                                152                            56   \n",
      "2                                451                           450   \n",
      "3                                703                           690   \n",
      "4                                368                           297   \n",
      "...                              ...                           ...   \n",
      "501946                          1227                          1227   \n",
      "501947                           109                            56   \n",
      "501948                           123                            56   \n",
      "501949                           123                            56   \n",
      "501950                           123                            56   \n",
      "\n",
      "        contents_attribute_d_속성 D 세분류코드  contents_attribute_d_속성 D 소분류코드  \\\n",
      "0                                   275                              274   \n",
      "1                                   275                              274   \n",
      "2                                    92                               91   \n",
      "3                                   275                              274   \n",
      "4                                   275                              274   \n",
      "...                                 ...                              ...   \n",
      "501946                              145                              123   \n",
      "501947                              114                              109   \n",
      "501948                              145                              123   \n",
      "501949                              145                              123   \n",
      "501950                              145                              123   \n",
      "\n",
      "        contents_attribute_d_속성 D 중분류코드  person_prefer_h_1_속성 H 중분류코드  \\\n",
      "0                                   274                           316   \n",
      "1                                   274                           417   \n",
      "2                                    56                           364   \n",
      "3                                   274                           379   \n",
      "4                                   274                           483   \n",
      "...                                 ...                           ...   \n",
      "501946                               56                           368   \n",
      "501947                               56                           401   \n",
      "501948                               56                           368   \n",
      "501949                               56                           518   \n",
      "501950                               56                           542   \n",
      "\n",
      "        person_prefer_h_1_속성 H 대분류코드  \n",
      "0                                  3  \n",
      "1                                 94  \n",
      "2                                 48  \n",
      "3                                 71  \n",
      "4                                208  \n",
      "...                              ...  \n",
      "501946                            58  \n",
      "501947                            94  \n",
      "501948                            58  \n",
      "501949                           250  \n",
      "501950                           277  \n",
      "\n",
      "[501951 rows x 48 columns]\n",
      "df_code :       person_prefer_h_2  person_prefer_h_2_속성 H 중분류코드  \\\n",
      "0                    2                           315   \n",
      "1                    4                           316   \n",
      "2                    5                           317   \n",
      "3                    6                           318   \n",
      "4                    7                           319   \n",
      "..                 ...                           ...   \n",
      "289                309                           566   \n",
      "290                310                           567   \n",
      "291                311                           568   \n",
      "292                313                           569   \n",
      "293                314                           570   \n",
      "\n",
      "     person_prefer_h_2_속성 H 대분류코드  \n",
      "0                               1  \n",
      "1                               3  \n",
      "2                               3  \n",
      "3                               3  \n",
      "4                               3  \n",
      "..                            ...  \n",
      "289                           308  \n",
      "290                           308  \n",
      "291                           308  \n",
      "292                           312  \n",
      "293                           314  \n",
      "\n",
      "[294 rows x 3 columns]\n",
      "merge data :              id  d_l_match_yn  d_m_match_yn  d_s_match_yn  h_l_match_yn  \\\n",
      "0            0          True          True          True         False   \n",
      "1            1         False         False         False          True   \n",
      "2            2         False         False         False          True   \n",
      "3            3         False         False         False          True   \n",
      "4            4          True          True          True         False   \n",
      "...        ...           ...           ...           ...           ...   \n",
      "501946  501946         False         False         False          True   \n",
      "501947  501947          True          True         False          True   \n",
      "501948  501948          True          True          True          True   \n",
      "501949  501949          True         False         False          True   \n",
      "501950  501950          True          True          True          True   \n",
      "\n",
      "        h_m_match_yn  h_s_match_yn  person_attribute_a  person_attribute_a_1  \\\n",
      "0              False         False                   1                     4   \n",
      "1               True         False                   1                     3   \n",
      "2              False         False                   2                     0   \n",
      "3              False         False                   2                     0   \n",
      "4              False         False                   1                     3   \n",
      "...              ...           ...                 ...                   ...   \n",
      "501946         False         False                   1                     1   \n",
      "501947         False         False                   1                     6   \n",
      "501948         False         False                   1                     7   \n",
      "501949         False         False                   1                     1   \n",
      "501950         False         False                   1                     6   \n",
      "\n",
      "        person_attribute_b  ...  person_prefer_d_3_속성 D 세분류코드  \\\n",
      "0                        3  ...                           369   \n",
      "1                        4  ...                           175   \n",
      "2                        3  ...                           452   \n",
      "3                        2  ...                           703   \n",
      "4                        4  ...                           369   \n",
      "...                    ...  ...                           ...   \n",
      "501946                   2  ...                          1227   \n",
      "501947                   2  ...                           110   \n",
      "501948                   4  ...                           145   \n",
      "501949                   2  ...                           145   \n",
      "501950                   3  ...                           145   \n",
      "\n",
      "        person_prefer_d_3_속성 D 소분류코드  person_prefer_d_3_속성 D 중분류코드  \\\n",
      "0                                368                           297   \n",
      "1                                152                            56   \n",
      "2                                451                           450   \n",
      "3                                703                           690   \n",
      "4                                368                           297   \n",
      "...                              ...                           ...   \n",
      "501946                          1227                          1227   \n",
      "501947                           109                            56   \n",
      "501948                           123                            56   \n",
      "501949                           123                            56   \n",
      "501950                           123                            56   \n",
      "\n",
      "        contents_attribute_d_속성 D 세분류코드  contents_attribute_d_속성 D 소분류코드  \\\n",
      "0                                   275                              274   \n",
      "1                                   275                              274   \n",
      "2                                    92                               91   \n",
      "3                                   275                              274   \n",
      "4                                   275                              274   \n",
      "...                                 ...                              ...   \n",
      "501946                              145                              123   \n",
      "501947                              114                              109   \n",
      "501948                              145                              123   \n",
      "501949                              145                              123   \n",
      "501950                              145                              123   \n",
      "\n",
      "        contents_attribute_d_속성 D 중분류코드  person_prefer_h_1_속성 H 중분류코드  \\\n",
      "0                                   274                           316   \n",
      "1                                   274                           417   \n",
      "2                                    56                           364   \n",
      "3                                   274                           379   \n",
      "4                                   274                           483   \n",
      "...                                 ...                           ...   \n",
      "501946                               56                           368   \n",
      "501947                               56                           401   \n",
      "501948                               56                           368   \n",
      "501949                               56                           518   \n",
      "501950                               56                           542   \n",
      "\n",
      "        person_prefer_h_1_속성 H 대분류코드  person_prefer_h_2_속성 H 중분류코드  \\\n",
      "0                                  3                           398   \n",
      "1                                 94                           400   \n",
      "2                                 48                           528   \n",
      "3                                 71                           495   \n",
      "4                                208                           481   \n",
      "...                              ...                           ...   \n",
      "501946                            58                           316   \n",
      "501947                            94                           425   \n",
      "501948                            58                           413   \n",
      "501949                           250                           359   \n",
      "501950                           277                           342   \n",
      "\n",
      "        person_prefer_h_2_속성 H 대분류코드  \n",
      "0                                 94  \n",
      "1                                 94  \n",
      "2                                250  \n",
      "3                                226  \n",
      "4                                208  \n",
      "...                              ...  \n",
      "501946                             3  \n",
      "501947                            94  \n",
      "501948                            94  \n",
      "501949                            48  \n",
      "501950                            30  \n",
      "\n",
      "[501951 rows x 50 columns]\n",
      "df :             id  d_l_match_yn  d_m_match_yn  d_s_match_yn  h_l_match_yn  \\\n",
      "0            0          True          True          True         False   \n",
      "1            1         False         False         False          True   \n",
      "2            2         False         False         False          True   \n",
      "3            3         False         False         False          True   \n",
      "4            4          True          True          True         False   \n",
      "...        ...           ...           ...           ...           ...   \n",
      "501946  501946         False         False         False          True   \n",
      "501947  501947          True          True         False          True   \n",
      "501948  501948          True          True          True          True   \n",
      "501949  501949          True         False         False          True   \n",
      "501950  501950          True          True          True          True   \n",
      "\n",
      "        h_m_match_yn  h_s_match_yn  person_attribute_a  person_attribute_a_1  \\\n",
      "0              False         False                   1                     4   \n",
      "1               True         False                   1                     3   \n",
      "2              False         False                   2                     0   \n",
      "3              False         False                   2                     0   \n",
      "4              False         False                   1                     3   \n",
      "...              ...           ...                 ...                   ...   \n",
      "501946         False         False                   1                     1   \n",
      "501947         False         False                   1                     6   \n",
      "501948         False         False                   1                     7   \n",
      "501949         False         False                   1                     1   \n",
      "501950         False         False                   1                     6   \n",
      "\n",
      "        person_attribute_b  ...  person_prefer_d_3_속성 D 세분류코드  \\\n",
      "0                        3  ...                           369   \n",
      "1                        4  ...                           175   \n",
      "2                        3  ...                           452   \n",
      "3                        2  ...                           703   \n",
      "4                        4  ...                           369   \n",
      "...                    ...  ...                           ...   \n",
      "501946                   2  ...                          1227   \n",
      "501947                   2  ...                           110   \n",
      "501948                   4  ...                           145   \n",
      "501949                   2  ...                           145   \n",
      "501950                   3  ...                           145   \n",
      "\n",
      "        person_prefer_d_3_속성 D 소분류코드  person_prefer_d_3_속성 D 중분류코드  \\\n",
      "0                                368                           297   \n",
      "1                                152                            56   \n",
      "2                                451                           450   \n",
      "3                                703                           690   \n",
      "4                                368                           297   \n",
      "...                              ...                           ...   \n",
      "501946                          1227                          1227   \n",
      "501947                           109                            56   \n",
      "501948                           123                            56   \n",
      "501949                           123                            56   \n",
      "501950                           123                            56   \n",
      "\n",
      "        contents_attribute_d_속성 D 세분류코드  contents_attribute_d_속성 D 소분류코드  \\\n",
      "0                                   275                              274   \n",
      "1                                   275                              274   \n",
      "2                                    92                               91   \n",
      "3                                   275                              274   \n",
      "4                                   275                              274   \n",
      "...                                 ...                              ...   \n",
      "501946                              145                              123   \n",
      "501947                              114                              109   \n",
      "501948                              145                              123   \n",
      "501949                              145                              123   \n",
      "501950                              145                              123   \n",
      "\n",
      "        contents_attribute_d_속성 D 중분류코드  person_prefer_h_1_속성 H 중분류코드  \\\n",
      "0                                   274                           316   \n",
      "1                                   274                           417   \n",
      "2                                    56                           364   \n",
      "3                                   274                           379   \n",
      "4                                   274                           483   \n",
      "...                                 ...                           ...   \n",
      "501946                               56                           368   \n",
      "501947                               56                           401   \n",
      "501948                               56                           368   \n",
      "501949                               56                           518   \n",
      "501950                               56                           542   \n",
      "\n",
      "        person_prefer_h_1_속성 H 대분류코드  person_prefer_h_2_속성 H 중분류코드  \\\n",
      "0                                  3                           398   \n",
      "1                                 94                           400   \n",
      "2                                 48                           528   \n",
      "3                                 71                           495   \n",
      "4                                208                           481   \n",
      "...                              ...                           ...   \n",
      "501946                            58                           316   \n",
      "501947                            94                           425   \n",
      "501948                            58                           413   \n",
      "501949                           250                           359   \n",
      "501950                           277                           342   \n",
      "\n",
      "        person_prefer_h_2_속성 H 대분류코드  \n",
      "0                                 94  \n",
      "1                                 94  \n",
      "2                                250  \n",
      "3                                226  \n",
      "4                                208  \n",
      "...                              ...  \n",
      "501946                             3  \n",
      "501947                            94  \n",
      "501948                            94  \n",
      "501949                            48  \n",
      "501950                            30  \n",
      "\n",
      "[501951 rows x 50 columns]\n",
      "df_code :       person_prefer_h_3  person_prefer_h_3_속성 H 중분류코드  \\\n",
      "0                    2                           315   \n",
      "1                    4                           316   \n",
      "2                    5                           317   \n",
      "3                    6                           318   \n",
      "4                    7                           319   \n",
      "..                 ...                           ...   \n",
      "289                309                           566   \n",
      "290                310                           567   \n",
      "291                311                           568   \n",
      "292                313                           569   \n",
      "293                314                           570   \n",
      "\n",
      "     person_prefer_h_3_속성 H 대분류코드  \n",
      "0                               1  \n",
      "1                               3  \n",
      "2                               3  \n",
      "3                               3  \n",
      "4                               3  \n",
      "..                            ...  \n",
      "289                           308  \n",
      "290                           308  \n",
      "291                           308  \n",
      "292                           312  \n",
      "293                           314  \n",
      "\n",
      "[294 rows x 3 columns]\n",
      "merge data :              id  d_l_match_yn  d_m_match_yn  d_s_match_yn  h_l_match_yn  \\\n",
      "0            0          True          True          True         False   \n",
      "1            1         False         False         False          True   \n",
      "2            2         False         False         False          True   \n",
      "3            3         False         False         False          True   \n",
      "4            4          True          True          True         False   \n",
      "...        ...           ...           ...           ...           ...   \n",
      "501946  501946         False         False         False          True   \n",
      "501947  501947          True          True         False          True   \n",
      "501948  501948          True          True          True          True   \n",
      "501949  501949          True         False         False          True   \n",
      "501950  501950          True          True          True          True   \n",
      "\n",
      "        h_m_match_yn  h_s_match_yn  person_attribute_a  person_attribute_a_1  \\\n",
      "0              False         False                   1                     4   \n",
      "1               True         False                   1                     3   \n",
      "2              False         False                   2                     0   \n",
      "3              False         False                   2                     0   \n",
      "4              False         False                   1                     3   \n",
      "...              ...           ...                 ...                   ...   \n",
      "501946         False         False                   1                     1   \n",
      "501947         False         False                   1                     6   \n",
      "501948         False         False                   1                     7   \n",
      "501949         False         False                   1                     1   \n",
      "501950         False         False                   1                     6   \n",
      "\n",
      "        person_attribute_b  ...  person_prefer_d_3_속성 D 중분류코드  \\\n",
      "0                        3  ...                           297   \n",
      "1                        4  ...                            56   \n",
      "2                        3  ...                           450   \n",
      "3                        2  ...                           690   \n",
      "4                        4  ...                           297   \n",
      "...                    ...  ...                           ...   \n",
      "501946                   2  ...                          1227   \n",
      "501947                   2  ...                            56   \n",
      "501948                   4  ...                            56   \n",
      "501949                   2  ...                            56   \n",
      "501950                   3  ...                            56   \n",
      "\n",
      "        contents_attribute_d_속성 D 세분류코드  contents_attribute_d_속성 D 소분류코드  \\\n",
      "0                                   275                              274   \n",
      "1                                   275                              274   \n",
      "2                                    92                               91   \n",
      "3                                   275                              274   \n",
      "4                                   275                              274   \n",
      "...                                 ...                              ...   \n",
      "501946                              145                              123   \n",
      "501947                              114                              109   \n",
      "501948                              145                              123   \n",
      "501949                              145                              123   \n",
      "501950                              145                              123   \n",
      "\n",
      "        contents_attribute_d_속성 D 중분류코드  person_prefer_h_1_속성 H 중분류코드  \\\n",
      "0                                   274                           316   \n",
      "1                                   274                           417   \n",
      "2                                    56                           364   \n",
      "3                                   274                           379   \n",
      "4                                   274                           483   \n",
      "...                                 ...                           ...   \n",
      "501946                               56                           368   \n",
      "501947                               56                           401   \n",
      "501948                               56                           368   \n",
      "501949                               56                           518   \n",
      "501950                               56                           542   \n",
      "\n",
      "        person_prefer_h_1_속성 H 대분류코드  person_prefer_h_2_속성 H 중분류코드  \\\n",
      "0                                  3                           398   \n",
      "1                                 94                           400   \n",
      "2                                 48                           528   \n",
      "3                                 71                           495   \n",
      "4                                208                           481   \n",
      "...                              ...                           ...   \n",
      "501946                            58                           316   \n",
      "501947                            94                           425   \n",
      "501948                            58                           413   \n",
      "501949                           250                           359   \n",
      "501950                           277                           342   \n",
      "\n",
      "        person_prefer_h_2_속성 H 대분류코드  person_prefer_h_3_속성 H 중분류코드  \\\n",
      "0                                 94                           368   \n",
      "1                                 94                           399   \n",
      "2                                250                           366   \n",
      "3                                226                           315   \n",
      "4                                208                           480   \n",
      "...                              ...                           ...   \n",
      "501946                             3                           398   \n",
      "501947                            94                           398   \n",
      "501948                            94                           422   \n",
      "501949                            48                           523   \n",
      "501950                            30                           359   \n",
      "\n",
      "        person_prefer_h_3_속성 H 대분류코드  \n",
      "0                                 58  \n",
      "1                                 94  \n",
      "2                                 48  \n",
      "3                                  1  \n",
      "4                                208  \n",
      "...                              ...  \n",
      "501946                            94  \n",
      "501947                            94  \n",
      "501948                            94  \n",
      "501949                           250  \n",
      "501950                            48  \n",
      "\n",
      "[501951 rows x 52 columns]\n",
      "df :             id  d_l_match_yn  d_m_match_yn  d_s_match_yn  h_l_match_yn  \\\n",
      "0            0          True          True          True         False   \n",
      "1            1         False         False         False          True   \n",
      "2            2         False         False         False          True   \n",
      "3            3         False         False         False          True   \n",
      "4            4          True          True          True         False   \n",
      "...        ...           ...           ...           ...           ...   \n",
      "501946  501946         False         False         False          True   \n",
      "501947  501947          True          True         False          True   \n",
      "501948  501948          True          True          True          True   \n",
      "501949  501949          True         False         False          True   \n",
      "501950  501950          True          True          True          True   \n",
      "\n",
      "        h_m_match_yn  h_s_match_yn  person_attribute_a  person_attribute_a_1  \\\n",
      "0              False         False                   1                     4   \n",
      "1               True         False                   1                     3   \n",
      "2              False         False                   2                     0   \n",
      "3              False         False                   2                     0   \n",
      "4              False         False                   1                     3   \n",
      "...              ...           ...                 ...                   ...   \n",
      "501946         False         False                   1                     1   \n",
      "501947         False         False                   1                     6   \n",
      "501948         False         False                   1                     7   \n",
      "501949         False         False                   1                     1   \n",
      "501950         False         False                   1                     6   \n",
      "\n",
      "        person_attribute_b  ...  person_prefer_d_3_속성 D 중분류코드  \\\n",
      "0                        3  ...                           297   \n",
      "1                        4  ...                            56   \n",
      "2                        3  ...                           450   \n",
      "3                        2  ...                           690   \n",
      "4                        4  ...                           297   \n",
      "...                    ...  ...                           ...   \n",
      "501946                   2  ...                          1227   \n",
      "501947                   2  ...                            56   \n",
      "501948                   4  ...                            56   \n",
      "501949                   2  ...                            56   \n",
      "501950                   3  ...                            56   \n",
      "\n",
      "        contents_attribute_d_속성 D 세분류코드  contents_attribute_d_속성 D 소분류코드  \\\n",
      "0                                   275                              274   \n",
      "1                                   275                              274   \n",
      "2                                    92                               91   \n",
      "3                                   275                              274   \n",
      "4                                   275                              274   \n",
      "...                                 ...                              ...   \n",
      "501946                              145                              123   \n",
      "501947                              114                              109   \n",
      "501948                              145                              123   \n",
      "501949                              145                              123   \n",
      "501950                              145                              123   \n",
      "\n",
      "        contents_attribute_d_속성 D 중분류코드  person_prefer_h_1_속성 H 중분류코드  \\\n",
      "0                                   274                           316   \n",
      "1                                   274                           417   \n",
      "2                                    56                           364   \n",
      "3                                   274                           379   \n",
      "4                                   274                           483   \n",
      "...                                 ...                           ...   \n",
      "501946                               56                           368   \n",
      "501947                               56                           401   \n",
      "501948                               56                           368   \n",
      "501949                               56                           518   \n",
      "501950                               56                           542   \n",
      "\n",
      "        person_prefer_h_1_속성 H 대분류코드  person_prefer_h_2_속성 H 중분류코드  \\\n",
      "0                                  3                           398   \n",
      "1                                 94                           400   \n",
      "2                                 48                           528   \n",
      "3                                 71                           495   \n",
      "4                                208                           481   \n",
      "...                              ...                           ...   \n",
      "501946                            58                           316   \n",
      "501947                            94                           425   \n",
      "501948                            58                           413   \n",
      "501949                           250                           359   \n",
      "501950                           277                           342   \n",
      "\n",
      "        person_prefer_h_2_속성 H 대분류코드  person_prefer_h_3_속성 H 중분류코드  \\\n",
      "0                                 94                           368   \n",
      "1                                 94                           399   \n",
      "2                                250                           366   \n",
      "3                                226                           315   \n",
      "4                                208                           480   \n",
      "...                              ...                           ...   \n",
      "501946                             3                           398   \n",
      "501947                            94                           398   \n",
      "501948                            94                           422   \n",
      "501949                            48                           523   \n",
      "501950                            30                           359   \n",
      "\n",
      "        person_prefer_h_3_속성 H 대분류코드  \n",
      "0                                 58  \n",
      "1                                 94  \n",
      "2                                 48  \n",
      "3                                  1  \n",
      "4                                208  \n",
      "...                              ...  \n",
      "501946                            94  \n",
      "501947                            94  \n",
      "501948                            94  \n",
      "501949                           250  \n",
      "501950                            48  \n",
      "\n",
      "[501951 rows x 52 columns]\n",
      "df_code :       contents_attribute_h  contents_attribute_h_속성 H 중분류코드  \\\n",
      "0                       2                              315   \n",
      "1                       4                              316   \n",
      "2                       5                              317   \n",
      "3                       6                              318   \n",
      "4                       7                              319   \n",
      "..                    ...                              ...   \n",
      "289                   309                              566   \n",
      "290                   310                              567   \n",
      "291                   311                              568   \n",
      "292                   313                              569   \n",
      "293                   314                              570   \n",
      "\n",
      "     contents_attribute_h_속성 H 대분류코드  \n",
      "0                                  1  \n",
      "1                                  3  \n",
      "2                                  3  \n",
      "3                                  3  \n",
      "4                                  3  \n",
      "..                               ...  \n",
      "289                              308  \n",
      "290                              308  \n",
      "291                              308  \n",
      "292                              312  \n",
      "293                              314  \n",
      "\n",
      "[294 rows x 3 columns]\n",
      "merge data :              id  d_l_match_yn  d_m_match_yn  d_s_match_yn  h_l_match_yn  \\\n",
      "0            0          True          True          True         False   \n",
      "1            1         False         False         False          True   \n",
      "2            2         False         False         False          True   \n",
      "3            3         False         False         False          True   \n",
      "4            4          True          True          True         False   \n",
      "...        ...           ...           ...           ...           ...   \n",
      "501946  501946         False         False         False          True   \n",
      "501947  501947          True          True         False          True   \n",
      "501948  501948          True          True          True          True   \n",
      "501949  501949          True         False         False          True   \n",
      "501950  501950          True          True          True          True   \n",
      "\n",
      "        h_m_match_yn  h_s_match_yn  person_attribute_a  person_attribute_a_1  \\\n",
      "0              False         False                   1                     4   \n",
      "1               True         False                   1                     3   \n",
      "2              False         False                   2                     0   \n",
      "3              False         False                   2                     0   \n",
      "4              False         False                   1                     3   \n",
      "...              ...           ...                 ...                   ...   \n",
      "501946         False         False                   1                     1   \n",
      "501947         False         False                   1                     6   \n",
      "501948         False         False                   1                     7   \n",
      "501949         False         False                   1                     1   \n",
      "501950         False         False                   1                     6   \n",
      "\n",
      "        person_attribute_b  ...  contents_attribute_d_속성 D 소분류코드  \\\n",
      "0                        3  ...                              274   \n",
      "1                        4  ...                              274   \n",
      "2                        3  ...                               91   \n",
      "3                        2  ...                              274   \n",
      "4                        4  ...                              274   \n",
      "...                    ...  ...                              ...   \n",
      "501946                   2  ...                              123   \n",
      "501947                   2  ...                              109   \n",
      "501948                   4  ...                              123   \n",
      "501949                   2  ...                              123   \n",
      "501950                   3  ...                              123   \n",
      "\n",
      "        contents_attribute_d_속성 D 중분류코드  person_prefer_h_1_속성 H 중분류코드  \\\n",
      "0                                   274                           316   \n",
      "1                                   274                           417   \n",
      "2                                    56                           364   \n",
      "3                                   274                           379   \n",
      "4                                   274                           483   \n",
      "...                                 ...                           ...   \n",
      "501946                               56                           368   \n",
      "501947                               56                           401   \n",
      "501948                               56                           368   \n",
      "501949                               56                           518   \n",
      "501950                               56                           542   \n",
      "\n",
      "        person_prefer_h_1_속성 H 대분류코드  person_prefer_h_2_속성 H 중분류코드  \\\n",
      "0                                  3                           398   \n",
      "1                                 94                           400   \n",
      "2                                 48                           528   \n",
      "3                                 71                           495   \n",
      "4                                208                           481   \n",
      "...                              ...                           ...   \n",
      "501946                            58                           316   \n",
      "501947                            94                           425   \n",
      "501948                            58                           413   \n",
      "501949                           250                           359   \n",
      "501950                           277                           342   \n",
      "\n",
      "        person_prefer_h_2_속성 H 대분류코드  person_prefer_h_3_속성 H 중분류코드  \\\n",
      "0                                 94                           368   \n",
      "1                                 94                           399   \n",
      "2                                250                           366   \n",
      "3                                226                           315   \n",
      "4                                208                           480   \n",
      "...                              ...                           ...   \n",
      "501946                             3                           398   \n",
      "501947                            94                           398   \n",
      "501948                            94                           422   \n",
      "501949                            48                           523   \n",
      "501950                            30                           359   \n",
      "\n",
      "        person_prefer_h_3_속성 H 대분류코드  contents_attribute_h_속성 H 중분류코드  \\\n",
      "0                                 58                              422   \n",
      "1                                 94                              417   \n",
      "2                                 48                              363   \n",
      "3                                  1                              381   \n",
      "4                                208                              381   \n",
      "...                              ...                              ...   \n",
      "501946                            94                              373   \n",
      "501947                            94                              425   \n",
      "501948                            94                              373   \n",
      "501949                           250                              524   \n",
      "501950                            48                              548   \n",
      "\n",
      "        contents_attribute_h_속성 H 대분류코드  \n",
      "0                                    94  \n",
      "1                                    94  \n",
      "2                                    48  \n",
      "3                                    71  \n",
      "4                                    71  \n",
      "...                                 ...  \n",
      "501946                               58  \n",
      "501947                               94  \n",
      "501948                               58  \n",
      "501949                              250  \n",
      "501950                              277  \n",
      "\n",
      "[501951 rows x 54 columns]\n",
      "df :             id  d_l_match_yn  d_m_match_yn  d_s_match_yn  h_l_match_yn  \\\n",
      "0            0          True          True          True         False   \n",
      "1            1         False         False         False          True   \n",
      "2            2         False         False         False          True   \n",
      "3            3         False         False         False          True   \n",
      "4            4          True          True          True         False   \n",
      "...        ...           ...           ...           ...           ...   \n",
      "501946  501946         False         False         False          True   \n",
      "501947  501947          True          True         False          True   \n",
      "501948  501948          True          True          True          True   \n",
      "501949  501949          True         False         False          True   \n",
      "501950  501950          True          True          True          True   \n",
      "\n",
      "        h_m_match_yn  h_s_match_yn  person_attribute_a  person_attribute_a_1  \\\n",
      "0              False         False                   1                     4   \n",
      "1               True         False                   1                     3   \n",
      "2              False         False                   2                     0   \n",
      "3              False         False                   2                     0   \n",
      "4              False         False                   1                     3   \n",
      "...              ...           ...                 ...                   ...   \n",
      "501946         False         False                   1                     1   \n",
      "501947         False         False                   1                     6   \n",
      "501948         False         False                   1                     7   \n",
      "501949         False         False                   1                     1   \n",
      "501950         False         False                   1                     6   \n",
      "\n",
      "        person_attribute_b  ...  contents_attribute_d_속성 D 소분류코드  \\\n",
      "0                        3  ...                              274   \n",
      "1                        4  ...                              274   \n",
      "2                        3  ...                               91   \n",
      "3                        2  ...                              274   \n",
      "4                        4  ...                              274   \n",
      "...                    ...  ...                              ...   \n",
      "501946                   2  ...                              123   \n",
      "501947                   2  ...                              109   \n",
      "501948                   4  ...                              123   \n",
      "501949                   2  ...                              123   \n",
      "501950                   3  ...                              123   \n",
      "\n",
      "        contents_attribute_d_속성 D 중분류코드  person_prefer_h_1_속성 H 중분류코드  \\\n",
      "0                                   274                           316   \n",
      "1                                   274                           417   \n",
      "2                                    56                           364   \n",
      "3                                   274                           379   \n",
      "4                                   274                           483   \n",
      "...                                 ...                           ...   \n",
      "501946                               56                           368   \n",
      "501947                               56                           401   \n",
      "501948                               56                           368   \n",
      "501949                               56                           518   \n",
      "501950                               56                           542   \n",
      "\n",
      "        person_prefer_h_1_속성 H 대분류코드  person_prefer_h_2_속성 H 중분류코드  \\\n",
      "0                                  3                           398   \n",
      "1                                 94                           400   \n",
      "2                                 48                           528   \n",
      "3                                 71                           495   \n",
      "4                                208                           481   \n",
      "...                              ...                           ...   \n",
      "501946                            58                           316   \n",
      "501947                            94                           425   \n",
      "501948                            58                           413   \n",
      "501949                           250                           359   \n",
      "501950                           277                           342   \n",
      "\n",
      "        person_prefer_h_2_속성 H 대분류코드  person_prefer_h_3_속성 H 중분류코드  \\\n",
      "0                                 94                           368   \n",
      "1                                 94                           399   \n",
      "2                                250                           366   \n",
      "3                                226                           315   \n",
      "4                                208                           480   \n",
      "...                              ...                           ...   \n",
      "501946                             3                           398   \n",
      "501947                            94                           398   \n",
      "501948                            94                           422   \n",
      "501949                            48                           523   \n",
      "501950                            30                           359   \n",
      "\n",
      "        person_prefer_h_3_속성 H 대분류코드  contents_attribute_h_속성 H 중분류코드  \\\n",
      "0                                 58                              422   \n",
      "1                                 94                              417   \n",
      "2                                 48                              363   \n",
      "3                                  1                              381   \n",
      "4                                208                              381   \n",
      "...                              ...                              ...   \n",
      "501946                            94                              373   \n",
      "501947                            94                              425   \n",
      "501948                            94                              373   \n",
      "501949                           250                              524   \n",
      "501950                            48                              548   \n",
      "\n",
      "        contents_attribute_h_속성 H 대분류코드  \n",
      "0                                    94  \n",
      "1                                    94  \n",
      "2                                    48  \n",
      "3                                    71  \n",
      "4                                    71  \n",
      "...                                 ...  \n",
      "501946                               58  \n",
      "501947                               94  \n",
      "501948                               58  \n",
      "501949                              250  \n",
      "501950                              277  \n",
      "\n",
      "[501951 rows x 54 columns]\n",
      "df_code :        contents_attribute_l  contents_attribute_l_속성 L 세분류코드  \\\n",
      "0                        1                                1   \n",
      "1                        2                                2   \n",
      "2                        3                                3   \n",
      "3                        4                                3   \n",
      "4                        5                                5   \n",
      "...                    ...                              ...   \n",
      "2020                  2021                             2021   \n",
      "2021                  2022                             2022   \n",
      "2022                  2023                             2023   \n",
      "2023                  2024                             2024   \n",
      "2024                  2025                             2025   \n",
      "\n",
      "      contents_attribute_l_속성 L 소분류코드  contents_attribute_l_속성 L 중분류코드  \\\n",
      "0                                   1                                1   \n",
      "1                                   2                                1   \n",
      "2                                   2                                1   \n",
      "3                                   2                                1   \n",
      "4                                   2                                1   \n",
      "...                               ...                              ...   \n",
      "2020                             2021                             2021   \n",
      "2021                             2022                             2022   \n",
      "2022                             2023                             2023   \n",
      "2023                             2024                             2024   \n",
      "2024                             2025                             2025   \n",
      "\n",
      "      contents_attribute_l_속성 L 대분류코드  \n",
      "0                                2004  \n",
      "1                                2004  \n",
      "2                                2004  \n",
      "3                                2004  \n",
      "4                                2004  \n",
      "...                               ...  \n",
      "2020                             2021  \n",
      "2021                             2022  \n",
      "2022                             2023  \n",
      "2023                             2024  \n",
      "2024                             2025  \n",
      "\n",
      "[2025 rows x 5 columns]\n",
      "merge data :              id  d_l_match_yn  d_m_match_yn  d_s_match_yn  h_l_match_yn  \\\n",
      "0            0          True          True          True         False   \n",
      "1            1         False         False         False          True   \n",
      "2            2         False         False         False          True   \n",
      "3            3         False         False         False          True   \n",
      "4            4          True          True          True         False   \n",
      "...        ...           ...           ...           ...           ...   \n",
      "501946  501946         False         False         False          True   \n",
      "501947  501947          True          True         False          True   \n",
      "501948  501948          True          True          True          True   \n",
      "501949  501949          True         False         False          True   \n",
      "501950  501950          True          True          True          True   \n",
      "\n",
      "        h_m_match_yn  h_s_match_yn  person_attribute_a  person_attribute_a_1  \\\n",
      "0              False         False                   1                     4   \n",
      "1               True         False                   1                     3   \n",
      "2              False         False                   2                     0   \n",
      "3              False         False                   2                     0   \n",
      "4              False         False                   1                     3   \n",
      "...              ...           ...                 ...                   ...   \n",
      "501946         False         False                   1                     1   \n",
      "501947         False         False                   1                     6   \n",
      "501948         False         False                   1                     7   \n",
      "501949         False         False                   1                     1   \n",
      "501950         False         False                   1                     6   \n",
      "\n",
      "        person_attribute_b  ...  person_prefer_h_2_속성 H 중분류코드  \\\n",
      "0                        3  ...                           398   \n",
      "1                        4  ...                           400   \n",
      "2                        3  ...                           528   \n",
      "3                        2  ...                           495   \n",
      "4                        4  ...                           481   \n",
      "...                    ...  ...                           ...   \n",
      "501946                   2  ...                           316   \n",
      "501947                   2  ...                           425   \n",
      "501948                   4  ...                           413   \n",
      "501949                   2  ...                           359   \n",
      "501950                   3  ...                           342   \n",
      "\n",
      "        person_prefer_h_2_속성 H 대분류코드  person_prefer_h_3_속성 H 중분류코드  \\\n",
      "0                                 94                           368   \n",
      "1                                 94                           399   \n",
      "2                                250                           366   \n",
      "3                                226                           315   \n",
      "4                                208                           480   \n",
      "...                              ...                           ...   \n",
      "501946                             3                           398   \n",
      "501947                            94                           398   \n",
      "501948                            94                           422   \n",
      "501949                            48                           523   \n",
      "501950                            30                           359   \n",
      "\n",
      "        person_prefer_h_3_속성 H 대분류코드  contents_attribute_h_속성 H 중분류코드  \\\n",
      "0                                 58                              422   \n",
      "1                                 94                              417   \n",
      "2                                 48                              363   \n",
      "3                                  1                              381   \n",
      "4                                208                              381   \n",
      "...                              ...                              ...   \n",
      "501946                            94                              373   \n",
      "501947                            94                              425   \n",
      "501948                            94                              373   \n",
      "501949                           250                              524   \n",
      "501950                            48                              548   \n",
      "\n",
      "        contents_attribute_h_속성 H 대분류코드  contents_attribute_l_속성 L 세분류코드  \\\n",
      "0                                    94                             1607   \n",
      "1                                    94                             1607   \n",
      "2                                    48                             1599   \n",
      "3                                    71                             1607   \n",
      "4                                    71                             1607   \n",
      "...                                 ...                              ...   \n",
      "501946                               58                              352   \n",
      "501947                               94                              155   \n",
      "501948                               58                              437   \n",
      "501949                              250                              659   \n",
      "501950                              277                              785   \n",
      "\n",
      "        contents_attribute_l_속성 L 소분류코드  contents_attribute_l_속성 L 중분류코드  \\\n",
      "0                                  1606                             1605   \n",
      "1                                  1606                             1605   \n",
      "2                                  1595                             1572   \n",
      "3                                  1606                             1605   \n",
      "4                                  1606                             1605   \n",
      "...                                 ...                              ...   \n",
      "501946                              347                              346   \n",
      "501947                              138                               99   \n",
      "501948                              417                              407   \n",
      "501949                              652                              651   \n",
      "501950                              784                              759   \n",
      "\n",
      "        contents_attribute_l_속성 L 대분류코드  \n",
      "0                                  2016  \n",
      "1                                  2016  \n",
      "2                                  2016  \n",
      "3                                  2016  \n",
      "4                                  2016  \n",
      "...                                 ...  \n",
      "501946                             2006  \n",
      "501947                             2006  \n",
      "501948                             2006  \n",
      "501949                             2006  \n",
      "501950                             2006  \n",
      "\n",
      "[501951 rows x 58 columns]\n"
     ]
    },
    {
     "ename": "KeyError",
     "evalue": "'person_prefer_d_2_attribute_d_s'",
     "output_type": "error",
     "traceback": [
      "\u001B[0;31m---------------------------------------------------------------------------\u001B[0m",
      "\u001B[0;31mKeyError\u001B[0m                                  Traceback (most recent call last)",
      "\u001B[0;32m~/PycharmProjects/pythonProject/venv/lib/python3.8/site-packages/pandas/core/indexes/base.py\u001B[0m in \u001B[0;36mget_loc\u001B[0;34m(self, key, method, tolerance)\u001B[0m\n\u001B[1;32m   3079\u001B[0m             \u001B[0;32mtry\u001B[0m\u001B[0;34m:\u001B[0m\u001B[0;34m\u001B[0m\u001B[0;34m\u001B[0m\u001B[0m\n\u001B[0;32m-> 3080\u001B[0;31m                 \u001B[0;32mreturn\u001B[0m \u001B[0mself\u001B[0m\u001B[0;34m.\u001B[0m\u001B[0m_engine\u001B[0m\u001B[0;34m.\u001B[0m\u001B[0mget_loc\u001B[0m\u001B[0;34m(\u001B[0m\u001B[0mcasted_key\u001B[0m\u001B[0;34m)\u001B[0m\u001B[0;34m\u001B[0m\u001B[0;34m\u001B[0m\u001B[0m\n\u001B[0m\u001B[1;32m   3081\u001B[0m             \u001B[0;32mexcept\u001B[0m \u001B[0mKeyError\u001B[0m \u001B[0;32mas\u001B[0m \u001B[0merr\u001B[0m\u001B[0;34m:\u001B[0m\u001B[0;34m\u001B[0m\u001B[0;34m\u001B[0m\u001B[0m\n",
      "\u001B[0;32mpandas/_libs/index.pyx\u001B[0m in \u001B[0;36mpandas._libs.index.IndexEngine.get_loc\u001B[0;34m()\u001B[0m\n",
      "\u001B[0;32mpandas/_libs/index.pyx\u001B[0m in \u001B[0;36mpandas._libs.index.IndexEngine.get_loc\u001B[0;34m()\u001B[0m\n",
      "\u001B[0;32mpandas/_libs/hashtable_class_helper.pxi\u001B[0m in \u001B[0;36mpandas._libs.hashtable.PyObjectHashTable.get_item\u001B[0;34m()\u001B[0m\n",
      "\u001B[0;32mpandas/_libs/hashtable_class_helper.pxi\u001B[0m in \u001B[0;36mpandas._libs.hashtable.PyObjectHashTable.get_item\u001B[0;34m()\u001B[0m\n",
      "\u001B[0;31mKeyError\u001B[0m: 'person_prefer_d_2_attribute_d_s'",
      "\nThe above exception was the direct cause of the following exception:\n",
      "\u001B[0;31mKeyError\u001B[0m                                  Traceback (most recent call last)",
      "\u001B[0;32m/var/folders/c6/2j22b1rd02778st12c0mcr3w0000gn/T/ipykernel_92367/968639439.py\u001B[0m in \u001B[0;36m<module>\u001B[0;34m\u001B[0m\n\u001B[1;32m      6\u001B[0m \u001B[0;31m# 학습에 필요없는 컬럼 리스트\u001B[0m\u001B[0;34m\u001B[0m\u001B[0;34m\u001B[0m\u001B[0;34m\u001B[0m\u001B[0m\n\u001B[1;32m      7\u001B[0m \u001B[0mcols_drop\u001B[0m \u001B[0;34m=\u001B[0m \u001B[0;34m[\u001B[0m\u001B[0;34m\"id\"\u001B[0m\u001B[0;34m,\u001B[0m\u001B[0;34m\"person_prefer_f\"\u001B[0m\u001B[0;34m,\u001B[0m\u001B[0;34m\"person_prefer_g\"\u001B[0m \u001B[0;34m,\u001B[0m\u001B[0;34m\"contents_open_dt\"\u001B[0m\u001B[0;34m,\u001B[0m \u001B[0;34m\"contents_rn\"\u001B[0m\u001B[0;34m,\u001B[0m \u001B[0;34m]\u001B[0m\u001B[0;34m\u001B[0m\u001B[0;34m\u001B[0m\u001B[0m\n\u001B[0;32m----> 8\u001B[0;31m \u001B[0mx_train\u001B[0m\u001B[0;34m,\u001B[0m \u001B[0my_train\u001B[0m \u001B[0;34m=\u001B[0m \u001B[0mpreprocess_data\u001B[0m\u001B[0;34m(\u001B[0m\u001B[0mtrain_data\u001B[0m\u001B[0;34m,\u001B[0m \u001B[0mcols_merge\u001B[0m \u001B[0;34m=\u001B[0m \u001B[0mcols_merge\u001B[0m \u001B[0;34m,\u001B[0m \u001B[0mcols_equi\u001B[0m\u001B[0;34m=\u001B[0m \u001B[0mcols_equi\u001B[0m \u001B[0;34m,\u001B[0m \u001B[0mcols_drop\u001B[0m \u001B[0;34m=\u001B[0m \u001B[0mcols_drop\u001B[0m\u001B[0;34m)\u001B[0m\u001B[0;34m\u001B[0m\u001B[0;34m\u001B[0m\u001B[0m\n\u001B[0m\u001B[1;32m      9\u001B[0m \u001B[0mx_test\u001B[0m\u001B[0;34m,\u001B[0m \u001B[0m_\u001B[0m \u001B[0;34m=\u001B[0m \u001B[0mpreprocess_data\u001B[0m\u001B[0;34m(\u001B[0m\u001B[0mtest_data\u001B[0m\u001B[0;34m,\u001B[0m\u001B[0mis_train\u001B[0m \u001B[0;34m=\u001B[0m \u001B[0;32mFalse\u001B[0m\u001B[0;34m,\u001B[0m \u001B[0mcols_merge\u001B[0m \u001B[0;34m=\u001B[0m \u001B[0mcols_merge\u001B[0m \u001B[0;34m,\u001B[0m \u001B[0mcols_equi\u001B[0m\u001B[0;34m=\u001B[0m \u001B[0mcols_equi\u001B[0m  \u001B[0;34m,\u001B[0m \u001B[0mcols_drop\u001B[0m \u001B[0;34m=\u001B[0m \u001B[0mcols_drop\u001B[0m\u001B[0;34m)\u001B[0m\u001B[0;34m\u001B[0m\u001B[0;34m\u001B[0m\u001B[0m\n\u001B[1;32m     10\u001B[0m \u001B[0mx_train\u001B[0m\u001B[0;34m.\u001B[0m\u001B[0mshape\u001B[0m \u001B[0;34m,\u001B[0m \u001B[0my_train\u001B[0m\u001B[0;34m.\u001B[0m\u001B[0mshape\u001B[0m \u001B[0;34m,\u001B[0m \u001B[0mx_test\u001B[0m\u001B[0;34m.\u001B[0m\u001B[0mshape\u001B[0m\u001B[0;34m\u001B[0m\u001B[0;34m\u001B[0m\u001B[0m\n",
      "\u001B[0;32m/var/folders/c6/2j22b1rd02778st12c0mcr3w0000gn/T/ipykernel_92367/762610953.py\u001B[0m in \u001B[0;36mpreprocess_data\u001B[0;34m(df, is_train, cols_merge, cols_equi, cols_drop)\u001B[0m\n\u001B[1;32m     20\u001B[0m \u001B[0;34m\u001B[0m\u001B[0m\n\u001B[1;32m     21\u001B[0m     \u001B[0;32mfor\u001B[0m \u001B[0mcol1\u001B[0m\u001B[0;34m,\u001B[0m \u001B[0mcol2\u001B[0m \u001B[0;32min\u001B[0m \u001B[0mcols_equi\u001B[0m\u001B[0;34m:\u001B[0m\u001B[0;34m\u001B[0m\u001B[0;34m\u001B[0m\u001B[0m\n\u001B[0;32m---> 22\u001B[0;31m         \u001B[0mdf\u001B[0m\u001B[0;34m[\u001B[0m\u001B[0;34mf\"{col1}_{col2}\"\u001B[0m\u001B[0;34m]\u001B[0m \u001B[0;34m=\u001B[0m \u001B[0;34m(\u001B[0m\u001B[0mdf\u001B[0m\u001B[0;34m[\u001B[0m\u001B[0mcol1\u001B[0m\u001B[0;34m]\u001B[0m \u001B[0;34m==\u001B[0m \u001B[0mdf\u001B[0m\u001B[0;34m[\u001B[0m\u001B[0mcol2\u001B[0m\u001B[0;34m]\u001B[0m\u001B[0;34m)\u001B[0m\u001B[0;34m.\u001B[0m\u001B[0mastype\u001B[0m\u001B[0;34m(\u001B[0m\u001B[0mint\u001B[0m\u001B[0;34m)\u001B[0m\u001B[0;34m\u001B[0m\u001B[0;34m\u001B[0m\u001B[0m\n\u001B[0m\u001B[1;32m     23\u001B[0m     \u001B[0mdf\u001B[0m \u001B[0;34m=\u001B[0m \u001B[0mdf\u001B[0m\u001B[0;34m.\u001B[0m\u001B[0mdrop\u001B[0m\u001B[0;34m(\u001B[0m\u001B[0mcolumns\u001B[0m\u001B[0;34m=\u001B[0m\u001B[0mcols_drop\u001B[0m\u001B[0;34m)\u001B[0m\u001B[0;34m\u001B[0m\u001B[0;34m\u001B[0m\u001B[0m\n\u001B[1;32m     24\u001B[0m \u001B[0;34m\u001B[0m\u001B[0m\n",
      "\u001B[0;32m~/PycharmProjects/pythonProject/venv/lib/python3.8/site-packages/pandas/core/frame.py\u001B[0m in \u001B[0;36m__getitem__\u001B[0;34m(self, key)\u001B[0m\n\u001B[1;32m   3022\u001B[0m             \u001B[0;32mif\u001B[0m \u001B[0mself\u001B[0m\u001B[0;34m.\u001B[0m\u001B[0mcolumns\u001B[0m\u001B[0;34m.\u001B[0m\u001B[0mnlevels\u001B[0m \u001B[0;34m>\u001B[0m \u001B[0;36m1\u001B[0m\u001B[0;34m:\u001B[0m\u001B[0;34m\u001B[0m\u001B[0;34m\u001B[0m\u001B[0m\n\u001B[1;32m   3023\u001B[0m                 \u001B[0;32mreturn\u001B[0m \u001B[0mself\u001B[0m\u001B[0;34m.\u001B[0m\u001B[0m_getitem_multilevel\u001B[0m\u001B[0;34m(\u001B[0m\u001B[0mkey\u001B[0m\u001B[0;34m)\u001B[0m\u001B[0;34m\u001B[0m\u001B[0;34m\u001B[0m\u001B[0m\n\u001B[0;32m-> 3024\u001B[0;31m             \u001B[0mindexer\u001B[0m \u001B[0;34m=\u001B[0m \u001B[0mself\u001B[0m\u001B[0;34m.\u001B[0m\u001B[0mcolumns\u001B[0m\u001B[0;34m.\u001B[0m\u001B[0mget_loc\u001B[0m\u001B[0;34m(\u001B[0m\u001B[0mkey\u001B[0m\u001B[0;34m)\u001B[0m\u001B[0;34m\u001B[0m\u001B[0;34m\u001B[0m\u001B[0m\n\u001B[0m\u001B[1;32m   3025\u001B[0m             \u001B[0;32mif\u001B[0m \u001B[0mis_integer\u001B[0m\u001B[0;34m(\u001B[0m\u001B[0mindexer\u001B[0m\u001B[0;34m)\u001B[0m\u001B[0;34m:\u001B[0m\u001B[0;34m\u001B[0m\u001B[0;34m\u001B[0m\u001B[0m\n\u001B[1;32m   3026\u001B[0m                 \u001B[0mindexer\u001B[0m \u001B[0;34m=\u001B[0m \u001B[0;34m[\u001B[0m\u001B[0mindexer\u001B[0m\u001B[0;34m]\u001B[0m\u001B[0;34m\u001B[0m\u001B[0;34m\u001B[0m\u001B[0m\n",
      "\u001B[0;32m~/PycharmProjects/pythonProject/venv/lib/python3.8/site-packages/pandas/core/indexes/base.py\u001B[0m in \u001B[0;36mget_loc\u001B[0;34m(self, key, method, tolerance)\u001B[0m\n\u001B[1;32m   3080\u001B[0m                 \u001B[0;32mreturn\u001B[0m \u001B[0mself\u001B[0m\u001B[0;34m.\u001B[0m\u001B[0m_engine\u001B[0m\u001B[0;34m.\u001B[0m\u001B[0mget_loc\u001B[0m\u001B[0;34m(\u001B[0m\u001B[0mcasted_key\u001B[0m\u001B[0;34m)\u001B[0m\u001B[0;34m\u001B[0m\u001B[0;34m\u001B[0m\u001B[0m\n\u001B[1;32m   3081\u001B[0m             \u001B[0;32mexcept\u001B[0m \u001B[0mKeyError\u001B[0m \u001B[0;32mas\u001B[0m \u001B[0merr\u001B[0m\u001B[0;34m:\u001B[0m\u001B[0;34m\u001B[0m\u001B[0;34m\u001B[0m\u001B[0m\n\u001B[0;32m-> 3082\u001B[0;31m                 \u001B[0;32mraise\u001B[0m \u001B[0mKeyError\u001B[0m\u001B[0;34m(\u001B[0m\u001B[0mkey\u001B[0m\u001B[0;34m)\u001B[0m \u001B[0;32mfrom\u001B[0m \u001B[0merr\u001B[0m\u001B[0;34m\u001B[0m\u001B[0;34m\u001B[0m\u001B[0m\n\u001B[0m\u001B[1;32m   3083\u001B[0m \u001B[0;34m\u001B[0m\u001B[0m\n\u001B[1;32m   3084\u001B[0m         \u001B[0;32mif\u001B[0m \u001B[0mtolerance\u001B[0m \u001B[0;32mis\u001B[0m \u001B[0;32mnot\u001B[0m \u001B[0;32mNone\u001B[0m\u001B[0;34m:\u001B[0m\u001B[0;34m\u001B[0m\u001B[0;34m\u001B[0m\u001B[0m\n",
      "\u001B[0;31mKeyError\u001B[0m: 'person_prefer_d_2_attribute_d_s'"
     ]
    }
   ],
   "source": [
    "#:::::::::::::\n",
    "List[Tuple[str,pd.DataFrame]]\n",
    "# type hinting , type annotation 타입에 대한 메타 정보를 제공한다 중대규모 이상프로젝트에서는 컴파일 위험 에러"
   ],
   "metadata": {
    "collapsed": false,
    "pycharm": {
     "name": "#%%\n"
    }
   }
  },
  {
   "cell_type": "code",
   "execution_count": 55,
   "outputs": [
    {
     "data": {
      "text/plain": "[('person_prefer_d_1',\n        attribute_d  attribute_d_d  attribute_d_s  attribute_d_m  attribute_d_l\n  0               4              4              3              2              1\n  1               5              5              3              2              1\n  2               7              7              6              2              1\n  3               8              8              6              2              1\n  4               9              8              6              2              1\n  ...           ...            ...            ...            ...            ...\n  1109         1254           1254           1254           1235           1235\n  1110         1255           1254           1254           1235           1235\n  1111         1256           1254           1254           1235           1235\n  1112         1257           1254           1254           1235           1235\n  1113         1258           1258           1258           1258           1258\n  \n  [1114 rows x 5 columns]),\n ('person_prefer_d_2',\n        attribute_d  attribute_d_d  attribute_d_s  attribute_d_m  attribute_d_l\n  0               4              4              3              2              1\n  1               5              5              3              2              1\n  2               7              7              6              2              1\n  3               8              8              6              2              1\n  4               9              8              6              2              1\n  ...           ...            ...            ...            ...            ...\n  1109         1254           1254           1254           1235           1235\n  1110         1255           1254           1254           1235           1235\n  1111         1256           1254           1254           1235           1235\n  1112         1257           1254           1254           1235           1235\n  1113         1258           1258           1258           1258           1258\n  \n  [1114 rows x 5 columns]),\n ('person_prefer_d_3',\n        attribute_d  attribute_d_d  attribute_d_s  attribute_d_m  attribute_d_l\n  0               4              4              3              2              1\n  1               5              5              3              2              1\n  2               7              7              6              2              1\n  3               8              8              6              2              1\n  4               9              8              6              2              1\n  ...           ...            ...            ...            ...            ...\n  1109         1254           1254           1254           1235           1235\n  1110         1255           1254           1254           1235           1235\n  1111         1256           1254           1254           1235           1235\n  1112         1257           1254           1254           1235           1235\n  1113         1258           1258           1258           1258           1258\n  \n  [1114 rows x 5 columns]),\n ('contents_attribute_d',\n        attribute_d  attribute_d_d  attribute_d_s  attribute_d_m  attribute_d_l\n  0               4              4              3              2              1\n  1               5              5              3              2              1\n  2               7              7              6              2              1\n  3               8              8              6              2              1\n  4               9              8              6              2              1\n  ...           ...            ...            ...            ...            ...\n  1109         1254           1254           1254           1235           1235\n  1110         1255           1254           1254           1235           1235\n  1111         1256           1254           1254           1235           1235\n  1112         1257           1254           1254           1235           1235\n  1113         1258           1258           1258           1258           1258\n  \n  [1114 rows x 5 columns]),\n ('person_prefer_h_1',\n       attribute_h  attribute_h_m  attribute_h_l\n  0              2            315              1\n  1              4            316              3\n  2              5            317              3\n  3              6            318              3\n  4              7            319              3\n  ..           ...            ...            ...\n  289          309            566            308\n  290          310            567            308\n  291          311            568            308\n  292          313            569            312\n  293          314            570            314\n  \n  [294 rows x 3 columns]),\n ('person_prefer_h_2',\n       attribute_h  attribute_h_m  attribute_h_l\n  0              2            315              1\n  1              4            316              3\n  2              5            317              3\n  3              6            318              3\n  4              7            319              3\n  ..           ...            ...            ...\n  289          309            566            308\n  290          310            567            308\n  291          311            568            308\n  292          313            569            312\n  293          314            570            314\n  \n  [294 rows x 3 columns]),\n ('person_prefer_h_3',\n       attribute_h  attribute_h_m  attribute_h_l\n  0              2            315              1\n  1              4            316              3\n  2              5            317              3\n  3              6            318              3\n  4              7            319              3\n  ..           ...            ...            ...\n  289          309            566            308\n  290          310            567            308\n  291          311            568            308\n  292          313            569            312\n  293          314            570            314\n  \n  [294 rows x 3 columns]),\n ('contents_attribute_h',\n       attribute_h  attribute_h_m  attribute_h_l\n  0              2            315              1\n  1              4            316              3\n  2              5            317              3\n  3              6            318              3\n  4              7            319              3\n  ..           ...            ...            ...\n  289          309            566            308\n  290          310            567            308\n  291          311            568            308\n  292          313            569            312\n  293          314            570            314\n  \n  [294 rows x 3 columns]),\n ('contents_attribute_l',\n        attribute_l  attribute_l_d  attribute_l_s  attribute_l_m  attribute_l_l\n  0               1              1              1              1           2004\n  1               2              2              2              1           2004\n  2               3              3              2              1           2004\n  3               4              3              2              1           2004\n  4               5              5              2              1           2004\n  ...           ...            ...            ...            ...            ...\n  2020         2021           2021           2021           2021           2021\n  2021         2022           2022           2022           2022           2022\n  2022         2023           2023           2023           2023           2023\n  2023         2024           2024           2024           2024           2024\n  2024         2025           2025           2025           2025           2025\n  \n  [2025 rows x 5 columns])]"
     },
     "execution_count": 55,
     "metadata": {},
     "output_type": "execute_result"
    }
   ],
   "source": [],
   "metadata": {
    "collapsed": false,
    "pycharm": {
     "name": "#%%\n"
    }
   }
  },
  {
   "cell_type": "code",
   "execution_count": null,
   "outputs": [],
   "source": [
    "# 학습에 필요없는 컬럼 리스트\n",
    "cols_drop = [\"id\",\"person_prefer_f\",\"person_prefer_g\" ,\"contents_open_dt\", \"contents_rn\", ]\n",
    "x_train, y_train = preprocess_data(train_data, cols_merge = cols_merge , cols_equi= cols_equi , cols_drop = cols_drop)"
   ],
   "metadata": {
    "collapsed": false,
    "pycharm": {
     "name": "#%%\n"
    }
   }
  },
  {
   "cell_type": "code",
   "execution_count": null,
   "outputs": [],
   "source": [
    "x_test, _ = preprocess_data(test_data,is_train = False, cols_merge = cols_merge , cols_equi= cols_equi  , cols_drop = cols_drop)\n",
    "x_train.shape , y_train.shape , x_test.shape\n",
    "x_train  = x_train.iloc[:351365,:]\n",
    "y_train = y_train[:351365]\n",
    "mean_encode = x_train[[col for col in x_train.columns if 'mean_encode' in col]]\n",
    "#left는 그래도 on key 가 하나는 있어야 없어도 붙인다\n",
    "x_train\n",
    "mean_encode =  mean_encode.reset_index(drop=True)\n",
    "#x_train = pd.concat([x_train, mean_encode],axis=1 ) catboost 에 , test 셋에도 없는 mean encode 사용하지 않는다\n",
    "x_train.columns[x_train.nunique() > 2 ].tolist()\n",
    "# 범주형 컬럼 리스트\n",
    "is_holdout = False\n",
    "n_splits = 5"
   ],
   "metadata": {
    "collapsed": false,
    "pycharm": {
     "name": "#%%\n"
    }
   }
  },
  {
   "cell_type": "code",
   "execution_count": 167,
   "outputs": [],
   "source": [
    "iterations = 3000\n",
    "patience= 50\n",
    "SEED = 42\n",
    "# 전역 변수\n",
    "scores = []\n",
    "models = []\n",
    "# category feature 가 아니지만 쓰였으므로"
   ],
   "metadata": {
    "collapsed": false,
    "pycharm": {
     "name": "#%%\n"
    }
   }
  },
  {
   "cell_type": "code",
   "execution_count": null,
   "outputs": [],
   "source": [],
   "metadata": {
    "collapsed": false,
    "pycharm": {
     "name": "#%%\n"
    }
   }
  },
  {
   "cell_type": "code",
   "execution_count": 169,
   "outputs": [],
   "source": [
    "cat_features = x_train.columns[x_train.nunique() > 2].tolist()"
   ],
   "metadata": {
    "collapsed": false,
    "pycharm": {
     "name": "#%%\n"
    }
   }
  },
  {
   "cell_type": "code",
   "execution_count": 27,
   "outputs": [
    {
     "ename": "NameError",
     "evalue": "name 'n_splits' is not defined",
     "output_type": "error",
     "traceback": [
      "\u001B[0;31m---------------------------------------------------------------------------\u001B[0m",
      "\u001B[0;31mNameError\u001B[0m                                 Traceback (most recent call last)",
      "\u001B[0;32m/var/folders/c6/2j22b1rd02778st12c0mcr3w0000gn/T/ipykernel_92367/3051018614.py\u001B[0m in \u001B[0;36m<module>\u001B[0;34m\u001B[0m\n\u001B[1;32m      1\u001B[0m \u001B[0;31m#cv = KFold(n_splits=n_splits, shuffle=True, random_state=SEED)\u001B[0m\u001B[0;34m\u001B[0m\u001B[0;34m\u001B[0m\u001B[0;34m\u001B[0m\u001B[0m\n\u001B[1;32m      2\u001B[0m \u001B[0;31m# 왜 KFold로 한거지 ?  불균형한데\u001B[0m\u001B[0;34m\u001B[0m\u001B[0;34m\u001B[0m\u001B[0;34m\u001B[0m\u001B[0m\n\u001B[0;32m----> 3\u001B[0;31m \u001B[0mcv\u001B[0m \u001B[0;34m=\u001B[0m \u001B[0mStratifiedKFold\u001B[0m\u001B[0;34m(\u001B[0m\u001B[0mn_splits\u001B[0m\u001B[0;34m=\u001B[0m\u001B[0mn_splits\u001B[0m\u001B[0;34m,\u001B[0m\u001B[0mrandom_state\u001B[0m\u001B[0;34m=\u001B[0m\u001B[0mSEED\u001B[0m\u001B[0;34m,\u001B[0m \u001B[0mshuffle\u001B[0m\u001B[0;34m=\u001B[0m\u001B[0;32mTrue\u001B[0m \u001B[0;34m)\u001B[0m\u001B[0;34m\u001B[0m\u001B[0;34m\u001B[0m\u001B[0m\n\u001B[0m\u001B[1;32m      4\u001B[0m \u001B[0mmodels\u001B[0m \u001B[0;34m=\u001B[0m \u001B[0;34m[\u001B[0m\u001B[0;34m]\u001B[0m\u001B[0;34m\u001B[0m\u001B[0;34m\u001B[0m\u001B[0m\n\u001B[1;32m      5\u001B[0m \u001B[0;32mfor\u001B[0m \u001B[0mtri\u001B[0m\u001B[0;34m,\u001B[0m \u001B[0mvai\u001B[0m \u001B[0;32min\u001B[0m \u001B[0mcv\u001B[0m\u001B[0;34m.\u001B[0m\u001B[0msplit\u001B[0m\u001B[0;34m(\u001B[0m\u001B[0mx_train\u001B[0m\u001B[0;34m)\u001B[0m\u001B[0;34m:\u001B[0m\u001B[0;34m\u001B[0m\u001B[0;34m\u001B[0m\u001B[0m\n",
      "\u001B[0;31mNameError\u001B[0m: name 'n_splits' is not defined"
     ]
    }
   ],
   "source": [
    "#cv = KFold(n_splits=n_splits, shuffle=True, random_state=SEED)\n",
    "# 왜 KFold로 한거지 ?  불균형한데\n",
    "cv = StratifiedKFold(n_splits=n_splits,random_state=SEED, shuffle=True )\n",
    "models = []\n",
    "for tri, vai in cv.split(x_train):\n",
    "    print(\"=\"*50)\n",
    "    preds = []\n",
    "    model = CatBoostClassifier(iterations=iterations,random_state=SEED,eval_metric=\"F1\",cat_features=cat_features,one_hot_max_size=4)\n",
    "    model.fit(x_train.iloc[tri], y_train[tri],\n",
    "            eval_set=[(x_train.iloc[vai], y_train[vai])],\n",
    "            early_stopping_rounds=patience ,\n",
    "            verbose = 100\n",
    "        )\n",
    "    models.append(model)\n",
    "    scores.append(model.get_best_score()[\"validation\"][\"F1\"])\n",
    "    if is_holdout:\n",
    "        break"
   ],
   "metadata": {
    "collapsed": false,
    "pycharm": {
     "name": "#%%\n"
    }
   }
  },
  {
   "cell_type": "code",
   "execution_count": null,
   "outputs": [],
   "source": [
    "from sklearn.ensemble import VotingClassifier"
   ],
   "metadata": {
    "collapsed": false,
    "pycharm": {
     "name": "#%%\n"
    }
   }
  },
  {
   "cell_type": "code",
   "execution_count": null,
   "outputs": [],
   "source": [
    "if sys.version_info >= (3, 6):\n",
    "    PATH_TYPES = STRING_TYPES + (os.PathLike,)\n",
    "elif sys.version_info >= (3, 4):\n",
    "    from pathlib import Path\n",
    "    PATH_TYPES = STRING_TYPES + (Path,)\n",
    "else:\n",
    "    PATH_TYPES = STRING_TYPES\n"
   ],
   "metadata": {
    "collapsed": false,
    "pycharm": {
     "name": "#%%\n"
    }
   }
  },
  {
   "cell_type": "code",
   "execution_count": 2,
   "outputs": [],
   "source": [
    "# in fit trainning method , split data train\n",
    "import sys\n",
    "from copy import deepcopy"
   ],
   "metadata": {
    "collapsed": false,
    "pycharm": {
     "name": "#%%\n"
    }
   }
  },
  {
   "cell_type": "code",
   "execution_count": 5,
   "outputs": [
    {
     "ename": "NameError",
     "evalue": "name 'CatBoostClassifier' is not defined",
     "output_type": "error",
     "traceback": [
      "\u001B[0;31m---------------------------------------------------------------------------\u001B[0m",
      "\u001B[0;31mNameError\u001B[0m                                 Traceback (most recent call last)",
      "\u001B[0;32m/var/folders/c6/2j22b1rd02778st12c0mcr3w0000gn/T/ipykernel_92367/314773269.py\u001B[0m in \u001B[0;36m<module>\u001B[0;34m\u001B[0m\n\u001B[0;32m----> 1\u001B[0;31m \u001B[0mCatBoostClassifier\u001B[0m\u001B[0;34m\u001B[0m\u001B[0;34m\u001B[0m\u001B[0m\n\u001B[0m\u001B[1;32m      2\u001B[0m \u001B[0;34m\u001B[0m\u001B[0m\n",
      "\u001B[0;31mNameError\u001B[0m: name 'CatBoostClassifier' is not defined"
     ]
    }
   ],
   "source": [
    "\n",
    "\n"
   ],
   "metadata": {
    "collapsed": false,
    "pycharm": {
     "name": "#%%\n"
    }
   }
  },
  {
   "cell_type": "code",
   "execution_count": 8,
   "outputs": [],
   "source": [
    "class CatBoostClassifierSplitData(CatBoostClassifier):\n",
    "\n",
    "    def _prepare_train_params(self, X=None, y=None, cat_features=None, text_features=None, embedding_features=None,\n",
    "                              pairs=None, sample_weight=None, group_id=None, group_weight=None, subgroup_id=None,\n",
    "                              pairs_weight=None, baseline=None, use_best_model=None, eval_set=None, verbose=None,\n",
    "                              logging_level=None, plot=None, column_description=None, verbose_eval=None,\n",
    "                              metric_period=None, silent=None, early_stopping_rounds=None, save_snapshot=None,\n",
    "                              snapshot_file=None, snapshot_interval=None, init_model=None, callbacks=None):\n",
    "        params =  deepcopy(self._init_params)\n",
    "        if params is None:\n",
    "            params = {}\n",
    "\n",
    "        self._process_synonyms(params)\n",
    "\n",
    "        # if isinstance(X, self.FeaturesData):\n",
    "        #     warnings.warn(\"FeaturesData is deprecated for using in fit function \"\n",
    "        #                   \"and soon will not be supported. If you want to use FeaturesData, \"\n",
    "        #                   \"please pass it to Pool initialization and use Pool in fit\")\n",
    "\n",
    "        cat_features = self._process_feature_indices(cat_features, X, params, 'cat_features')\n",
    "        text_features = self._process_feature_indices(text_features, X, params, 'text_features')\n",
    "        embedding_features = self._process_feature_indices(embedding_features, X, params, 'embedding_features')\n",
    "\n",
    "        train_pool = self._build_train_pool(X, y, cat_features, text_features, embedding_features, pairs,\n",
    "                                       sample_weight, group_id, group_weight, subgroup_id, pairs_weight,\n",
    "                                       baseline, column_description)\n",
    "        # if train_pool.is_empty_:\n",
    "        #     raise CatBoostError(\"X is empty.\")\n",
    "\n",
    "        allow_clear_pool = not isinstance(X, Pool)\n",
    "\n",
    "        params['loss_function'] = self._get_loss_function_for_train(\n",
    "            params,\n",
    "            getattr(self, '_estimator_type', None),\n",
    "            train_pool\n",
    "        )\n",
    "\n",
    "        metric_period, verbose, logging_level = self._process_verbose(\n",
    "            metric_period, verbose, logging_level, verbose_eval, silent)\n",
    "\n",
    "        if metric_period is not None:\n",
    "            params['metric_period'] = metric_period\n",
    "        if logging_level is not None:\n",
    "            params['logging_level'] = logging_level\n",
    "        if verbose is not None:\n",
    "            params['verbose'] = verbose\n",
    "        if use_best_model is not None:\n",
    "            params['use_best_model'] = use_best_model\n",
    "\n",
    "        if early_stopping_rounds is not None:\n",
    "            params['od_type'] = 'Iter'\n",
    "            params['od_wait'] = early_stopping_rounds\n",
    "            if 'od_pval' in params:\n",
    "                del params['od_pval']\n",
    "\n",
    "        if save_snapshot is not None:\n",
    "            params['save_snapshot'] = save_snapshot\n",
    "\n",
    "        if snapshot_file is not None:\n",
    "            params['snapshot_file'] = snapshot_file\n",
    "\n",
    "        if snapshot_interval is not None:\n",
    "            params['snapshot_interval'] = snapshot_interval\n",
    "\n",
    "        if callbacks is not None:\n",
    "            params['callbacks'] = self._TrainCallbacksWrapper(callbacks)\n",
    "\n",
    "        self._check_param_types(params)\n",
    "        params = self._params_type_cast(params)\n",
    "        self._check_train_params(params)\n",
    "\n",
    "        eval_set_list = eval_set if isinstance(eval_set, list) else [eval_set]\n",
    "        eval_sets = []\n",
    "        eval_total_row_count = 0\n",
    "        for eval_set in eval_set_list:\n",
    "            if isinstance(eval_set, Pool):\n",
    "                eval_sets.append(eval_set)\n",
    "                eval_total_row_count += eval_sets[-1].num_row()\n",
    "                if eval_sets[-1].num_row() == 0:\n",
    "                    raise self.CatBoostError(\"Empty 'eval_set' in Pool\")\n",
    "            elif isinstance(eval_set, self.PATH_TYPES):\n",
    "                eval_sets.append(Pool(eval_set, column_description=column_description))\n",
    "                eval_total_row_count += eval_sets[-1].num_row()\n",
    "                if eval_sets[-1].num_row() == 0:\n",
    "                    raise self.CatBoostError(\"Empty 'eval_set' in file {}\".format(eval_set))\n",
    "            elif isinstance(eval_set, tuple):\n",
    "                if len(eval_set) != 2:\n",
    "                    raise self.CatBoostError(\"Invalid shape of 'eval_set': {}, must be (X, y).\".format(str(tuple(type(_) for _ in eval_set))))\n",
    "                if eval_set[0] is None or eval_set[1] is None:\n",
    "                    raise self.CatBoostError(\"'eval_set' tuple contains at least one None value\")\n",
    "                eval_sets.append(\n",
    "                    Pool(\n",
    "                        eval_set[0],\n",
    "                        eval_set[1],\n",
    "                        cat_features=train_pool.get_cat_feature_indices(),\n",
    "                        text_features=train_pool.get_text_feature_indices(),\n",
    "                        embedding_features=train_pool.get_embedding_feature_indices()\n",
    "                    )\n",
    "                )\n",
    "\n",
    "                eval_total_row_count += eval_sets[-1].num_row()\n",
    "                if eval_sets[-1].num_row() == 0:\n",
    "                    raise self.CatBoostError(\"Empty 'eval_set' in tuple\")\n",
    "            elif eval_set is None:\n",
    "                if len(eval_set_list) > 1:\n",
    "                    raise self.CatBoostError(\"Multiple eval set shall not contain None\")\n",
    "            else:\n",
    "                raise self.CatBoostError(\"Invalid type of 'eval_set': {}, while expected Pool or (X, y) or filename, or list thereof.\".format(type(eval_set)))\n",
    "\n",
    "        if self.get_param('use_best_model') and eval_total_row_count == 0:\n",
    "            raise self.CatBoostError(\"To employ param {'use_best_model': True} provide non-empty 'eval_set'.\")\n",
    "\n",
    "        if (init_model is not None) and isinstance(init_model, PATH_TYPES):\n",
    "            try:\n",
    "                init_model = self.CatBoost().load_model(init_model)\n",
    "            except Exception as e:\n",
    "                raise self.CatBoostError(\"Error while loading init_model: {}\".format(e))\n",
    "\n",
    "        return {\n",
    "            \"train_pool\": train_pool,\n",
    "            \"eval_sets\": eval_sets,\n",
    "            \"params\": params,\n",
    "            \"allow_clear_pool\": allow_clear_pool,\n",
    "            \"init_model\": init_model\n",
    "        }"
   ],
   "metadata": {
    "collapsed": false,
    "pycharm": {
     "name": "#%%\n"
    }
   }
  },
  {
   "cell_type": "code",
   "execution_count": null,
   "outputs": [],
   "source": [],
   "metadata": {
    "collapsed": false,
    "pycharm": {
     "name": "#%%\n"
    }
   }
  },
  {
   "cell_type": "code",
   "execution_count": null,
   "outputs": [],
   "source": [
    "model = tf.keras.Sequential([\n",
    "                tf.keras.layers.Dense(units=48, activation = 'relu' , input_shape=(68,)),\n",
    "                tf.keras.layers.Dense(units=24, activation = 'relu'),\n",
    "                tf.keras.layers.Dense(units=12, activation = 'relu'),\n",
    "                #마지막 레이어 유닛은 1로 해야 계산을 할 수 가 있다\n",
    "                tf.keras.layers.Dense(units=1 , activation = 'sigmoid')\n",
    "])\n",
    "model.compile(optimizer=tf.keras.optimizers.Adam(lr=0.07),\n",
    "              loss='binary_crossentropy' ,metrics=['accuracy'])\n",
    "\n",
    "model.summary()\n",
    "history = model.fit(x_train , y_train , epochs=25, batch_size = 32, validation_split=0.25, callbacks=[tf.keras.callbacks.EarlyStopping(patience=3, monitor='val_loss')])\n",
    "history"
   ],
   "metadata": {
    "collapsed": false,
    "pycharm": {
     "name": "#%% :::::::::::: KERAS DEEP LEARNING START ::::::::::::::: #%%\n"
    }
   }
  },
  {
   "cell_type": "code",
   "execution_count": null,
   "outputs": [],
   "source": [
    "# train start\n",
    "####################### test data 에 target이 없으므로 mean_encode 학습은 무의미하다###########\n",
    "#cat_features 를 지정하지 않아도"
   ],
   "metadata": {
    "collapsed": false,
    "pycharm": {
     "name": "#%% :::::::::::::::::: KERAS DEEP LEARNING END :::::::::::::::::::\n"
    }
   }
  },
  {
   "cell_type": "code",
   "execution_count": 10,
   "outputs": [],
   "source": [
    "# 모델에 맞지 않는 피쳐값을 넣으니 성능이 하락하네 이런 이유가 있을 수 있다\n",
    "\n",
    "# 피쳐별 가중치를 달리하는 딥러닝 모델 훈련 ? 이 의미가 있을까싶은데 내가 원하는 피쳐별 가중치를 달리하게 해주는 것은 딥러닝,용도와 의미를 이제 깨달았다\n",
    "\n",
    "DATA_PATH = 'JobCare_data/'"
   ],
   "metadata": {
    "collapsed": false,
    "pycharm": {
     "name": "#%%\n"
    }
   }
  },
  {
   "cell_type": "code",
   "execution_count": 159,
   "outputs": [],
   "source": [
    "d_code= pd.read_csv(f'{DATA_PATH}속성_D_코드.csv',index_col=0).T.to_dict()\n",
    "h_code = pd.read_csv(f'{DATA_PATH}속성_H_코드.csv',index_col=0).T.to_dict()\n",
    "l_code = pd.read_csv(f'{DATA_PATH}속성_L_코드.csv',index_col=0).T.to_dict()"
   ],
   "metadata": {
    "collapsed": false,
    "pycharm": {
     "name": "#%%\n"
    }
   }
  },
  {
   "cell_type": "code",
   "execution_count": 21,
   "outputs": [],
   "source": [
    "train_data = pd.read_csv(f'{DATA_PATH}train.csv')\n",
    "test_data = pd.read_csv(f'{DATA_PATH}test.csv')"
   ],
   "metadata": {
    "collapsed": false,
    "pycharm": {
     "name": "#%%\n"
    }
   }
  },
  {
   "cell_type": "code",
   "execution_count": 13,
   "outputs": [],
   "source": [
    "from typing import Dict"
   ],
   "metadata": {
    "collapsed": false,
    "pycharm": {
     "name": "#%%\n"
    }
   }
  },
  {
   "cell_type": "code",
   "execution_count": 147,
   "outputs": [
    {
     "data": {
      "text/plain": "            id  d_l_match_yn  d_m_match_yn  d_s_match_yn  h_l_match_yn  \\\n0            0          True          True          True         False   \n1            1         False         False         False          True   \n2            2         False         False         False          True   \n3            3         False         False         False          True   \n4            4          True          True          True         False   \n...        ...           ...           ...           ...           ...   \n501946  501946         False         False         False          True   \n501947  501947          True          True         False          True   \n501948  501948          True          True          True          True   \n501949  501949          True         False         False          True   \n501950  501950          True          True          True          True   \n\n        h_m_match_yn  h_s_match_yn  person_attribute_a  person_attribute_a_1  \\\n0              False         False                   1                     4   \n1               True         False                   1                     3   \n2              False         False                   2                     0   \n3              False         False                   2                     0   \n4              False         False                   1                     3   \n...              ...           ...                 ...                   ...   \n501946         False         False                   1                     1   \n501947         False         False                   1                     6   \n501948         False         False                   1                     7   \n501949         False         False                   1                     1   \n501950         False         False                   1                     6   \n\n        person_attribute_b  ...  contents_attribute_k  contents_attribute_l  \\\n0                        3  ...                     2                  1608   \n1                        4  ...                     2                  1608   \n2                        3  ...                     1                  1600   \n3                        2  ...                     2                  1608   \n4                        4  ...                     2                  1608   \n...                    ...  ...                   ...                   ...   \n501946                   2  ...                     2                   354   \n501947                   2  ...                     2                   163   \n501948                   4  ...                     2                   438   \n501949                   2  ...                     2                   660   \n501950                   3  ...                     2                   786   \n\n        contents_attribute_d  contents_attribute_m  contents_attribute_e  \\\n0                        275                     1                     4   \n1                        275                     1                     4   \n2                         94                     1                     4   \n3                        275                     5                     3   \n4                        275                     1                     4   \n...                      ...                   ...                   ...   \n501946                   147                     1                     5   \n501947                   120                     1                     4   \n501948                   147                     2                     7   \n501949                   147                     3                     4   \n501950                   147                     2                     5   \n\n        contents_attribute_h  person_rn  contents_rn     contents_open_dt  \\\n0                        139     618822       354805  2020-01-17 12:09:36   \n1                        133     571659       346213  2020-06-18 17:48:52   \n2                         53     399816       206408  2020-07-08 20:00:10   \n3                         74     827967       572323  2020-01-13 18:09:34   \n4                         74     831614       573899  2020-03-09 20:39:22   \n...                      ...        ...          ...                  ...   \n501946                    65     503156       285850  2020-03-13 12:55:52   \n501947                   142     676255       456996  2020-01-20 11:51:51   \n501948                    65     484528       293258  2020-08-05 17:27:24   \n501949                   259     456330       273797  2020-06-15 09:23:21   \n501950                   289     235596       176650  2020-05-25 14:34:48   \n\n        target  \n0            1  \n1            0  \n2            0  \n3            0  \n4            0  \n...        ...  \n501946       1  \n501947       1  \n501948       1  \n501949       1  \n501950       1  \n\n[501951 rows x 35 columns]",
      "text/html": "<div>\n<style scoped>\n    .dataframe tbody tr th:only-of-type {\n        vertical-align: middle;\n    }\n\n    .dataframe tbody tr th {\n        vertical-align: top;\n    }\n\n    .dataframe thead th {\n        text-align: right;\n    }\n</style>\n<table border=\"1\" class=\"dataframe\">\n  <thead>\n    <tr style=\"text-align: right;\">\n      <th></th>\n      <th>id</th>\n      <th>d_l_match_yn</th>\n      <th>d_m_match_yn</th>\n      <th>d_s_match_yn</th>\n      <th>h_l_match_yn</th>\n      <th>h_m_match_yn</th>\n      <th>h_s_match_yn</th>\n      <th>person_attribute_a</th>\n      <th>person_attribute_a_1</th>\n      <th>person_attribute_b</th>\n      <th>...</th>\n      <th>contents_attribute_k</th>\n      <th>contents_attribute_l</th>\n      <th>contents_attribute_d</th>\n      <th>contents_attribute_m</th>\n      <th>contents_attribute_e</th>\n      <th>contents_attribute_h</th>\n      <th>person_rn</th>\n      <th>contents_rn</th>\n      <th>contents_open_dt</th>\n      <th>target</th>\n    </tr>\n  </thead>\n  <tbody>\n    <tr>\n      <th>0</th>\n      <td>0</td>\n      <td>True</td>\n      <td>True</td>\n      <td>True</td>\n      <td>False</td>\n      <td>False</td>\n      <td>False</td>\n      <td>1</td>\n      <td>4</td>\n      <td>3</td>\n      <td>...</td>\n      <td>2</td>\n      <td>1608</td>\n      <td>275</td>\n      <td>1</td>\n      <td>4</td>\n      <td>139</td>\n      <td>618822</td>\n      <td>354805</td>\n      <td>2020-01-17 12:09:36</td>\n      <td>1</td>\n    </tr>\n    <tr>\n      <th>1</th>\n      <td>1</td>\n      <td>False</td>\n      <td>False</td>\n      <td>False</td>\n      <td>True</td>\n      <td>True</td>\n      <td>False</td>\n      <td>1</td>\n      <td>3</td>\n      <td>4</td>\n      <td>...</td>\n      <td>2</td>\n      <td>1608</td>\n      <td>275</td>\n      <td>1</td>\n      <td>4</td>\n      <td>133</td>\n      <td>571659</td>\n      <td>346213</td>\n      <td>2020-06-18 17:48:52</td>\n      <td>0</td>\n    </tr>\n    <tr>\n      <th>2</th>\n      <td>2</td>\n      <td>False</td>\n      <td>False</td>\n      <td>False</td>\n      <td>True</td>\n      <td>False</td>\n      <td>False</td>\n      <td>2</td>\n      <td>0</td>\n      <td>3</td>\n      <td>...</td>\n      <td>1</td>\n      <td>1600</td>\n      <td>94</td>\n      <td>1</td>\n      <td>4</td>\n      <td>53</td>\n      <td>399816</td>\n      <td>206408</td>\n      <td>2020-07-08 20:00:10</td>\n      <td>0</td>\n    </tr>\n    <tr>\n      <th>3</th>\n      <td>3</td>\n      <td>False</td>\n      <td>False</td>\n      <td>False</td>\n      <td>True</td>\n      <td>False</td>\n      <td>False</td>\n      <td>2</td>\n      <td>0</td>\n      <td>2</td>\n      <td>...</td>\n      <td>2</td>\n      <td>1608</td>\n      <td>275</td>\n      <td>5</td>\n      <td>3</td>\n      <td>74</td>\n      <td>827967</td>\n      <td>572323</td>\n      <td>2020-01-13 18:09:34</td>\n      <td>0</td>\n    </tr>\n    <tr>\n      <th>4</th>\n      <td>4</td>\n      <td>True</td>\n      <td>True</td>\n      <td>True</td>\n      <td>False</td>\n      <td>False</td>\n      <td>False</td>\n      <td>1</td>\n      <td>3</td>\n      <td>4</td>\n      <td>...</td>\n      <td>2</td>\n      <td>1608</td>\n      <td>275</td>\n      <td>1</td>\n      <td>4</td>\n      <td>74</td>\n      <td>831614</td>\n      <td>573899</td>\n      <td>2020-03-09 20:39:22</td>\n      <td>0</td>\n    </tr>\n    <tr>\n      <th>...</th>\n      <td>...</td>\n      <td>...</td>\n      <td>...</td>\n      <td>...</td>\n      <td>...</td>\n      <td>...</td>\n      <td>...</td>\n      <td>...</td>\n      <td>...</td>\n      <td>...</td>\n      <td>...</td>\n      <td>...</td>\n      <td>...</td>\n      <td>...</td>\n      <td>...</td>\n      <td>...</td>\n      <td>...</td>\n      <td>...</td>\n      <td>...</td>\n      <td>...</td>\n      <td>...</td>\n    </tr>\n    <tr>\n      <th>501946</th>\n      <td>501946</td>\n      <td>False</td>\n      <td>False</td>\n      <td>False</td>\n      <td>True</td>\n      <td>False</td>\n      <td>False</td>\n      <td>1</td>\n      <td>1</td>\n      <td>2</td>\n      <td>...</td>\n      <td>2</td>\n      <td>354</td>\n      <td>147</td>\n      <td>1</td>\n      <td>5</td>\n      <td>65</td>\n      <td>503156</td>\n      <td>285850</td>\n      <td>2020-03-13 12:55:52</td>\n      <td>1</td>\n    </tr>\n    <tr>\n      <th>501947</th>\n      <td>501947</td>\n      <td>True</td>\n      <td>True</td>\n      <td>False</td>\n      <td>True</td>\n      <td>False</td>\n      <td>False</td>\n      <td>1</td>\n      <td>6</td>\n      <td>2</td>\n      <td>...</td>\n      <td>2</td>\n      <td>163</td>\n      <td>120</td>\n      <td>1</td>\n      <td>4</td>\n      <td>142</td>\n      <td>676255</td>\n      <td>456996</td>\n      <td>2020-01-20 11:51:51</td>\n      <td>1</td>\n    </tr>\n    <tr>\n      <th>501948</th>\n      <td>501948</td>\n      <td>True</td>\n      <td>True</td>\n      <td>True</td>\n      <td>True</td>\n      <td>False</td>\n      <td>False</td>\n      <td>1</td>\n      <td>7</td>\n      <td>4</td>\n      <td>...</td>\n      <td>2</td>\n      <td>438</td>\n      <td>147</td>\n      <td>2</td>\n      <td>7</td>\n      <td>65</td>\n      <td>484528</td>\n      <td>293258</td>\n      <td>2020-08-05 17:27:24</td>\n      <td>1</td>\n    </tr>\n    <tr>\n      <th>501949</th>\n      <td>501949</td>\n      <td>True</td>\n      <td>False</td>\n      <td>False</td>\n      <td>True</td>\n      <td>False</td>\n      <td>False</td>\n      <td>1</td>\n      <td>1</td>\n      <td>2</td>\n      <td>...</td>\n      <td>2</td>\n      <td>660</td>\n      <td>147</td>\n      <td>3</td>\n      <td>4</td>\n      <td>259</td>\n      <td>456330</td>\n      <td>273797</td>\n      <td>2020-06-15 09:23:21</td>\n      <td>1</td>\n    </tr>\n    <tr>\n      <th>501950</th>\n      <td>501950</td>\n      <td>True</td>\n      <td>True</td>\n      <td>True</td>\n      <td>True</td>\n      <td>False</td>\n      <td>False</td>\n      <td>1</td>\n      <td>6</td>\n      <td>3</td>\n      <td>...</td>\n      <td>2</td>\n      <td>786</td>\n      <td>147</td>\n      <td>2</td>\n      <td>5</td>\n      <td>289</td>\n      <td>235596</td>\n      <td>176650</td>\n      <td>2020-05-25 14:34:48</td>\n      <td>1</td>\n    </tr>\n  </tbody>\n</table>\n<p>501951 rows × 35 columns</p>\n</div>"
     },
     "execution_count": 147,
     "metadata": {},
     "output_type": "execute_result"
    }
   ],
   "source": [],
   "metadata": {
    "collapsed": false,
    "pycharm": {
     "name": "#%%\n"
    }
   }
  },
  {
   "cell_type": "code",
   "execution_count": 157,
   "outputs": [],
   "source": [
    "def add_code(df: pd.DataFrame,\n",
    "            d_code: Dict[str,int],\n",
    "             h_code: Dict[int,Dict[str,int]],\n",
    "             l_code:Dict[int,Dict[str,int]]\n",
    "                 ) -> pd.DataFrame:\n",
    "    df = df.copy()\n",
    "\n",
    "     # D Code\n",
    "    df['person_prefer_d_1_n'] = df['person_prefer_d_1'].apply(lambda x: d_code[x]['속성 D 세분류코드'])\n",
    "    df['person_prefer_d_1_s'] = df['person_prefer_d_1'].apply(lambda x: d_code[x]['속성 D 소분류코드'])\n",
    "    df['person_prefer_d_1_m'] = df['person_prefer_d_1'].apply(lambda x: d_code[x]['속성 D 중분류코드'])\n",
    "    df['person_prefer_d_1_l'] = df['person_prefer_d_1'].apply(lambda x: d_code[x]['속성 D 대분류코드'])\n",
    "\n",
    "    df['person_prefer_d_2_n'] = df['person_prefer_d_2'].apply(lambda x: d_code[x]['속성 D 세분류코드'])\n",
    "    df['person_prefer_d_2_s'] = df['person_prefer_d_2'].apply(lambda x: d_code[x]['속성 D 소분류코드'])\n",
    "    df['person_prefer_d_2_m'] = df['person_prefer_d_2'].apply(lambda x: d_code[x]['속성 D 중분류코드'])\n",
    "    df['person_prefer_d_2_l'] = df['person_prefer_d_2'].apply(lambda x: d_code[x]['속성 D 대분류코드'])\n",
    "\n",
    "    df['person_prefer_d_3_n'] = df['person_prefer_d_3'].apply(lambda x: d_code[x]['속성 D 세분류코드'])\n",
    "    df['person_prefer_d_3_s'] = df['person_prefer_d_3'].apply(lambda x: d_code[x]['속성 D 소분류코드'])\n",
    "    df['person_prefer_d_3_m'] = df['person_prefer_d_3'].apply(lambda x: d_code[x]['속성 D 중분류코드'])\n",
    "    df['person_prefer_d_3_l'] = df['person_prefer_d_3'].apply(lambda x: d_code[x]['속성 D 대분류코드'])\n",
    "\n",
    "    df['contents_attribute_d_n'] = df['contents_attribute_d'].apply(lambda x: d_code[x]['속성 D 세분류코드'])\n",
    "    df['contents_attribute_d_s'] = df['contents_attribute_d'].apply(lambda x: d_code[x]['속성 D 소분류코드'])\n",
    "    df['contents_attribute_d_m'] = df['contents_attribute_d'].apply(lambda x: d_code[x]['속성 D 중분류코드'])\n",
    "    df['contents_attribute_d_l'] = df['contents_attribute_d'].apply(lambda x: d_code[x]['속성 D 대분류코드'])\n",
    "\n",
    "    # H Code\n",
    "    df['person_prefer_h_1_l'] = df['person_prefer_h_1'].apply(lambda x: h_code[x]['속성 H 대분류코드'])\n",
    "    df['person_prefer_h_1_m'] = df['person_prefer_h_1'].apply(lambda x: h_code[x]['속성 H 중분류코드'])\n",
    "\n",
    "    df['person_prefer_h_2_l'] = df['person_prefer_h_2'].apply(lambda x: h_code[x]['속성 H 대분류코드'])\n",
    "    df['person_prefer_h_2_m'] = df['person_prefer_h_2'].apply(lambda x: h_code[x]['속성 H 중분류코드'])\n",
    "\n",
    "    df['person_prefer_h_3_l'] = df['person_prefer_h_3'].apply(lambda x: h_code[x]['속성 H 대분류코드'])\n",
    "    df['person_prefer_h_3_m'] = df['person_prefer_h_3'].apply(lambda x: h_code[x]['속성 H 중분류코드'])\n",
    "\n",
    "    df['contents_attribute_h_l'] = df['contents_attribute_h'].apply(lambda x: h_code[x]['속성 H 대분류코드'])\n",
    "    df['contents_attribute_h_m'] = df['contents_attribute_h'].apply(lambda x: h_code[x]['속성 H 중분류코드'])\n",
    "\n",
    "    # L Code\n",
    "    df['contents_attribute_l_n'] = df['contents_attribute_l'].apply(lambda x: l_code[x]['속성 L 세분류코드'])\n",
    "    df['contents_attribute_l_s'] = df['contents_attribute_l'].apply(lambda x: l_code[x]['속성 L 소분류코드'])\n",
    "    df['contents_attribute_l_m'] = df['contents_attribute_l'].apply(lambda x: l_code[x]['속성 L 중분류코드'])\n",
    "    df['contents_attribute_l_l'] = df['contents_attribute_l'].apply(lambda x: l_code[x]['속성 L 대분류코드'])\n",
    "\n",
    "    return df"
   ],
   "metadata": {
    "collapsed": false,
    "pycharm": {
     "name": "#%%\n"
    }
   }
  },
  {
   "cell_type": "code",
   "execution_count": 160,
   "outputs": [],
   "source": [
    "df_train = add_code(train_data, d_code, h_code, l_code)\n",
    "df_test = add_code(test_data, d_code, h_code, l_code)"
   ],
   "metadata": {
    "collapsed": false,
    "pycharm": {
     "name": "#%%\n"
    }
   }
  },
  {
   "cell_type": "code",
   "execution_count": 24,
   "outputs": [],
   "source": [
    "target = df_train['target']"
   ],
   "metadata": {
    "collapsed": false,
    "pycharm": {
     "name": "#%%\n"
    }
   }
  },
  {
   "cell_type": "code",
   "execution_count": 25,
   "outputs": [
    {
     "name": "stderr",
     "output_type": "stream",
     "text": [
      "/var/folders/c6/2j22b1rd02778st12c0mcr3w0000gn/T/ipykernel_32461/1132394020.py:1: DeprecationWarning: `np.int` is a deprecated alias for the builtin `int`. To silence this warning, use `int` by itself. Doing this will not modify any behavior and is safe. When replacing `np.int`, you may wish to use e.g. `np.int64` or `np.int32` to specify the precision. If you wish to review your current use, check the release note link for additional information.\n",
      "Deprecated in NumPy 1.20; for more details and guidance: https://numpy.org/devdocs/release/1.20.0-notes.html#deprecations\n",
      "  df_train = df_train.drop(['id','contents_open_dt','target', 'person_rn' ,'contents_rn'],axis=1).astype(np.int)\n"
     ]
    }
   ],
   "source": [
    "df_train = df_train.drop(['id','contents_open_dt','target', 'person_rn' ,'contents_rn'],axis=1).astype(np.int)"
   ],
   "metadata": {
    "collapsed": false,
    "pycharm": {
     "name": "#%%\n"
    }
   }
  },
  {
   "cell_type": "code",
   "execution_count": 64,
   "outputs": [
    {
     "name": "stderr",
     "output_type": "stream",
     "text": [
      "/var/folders/c6/2j22b1rd02778st12c0mcr3w0000gn/T/ipykernel_32461/4268960256.py:1: DeprecationWarning: `np.int` is a deprecated alias for the builtin `int`. To silence this warning, use `int` by itself. Doing this will not modify any behavior and is safe. When replacing `np.int`, you may wish to use e.g. `np.int64` or `np.int32` to specify the precision. If you wish to review your current use, check the release note link for additional information.\n",
      "Deprecated in NumPy 1.20; for more details and guidance: https://numpy.org/devdocs/release/1.20.0-notes.html#deprecations\n",
      "  test_data = test_data.drop(['id','contents_open_dt','person_rn' ,'contents_rn'],axis=1).astype(np.int)\n"
     ]
    }
   ],
   "source": [
    "test_data = test_data.drop(['id','contents_open_dt','person_rn' ,'contents_rn'],axis=1).astype(np.int)"
   ],
   "metadata": {
    "collapsed": false,
    "pycharm": {
     "name": "#%%\n"
    }
   }
  },
  {
   "cell_type": "code",
   "execution_count": 65,
   "outputs": [],
   "source": [
    "test_data = add_code(test_data, d_code, h_code, l_code)"
   ],
   "metadata": {
    "collapsed": false,
    "pycharm": {
     "name": "#%%\n"
    }
   }
  },
  {
   "cell_type": "code",
   "execution_count": null,
   "outputs": [],
   "source": [
    "# mean encode + 대분류 중분류 소분류 세분류 + CatBoostClassifier"
   ],
   "metadata": {
    "collapsed": false,
    "pycharm": {
     "name": "#%%\n"
    }
   }
  },
  {
   "cell_type": "code",
   "execution_count": 15,
   "outputs": [
    {
     "name": "stderr",
     "output_type": "stream",
     "text": [
      "/var/folders/c6/2j22b1rd02778st12c0mcr3w0000gn/T/ipykernel_45084/3219253316.py:2: DeprecationWarning: `np.int` is a deprecated alias for the builtin `int`. To silence this warning, use `int` by itself. Doing this will not modify any behavior and is safe. When replacing `np.int`, you may wish to use e.g. `np.int64` or `np.int32` to specify the precision. If you wish to review your current use, check the release note link for additional information.\n",
      "Deprecated in NumPy 1.20; for more details and guidance: https://numpy.org/devdocs/release/1.20.0-notes.html#deprecations\n",
      "  train_data = train_data.drop(['id','contents_open_dt','target', 'person_rn' ,'contents_rn'],axis=1).astype(np.int)\n"
     ]
    }
   ],
   "source": [
    "# train , valid split\n",
    "train_data = train_data.drop(['id','contents_open_dt','target', 'person_rn' ,'contents_rn'],axis=1).astype(np.int)"
   ],
   "metadata": {
    "collapsed": false,
    "pycharm": {
     "name": "#%%\n"
    }
   }
  },
  {
   "cell_type": "code",
   "execution_count": 68,
   "outputs": [
    {
     "ename": "KeyError",
     "evalue": "'Column not found: target'",
     "output_type": "error",
     "traceback": [
      "\u001B[0;31m---------------------------------------------------------------------------\u001B[0m",
      "\u001B[0;31mKeyError\u001B[0m                                  Traceback (most recent call last)",
      "\u001B[0;32m/var/folders/c6/2j22b1rd02778st12c0mcr3w0000gn/T/ipykernel_32461/3880814937.py\u001B[0m in \u001B[0;36m<module>\u001B[0;34m\u001B[0m\n\u001B[0;32m----> 1\u001B[0;31m \u001B[0mtest_data\u001B[0m \u001B[0;34m=\u001B[0m \u001B[0mget_mean_encode\u001B[0m\u001B[0;34m(\u001B[0m\u001B[0mtest_data\u001B[0m\u001B[0;34m,\u001B[0m\u001B[0mnominal_cols\u001B[0m\u001B[0;34m)\u001B[0m\u001B[0;34m\u001B[0m\u001B[0;34m\u001B[0m\u001B[0m\n\u001B[0m",
      "\u001B[0;32m/var/folders/c6/2j22b1rd02778st12c0mcr3w0000gn/T/ipykernel_32461/2932312471.py\u001B[0m in \u001B[0;36mget_mean_encode\u001B[0;34m(train, nominal_cols)\u001B[0m\n\u001B[1;32m      4\u001B[0m             \u001B[0mname\u001B[0m \u001B[0;34m=\u001B[0m \u001B[0mcol\u001B[0m\u001B[0;34m[\u001B[0m\u001B[0mcol\u001B[0m\u001B[0;34m.\u001B[0m\u001B[0mindex\u001B[0m\u001B[0;34m(\u001B[0m\u001B[0;34m'attribute'\u001B[0m\u001B[0;34m)\u001B[0m \u001B[0;34m+\u001B[0m \u001B[0mlen\u001B[0m\u001B[0;34m(\u001B[0m\u001B[0;34m'attribute'\u001B[0m\u001B[0;34m)\u001B[0m\u001B[0;34m+\u001B[0m\u001B[0;36m1\u001B[0m\u001B[0;34m:\u001B[0m\u001B[0;34m]\u001B[0m\u001B[0;34m\u001B[0m\u001B[0;34m\u001B[0m\u001B[0m\n\u001B[1;32m      5\u001B[0m             \u001B[0mvar_name\u001B[0m \u001B[0;34m=\u001B[0m \u001B[0;34m'attr_{}_mean_encode'\u001B[0m\u001B[0;34m.\u001B[0m\u001B[0mformat\u001B[0m\u001B[0;34m(\u001B[0m\u001B[0mname\u001B[0m\u001B[0;34m)\u001B[0m\u001B[0;34m\u001B[0m\u001B[0;34m\u001B[0m\u001B[0m\n\u001B[0;32m----> 6\u001B[0;31m             \u001B[0mlocals\u001B[0m\u001B[0;34m(\u001B[0m\u001B[0;34m)\u001B[0m\u001B[0;34m[\u001B[0m\u001B[0mvar_name\u001B[0m\u001B[0;34m]\u001B[0m \u001B[0;34m=\u001B[0m \u001B[0mtrain\u001B[0m\u001B[0;34m.\u001B[0m\u001B[0mgroupby\u001B[0m\u001B[0;34m(\u001B[0m\u001B[0mcol\u001B[0m\u001B[0;34m)\u001B[0m\u001B[0;34m[\u001B[0m\u001B[0;34m\"target\"\u001B[0m\u001B[0;34m]\u001B[0m\u001B[0;34m.\u001B[0m\u001B[0mmean\u001B[0m\u001B[0;34m(\u001B[0m\u001B[0;34m)\u001B[0m\u001B[0;34m\u001B[0m\u001B[0;34m\u001B[0m\u001B[0m\n\u001B[0m\u001B[1;32m      7\u001B[0m         \u001B[0;32melif\u001B[0m \u001B[0;34m'prefer'\u001B[0m \u001B[0;32min\u001B[0m \u001B[0mcol\u001B[0m\u001B[0;34m:\u001B[0m\u001B[0;34m\u001B[0m\u001B[0;34m\u001B[0m\u001B[0m\n\u001B[1;32m      8\u001B[0m             \u001B[0mname\u001B[0m \u001B[0;34m=\u001B[0m \u001B[0mcol\u001B[0m\u001B[0;34m[\u001B[0m\u001B[0mcol\u001B[0m\u001B[0;34m.\u001B[0m\u001B[0mindex\u001B[0m\u001B[0;34m(\u001B[0m\u001B[0;34m'prefer'\u001B[0m\u001B[0;34m)\u001B[0m \u001B[0;34m+\u001B[0m \u001B[0mlen\u001B[0m\u001B[0;34m(\u001B[0m\u001B[0;34m'prefer'\u001B[0m\u001B[0;34m)\u001B[0m\u001B[0;34m+\u001B[0m\u001B[0;36m1\u001B[0m\u001B[0;34m:\u001B[0m\u001B[0;34m]\u001B[0m\u001B[0;34m\u001B[0m\u001B[0;34m\u001B[0m\u001B[0m\n",
      "\u001B[0;32m~/PycharmProjects/pythonProject/venv/lib/python3.8/site-packages/pandas/core/groupby/generic.py\u001B[0m in \u001B[0;36m__getitem__\u001B[0;34m(self, key)\u001B[0m\n\u001B[1;32m   1540\u001B[0m                 \u001B[0mstacklevel\u001B[0m\u001B[0;34m=\u001B[0m\u001B[0;36m2\u001B[0m\u001B[0;34m,\u001B[0m\u001B[0;34m\u001B[0m\u001B[0;34m\u001B[0m\u001B[0m\n\u001B[1;32m   1541\u001B[0m             )\n\u001B[0;32m-> 1542\u001B[0;31m         \u001B[0;32mreturn\u001B[0m \u001B[0msuper\u001B[0m\u001B[0;34m(\u001B[0m\u001B[0;34m)\u001B[0m\u001B[0;34m.\u001B[0m\u001B[0m__getitem__\u001B[0m\u001B[0;34m(\u001B[0m\u001B[0mkey\u001B[0m\u001B[0;34m)\u001B[0m\u001B[0;34m\u001B[0m\u001B[0;34m\u001B[0m\u001B[0m\n\u001B[0m\u001B[1;32m   1543\u001B[0m \u001B[0;34m\u001B[0m\u001B[0m\n\u001B[1;32m   1544\u001B[0m     \u001B[0;32mdef\u001B[0m \u001B[0m_gotitem\u001B[0m\u001B[0;34m(\u001B[0m\u001B[0mself\u001B[0m\u001B[0;34m,\u001B[0m \u001B[0mkey\u001B[0m\u001B[0;34m,\u001B[0m \u001B[0mndim\u001B[0m\u001B[0;34m:\u001B[0m \u001B[0mint\u001B[0m\u001B[0;34m,\u001B[0m \u001B[0msubset\u001B[0m\u001B[0;34m=\u001B[0m\u001B[0;32mNone\u001B[0m\u001B[0;34m)\u001B[0m\u001B[0;34m:\u001B[0m\u001B[0;34m\u001B[0m\u001B[0;34m\u001B[0m\u001B[0m\n",
      "\u001B[0;32m~/PycharmProjects/pythonProject/venv/lib/python3.8/site-packages/pandas/core/base.py\u001B[0m in \u001B[0;36m__getitem__\u001B[0;34m(self, key)\u001B[0m\n\u001B[1;32m    278\u001B[0m             \u001B[0;31m# error: \"SelectionMixin\" has no attribute \"obj\"  [attr-defined]\u001B[0m\u001B[0;34m\u001B[0m\u001B[0;34m\u001B[0m\u001B[0;34m\u001B[0m\u001B[0m\n\u001B[1;32m    279\u001B[0m             \u001B[0;32mif\u001B[0m \u001B[0mkey\u001B[0m \u001B[0;32mnot\u001B[0m \u001B[0;32min\u001B[0m \u001B[0mself\u001B[0m\u001B[0;34m.\u001B[0m\u001B[0mobj\u001B[0m\u001B[0;34m:\u001B[0m  \u001B[0;31m# type: ignore[attr-defined]\u001B[0m\u001B[0;34m\u001B[0m\u001B[0;34m\u001B[0m\u001B[0m\n\u001B[0;32m--> 280\u001B[0;31m                 \u001B[0;32mraise\u001B[0m \u001B[0mKeyError\u001B[0m\u001B[0;34m(\u001B[0m\u001B[0;34mf\"Column not found: {key}\"\u001B[0m\u001B[0;34m)\u001B[0m\u001B[0;34m\u001B[0m\u001B[0;34m\u001B[0m\u001B[0m\n\u001B[0m\u001B[1;32m    281\u001B[0m             \u001B[0;32mreturn\u001B[0m \u001B[0mself\u001B[0m\u001B[0;34m.\u001B[0m\u001B[0m_gotitem\u001B[0m\u001B[0;34m(\u001B[0m\u001B[0mkey\u001B[0m\u001B[0;34m,\u001B[0m \u001B[0mndim\u001B[0m\u001B[0;34m=\u001B[0m\u001B[0;36m1\u001B[0m\u001B[0;34m)\u001B[0m\u001B[0;34m\u001B[0m\u001B[0;34m\u001B[0m\u001B[0m\n\u001B[1;32m    282\u001B[0m \u001B[0;34m\u001B[0m\u001B[0m\n",
      "\u001B[0;31mKeyError\u001B[0m: 'Column not found: target'"
     ]
    }
   ],
   "source": [
    "test_data = get_mean_encode(test_data,nominal_cols)"
   ],
   "metadata": {
    "collapsed": false,
    "pycharm": {
     "name": "#%%\n"
    }
   }
  },
  {
   "cell_type": "code",
   "execution_count": 33,
   "outputs": [],
   "source": [
    "df_train['target'] = target"
   ],
   "metadata": {
    "collapsed": false,
    "pycharm": {
     "name": "#%%\n"
    }
   }
  },
  {
   "cell_type": "code",
   "execution_count": 34,
   "outputs": [],
   "source": [
    "df_train = get_mean_encode(df_train,nominal_cols)"
   ],
   "metadata": {
    "collapsed": false,
    "pycharm": {
     "name": "#%%\n"
    }
   }
  },
  {
   "cell_type": "code",
   "execution_count": 35,
   "outputs": [],
   "source": [
    "df_test['target'] =target"
   ],
   "metadata": {
    "collapsed": false,
    "pycharm": {
     "name": "#%%\n"
    }
   }
  },
  {
   "cell_type": "code",
   "execution_count": 36,
   "outputs": [],
   "source": [
    "df_test = get_mean_encode(df_test, nominal_cols)"
   ],
   "metadata": {
    "collapsed": false,
    "pycharm": {
     "name": "#%%\n"
    }
   }
  },
  {
   "cell_type": "code",
   "execution_count": 37,
   "outputs": [],
   "source": [
    "df_train = df_train.drop('target',axis=1)"
   ],
   "metadata": {
    "collapsed": false,
    "pycharm": {
     "name": "#%%\n"
    }
   }
  },
  {
   "cell_type": "code",
   "execution_count": 38,
   "outputs": [],
   "source": [
    "df_test = df_test.drop('target', axis=1)"
   ],
   "metadata": {
    "collapsed": false,
    "pycharm": {
     "name": "#%%\n"
    }
   }
  },
  {
   "cell_type": "code",
   "execution_count": 161,
   "outputs": [],
   "source": [
    "x_train,x_valid, y_train, y_valid = train_test_split(df_train,target, stratify=target, random_state=42 ,test_size=0.3)"
   ],
   "metadata": {
    "collapsed": false,
    "pycharm": {
     "name": "#%%\n"
    }
   }
  },
  {
   "cell_type": "code",
   "execution_count": 162,
   "outputs": [
    {
     "data": {
      "text/plain": "        d_l_match_yn  ...  contents_attribute_l_l\n66599          False  ...                    2006\n363576          True  ...                    2006\n278571         False  ...                    2006\n160686          True  ...                    2006\n208443          True  ...                    2016\n...              ...  ...                     ...\n251110          True  ...                    2017\n467475          True  ...                    2009\n36195           True  ...                    2019\n387719          True  ...                    2020\n167794         False  ...                    2022\n\n[351365 rows x 58 columns]",
      "text/html": "<div>\n<style scoped>\n    .dataframe tbody tr th:only-of-type {\n        vertical-align: middle;\n    }\n\n    .dataframe tbody tr th {\n        vertical-align: top;\n    }\n\n    .dataframe thead th {\n        text-align: right;\n    }\n</style>\n<table border=\"1\" class=\"dataframe\">\n  <thead>\n    <tr style=\"text-align: right;\">\n      <th></th>\n      <th>d_l_match_yn</th>\n      <th>d_m_match_yn</th>\n      <th>d_s_match_yn</th>\n      <th>h_l_match_yn</th>\n      <th>h_m_match_yn</th>\n      <th>h_s_match_yn</th>\n      <th>person_attribute_a</th>\n      <th>person_attribute_a_1</th>\n      <th>person_attribute_b</th>\n      <th>person_prefer_c</th>\n      <th>person_prefer_d_1</th>\n      <th>person_prefer_d_2</th>\n      <th>person_prefer_d_3</th>\n      <th>person_prefer_e</th>\n      <th>person_prefer_f</th>\n      <th>person_prefer_g</th>\n      <th>person_prefer_h_1</th>\n      <th>person_prefer_h_2</th>\n      <th>person_prefer_h_3</th>\n      <th>contents_attribute_i</th>\n      <th>contents_attribute_a</th>\n      <th>contents_attribute_j_1</th>\n      <th>contents_attribute_j</th>\n      <th>contents_attribute_c</th>\n      <th>contents_attribute_k</th>\n      <th>contents_attribute_l</th>\n      <th>contents_attribute_d</th>\n      <th>contents_attribute_m</th>\n      <th>contents_attribute_e</th>\n      <th>contents_attribute_h</th>\n      <th>person_prefer_d_1_n</th>\n      <th>person_prefer_d_1_s</th>\n      <th>person_prefer_d_1_m</th>\n      <th>person_prefer_d_1_l</th>\n      <th>person_prefer_d_2_n</th>\n      <th>person_prefer_d_2_s</th>\n      <th>person_prefer_d_2_m</th>\n      <th>person_prefer_d_2_l</th>\n      <th>person_prefer_d_3_n</th>\n      <th>person_prefer_d_3_s</th>\n      <th>person_prefer_d_3_m</th>\n      <th>person_prefer_d_3_l</th>\n      <th>contents_attribute_d_n</th>\n      <th>contents_attribute_d_s</th>\n      <th>contents_attribute_d_m</th>\n      <th>contents_attribute_d_l</th>\n      <th>person_prefer_h_1_l</th>\n      <th>person_prefer_h_1_m</th>\n      <th>person_prefer_h_2_l</th>\n      <th>person_prefer_h_2_m</th>\n      <th>person_prefer_h_3_l</th>\n      <th>person_prefer_h_3_m</th>\n      <th>contents_attribute_h_l</th>\n      <th>contents_attribute_h_m</th>\n      <th>contents_attribute_l_n</th>\n      <th>contents_attribute_l_s</th>\n      <th>contents_attribute_l_m</th>\n      <th>contents_attribute_l_l</th>\n    </tr>\n  </thead>\n  <tbody>\n    <tr>\n      <th>66599</th>\n      <td>False</td>\n      <td>False</td>\n      <td>False</td>\n      <td>False</td>\n      <td>False</td>\n      <td>False</td>\n      <td>1</td>\n      <td>6</td>\n      <td>4</td>\n      <td>1</td>\n      <td>38</td>\n      <td>95</td>\n      <td>772</td>\n      <td>6</td>\n      <td>1</td>\n      <td>1</td>\n      <td>31</td>\n      <td>291</td>\n      <td>86</td>\n      <td>3</td>\n      <td>1</td>\n      <td>5</td>\n      <td>1</td>\n      <td>1</td>\n      <td>2</td>\n      <td>765</td>\n      <td>1038</td>\n      <td>1</td>\n      <td>5</td>\n      <td>288</td>\n      <td>38</td>\n      <td>37</td>\n      <td>2</td>\n      <td>1</td>\n      <td>92</td>\n      <td>91</td>\n      <td>56</td>\n      <td>1</td>\n      <td>765</td>\n      <td>747</td>\n      <td>745</td>\n      <td>744</td>\n      <td>1037</td>\n      <td>1036</td>\n      <td>1000</td>\n      <td>926</td>\n      <td>30</td>\n      <td>342</td>\n      <td>277</td>\n      <td>550</td>\n      <td>85</td>\n      <td>391</td>\n      <td>277</td>\n      <td>547</td>\n      <td>763</td>\n      <td>760</td>\n      <td>759</td>\n      <td>2006</td>\n    </tr>\n    <tr>\n      <th>363576</th>\n      <td>True</td>\n      <td>False</td>\n      <td>False</td>\n      <td>True</td>\n      <td>True</td>\n      <td>True</td>\n      <td>2</td>\n      <td>0</td>\n      <td>2</td>\n      <td>5</td>\n      <td>1227</td>\n      <td>1086</td>\n      <td>857</td>\n      <td>0</td>\n      <td>1</td>\n      <td>1</td>\n      <td>65</td>\n      <td>59</td>\n      <td>66</td>\n      <td>3</td>\n      <td>3</td>\n      <td>5</td>\n      <td>1</td>\n      <td>1</td>\n      <td>2</td>\n      <td>407</td>\n      <td>1127</td>\n      <td>1</td>\n      <td>3</td>\n      <td>65</td>\n      <td>1227</td>\n      <td>1227</td>\n      <td>1227</td>\n      <td>926</td>\n      <td>1086</td>\n      <td>1086</td>\n      <td>1053</td>\n      <td>926</td>\n      <td>854</td>\n      <td>853</td>\n      <td>824</td>\n      <td>744</td>\n      <td>1126</td>\n      <td>1111</td>\n      <td>1104</td>\n      <td>926</td>\n      <td>58</td>\n      <td>373</td>\n      <td>58</td>\n      <td>368</td>\n      <td>58</td>\n      <td>374</td>\n      <td>58</td>\n      <td>373</td>\n      <td>407</td>\n      <td>407</td>\n      <td>407</td>\n      <td>2006</td>\n    </tr>\n    <tr>\n      <th>278571</th>\n      <td>False</td>\n      <td>False</td>\n      <td>False</td>\n      <td>False</td>\n      <td>False</td>\n      <td>False</td>\n      <td>1</td>\n      <td>1</td>\n      <td>2</td>\n      <td>5</td>\n      <td>705</td>\n      <td>468</td>\n      <td>840</td>\n      <td>0</td>\n      <td>1</td>\n      <td>1</td>\n      <td>4</td>\n      <td>2</td>\n      <td>59</td>\n      <td>1</td>\n      <td>1</td>\n      <td>5</td>\n      <td>1</td>\n      <td>1</td>\n      <td>2</td>\n      <td>565</td>\n      <td>857</td>\n      <td>1</td>\n      <td>4</td>\n      <td>246</td>\n      <td>703</td>\n      <td>703</td>\n      <td>690</td>\n      <td>618</td>\n      <td>465</td>\n      <td>463</td>\n      <td>450</td>\n      <td>377</td>\n      <td>840</td>\n      <td>831</td>\n      <td>824</td>\n      <td>744</td>\n      <td>854</td>\n      <td>853</td>\n      <td>824</td>\n      <td>744</td>\n      <td>3</td>\n      <td>316</td>\n      <td>1</td>\n      <td>315</td>\n      <td>58</td>\n      <td>368</td>\n      <td>226</td>\n      <td>514</td>\n      <td>561</td>\n      <td>544</td>\n      <td>527</td>\n      <td>2006</td>\n    </tr>\n    <tr>\n      <th>160686</th>\n      <td>True</td>\n      <td>False</td>\n      <td>False</td>\n      <td>False</td>\n      <td>False</td>\n      <td>False</td>\n      <td>1</td>\n      <td>4</td>\n      <td>2</td>\n      <td>1</td>\n      <td>995</td>\n      <td>857</td>\n      <td>1052</td>\n      <td>4</td>\n      <td>1</td>\n      <td>1</td>\n      <td>21</td>\n      <td>66</td>\n      <td>109</td>\n      <td>1</td>\n      <td>3</td>\n      <td>5</td>\n      <td>1</td>\n      <td>1</td>\n      <td>2</td>\n      <td>671</td>\n      <td>1086</td>\n      <td>1</td>\n      <td>3</td>\n      <td>109</td>\n      <td>995</td>\n      <td>988</td>\n      <td>927</td>\n      <td>926</td>\n      <td>854</td>\n      <td>853</td>\n      <td>824</td>\n      <td>744</td>\n      <td>1052</td>\n      <td>1042</td>\n      <td>1000</td>\n      <td>926</td>\n      <td>1086</td>\n      <td>1086</td>\n      <td>1053</td>\n      <td>926</td>\n      <td>3</td>\n      <td>333</td>\n      <td>58</td>\n      <td>374</td>\n      <td>94</td>\n      <td>403</td>\n      <td>94</td>\n      <td>403</td>\n      <td>668</td>\n      <td>667</td>\n      <td>651</td>\n      <td>2006</td>\n    </tr>\n    <tr>\n      <th>208443</th>\n      <td>True</td>\n      <td>False</td>\n      <td>False</td>\n      <td>False</td>\n      <td>False</td>\n      <td>False</td>\n      <td>1</td>\n      <td>1</td>\n      <td>4</td>\n      <td>1</td>\n      <td>124</td>\n      <td>97</td>\n      <td>126</td>\n      <td>4</td>\n      <td>1</td>\n      <td>1</td>\n      <td>4</td>\n      <td>95</td>\n      <td>59</td>\n      <td>3</td>\n      <td>1</td>\n      <td>10</td>\n      <td>2</td>\n      <td>1</td>\n      <td>2</td>\n      <td>1582</td>\n      <td>112</td>\n      <td>5</td>\n      <td>5</td>\n      <td>113</td>\n      <td>124</td>\n      <td>123</td>\n      <td>56</td>\n      <td>1</td>\n      <td>97</td>\n      <td>91</td>\n      <td>56</td>\n      <td>1</td>\n      <td>124</td>\n      <td>123</td>\n      <td>56</td>\n      <td>1</td>\n      <td>110</td>\n      <td>109</td>\n      <td>56</td>\n      <td>1</td>\n      <td>3</td>\n      <td>316</td>\n      <td>94</td>\n      <td>398</td>\n      <td>58</td>\n      <td>368</td>\n      <td>94</td>\n      <td>404</td>\n      <td>1580</td>\n      <td>1579</td>\n      <td>1572</td>\n      <td>2016</td>\n    </tr>\n    <tr>\n      <th>...</th>\n      <td>...</td>\n      <td>...</td>\n      <td>...</td>\n      <td>...</td>\n      <td>...</td>\n      <td>...</td>\n      <td>...</td>\n      <td>...</td>\n      <td>...</td>\n      <td>...</td>\n      <td>...</td>\n      <td>...</td>\n      <td>...</td>\n      <td>...</td>\n      <td>...</td>\n      <td>...</td>\n      <td>...</td>\n      <td>...</td>\n      <td>...</td>\n      <td>...</td>\n      <td>...</td>\n      <td>...</td>\n      <td>...</td>\n      <td>...</td>\n      <td>...</td>\n      <td>...</td>\n      <td>...</td>\n      <td>...</td>\n      <td>...</td>\n      <td>...</td>\n      <td>...</td>\n      <td>...</td>\n      <td>...</td>\n      <td>...</td>\n      <td>...</td>\n      <td>...</td>\n      <td>...</td>\n      <td>...</td>\n      <td>...</td>\n      <td>...</td>\n      <td>...</td>\n      <td>...</td>\n      <td>...</td>\n      <td>...</td>\n      <td>...</td>\n      <td>...</td>\n      <td>...</td>\n      <td>...</td>\n      <td>...</td>\n      <td>...</td>\n      <td>...</td>\n      <td>...</td>\n      <td>...</td>\n      <td>...</td>\n      <td>...</td>\n      <td>...</td>\n      <td>...</td>\n      <td>...</td>\n    </tr>\n    <tr>\n      <th>251110</th>\n      <td>True</td>\n      <td>False</td>\n      <td>False</td>\n      <td>True</td>\n      <td>True</td>\n      <td>True</td>\n      <td>1</td>\n      <td>3</td>\n      <td>2</td>\n      <td>5</td>\n      <td>705</td>\n      <td>703</td>\n      <td>840</td>\n      <td>4</td>\n      <td>1</td>\n      <td>1</td>\n      <td>135</td>\n      <td>119</td>\n      <td>109</td>\n      <td>3</td>\n      <td>1</td>\n      <td>3</td>\n      <td>1</td>\n      <td>1</td>\n      <td>2</td>\n      <td>1648</td>\n      <td>718</td>\n      <td>3</td>\n      <td>3</td>\n      <td>135</td>\n      <td>703</td>\n      <td>703</td>\n      <td>690</td>\n      <td>618</td>\n      <td>703</td>\n      <td>703</td>\n      <td>690</td>\n      <td>618</td>\n      <td>840</td>\n      <td>831</td>\n      <td>824</td>\n      <td>744</td>\n      <td>718</td>\n      <td>717</td>\n      <td>716</td>\n      <td>618</td>\n      <td>94</td>\n      <td>418</td>\n      <td>94</td>\n      <td>408</td>\n      <td>94</td>\n      <td>403</td>\n      <td>94</td>\n      <td>418</td>\n      <td>1647</td>\n      <td>1646</td>\n      <td>1645</td>\n      <td>2017</td>\n    </tr>\n    <tr>\n      <th>467475</th>\n      <td>True</td>\n      <td>True</td>\n      <td>False</td>\n      <td>True</td>\n      <td>True</td>\n      <td>True</td>\n      <td>1</td>\n      <td>6</td>\n      <td>4</td>\n      <td>1</td>\n      <td>279</td>\n      <td>44</td>\n      <td>53</td>\n      <td>10</td>\n      <td>1</td>\n      <td>1</td>\n      <td>139</td>\n      <td>96</td>\n      <td>95</td>\n      <td>3</td>\n      <td>1</td>\n      <td>5</td>\n      <td>1</td>\n      <td>1</td>\n      <td>2</td>\n      <td>937</td>\n      <td>277</td>\n      <td>2</td>\n      <td>10</td>\n      <td>139</td>\n      <td>276</td>\n      <td>274</td>\n      <td>274</td>\n      <td>216</td>\n      <td>44</td>\n      <td>43</td>\n      <td>2</td>\n      <td>1</td>\n      <td>53</td>\n      <td>43</td>\n      <td>2</td>\n      <td>1</td>\n      <td>276</td>\n      <td>274</td>\n      <td>274</td>\n      <td>216</td>\n      <td>94</td>\n      <td>422</td>\n      <td>94</td>\n      <td>399</td>\n      <td>94</td>\n      <td>398</td>\n      <td>94</td>\n      <td>422</td>\n      <td>936</td>\n      <td>931</td>\n      <td>930</td>\n      <td>2009</td>\n    </tr>\n    <tr>\n      <th>36195</th>\n      <td>True</td>\n      <td>False</td>\n      <td>False</td>\n      <td>False</td>\n      <td>False</td>\n      <td>False</td>\n      <td>2</td>\n      <td>0</td>\n      <td>2</td>\n      <td>1</td>\n      <td>675</td>\n      <td>668</td>\n      <td>670</td>\n      <td>4</td>\n      <td>1</td>\n      <td>1</td>\n      <td>31</td>\n      <td>278</td>\n      <td>86</td>\n      <td>3</td>\n      <td>2</td>\n      <td>9</td>\n      <td>2</td>\n      <td>3</td>\n      <td>2</td>\n      <td>1809</td>\n      <td>665</td>\n      <td>1</td>\n      <td>3</td>\n      <td>139</td>\n      <td>673</td>\n      <td>660</td>\n      <td>659</td>\n      <td>618</td>\n      <td>668</td>\n      <td>660</td>\n      <td>659</td>\n      <td>618</td>\n      <td>670</td>\n      <td>660</td>\n      <td>659</td>\n      <td>618</td>\n      <td>662</td>\n      <td>660</td>\n      <td>659</td>\n      <td>618</td>\n      <td>30</td>\n      <td>342</td>\n      <td>277</td>\n      <td>542</td>\n      <td>85</td>\n      <td>391</td>\n      <td>94</td>\n      <td>422</td>\n      <td>1807</td>\n      <td>1806</td>\n      <td>1752</td>\n      <td>2019</td>\n    </tr>\n    <tr>\n      <th>387719</th>\n      <td>True</td>\n      <td>False</td>\n      <td>False</td>\n      <td>True</td>\n      <td>True</td>\n      <td>True</td>\n      <td>1</td>\n      <td>5</td>\n      <td>3</td>\n      <td>1</td>\n      <td>118</td>\n      <td>65</td>\n      <td>110</td>\n      <td>4</td>\n      <td>1</td>\n      <td>1</td>\n      <td>138</td>\n      <td>119</td>\n      <td>109</td>\n      <td>3</td>\n      <td>2</td>\n      <td>6</td>\n      <td>2</td>\n      <td>1</td>\n      <td>2</td>\n      <td>1817</td>\n      <td>103</td>\n      <td>3</td>\n      <td>3</td>\n      <td>138</td>\n      <td>114</td>\n      <td>109</td>\n      <td>56</td>\n      <td>1</td>\n      <td>65</td>\n      <td>63</td>\n      <td>56</td>\n      <td>1</td>\n      <td>110</td>\n      <td>109</td>\n      <td>56</td>\n      <td>1</td>\n      <td>101</td>\n      <td>91</td>\n      <td>56</td>\n      <td>1</td>\n      <td>94</td>\n      <td>421</td>\n      <td>94</td>\n      <td>408</td>\n      <td>94</td>\n      <td>403</td>\n      <td>94</td>\n      <td>421</td>\n      <td>1812</td>\n      <td>1811</td>\n      <td>1810</td>\n      <td>2020</td>\n    </tr>\n    <tr>\n      <th>167794</th>\n      <td>False</td>\n      <td>False</td>\n      <td>False</td>\n      <td>False</td>\n      <td>False</td>\n      <td>False</td>\n      <td>2</td>\n      <td>2</td>\n      <td>4</td>\n      <td>5</td>\n      <td>703</td>\n      <td>452</td>\n      <td>840</td>\n      <td>3</td>\n      <td>1</td>\n      <td>1</td>\n      <td>209</td>\n      <td>210</td>\n      <td>213</td>\n      <td>2</td>\n      <td>3</td>\n      <td>3</td>\n      <td>1</td>\n      <td>1</td>\n      <td>2</td>\n      <td>1938</td>\n      <td>106</td>\n      <td>5</td>\n      <td>4</td>\n      <td>114</td>\n      <td>703</td>\n      <td>703</td>\n      <td>690</td>\n      <td>618</td>\n      <td>452</td>\n      <td>451</td>\n      <td>450</td>\n      <td>377</td>\n      <td>840</td>\n      <td>831</td>\n      <td>824</td>\n      <td>744</td>\n      <td>101</td>\n      <td>91</td>\n      <td>56</td>\n      <td>1</td>\n      <td>208</td>\n      <td>480</td>\n      <td>208</td>\n      <td>481</td>\n      <td>208</td>\n      <td>482</td>\n      <td>94</td>\n      <td>405</td>\n      <td>1936</td>\n      <td>1927</td>\n      <td>1918</td>\n      <td>2022</td>\n    </tr>\n  </tbody>\n</table>\n<p>351365 rows × 58 columns</p>\n</div>"
     },
     "execution_count": 162,
     "metadata": {},
     "output_type": "execute_result"
    }
   ],
   "source": [],
   "metadata": {
    "collapsed": false,
    "pycharm": {
     "name": "#%%\n"
    }
   }
  },
  {
   "cell_type": "code",
   "execution_count": null,
   "outputs": [],
   "source": [
    "# 범주형 컬럼 리스트\n",
    "\n",
    "# category feature 가 아니지만 쓰였으므로\n"
   ],
   "metadata": {
    "collapsed": false,
    "pycharm": {
     "name": "#%%\n"
    }
   }
  },
  {
   "cell_type": "code",
   "execution_count": 43,
   "outputs": [],
   "source": [],
   "metadata": {
    "collapsed": false,
    "pycharm": {
     "name": "#%%\n"
    }
   }
  },
  {
   "cell_type": "code",
   "execution_count": 92,
   "outputs": [
    {
     "data": {
      "text/plain": "        d_l_match_yn  d_m_match_yn  d_s_match_yn  h_l_match_yn  h_m_match_yn  \\\n66599              0             0             0             0             0   \n363576             1             0             0             1             1   \n278571             0             0             0             0             0   \n160686             1             0             0             0             0   \n208443             1             0             0             0             0   \n...              ...           ...           ...           ...           ...   \n251110             1             0             0             1             1   \n467475             1             1             0             1             1   \n36195              1             0             0             0             0   \n387719             1             0             0             1             1   \n167794             0             0             0             0             0   \n\n        h_s_match_yn  person_attribute_a  person_attribute_a_1  \\\n66599              0                   1                     6   \n363576             1                   2                     0   \n278571             0                   1                     1   \n160686             0                   1                     4   \n208443             0                   1                     1   \n...              ...                 ...                   ...   \n251110             1                   1                     3   \n467475             1                   1                     6   \n36195              0                   2                     0   \n387719             1                   1                     5   \n167794             0                   2                     2   \n\n        person_attribute_b  person_prefer_c  ...  contents_attribute_h_l  \\\n66599                    4                1  ...                     277   \n363576                   2                5  ...                      58   \n278571                   2                5  ...                     226   \n160686                   2                1  ...                      94   \n208443                   4                1  ...                      94   \n...                    ...              ...  ...                     ...   \n251110                   2                5  ...                      94   \n467475                   4                1  ...                      94   \n36195                    2                1  ...                      94   \n387719                   3                1  ...                      94   \n167794                   4                5  ...                      94   \n\n        contents_attribute_h_m  contents_attribute_l_n  \\\n66599                      547                     763   \n363576                     373                     407   \n278571                     514                     561   \n160686                     403                     668   \n208443                     404                    1580   \n...                        ...                     ...   \n251110                     418                    1647   \n467475                     422                     936   \n36195                      422                    1807   \n387719                     421                    1812   \n167794                     405                    1936   \n\n        contents_attribute_l_s  contents_attribute_l_m  \\\n66599                      760                     759   \n363576                     407                     407   \n278571                     544                     527   \n160686                     667                     651   \n208443                    1579                    1572   \n...                        ...                     ...   \n251110                    1646                    1645   \n467475                     931                     930   \n36195                     1806                    1752   \n387719                    1811                    1810   \n167794                    1927                    1918   \n\n        contents_attribute_l_l  attr_a_1_mean_encode  attr_b_mean_encode  \\\n66599                     2006              0.515074            0.500850   \n363576                    2006              0.493002            0.503328   \n278571                    2006              0.497688            0.503328   \n160686                    2006              0.483610            0.503328   \n208443                    2016              0.497688            0.500850   \n...                        ...                   ...                 ...   \n251110                    2017              0.486858            0.503328   \n467475                    2009              0.515074            0.500850   \n36195                     2019              0.493002            0.503328   \n387719                    2020              0.496374            0.487071   \n167794                    2022              0.496387            0.500850   \n\n        prefer_e_mean_encode  attr_e_mean_encode  \n66599               0.531888            0.506072  \n363576              0.488677            0.498611  \n278571              0.488677            0.504105  \n160686              0.500543            0.498611  \n208443              0.500543            0.506072  \n...                      ...                 ...  \n251110              0.500543            0.498611  \n467475              0.652376            0.555721  \n36195               0.500543            0.498611  \n387719              0.500543            0.498611  \n167794              0.479206            0.504105  \n\n[351365 rows x 62 columns]",
      "text/html": "<div>\n<style scoped>\n    .dataframe tbody tr th:only-of-type {\n        vertical-align: middle;\n    }\n\n    .dataframe tbody tr th {\n        vertical-align: top;\n    }\n\n    .dataframe thead th {\n        text-align: right;\n    }\n</style>\n<table border=\"1\" class=\"dataframe\">\n  <thead>\n    <tr style=\"text-align: right;\">\n      <th></th>\n      <th>d_l_match_yn</th>\n      <th>d_m_match_yn</th>\n      <th>d_s_match_yn</th>\n      <th>h_l_match_yn</th>\n      <th>h_m_match_yn</th>\n      <th>h_s_match_yn</th>\n      <th>person_attribute_a</th>\n      <th>person_attribute_a_1</th>\n      <th>person_attribute_b</th>\n      <th>person_prefer_c</th>\n      <th>...</th>\n      <th>contents_attribute_h_l</th>\n      <th>contents_attribute_h_m</th>\n      <th>contents_attribute_l_n</th>\n      <th>contents_attribute_l_s</th>\n      <th>contents_attribute_l_m</th>\n      <th>contents_attribute_l_l</th>\n      <th>attr_a_1_mean_encode</th>\n      <th>attr_b_mean_encode</th>\n      <th>prefer_e_mean_encode</th>\n      <th>attr_e_mean_encode</th>\n    </tr>\n  </thead>\n  <tbody>\n    <tr>\n      <th>66599</th>\n      <td>0</td>\n      <td>0</td>\n      <td>0</td>\n      <td>0</td>\n      <td>0</td>\n      <td>0</td>\n      <td>1</td>\n      <td>6</td>\n      <td>4</td>\n      <td>1</td>\n      <td>...</td>\n      <td>277</td>\n      <td>547</td>\n      <td>763</td>\n      <td>760</td>\n      <td>759</td>\n      <td>2006</td>\n      <td>0.515074</td>\n      <td>0.500850</td>\n      <td>0.531888</td>\n      <td>0.506072</td>\n    </tr>\n    <tr>\n      <th>363576</th>\n      <td>1</td>\n      <td>0</td>\n      <td>0</td>\n      <td>1</td>\n      <td>1</td>\n      <td>1</td>\n      <td>2</td>\n      <td>0</td>\n      <td>2</td>\n      <td>5</td>\n      <td>...</td>\n      <td>58</td>\n      <td>373</td>\n      <td>407</td>\n      <td>407</td>\n      <td>407</td>\n      <td>2006</td>\n      <td>0.493002</td>\n      <td>0.503328</td>\n      <td>0.488677</td>\n      <td>0.498611</td>\n    </tr>\n    <tr>\n      <th>278571</th>\n      <td>0</td>\n      <td>0</td>\n      <td>0</td>\n      <td>0</td>\n      <td>0</td>\n      <td>0</td>\n      <td>1</td>\n      <td>1</td>\n      <td>2</td>\n      <td>5</td>\n      <td>...</td>\n      <td>226</td>\n      <td>514</td>\n      <td>561</td>\n      <td>544</td>\n      <td>527</td>\n      <td>2006</td>\n      <td>0.497688</td>\n      <td>0.503328</td>\n      <td>0.488677</td>\n      <td>0.504105</td>\n    </tr>\n    <tr>\n      <th>160686</th>\n      <td>1</td>\n      <td>0</td>\n      <td>0</td>\n      <td>0</td>\n      <td>0</td>\n      <td>0</td>\n      <td>1</td>\n      <td>4</td>\n      <td>2</td>\n      <td>1</td>\n      <td>...</td>\n      <td>94</td>\n      <td>403</td>\n      <td>668</td>\n      <td>667</td>\n      <td>651</td>\n      <td>2006</td>\n      <td>0.483610</td>\n      <td>0.503328</td>\n      <td>0.500543</td>\n      <td>0.498611</td>\n    </tr>\n    <tr>\n      <th>208443</th>\n      <td>1</td>\n      <td>0</td>\n      <td>0</td>\n      <td>0</td>\n      <td>0</td>\n      <td>0</td>\n      <td>1</td>\n      <td>1</td>\n      <td>4</td>\n      <td>1</td>\n      <td>...</td>\n      <td>94</td>\n      <td>404</td>\n      <td>1580</td>\n      <td>1579</td>\n      <td>1572</td>\n      <td>2016</td>\n      <td>0.497688</td>\n      <td>0.500850</td>\n      <td>0.500543</td>\n      <td>0.506072</td>\n    </tr>\n    <tr>\n      <th>...</th>\n      <td>...</td>\n      <td>...</td>\n      <td>...</td>\n      <td>...</td>\n      <td>...</td>\n      <td>...</td>\n      <td>...</td>\n      <td>...</td>\n      <td>...</td>\n      <td>...</td>\n      <td>...</td>\n      <td>...</td>\n      <td>...</td>\n      <td>...</td>\n      <td>...</td>\n      <td>...</td>\n      <td>...</td>\n      <td>...</td>\n      <td>...</td>\n      <td>...</td>\n      <td>...</td>\n    </tr>\n    <tr>\n      <th>251110</th>\n      <td>1</td>\n      <td>0</td>\n      <td>0</td>\n      <td>1</td>\n      <td>1</td>\n      <td>1</td>\n      <td>1</td>\n      <td>3</td>\n      <td>2</td>\n      <td>5</td>\n      <td>...</td>\n      <td>94</td>\n      <td>418</td>\n      <td>1647</td>\n      <td>1646</td>\n      <td>1645</td>\n      <td>2017</td>\n      <td>0.486858</td>\n      <td>0.503328</td>\n      <td>0.500543</td>\n      <td>0.498611</td>\n    </tr>\n    <tr>\n      <th>467475</th>\n      <td>1</td>\n      <td>1</td>\n      <td>0</td>\n      <td>1</td>\n      <td>1</td>\n      <td>1</td>\n      <td>1</td>\n      <td>6</td>\n      <td>4</td>\n      <td>1</td>\n      <td>...</td>\n      <td>94</td>\n      <td>422</td>\n      <td>936</td>\n      <td>931</td>\n      <td>930</td>\n      <td>2009</td>\n      <td>0.515074</td>\n      <td>0.500850</td>\n      <td>0.652376</td>\n      <td>0.555721</td>\n    </tr>\n    <tr>\n      <th>36195</th>\n      <td>1</td>\n      <td>0</td>\n      <td>0</td>\n      <td>0</td>\n      <td>0</td>\n      <td>0</td>\n      <td>2</td>\n      <td>0</td>\n      <td>2</td>\n      <td>1</td>\n      <td>...</td>\n      <td>94</td>\n      <td>422</td>\n      <td>1807</td>\n      <td>1806</td>\n      <td>1752</td>\n      <td>2019</td>\n      <td>0.493002</td>\n      <td>0.503328</td>\n      <td>0.500543</td>\n      <td>0.498611</td>\n    </tr>\n    <tr>\n      <th>387719</th>\n      <td>1</td>\n      <td>0</td>\n      <td>0</td>\n      <td>1</td>\n      <td>1</td>\n      <td>1</td>\n      <td>1</td>\n      <td>5</td>\n      <td>3</td>\n      <td>1</td>\n      <td>...</td>\n      <td>94</td>\n      <td>421</td>\n      <td>1812</td>\n      <td>1811</td>\n      <td>1810</td>\n      <td>2020</td>\n      <td>0.496374</td>\n      <td>0.487071</td>\n      <td>0.500543</td>\n      <td>0.498611</td>\n    </tr>\n    <tr>\n      <th>167794</th>\n      <td>0</td>\n      <td>0</td>\n      <td>0</td>\n      <td>0</td>\n      <td>0</td>\n      <td>0</td>\n      <td>2</td>\n      <td>2</td>\n      <td>4</td>\n      <td>5</td>\n      <td>...</td>\n      <td>94</td>\n      <td>405</td>\n      <td>1936</td>\n      <td>1927</td>\n      <td>1918</td>\n      <td>2022</td>\n      <td>0.496387</td>\n      <td>0.500850</td>\n      <td>0.479206</td>\n      <td>0.504105</td>\n    </tr>\n  </tbody>\n</table>\n<p>351365 rows × 62 columns</p>\n</div>"
     },
     "execution_count": 92,
     "metadata": {},
     "output_type": "execute_result"
    }
   ],
   "source": [
    "x_train"
   ],
   "metadata": {
    "collapsed": false,
    "pycharm": {
     "name": "#%%\n"
    }
   }
  },
  {
   "cell_type": "code",
   "execution_count": 172,
   "outputs": [],
   "source": [
    "# cv로 인덱스로 나누기 때문에 같은 데이터프레임 사용 해도\n",
    "# 이러면 나눈 게 섞이니까 x_train 가지고 한번 더 쪼개는 식으로 , threshold 에서 test대신 x_valid 사용\n",
    "is_holdout = False\n",
    "n_splits = 5\n",
    "iterations = 3000\n",
    "patience= 50\n",
    "SEED = 42\n",
    "# 전역 변수\n",
    "scores = []\n",
    "models = []"
   ],
   "metadata": {
    "collapsed": false,
    "pycharm": {
     "name": "#%%\n"
    }
   }
  },
  {
   "cell_type": "code",
   "execution_count": 10,
   "outputs": [
    {
     "ename": "NameError",
     "evalue": "name 'x_train' is not defined",
     "output_type": "error",
     "traceback": [
      "\u001B[0;31m---------------------------------------------------------------------------\u001B[0m",
      "\u001B[0;31mNameError\u001B[0m                                 Traceback (most recent call last)",
      "\u001B[0;32m/var/folders/c6/2j22b1rd02778st12c0mcr3w0000gn/T/ipykernel_92367/861831465.py\u001B[0m in \u001B[0;36m<module>\u001B[0;34m\u001B[0m\n\u001B[0;32m----> 1\u001B[0;31m \u001B[0mcat_features\u001B[0m \u001B[0;34m=\u001B[0m \u001B[0mx_train\u001B[0m\u001B[0;34m.\u001B[0m\u001B[0mcolumns\u001B[0m\u001B[0;34m[\u001B[0m\u001B[0mx_train\u001B[0m\u001B[0;34m.\u001B[0m\u001B[0mnunique\u001B[0m\u001B[0;34m(\u001B[0m\u001B[0;34m)\u001B[0m \u001B[0;34m>\u001B[0m \u001B[0;36m2\u001B[0m\u001B[0;34m]\u001B[0m\u001B[0;34m.\u001B[0m\u001B[0mtolist\u001B[0m\u001B[0;34m(\u001B[0m\u001B[0;34m)\u001B[0m\u001B[0;34m\u001B[0m\u001B[0;34m\u001B[0m\u001B[0m\n\u001B[0m\u001B[1;32m      2\u001B[0m \u001B[0mexclude_cols\u001B[0m \u001B[0;34m=\u001B[0m \u001B[0;34m[\u001B[0m \u001B[0mx\u001B[0m  \u001B[0;32mfor\u001B[0m \u001B[0mx\u001B[0m \u001B[0;32min\u001B[0m \u001B[0mx_train\u001B[0m\u001B[0;34m.\u001B[0m\u001B[0mcolumns\u001B[0m \u001B[0;32mif\u001B[0m \u001B[0;34m'mean_encode'\u001B[0m \u001B[0;32min\u001B[0m \u001B[0mx\u001B[0m \u001B[0;34m]\u001B[0m\u001B[0;34m\u001B[0m\u001B[0;34m\u001B[0m\u001B[0m\n\u001B[1;32m      3\u001B[0m \u001B[0mcat_features\u001B[0m \u001B[0;34m=\u001B[0m \u001B[0mlist\u001B[0m\u001B[0;34m(\u001B[0m\u001B[0mset\u001B[0m\u001B[0;34m(\u001B[0m\u001B[0mcat_features\u001B[0m\u001B[0;34m)\u001B[0m \u001B[0;34m-\u001B[0m \u001B[0mset\u001B[0m\u001B[0;34m(\u001B[0m\u001B[0mexclude_cols\u001B[0m\u001B[0;34m)\u001B[0m\u001B[0;34m)\u001B[0m\u001B[0;34m\u001B[0m\u001B[0;34m\u001B[0m\u001B[0m\n\u001B[1;32m      4\u001B[0m \u001B[0mcv\u001B[0m \u001B[0;34m=\u001B[0m \u001B[0mStratifiedKFold\u001B[0m\u001B[0;34m(\u001B[0m\u001B[0mn_splits\u001B[0m\u001B[0;34m=\u001B[0m\u001B[0mn_splits\u001B[0m\u001B[0;34m,\u001B[0m \u001B[0mshuffle\u001B[0m\u001B[0;34m=\u001B[0m\u001B[0;32mTrue\u001B[0m\u001B[0;34m,\u001B[0m \u001B[0mrandom_state\u001B[0m\u001B[0;34m=\u001B[0m\u001B[0mSEED\u001B[0m\u001B[0;34m)\u001B[0m\u001B[0;34m\u001B[0m\u001B[0;34m\u001B[0m\u001B[0m\n\u001B[1;32m      5\u001B[0m \u001B[0;34m\u001B[0m\u001B[0m\n",
      "\u001B[0;31mNameError\u001B[0m: name 'x_train' is not defined"
     ]
    }
   ],
   "source": [
    "cat_features = x_train.columns[x_train.nunique() > 2].tolist()\n",
    "exclude_cols = [ x  for x in x_train.columns if 'mean_encode' in x ]\n",
    "cat_features = list(set(cat_features) - set(exclude_cols))\n",
    "cv = StratifiedKFold(n_splits=n_splits, shuffle=True, random_state=SEED)"
   ],
   "metadata": {
    "collapsed": false,
    "pycharm": {
     "name": "#%%\n"
    }
   }
  },
  {
   "cell_type": "code",
   "execution_count": 108,
   "outputs": [
    {
     "data": {
      "text/plain": "        d_l_match_yn  d_m_match_yn  d_s_match_yn  h_l_match_yn  h_m_match_yn  \\\n66599              0             0             0             0             0   \n363576             1             0             0             1             1   \n278571             0             0             0             0             0   \n160686             1             0             0             0             0   \n208443             1             0             0             0             0   \n...              ...           ...           ...           ...           ...   \n251110             1             0             0             1             1   \n467475             1             1             0             1             1   \n36195              1             0             0             0             0   \n387719             1             0             0             1             1   \n167794             0             0             0             0             0   \n\n        h_s_match_yn  person_attribute_a  person_attribute_a_1  \\\n66599              0                   1                     6   \n363576             1                   2                     0   \n278571             0                   1                     1   \n160686             0                   1                     4   \n208443             0                   1                     1   \n...              ...                 ...                   ...   \n251110             1                   1                     3   \n467475             1                   1                     6   \n36195              0                   2                     0   \n387719             1                   1                     5   \n167794             0                   2                     2   \n\n        person_attribute_b  person_prefer_c  ...  contents_attribute_h_l  \\\n66599                    4                1  ...                     277   \n363576                   2                5  ...                      58   \n278571                   2                5  ...                     226   \n160686                   2                1  ...                      94   \n208443                   4                1  ...                      94   \n...                    ...              ...  ...                     ...   \n251110                   2                5  ...                      94   \n467475                   4                1  ...                      94   \n36195                    2                1  ...                      94   \n387719                   3                1  ...                      94   \n167794                   4                5  ...                      94   \n\n        contents_attribute_h_m  contents_attribute_l_n  \\\n66599                      547                     763   \n363576                     373                     407   \n278571                     514                     561   \n160686                     403                     668   \n208443                     404                    1580   \n...                        ...                     ...   \n251110                     418                    1647   \n467475                     422                     936   \n36195                      422                    1807   \n387719                     421                    1812   \n167794                     405                    1936   \n\n        contents_attribute_l_s  contents_attribute_l_m  \\\n66599                      760                     759   \n363576                     407                     407   \n278571                     544                     527   \n160686                     667                     651   \n208443                    1579                    1572   \n...                        ...                     ...   \n251110                    1646                    1645   \n467475                     931                     930   \n36195                     1806                    1752   \n387719                    1811                    1810   \n167794                    1927                    1918   \n\n        contents_attribute_l_l  attr_a_1_mean_encode  attr_b_mean_encode  \\\n66599                     2006              0.515074            0.500850   \n363576                    2006              0.493002            0.503328   \n278571                    2006              0.497688            0.503328   \n160686                    2006              0.483610            0.503328   \n208443                    2016              0.497688            0.500850   \n...                        ...                   ...                 ...   \n251110                    2017              0.486858            0.503328   \n467475                    2009              0.515074            0.500850   \n36195                     2019              0.493002            0.503328   \n387719                    2020              0.496374            0.487071   \n167794                    2022              0.496387            0.500850   \n\n        prefer_e_mean_encode  attr_e_mean_encode  \n66599               0.531888            0.506072  \n363576              0.488677            0.498611  \n278571              0.488677            0.504105  \n160686              0.500543            0.498611  \n208443              0.500543            0.506072  \n...                      ...                 ...  \n251110              0.500543            0.498611  \n467475              0.652376            0.555721  \n36195               0.500543            0.498611  \n387719              0.500543            0.498611  \n167794              0.479206            0.504105  \n\n[351365 rows x 62 columns]",
      "text/html": "<div>\n<style scoped>\n    .dataframe tbody tr th:only-of-type {\n        vertical-align: middle;\n    }\n\n    .dataframe tbody tr th {\n        vertical-align: top;\n    }\n\n    .dataframe thead th {\n        text-align: right;\n    }\n</style>\n<table border=\"1\" class=\"dataframe\">\n  <thead>\n    <tr style=\"text-align: right;\">\n      <th></th>\n      <th>d_l_match_yn</th>\n      <th>d_m_match_yn</th>\n      <th>d_s_match_yn</th>\n      <th>h_l_match_yn</th>\n      <th>h_m_match_yn</th>\n      <th>h_s_match_yn</th>\n      <th>person_attribute_a</th>\n      <th>person_attribute_a_1</th>\n      <th>person_attribute_b</th>\n      <th>person_prefer_c</th>\n      <th>...</th>\n      <th>contents_attribute_h_l</th>\n      <th>contents_attribute_h_m</th>\n      <th>contents_attribute_l_n</th>\n      <th>contents_attribute_l_s</th>\n      <th>contents_attribute_l_m</th>\n      <th>contents_attribute_l_l</th>\n      <th>attr_a_1_mean_encode</th>\n      <th>attr_b_mean_encode</th>\n      <th>prefer_e_mean_encode</th>\n      <th>attr_e_mean_encode</th>\n    </tr>\n  </thead>\n  <tbody>\n    <tr>\n      <th>66599</th>\n      <td>0</td>\n      <td>0</td>\n      <td>0</td>\n      <td>0</td>\n      <td>0</td>\n      <td>0</td>\n      <td>1</td>\n      <td>6</td>\n      <td>4</td>\n      <td>1</td>\n      <td>...</td>\n      <td>277</td>\n      <td>547</td>\n      <td>763</td>\n      <td>760</td>\n      <td>759</td>\n      <td>2006</td>\n      <td>0.515074</td>\n      <td>0.500850</td>\n      <td>0.531888</td>\n      <td>0.506072</td>\n    </tr>\n    <tr>\n      <th>363576</th>\n      <td>1</td>\n      <td>0</td>\n      <td>0</td>\n      <td>1</td>\n      <td>1</td>\n      <td>1</td>\n      <td>2</td>\n      <td>0</td>\n      <td>2</td>\n      <td>5</td>\n      <td>...</td>\n      <td>58</td>\n      <td>373</td>\n      <td>407</td>\n      <td>407</td>\n      <td>407</td>\n      <td>2006</td>\n      <td>0.493002</td>\n      <td>0.503328</td>\n      <td>0.488677</td>\n      <td>0.498611</td>\n    </tr>\n    <tr>\n      <th>278571</th>\n      <td>0</td>\n      <td>0</td>\n      <td>0</td>\n      <td>0</td>\n      <td>0</td>\n      <td>0</td>\n      <td>1</td>\n      <td>1</td>\n      <td>2</td>\n      <td>5</td>\n      <td>...</td>\n      <td>226</td>\n      <td>514</td>\n      <td>561</td>\n      <td>544</td>\n      <td>527</td>\n      <td>2006</td>\n      <td>0.497688</td>\n      <td>0.503328</td>\n      <td>0.488677</td>\n      <td>0.504105</td>\n    </tr>\n    <tr>\n      <th>160686</th>\n      <td>1</td>\n      <td>0</td>\n      <td>0</td>\n      <td>0</td>\n      <td>0</td>\n      <td>0</td>\n      <td>1</td>\n      <td>4</td>\n      <td>2</td>\n      <td>1</td>\n      <td>...</td>\n      <td>94</td>\n      <td>403</td>\n      <td>668</td>\n      <td>667</td>\n      <td>651</td>\n      <td>2006</td>\n      <td>0.483610</td>\n      <td>0.503328</td>\n      <td>0.500543</td>\n      <td>0.498611</td>\n    </tr>\n    <tr>\n      <th>208443</th>\n      <td>1</td>\n      <td>0</td>\n      <td>0</td>\n      <td>0</td>\n      <td>0</td>\n      <td>0</td>\n      <td>1</td>\n      <td>1</td>\n      <td>4</td>\n      <td>1</td>\n      <td>...</td>\n      <td>94</td>\n      <td>404</td>\n      <td>1580</td>\n      <td>1579</td>\n      <td>1572</td>\n      <td>2016</td>\n      <td>0.497688</td>\n      <td>0.500850</td>\n      <td>0.500543</td>\n      <td>0.506072</td>\n    </tr>\n    <tr>\n      <th>...</th>\n      <td>...</td>\n      <td>...</td>\n      <td>...</td>\n      <td>...</td>\n      <td>...</td>\n      <td>...</td>\n      <td>...</td>\n      <td>...</td>\n      <td>...</td>\n      <td>...</td>\n      <td>...</td>\n      <td>...</td>\n      <td>...</td>\n      <td>...</td>\n      <td>...</td>\n      <td>...</td>\n      <td>...</td>\n      <td>...</td>\n      <td>...</td>\n      <td>...</td>\n      <td>...</td>\n    </tr>\n    <tr>\n      <th>251110</th>\n      <td>1</td>\n      <td>0</td>\n      <td>0</td>\n      <td>1</td>\n      <td>1</td>\n      <td>1</td>\n      <td>1</td>\n      <td>3</td>\n      <td>2</td>\n      <td>5</td>\n      <td>...</td>\n      <td>94</td>\n      <td>418</td>\n      <td>1647</td>\n      <td>1646</td>\n      <td>1645</td>\n      <td>2017</td>\n      <td>0.486858</td>\n      <td>0.503328</td>\n      <td>0.500543</td>\n      <td>0.498611</td>\n    </tr>\n    <tr>\n      <th>467475</th>\n      <td>1</td>\n      <td>1</td>\n      <td>0</td>\n      <td>1</td>\n      <td>1</td>\n      <td>1</td>\n      <td>1</td>\n      <td>6</td>\n      <td>4</td>\n      <td>1</td>\n      <td>...</td>\n      <td>94</td>\n      <td>422</td>\n      <td>936</td>\n      <td>931</td>\n      <td>930</td>\n      <td>2009</td>\n      <td>0.515074</td>\n      <td>0.500850</td>\n      <td>0.652376</td>\n      <td>0.555721</td>\n    </tr>\n    <tr>\n      <th>36195</th>\n      <td>1</td>\n      <td>0</td>\n      <td>0</td>\n      <td>0</td>\n      <td>0</td>\n      <td>0</td>\n      <td>2</td>\n      <td>0</td>\n      <td>2</td>\n      <td>1</td>\n      <td>...</td>\n      <td>94</td>\n      <td>422</td>\n      <td>1807</td>\n      <td>1806</td>\n      <td>1752</td>\n      <td>2019</td>\n      <td>0.493002</td>\n      <td>0.503328</td>\n      <td>0.500543</td>\n      <td>0.498611</td>\n    </tr>\n    <tr>\n      <th>387719</th>\n      <td>1</td>\n      <td>0</td>\n      <td>0</td>\n      <td>1</td>\n      <td>1</td>\n      <td>1</td>\n      <td>1</td>\n      <td>5</td>\n      <td>3</td>\n      <td>1</td>\n      <td>...</td>\n      <td>94</td>\n      <td>421</td>\n      <td>1812</td>\n      <td>1811</td>\n      <td>1810</td>\n      <td>2020</td>\n      <td>0.496374</td>\n      <td>0.487071</td>\n      <td>0.500543</td>\n      <td>0.498611</td>\n    </tr>\n    <tr>\n      <th>167794</th>\n      <td>0</td>\n      <td>0</td>\n      <td>0</td>\n      <td>0</td>\n      <td>0</td>\n      <td>0</td>\n      <td>2</td>\n      <td>2</td>\n      <td>4</td>\n      <td>5</td>\n      <td>...</td>\n      <td>94</td>\n      <td>405</td>\n      <td>1936</td>\n      <td>1927</td>\n      <td>1918</td>\n      <td>2022</td>\n      <td>0.496387</td>\n      <td>0.500850</td>\n      <td>0.479206</td>\n      <td>0.504105</td>\n    </tr>\n  </tbody>\n</table>\n<p>351365 rows × 62 columns</p>\n</div>"
     },
     "execution_count": 108,
     "metadata": {},
     "output_type": "execute_result"
    }
   ],
   "source": [
    "# cross validation 은 k fold 로 나누고 모두가 한번씩 validation set 이 되는 검증이다\n",
    "x_train"
   ],
   "metadata": {
    "collapsed": false,
    "pycharm": {
     "name": "#%%\n"
    }
   }
  },
  {
   "cell_type": "code",
   "execution_count": 153,
   "outputs": [],
   "source": [
    "n_splits=5\n",
    "SEED=42\n",
    "cv = StratifiedKFold(n_splits=n_splits, shuffle=True, random_state=SEED)"
   ],
   "metadata": {
    "collapsed": false,
    "pycharm": {
     "name": "#%%\n"
    }
   }
  },
  {
   "cell_type": "code",
   "execution_count": 165,
   "outputs": [
    {
     "data": {
      "text/plain": "        d_l_match_yn  ...  contents_attribute_l_l\n66599          False  ...                    2006\n363576          True  ...                    2006\n278571         False  ...                    2006\n160686          True  ...                    2006\n208443          True  ...                    2016\n...              ...  ...                     ...\n251110          True  ...                    2017\n467475          True  ...                    2009\n36195           True  ...                    2019\n387719          True  ...                    2020\n167794         False  ...                    2022\n\n[351365 rows x 58 columns]",
      "text/html": "<div>\n<style scoped>\n    .dataframe tbody tr th:only-of-type {\n        vertical-align: middle;\n    }\n\n    .dataframe tbody tr th {\n        vertical-align: top;\n    }\n\n    .dataframe thead th {\n        text-align: right;\n    }\n</style>\n<table border=\"1\" class=\"dataframe\">\n  <thead>\n    <tr style=\"text-align: right;\">\n      <th></th>\n      <th>d_l_match_yn</th>\n      <th>d_m_match_yn</th>\n      <th>d_s_match_yn</th>\n      <th>h_l_match_yn</th>\n      <th>h_m_match_yn</th>\n      <th>h_s_match_yn</th>\n      <th>person_attribute_a</th>\n      <th>person_attribute_a_1</th>\n      <th>person_attribute_b</th>\n      <th>person_prefer_c</th>\n      <th>person_prefer_d_1</th>\n      <th>person_prefer_d_2</th>\n      <th>person_prefer_d_3</th>\n      <th>person_prefer_e</th>\n      <th>person_prefer_f</th>\n      <th>person_prefer_g</th>\n      <th>person_prefer_h_1</th>\n      <th>person_prefer_h_2</th>\n      <th>person_prefer_h_3</th>\n      <th>contents_attribute_i</th>\n      <th>contents_attribute_a</th>\n      <th>contents_attribute_j_1</th>\n      <th>contents_attribute_j</th>\n      <th>contents_attribute_c</th>\n      <th>contents_attribute_k</th>\n      <th>contents_attribute_l</th>\n      <th>contents_attribute_d</th>\n      <th>contents_attribute_m</th>\n      <th>contents_attribute_e</th>\n      <th>contents_attribute_h</th>\n      <th>person_prefer_d_1_n</th>\n      <th>person_prefer_d_1_s</th>\n      <th>person_prefer_d_1_m</th>\n      <th>person_prefer_d_1_l</th>\n      <th>person_prefer_d_2_n</th>\n      <th>person_prefer_d_2_s</th>\n      <th>person_prefer_d_2_m</th>\n      <th>person_prefer_d_2_l</th>\n      <th>person_prefer_d_3_n</th>\n      <th>person_prefer_d_3_s</th>\n      <th>person_prefer_d_3_m</th>\n      <th>person_prefer_d_3_l</th>\n      <th>contents_attribute_d_n</th>\n      <th>contents_attribute_d_s</th>\n      <th>contents_attribute_d_m</th>\n      <th>contents_attribute_d_l</th>\n      <th>person_prefer_h_1_l</th>\n      <th>person_prefer_h_1_m</th>\n      <th>person_prefer_h_2_l</th>\n      <th>person_prefer_h_2_m</th>\n      <th>person_prefer_h_3_l</th>\n      <th>person_prefer_h_3_m</th>\n      <th>contents_attribute_h_l</th>\n      <th>contents_attribute_h_m</th>\n      <th>contents_attribute_l_n</th>\n      <th>contents_attribute_l_s</th>\n      <th>contents_attribute_l_m</th>\n      <th>contents_attribute_l_l</th>\n    </tr>\n  </thead>\n  <tbody>\n    <tr>\n      <th>66599</th>\n      <td>False</td>\n      <td>False</td>\n      <td>False</td>\n      <td>False</td>\n      <td>False</td>\n      <td>False</td>\n      <td>1</td>\n      <td>6</td>\n      <td>4</td>\n      <td>1</td>\n      <td>38</td>\n      <td>95</td>\n      <td>772</td>\n      <td>6</td>\n      <td>1</td>\n      <td>1</td>\n      <td>31</td>\n      <td>291</td>\n      <td>86</td>\n      <td>3</td>\n      <td>1</td>\n      <td>5</td>\n      <td>1</td>\n      <td>1</td>\n      <td>2</td>\n      <td>765</td>\n      <td>1038</td>\n      <td>1</td>\n      <td>5</td>\n      <td>288</td>\n      <td>38</td>\n      <td>37</td>\n      <td>2</td>\n      <td>1</td>\n      <td>92</td>\n      <td>91</td>\n      <td>56</td>\n      <td>1</td>\n      <td>765</td>\n      <td>747</td>\n      <td>745</td>\n      <td>744</td>\n      <td>1037</td>\n      <td>1036</td>\n      <td>1000</td>\n      <td>926</td>\n      <td>30</td>\n      <td>342</td>\n      <td>277</td>\n      <td>550</td>\n      <td>85</td>\n      <td>391</td>\n      <td>277</td>\n      <td>547</td>\n      <td>763</td>\n      <td>760</td>\n      <td>759</td>\n      <td>2006</td>\n    </tr>\n    <tr>\n      <th>363576</th>\n      <td>True</td>\n      <td>False</td>\n      <td>False</td>\n      <td>True</td>\n      <td>True</td>\n      <td>True</td>\n      <td>2</td>\n      <td>0</td>\n      <td>2</td>\n      <td>5</td>\n      <td>1227</td>\n      <td>1086</td>\n      <td>857</td>\n      <td>0</td>\n      <td>1</td>\n      <td>1</td>\n      <td>65</td>\n      <td>59</td>\n      <td>66</td>\n      <td>3</td>\n      <td>3</td>\n      <td>5</td>\n      <td>1</td>\n      <td>1</td>\n      <td>2</td>\n      <td>407</td>\n      <td>1127</td>\n      <td>1</td>\n      <td>3</td>\n      <td>65</td>\n      <td>1227</td>\n      <td>1227</td>\n      <td>1227</td>\n      <td>926</td>\n      <td>1086</td>\n      <td>1086</td>\n      <td>1053</td>\n      <td>926</td>\n      <td>854</td>\n      <td>853</td>\n      <td>824</td>\n      <td>744</td>\n      <td>1126</td>\n      <td>1111</td>\n      <td>1104</td>\n      <td>926</td>\n      <td>58</td>\n      <td>373</td>\n      <td>58</td>\n      <td>368</td>\n      <td>58</td>\n      <td>374</td>\n      <td>58</td>\n      <td>373</td>\n      <td>407</td>\n      <td>407</td>\n      <td>407</td>\n      <td>2006</td>\n    </tr>\n    <tr>\n      <th>278571</th>\n      <td>False</td>\n      <td>False</td>\n      <td>False</td>\n      <td>False</td>\n      <td>False</td>\n      <td>False</td>\n      <td>1</td>\n      <td>1</td>\n      <td>2</td>\n      <td>5</td>\n      <td>705</td>\n      <td>468</td>\n      <td>840</td>\n      <td>0</td>\n      <td>1</td>\n      <td>1</td>\n      <td>4</td>\n      <td>2</td>\n      <td>59</td>\n      <td>1</td>\n      <td>1</td>\n      <td>5</td>\n      <td>1</td>\n      <td>1</td>\n      <td>2</td>\n      <td>565</td>\n      <td>857</td>\n      <td>1</td>\n      <td>4</td>\n      <td>246</td>\n      <td>703</td>\n      <td>703</td>\n      <td>690</td>\n      <td>618</td>\n      <td>465</td>\n      <td>463</td>\n      <td>450</td>\n      <td>377</td>\n      <td>840</td>\n      <td>831</td>\n      <td>824</td>\n      <td>744</td>\n      <td>854</td>\n      <td>853</td>\n      <td>824</td>\n      <td>744</td>\n      <td>3</td>\n      <td>316</td>\n      <td>1</td>\n      <td>315</td>\n      <td>58</td>\n      <td>368</td>\n      <td>226</td>\n      <td>514</td>\n      <td>561</td>\n      <td>544</td>\n      <td>527</td>\n      <td>2006</td>\n    </tr>\n    <tr>\n      <th>160686</th>\n      <td>True</td>\n      <td>False</td>\n      <td>False</td>\n      <td>False</td>\n      <td>False</td>\n      <td>False</td>\n      <td>1</td>\n      <td>4</td>\n      <td>2</td>\n      <td>1</td>\n      <td>995</td>\n      <td>857</td>\n      <td>1052</td>\n      <td>4</td>\n      <td>1</td>\n      <td>1</td>\n      <td>21</td>\n      <td>66</td>\n      <td>109</td>\n      <td>1</td>\n      <td>3</td>\n      <td>5</td>\n      <td>1</td>\n      <td>1</td>\n      <td>2</td>\n      <td>671</td>\n      <td>1086</td>\n      <td>1</td>\n      <td>3</td>\n      <td>109</td>\n      <td>995</td>\n      <td>988</td>\n      <td>927</td>\n      <td>926</td>\n      <td>854</td>\n      <td>853</td>\n      <td>824</td>\n      <td>744</td>\n      <td>1052</td>\n      <td>1042</td>\n      <td>1000</td>\n      <td>926</td>\n      <td>1086</td>\n      <td>1086</td>\n      <td>1053</td>\n      <td>926</td>\n      <td>3</td>\n      <td>333</td>\n      <td>58</td>\n      <td>374</td>\n      <td>94</td>\n      <td>403</td>\n      <td>94</td>\n      <td>403</td>\n      <td>668</td>\n      <td>667</td>\n      <td>651</td>\n      <td>2006</td>\n    </tr>\n    <tr>\n      <th>208443</th>\n      <td>True</td>\n      <td>False</td>\n      <td>False</td>\n      <td>False</td>\n      <td>False</td>\n      <td>False</td>\n      <td>1</td>\n      <td>1</td>\n      <td>4</td>\n      <td>1</td>\n      <td>124</td>\n      <td>97</td>\n      <td>126</td>\n      <td>4</td>\n      <td>1</td>\n      <td>1</td>\n      <td>4</td>\n      <td>95</td>\n      <td>59</td>\n      <td>3</td>\n      <td>1</td>\n      <td>10</td>\n      <td>2</td>\n      <td>1</td>\n      <td>2</td>\n      <td>1582</td>\n      <td>112</td>\n      <td>5</td>\n      <td>5</td>\n      <td>113</td>\n      <td>124</td>\n      <td>123</td>\n      <td>56</td>\n      <td>1</td>\n      <td>97</td>\n      <td>91</td>\n      <td>56</td>\n      <td>1</td>\n      <td>124</td>\n      <td>123</td>\n      <td>56</td>\n      <td>1</td>\n      <td>110</td>\n      <td>109</td>\n      <td>56</td>\n      <td>1</td>\n      <td>3</td>\n      <td>316</td>\n      <td>94</td>\n      <td>398</td>\n      <td>58</td>\n      <td>368</td>\n      <td>94</td>\n      <td>404</td>\n      <td>1580</td>\n      <td>1579</td>\n      <td>1572</td>\n      <td>2016</td>\n    </tr>\n    <tr>\n      <th>...</th>\n      <td>...</td>\n      <td>...</td>\n      <td>...</td>\n      <td>...</td>\n      <td>...</td>\n      <td>...</td>\n      <td>...</td>\n      <td>...</td>\n      <td>...</td>\n      <td>...</td>\n      <td>...</td>\n      <td>...</td>\n      <td>...</td>\n      <td>...</td>\n      <td>...</td>\n      <td>...</td>\n      <td>...</td>\n      <td>...</td>\n      <td>...</td>\n      <td>...</td>\n      <td>...</td>\n      <td>...</td>\n      <td>...</td>\n      <td>...</td>\n      <td>...</td>\n      <td>...</td>\n      <td>...</td>\n      <td>...</td>\n      <td>...</td>\n      <td>...</td>\n      <td>...</td>\n      <td>...</td>\n      <td>...</td>\n      <td>...</td>\n      <td>...</td>\n      <td>...</td>\n      <td>...</td>\n      <td>...</td>\n      <td>...</td>\n      <td>...</td>\n      <td>...</td>\n      <td>...</td>\n      <td>...</td>\n      <td>...</td>\n      <td>...</td>\n      <td>...</td>\n      <td>...</td>\n      <td>...</td>\n      <td>...</td>\n      <td>...</td>\n      <td>...</td>\n      <td>...</td>\n      <td>...</td>\n      <td>...</td>\n      <td>...</td>\n      <td>...</td>\n      <td>...</td>\n      <td>...</td>\n    </tr>\n    <tr>\n      <th>251110</th>\n      <td>True</td>\n      <td>False</td>\n      <td>False</td>\n      <td>True</td>\n      <td>True</td>\n      <td>True</td>\n      <td>1</td>\n      <td>3</td>\n      <td>2</td>\n      <td>5</td>\n      <td>705</td>\n      <td>703</td>\n      <td>840</td>\n      <td>4</td>\n      <td>1</td>\n      <td>1</td>\n      <td>135</td>\n      <td>119</td>\n      <td>109</td>\n      <td>3</td>\n      <td>1</td>\n      <td>3</td>\n      <td>1</td>\n      <td>1</td>\n      <td>2</td>\n      <td>1648</td>\n      <td>718</td>\n      <td>3</td>\n      <td>3</td>\n      <td>135</td>\n      <td>703</td>\n      <td>703</td>\n      <td>690</td>\n      <td>618</td>\n      <td>703</td>\n      <td>703</td>\n      <td>690</td>\n      <td>618</td>\n      <td>840</td>\n      <td>831</td>\n      <td>824</td>\n      <td>744</td>\n      <td>718</td>\n      <td>717</td>\n      <td>716</td>\n      <td>618</td>\n      <td>94</td>\n      <td>418</td>\n      <td>94</td>\n      <td>408</td>\n      <td>94</td>\n      <td>403</td>\n      <td>94</td>\n      <td>418</td>\n      <td>1647</td>\n      <td>1646</td>\n      <td>1645</td>\n      <td>2017</td>\n    </tr>\n    <tr>\n      <th>467475</th>\n      <td>True</td>\n      <td>True</td>\n      <td>False</td>\n      <td>True</td>\n      <td>True</td>\n      <td>True</td>\n      <td>1</td>\n      <td>6</td>\n      <td>4</td>\n      <td>1</td>\n      <td>279</td>\n      <td>44</td>\n      <td>53</td>\n      <td>10</td>\n      <td>1</td>\n      <td>1</td>\n      <td>139</td>\n      <td>96</td>\n      <td>95</td>\n      <td>3</td>\n      <td>1</td>\n      <td>5</td>\n      <td>1</td>\n      <td>1</td>\n      <td>2</td>\n      <td>937</td>\n      <td>277</td>\n      <td>2</td>\n      <td>10</td>\n      <td>139</td>\n      <td>276</td>\n      <td>274</td>\n      <td>274</td>\n      <td>216</td>\n      <td>44</td>\n      <td>43</td>\n      <td>2</td>\n      <td>1</td>\n      <td>53</td>\n      <td>43</td>\n      <td>2</td>\n      <td>1</td>\n      <td>276</td>\n      <td>274</td>\n      <td>274</td>\n      <td>216</td>\n      <td>94</td>\n      <td>422</td>\n      <td>94</td>\n      <td>399</td>\n      <td>94</td>\n      <td>398</td>\n      <td>94</td>\n      <td>422</td>\n      <td>936</td>\n      <td>931</td>\n      <td>930</td>\n      <td>2009</td>\n    </tr>\n    <tr>\n      <th>36195</th>\n      <td>True</td>\n      <td>False</td>\n      <td>False</td>\n      <td>False</td>\n      <td>False</td>\n      <td>False</td>\n      <td>2</td>\n      <td>0</td>\n      <td>2</td>\n      <td>1</td>\n      <td>675</td>\n      <td>668</td>\n      <td>670</td>\n      <td>4</td>\n      <td>1</td>\n      <td>1</td>\n      <td>31</td>\n      <td>278</td>\n      <td>86</td>\n      <td>3</td>\n      <td>2</td>\n      <td>9</td>\n      <td>2</td>\n      <td>3</td>\n      <td>2</td>\n      <td>1809</td>\n      <td>665</td>\n      <td>1</td>\n      <td>3</td>\n      <td>139</td>\n      <td>673</td>\n      <td>660</td>\n      <td>659</td>\n      <td>618</td>\n      <td>668</td>\n      <td>660</td>\n      <td>659</td>\n      <td>618</td>\n      <td>670</td>\n      <td>660</td>\n      <td>659</td>\n      <td>618</td>\n      <td>662</td>\n      <td>660</td>\n      <td>659</td>\n      <td>618</td>\n      <td>30</td>\n      <td>342</td>\n      <td>277</td>\n      <td>542</td>\n      <td>85</td>\n      <td>391</td>\n      <td>94</td>\n      <td>422</td>\n      <td>1807</td>\n      <td>1806</td>\n      <td>1752</td>\n      <td>2019</td>\n    </tr>\n    <tr>\n      <th>387719</th>\n      <td>True</td>\n      <td>False</td>\n      <td>False</td>\n      <td>True</td>\n      <td>True</td>\n      <td>True</td>\n      <td>1</td>\n      <td>5</td>\n      <td>3</td>\n      <td>1</td>\n      <td>118</td>\n      <td>65</td>\n      <td>110</td>\n      <td>4</td>\n      <td>1</td>\n      <td>1</td>\n      <td>138</td>\n      <td>119</td>\n      <td>109</td>\n      <td>3</td>\n      <td>2</td>\n      <td>6</td>\n      <td>2</td>\n      <td>1</td>\n      <td>2</td>\n      <td>1817</td>\n      <td>103</td>\n      <td>3</td>\n      <td>3</td>\n      <td>138</td>\n      <td>114</td>\n      <td>109</td>\n      <td>56</td>\n      <td>1</td>\n      <td>65</td>\n      <td>63</td>\n      <td>56</td>\n      <td>1</td>\n      <td>110</td>\n      <td>109</td>\n      <td>56</td>\n      <td>1</td>\n      <td>101</td>\n      <td>91</td>\n      <td>56</td>\n      <td>1</td>\n      <td>94</td>\n      <td>421</td>\n      <td>94</td>\n      <td>408</td>\n      <td>94</td>\n      <td>403</td>\n      <td>94</td>\n      <td>421</td>\n      <td>1812</td>\n      <td>1811</td>\n      <td>1810</td>\n      <td>2020</td>\n    </tr>\n    <tr>\n      <th>167794</th>\n      <td>False</td>\n      <td>False</td>\n      <td>False</td>\n      <td>False</td>\n      <td>False</td>\n      <td>False</td>\n      <td>2</td>\n      <td>2</td>\n      <td>4</td>\n      <td>5</td>\n      <td>703</td>\n      <td>452</td>\n      <td>840</td>\n      <td>3</td>\n      <td>1</td>\n      <td>1</td>\n      <td>209</td>\n      <td>210</td>\n      <td>213</td>\n      <td>2</td>\n      <td>3</td>\n      <td>3</td>\n      <td>1</td>\n      <td>1</td>\n      <td>2</td>\n      <td>1938</td>\n      <td>106</td>\n      <td>5</td>\n      <td>4</td>\n      <td>114</td>\n      <td>703</td>\n      <td>703</td>\n      <td>690</td>\n      <td>618</td>\n      <td>452</td>\n      <td>451</td>\n      <td>450</td>\n      <td>377</td>\n      <td>840</td>\n      <td>831</td>\n      <td>824</td>\n      <td>744</td>\n      <td>101</td>\n      <td>91</td>\n      <td>56</td>\n      <td>1</td>\n      <td>208</td>\n      <td>480</td>\n      <td>208</td>\n      <td>481</td>\n      <td>208</td>\n      <td>482</td>\n      <td>94</td>\n      <td>405</td>\n      <td>1936</td>\n      <td>1927</td>\n      <td>1918</td>\n      <td>2022</td>\n    </tr>\n  </tbody>\n</table>\n<p>351365 rows × 58 columns</p>\n</div>"
     },
     "execution_count": 165,
     "metadata": {},
     "output_type": "execute_result"
    }
   ],
   "source": [],
   "metadata": {
    "collapsed": false,
    "pycharm": {
     "name": "#%%\n"
    }
   }
  },
  {
   "cell_type": "code",
   "execution_count": null,
   "outputs": [],
   "source": [
    "x_train\n",
    "models = []\n",
    "# 너무 낮다"
   ],
   "metadata": {
    "collapsed": false,
    "pycharm": {
     "name": "#%%\n"
    }
   }
  },
  {
   "cell_type": "code",
   "execution_count": 9,
   "outputs": [
    {
     "ename": "NameError",
     "evalue": "name 'cv' is not defined",
     "output_type": "error",
     "traceback": [
      "\u001B[0;31m---------------------------------------------------------------------------\u001B[0m",
      "\u001B[0;31mNameError\u001B[0m                                 Traceback (most recent call last)",
      "\u001B[0;32m/var/folders/c6/2j22b1rd02778st12c0mcr3w0000gn/T/ipykernel_92367/2286493213.py\u001B[0m in \u001B[0;36m<module>\u001B[0;34m\u001B[0m\n\u001B[0;32m----> 1\u001B[0;31m \u001B[0;32mfor\u001B[0m \u001B[0mtri\u001B[0m\u001B[0;34m,\u001B[0m \u001B[0mvai\u001B[0m \u001B[0;32min\u001B[0m \u001B[0mcv\u001B[0m\u001B[0;34m.\u001B[0m\u001B[0msplit\u001B[0m\u001B[0;34m(\u001B[0m\u001B[0mx_train\u001B[0m\u001B[0;34m,\u001B[0m\u001B[0my_train\u001B[0m\u001B[0;34m)\u001B[0m\u001B[0;34m:\u001B[0m\u001B[0;34m\u001B[0m\u001B[0;34m\u001B[0m\u001B[0m\n\u001B[0m\u001B[1;32m      2\u001B[0m     \u001B[0mprint\u001B[0m\u001B[0;34m(\u001B[0m\u001B[0;34m\"=\"\u001B[0m\u001B[0;34m*\u001B[0m\u001B[0;36m50\u001B[0m\u001B[0;34m)\u001B[0m\u001B[0;34m\u001B[0m\u001B[0;34m\u001B[0m\u001B[0m\n\u001B[1;32m      3\u001B[0m     \u001B[0mpreds\u001B[0m \u001B[0;34m=\u001B[0m \u001B[0;34m[\u001B[0m\u001B[0;34m]\u001B[0m\u001B[0;34m\u001B[0m\u001B[0;34m\u001B[0m\u001B[0m\n\u001B[1;32m      4\u001B[0m     \u001B[0mmodel\u001B[0m \u001B[0;34m=\u001B[0m \u001B[0mCatBoostClassifier\u001B[0m\u001B[0;34m(\u001B[0m\u001B[0miterations\u001B[0m\u001B[0;34m=\u001B[0m\u001B[0miterations\u001B[0m\u001B[0;34m,\u001B[0m\u001B[0mrandom_state\u001B[0m\u001B[0;34m=\u001B[0m\u001B[0mSEED\u001B[0m\u001B[0;34m,\u001B[0m\u001B[0meval_metric\u001B[0m\u001B[0;34m=\u001B[0m\u001B[0;34m\"F1\"\u001B[0m\u001B[0;34m,\u001B[0m\u001B[0mcat_features\u001B[0m\u001B[0;34m=\u001B[0m\u001B[0mcat_features\u001B[0m\u001B[0;34m,\u001B[0m\u001B[0mone_hot_max_size\u001B[0m\u001B[0;34m=\u001B[0m\u001B[0;36m4\u001B[0m\u001B[0;34m)\u001B[0m\u001B[0;34m\u001B[0m\u001B[0;34m\u001B[0m\u001B[0m\n\u001B[1;32m      5\u001B[0m     model.fit(x_train.iloc[tri], y_train.iloc[tri],\n",
      "\u001B[0;31mNameError\u001B[0m: name 'cv' is not defined"
     ]
    }
   ],
   "source": [
    "model =   CatBoostClassifierSplitData(terations=iterations,random_state=SEED,eval_metric=\"F1\",cat_features=cat_features,one_hot_max_size=4)"
   ],
   "metadata": {
    "collapsed": false,
    "pycharm": {
     "name": "#%%\n"
    }
   }
  },
  {
   "cell_type": "code",
   "execution_count": null,
   "outputs": [],
   "source": [
    "for tri, vai in cv.split(x_train,y_train):\n",
    "    print(\"=\"*50)\n",
    "    preds = []\n",
    "    model = CatBoostClassifier(iterations=iterations,random_state=SEED,eval_metric=\"F1\",cat_features=cat_features,one_hot_max_size=4)\n",
    "    model.fit(x_train.iloc[tri], y_train.iloc[tri],\n",
    "            eval_set=[(x_train.iloc[vai], y_train.iloc[vai])],\n",
    "            early_stopping_rounds=patience ,\n",
    "            verbose = 100\n",
    "        )\n",
    "    models.append(model)\n",
    "    scores.append(model.get_best_score()[\"validation\"][\"F1\"])\n",
    "    if is_holdout:\n",
    "        break"
   ],
   "metadata": {
    "collapsed": false,
    "pycharm": {
     "name": "#%%\n"
    }
   }
  },
  {
   "cell_type": "code",
   "execution_count": 57,
   "outputs": [
    {
     "data": {
      "text/plain": "[0.6931676091297613,\n 0.6925300980802306,\n 0.6900417612601251,\n 0.6902656521657848]"
     },
     "execution_count": 57,
     "metadata": {},
     "output_type": "execute_result"
    }
   ],
   "source": [
    "# Catboost + stratified k FOLD + threshold 변경\n"
   ],
   "metadata": {
    "collapsed": false,
    "pycharm": {
     "name": "#%%\n"
    }
   }
  },
  {
   "cell_type": "code",
   "execution_count": null,
   "outputs": [],
   "source": [
    "print(scores)"
   ],
   "metadata": {
    "collapsed": false,
    "pycharm": {
     "name": "#%%\n"
    }
   }
  },
  {
   "cell_type": "code",
   "execution_count": 106,
   "outputs": [
    {
     "data": {
      "text/plain": "[0.6785656423826754, 0.6760084237809816]"
     },
     "execution_count": 106,
     "metadata": {},
     "output_type": "execute_result"
    }
   ],
   "source": [
    "scores"
   ],
   "metadata": {
    "collapsed": false,
    "pycharm": {
     "name": "#%%\n"
    }
   }
  },
  {
   "cell_type": "code",
   "execution_count": 107,
   "outputs": [
    {
     "data": {
      "text/plain": "[<catboost.core.CatBoostClassifier at 0x155b41100>,\n <catboost.core.CatBoostClassifier at 0x15611daf0>]"
     },
     "execution_count": 107,
     "metadata": {},
     "output_type": "execute_result"
    }
   ],
   "source": [],
   "metadata": {
    "collapsed": false,
    "pycharm": {
     "name": "#%%\n"
    }
   }
  },
  {
   "cell_type": "code",
   "execution_count": null,
   "outputs": [],
   "source": [
    "model.predict(x_valid.values)"
   ],
   "metadata": {
    "collapsed": false,
    "pycharm": {
     "name": "#%%\n"
    }
   }
  },
  {
   "cell_type": "code",
   "execution_count": 58,
   "outputs": [],
   "source": [
    "from sklearn.metrics import f1_score"
   ],
   "metadata": {
    "collapsed": false,
    "pycharm": {
     "name": "#%%\n"
    }
   }
  },
  {
   "cell_type": "code",
   "execution_count": 59,
   "outputs": [],
   "source": [
    "threshold = 0.4"
   ],
   "metadata": {
    "collapsed": false,
    "pycharm": {
     "name": "#%%\n"
    }
   }
  },
  {
   "cell_type": "code",
   "execution_count": 79,
   "outputs": [
    {
     "data": {
      "text/plain": "'test_data'"
     },
     "execution_count": 79,
     "metadata": {},
     "output_type": "execute_result"
    }
   ],
   "source": [
    "nameof(test_data)"
   ],
   "metadata": {
    "collapsed": false,
    "pycharm": {
     "name": "#%%\n"
    }
   }
  },
  {
   "cell_type": "code",
   "execution_count": 81,
   "outputs": [
    {
     "ename": "KeyError",
     "evalue": "'attr_a_1_mean_encode'",
     "output_type": "error",
     "traceback": [
      "\u001B[0;31m---------------------------------------------------------------------------\u001B[0m",
      "\u001B[0;31mKeyError\u001B[0m                                  Traceback (most recent call last)",
      "\u001B[0;32m/var/folders/c6/2j22b1rd02778st12c0mcr3w0000gn/T/ipykernel_32461/2726286586.py\u001B[0m in \u001B[0;36m<module>\u001B[0;34m\u001B[0m\n\u001B[0;32m----> 1\u001B[0;31m \u001B[0mget_mean_encode\u001B[0m\u001B[0;34m(\u001B[0m\u001B[0mtest_data\u001B[0m\u001B[0;34m,\u001B[0m\u001B[0mnominal_cols\u001B[0m\u001B[0;34m)\u001B[0m\u001B[0;34m\u001B[0m\u001B[0;34m\u001B[0m\u001B[0m\n\u001B[0m",
      "\u001B[0;32m/var/folders/c6/2j22b1rd02778st12c0mcr3w0000gn/T/ipykernel_32461/3797590487.py\u001B[0m in \u001B[0;36mget_mean_encode\u001B[0;34m(train, nominal_cols)\u001B[0m\n\u001B[1;32m     18\u001B[0m             \u001B[0;32mexcept\u001B[0m\u001B[0;34m:\u001B[0m\u001B[0;34m\u001B[0m\u001B[0;34m\u001B[0m\u001B[0m\n\u001B[1;32m     19\u001B[0m                 \u001B[0;32mpass\u001B[0m\u001B[0;34m\u001B[0m\u001B[0;34m\u001B[0m\u001B[0m\n\u001B[0;32m---> 20\u001B[0;31m         \u001B[0mtrain\u001B[0m\u001B[0;34m.\u001B[0m\u001B[0mloc\u001B[0m\u001B[0;34m[\u001B[0m\u001B[0;34m:\u001B[0m\u001B[0;34m,\u001B[0m\u001B[0mvar_name\u001B[0m\u001B[0;34m]\u001B[0m \u001B[0;34m=\u001B[0m \u001B[0mtrain\u001B[0m\u001B[0;34m[\u001B[0m\u001B[0mcol\u001B[0m\u001B[0;34m]\u001B[0m\u001B[0;34m.\u001B[0m\u001B[0mmap\u001B[0m\u001B[0;34m(\u001B[0m\u001B[0mlocals\u001B[0m\u001B[0;34m(\u001B[0m\u001B[0;34m)\u001B[0m\u001B[0;34m[\u001B[0m\u001B[0mvar_name\u001B[0m\u001B[0;34m]\u001B[0m\u001B[0;34m)\u001B[0m\u001B[0;34m\u001B[0m\u001B[0;34m\u001B[0m\u001B[0m\n\u001B[0m\u001B[1;32m     21\u001B[0m     \u001B[0;32mreturn\u001B[0m \u001B[0mtrain\u001B[0m\u001B[0;34m\u001B[0m\u001B[0;34m\u001B[0m\u001B[0m\n",
      "\u001B[0;31mKeyError\u001B[0m: 'attr_a_1_mean_encode'"
     ]
    }
   ],
   "source": [],
   "metadata": {
    "collapsed": false,
    "pycharm": {
     "name": "#%%\n"
    }
   }
  },
  {
   "cell_type": "code",
   "execution_count": null,
   "outputs": [],
   "source": [
    "get_mean_encode(test_data,nominal_cols)"
   ],
   "metadata": {
    "collapsed": false,
    "pycharm": {
     "name": "#%%\n"
    }
   }
  },
  {
   "cell_type": "code",
   "execution_count": 110,
   "outputs": [
    {
     "data": {
      "text/plain": "        d_l_match_yn  d_m_match_yn  d_s_match_yn  h_l_match_yn  h_m_match_yn  \\\n115917             0             0             0             0             0   \n310851             0             0             0             1             1   \n464346             0             0             0             1             1   \n371526             1             1             1             1             0   \n374626             0             0             0             1             0   \n...              ...           ...           ...           ...           ...   \n233346             1             0             0             1             0   \n270898             1             1             0             1             0   \n359613             0             0             0             1             0   \n59369              0             0             0             1             0   \n32646              0             0             0             1             1   \n\n        h_s_match_yn  person_attribute_a  person_attribute_a_1  \\\n115917             0                   1                     1   \n310851             1                   1                     1   \n464346             1                   1                     0   \n371526             0                   1                     3   \n374626             0                   2                     0   \n...              ...                 ...                   ...   \n233346             0                   1                     2   \n270898             0                   2                     0   \n359613             0                   2                     0   \n59369              0                   2                     0   \n32646              1                   2                     0   \n\n        person_attribute_b  person_prefer_c  ...  contents_attribute_h_l  \\\n115917                   4                1  ...                      94   \n310851                   2                5  ...                     250   \n464346                   3                5  ...                      58   \n371526                   3                5  ...                      30   \n374626                   4                5  ...                      94   \n...                    ...              ...  ...                     ...   \n233346                   4                1  ...                      30   \n270898                   3                1  ...                       3   \n359613                   4                5  ...                       3   \n59369                    2                5  ...                      30   \n32646                    3                1  ...                      94   \n\n        contents_attribute_h_m  contents_attribute_l_n  \\\n115917                     422                     919   \n310851                     537                     759   \n464346                     373                    1825   \n371526                     346                    1103   \n374626                     402                     837   \n...                        ...                     ...   \n233346                     343                    1289   \n270898                     335                     688   \n359613                     335                    1840   \n59369                      348                    1251   \n32646                      410                     104   \n\n        contents_attribute_l_s  contents_attribute_l_m  \\\n115917                     918                     901   \n310851                     759                     759   \n464346                    1824                    1810   \n371526                    1097                    1021   \n374626                     837                     826   \n...                        ...                     ...   \n233346                    1288                    1271   \n270898                     687                     651   \n359613                    1833                    1832   \n59369                     1236                    1152   \n32646                      100                      99   \n\n        contents_attribute_l_l  attr_a_1_mean_encode  attr_b_mean_encode  \\\n115917                    2008              0.497688            0.500850   \n310851                    2006              0.497688            0.503328   \n464346                    2020              0.493002            0.487071   \n371526                    2010              0.486858            0.487071   \n374626                    2006              0.493002            0.500850   \n...                        ...                   ...                 ...   \n233346                    2011              0.496387            0.500850   \n270898                    2006              0.493002            0.487071   \n359613                    2020              0.493002            0.500850   \n59369                     2010              0.493002            0.503328   \n32646                     2006              0.493002            0.487071   \n\n        prefer_e_mean_encode  attr_e_mean_encode  \n115917              0.512256            0.528446  \n310851              0.479206            0.506072  \n464346              0.531888            0.498611  \n371526              0.531888            0.506072  \n374626              0.479206            0.498611  \n...                      ...                 ...  \n233346              0.500543            0.498611  \n270898              0.500543            0.498611  \n359613              0.500543            0.506072  \n59369               0.502798            0.498611  \n32646               0.500543            0.504105  \n\n[150586 rows x 62 columns]",
      "text/html": "<div>\n<style scoped>\n    .dataframe tbody tr th:only-of-type {\n        vertical-align: middle;\n    }\n\n    .dataframe tbody tr th {\n        vertical-align: top;\n    }\n\n    .dataframe thead th {\n        text-align: right;\n    }\n</style>\n<table border=\"1\" class=\"dataframe\">\n  <thead>\n    <tr style=\"text-align: right;\">\n      <th></th>\n      <th>d_l_match_yn</th>\n      <th>d_m_match_yn</th>\n      <th>d_s_match_yn</th>\n      <th>h_l_match_yn</th>\n      <th>h_m_match_yn</th>\n      <th>h_s_match_yn</th>\n      <th>person_attribute_a</th>\n      <th>person_attribute_a_1</th>\n      <th>person_attribute_b</th>\n      <th>person_prefer_c</th>\n      <th>...</th>\n      <th>contents_attribute_h_l</th>\n      <th>contents_attribute_h_m</th>\n      <th>contents_attribute_l_n</th>\n      <th>contents_attribute_l_s</th>\n      <th>contents_attribute_l_m</th>\n      <th>contents_attribute_l_l</th>\n      <th>attr_a_1_mean_encode</th>\n      <th>attr_b_mean_encode</th>\n      <th>prefer_e_mean_encode</th>\n      <th>attr_e_mean_encode</th>\n    </tr>\n  </thead>\n  <tbody>\n    <tr>\n      <th>115917</th>\n      <td>0</td>\n      <td>0</td>\n      <td>0</td>\n      <td>0</td>\n      <td>0</td>\n      <td>0</td>\n      <td>1</td>\n      <td>1</td>\n      <td>4</td>\n      <td>1</td>\n      <td>...</td>\n      <td>94</td>\n      <td>422</td>\n      <td>919</td>\n      <td>918</td>\n      <td>901</td>\n      <td>2008</td>\n      <td>0.497688</td>\n      <td>0.500850</td>\n      <td>0.512256</td>\n      <td>0.528446</td>\n    </tr>\n    <tr>\n      <th>310851</th>\n      <td>0</td>\n      <td>0</td>\n      <td>0</td>\n      <td>1</td>\n      <td>1</td>\n      <td>1</td>\n      <td>1</td>\n      <td>1</td>\n      <td>2</td>\n      <td>5</td>\n      <td>...</td>\n      <td>250</td>\n      <td>537</td>\n      <td>759</td>\n      <td>759</td>\n      <td>759</td>\n      <td>2006</td>\n      <td>0.497688</td>\n      <td>0.503328</td>\n      <td>0.479206</td>\n      <td>0.506072</td>\n    </tr>\n    <tr>\n      <th>464346</th>\n      <td>0</td>\n      <td>0</td>\n      <td>0</td>\n      <td>1</td>\n      <td>1</td>\n      <td>1</td>\n      <td>1</td>\n      <td>0</td>\n      <td>3</td>\n      <td>5</td>\n      <td>...</td>\n      <td>58</td>\n      <td>373</td>\n      <td>1825</td>\n      <td>1824</td>\n      <td>1810</td>\n      <td>2020</td>\n      <td>0.493002</td>\n      <td>0.487071</td>\n      <td>0.531888</td>\n      <td>0.498611</td>\n    </tr>\n    <tr>\n      <th>371526</th>\n      <td>1</td>\n      <td>1</td>\n      <td>1</td>\n      <td>1</td>\n      <td>0</td>\n      <td>0</td>\n      <td>1</td>\n      <td>3</td>\n      <td>3</td>\n      <td>5</td>\n      <td>...</td>\n      <td>30</td>\n      <td>346</td>\n      <td>1103</td>\n      <td>1097</td>\n      <td>1021</td>\n      <td>2010</td>\n      <td>0.486858</td>\n      <td>0.487071</td>\n      <td>0.531888</td>\n      <td>0.506072</td>\n    </tr>\n    <tr>\n      <th>374626</th>\n      <td>0</td>\n      <td>0</td>\n      <td>0</td>\n      <td>1</td>\n      <td>0</td>\n      <td>0</td>\n      <td>2</td>\n      <td>0</td>\n      <td>4</td>\n      <td>5</td>\n      <td>...</td>\n      <td>94</td>\n      <td>402</td>\n      <td>837</td>\n      <td>837</td>\n      <td>826</td>\n      <td>2006</td>\n      <td>0.493002</td>\n      <td>0.500850</td>\n      <td>0.479206</td>\n      <td>0.498611</td>\n    </tr>\n    <tr>\n      <th>...</th>\n      <td>...</td>\n      <td>...</td>\n      <td>...</td>\n      <td>...</td>\n      <td>...</td>\n      <td>...</td>\n      <td>...</td>\n      <td>...</td>\n      <td>...</td>\n      <td>...</td>\n      <td>...</td>\n      <td>...</td>\n      <td>...</td>\n      <td>...</td>\n      <td>...</td>\n      <td>...</td>\n      <td>...</td>\n      <td>...</td>\n      <td>...</td>\n      <td>...</td>\n      <td>...</td>\n    </tr>\n    <tr>\n      <th>233346</th>\n      <td>1</td>\n      <td>0</td>\n      <td>0</td>\n      <td>1</td>\n      <td>0</td>\n      <td>0</td>\n      <td>1</td>\n      <td>2</td>\n      <td>4</td>\n      <td>1</td>\n      <td>...</td>\n      <td>30</td>\n      <td>343</td>\n      <td>1289</td>\n      <td>1288</td>\n      <td>1271</td>\n      <td>2011</td>\n      <td>0.496387</td>\n      <td>0.500850</td>\n      <td>0.500543</td>\n      <td>0.498611</td>\n    </tr>\n    <tr>\n      <th>270898</th>\n      <td>1</td>\n      <td>1</td>\n      <td>0</td>\n      <td>1</td>\n      <td>0</td>\n      <td>0</td>\n      <td>2</td>\n      <td>0</td>\n      <td>3</td>\n      <td>1</td>\n      <td>...</td>\n      <td>3</td>\n      <td>335</td>\n      <td>688</td>\n      <td>687</td>\n      <td>651</td>\n      <td>2006</td>\n      <td>0.493002</td>\n      <td>0.487071</td>\n      <td>0.500543</td>\n      <td>0.498611</td>\n    </tr>\n    <tr>\n      <th>359613</th>\n      <td>0</td>\n      <td>0</td>\n      <td>0</td>\n      <td>1</td>\n      <td>0</td>\n      <td>0</td>\n      <td>2</td>\n      <td>0</td>\n      <td>4</td>\n      <td>5</td>\n      <td>...</td>\n      <td>3</td>\n      <td>335</td>\n      <td>1840</td>\n      <td>1833</td>\n      <td>1832</td>\n      <td>2020</td>\n      <td>0.493002</td>\n      <td>0.500850</td>\n      <td>0.500543</td>\n      <td>0.506072</td>\n    </tr>\n    <tr>\n      <th>59369</th>\n      <td>0</td>\n      <td>0</td>\n      <td>0</td>\n      <td>1</td>\n      <td>0</td>\n      <td>0</td>\n      <td>2</td>\n      <td>0</td>\n      <td>2</td>\n      <td>5</td>\n      <td>...</td>\n      <td>30</td>\n      <td>348</td>\n      <td>1251</td>\n      <td>1236</td>\n      <td>1152</td>\n      <td>2010</td>\n      <td>0.493002</td>\n      <td>0.503328</td>\n      <td>0.502798</td>\n      <td>0.498611</td>\n    </tr>\n    <tr>\n      <th>32646</th>\n      <td>0</td>\n      <td>0</td>\n      <td>0</td>\n      <td>1</td>\n      <td>1</td>\n      <td>1</td>\n      <td>2</td>\n      <td>0</td>\n      <td>3</td>\n      <td>1</td>\n      <td>...</td>\n      <td>94</td>\n      <td>410</td>\n      <td>104</td>\n      <td>100</td>\n      <td>99</td>\n      <td>2006</td>\n      <td>0.493002</td>\n      <td>0.487071</td>\n      <td>0.500543</td>\n      <td>0.504105</td>\n    </tr>\n  </tbody>\n</table>\n<p>150586 rows × 62 columns</p>\n</div>"
     },
     "execution_count": 110,
     "metadata": {},
     "output_type": "execute_result"
    }
   ],
   "source": [
    "x_valid\n",
    "# test data에 label 이 없으면 train set 에서 label을 가지고 만드는 features는\n",
    "# 학습 후 예측 시 해당 feature를 만들 수 없기 때문에 활용할 수 없다\n",
    "\n",
    "# 평균 인코딩 단점\n",
    "# 과적합되어 높은 모델 점수가 나올 수 있다\n",
    "#Target Leakage: Target에 대한 정보를 사용합니다. 목표 누출로 인해 모델이 훈련 데이터에 과적합되어 신뢰할 수 없는 검증과 낮은 테스트 점수를 초래합니다.\n",
    "#대상 누출의 영향을 줄이기 위해.\n",
    "#정규화 증가\n",
    "#기차 데이터 세트의 범주 표현에 무작위 노이즈 추가(일종의 증대)\n",
    "#이중 유효성 검사 사용(다른 유효성 검사 사용)"
   ],
   "metadata": {
    "collapsed": false,
    "pycharm": {
     "name": "#%%\n"
    }
   }
  },
  {
   "cell_type": "code",
   "execution_count": null,
   "outputs": [],
   "source": [
    "pred_list = []\n",
    "scores = []\n",
    "for i ,(tri,vai) in enumerate(cv.split(df_train)):\n",
    "    pred = models[i].predict_proba(df_train.iloc[vai])[:,1]\n",
    "    pred = np.where(pred >= threshold ,1,0)\n",
    "    score = f1_score(target[vai],pred)\n",
    "    scores.append(score )\n",
    "    pred = models[i].predict_proba(x_test)[:,1]\n",
    "    pred_list.append(pred)\n",
    "print(scores)\n",
    "print(np.mean(scores))\n",
    "####################### test data 에 target이 없으므로 mean_encode 학습은 무의미하다###########"
   ],
   "metadata": {
    "collapsed": false,
    "pycharm": {
     "name": "#%%\n"
    }
   }
  },
  {
   "cell_type": "code",
   "execution_count": 114,
   "outputs": [
    {
     "data": {
      "text/plain": "<AxesSubplot:>"
     },
     "execution_count": 114,
     "metadata": {},
     "output_type": "execute_result"
    },
    {
     "data": {
      "text/plain": "<Figure size 432x288 with 1 Axes>",
      "image/png": "[encoded data removed]"
     },
     "metadata": {
      "needs_background": "light"
     },
     "output_type": "display_data"
    }
   ],
   "source": [
    "# DATA TYPE별 VISUALIZATION\n",
    "\n",
    "\n",
    "x_train['d_l_match_yn'].value_counts().plot.bar()"
   ],
   "metadata": {
    "collapsed": false,
    "pycharm": {
     "name": "#%%\n"
    }
   }
  },
  {
   "cell_type": "code",
   "execution_count": 115,
   "outputs": [
    {
     "data": {
      "text/plain": "<AxesSubplot:>"
     },
     "execution_count": 115,
     "metadata": {},
     "output_type": "execute_result"
    },
    {
     "data": {
      "text/plain": "<Figure size 432x288 with 1 Axes>",
      "image/png": "[encoded data removed]"
     },
     "metadata": {
      "needs_background": "light"
     },
     "output_type": "display_data"
    }
   ],
   "source": [
    "#\n",
    "train_data['d_l_match_yn'].value_counts().plot.bar()"
   ],
   "metadata": {
    "collapsed": false,
    "pycharm": {
     "name": "#%%\n"
    }
   }
  },
  {
   "cell_type": "code",
   "execution_count": 134,
   "outputs": [],
   "source": [
    "import matplotlib.pyplot as plt\n",
    "\n",
    "SMALL_SIZE = 8\n",
    "MEDIUM_SIZE = 10\n",
    "BIGGER_SIZE = 12\n",
    "\n",
    "plt.rc('font', size=SMALL_SIZE)          # controls default text sizes\n",
    "plt.rc('axes', titlesize=SMALL_SIZE)     # fontsize of the axes title\n",
    "plt.rc('axes', labelsize=MEDIUM_SIZE)    # fontsize of the x and y labels\n",
    "plt.rc('xtick', labelsize=SMALL_SIZE)    # fontsize of the tick labels\n",
    "plt.rc('ytick', labelsize=SMALL_SIZE)    # fontsize of the tick labels\n",
    "plt.rc('legend', fontsize=SMALL_SIZE)    # legend fontsize\n",
    "plt.rc('figure', titlesize=BIGGER_SIZE)  # fontsize of the figure title"
   ],
   "metadata": {
    "collapsed": false,
    "pycharm": {
     "name": "#%%\n"
    }
   }
  },
  {
   "cell_type": "code",
   "execution_count": 171,
   "outputs": [
    {
     "data": {
      "text/plain": "        d_l_match_yn  d_m_match_yn  d_s_match_yn  h_l_match_yn  h_m_match_yn  \\\n66599              0             0             0             0             0   \n363576             1             0             0             1             1   \n278571             0             0             0             0             0   \n160686             1             0             0             0             0   \n208443             1             0             0             0             0   \n...              ...           ...           ...           ...           ...   \n251110             1             0             0             1             1   \n467475             1             1             0             1             1   \n36195              1             0             0             0             0   \n387719             1             0             0             1             1   \n167794             0             0             0             0             0   \n\n        h_s_match_yn  person_attribute_a  person_attribute_a_1  \\\n66599              0                   1                     6   \n363576             1                   2                     0   \n278571             0                   1                     1   \n160686             0                   1                     4   \n208443             0                   1                     1   \n...              ...                 ...                   ...   \n251110             1                   1                     3   \n467475             1                   1                     6   \n36195              0                   2                     0   \n387719             1                   1                     5   \n167794             0                   2                     2   \n\n        person_attribute_b  person_prefer_c  ...  contents_attribute_h_l  \\\n66599                    4                1  ...                     277   \n363576                   2                5  ...                      58   \n278571                   2                5  ...                     226   \n160686                   2                1  ...                      94   \n208443                   4                1  ...                      94   \n...                    ...              ...  ...                     ...   \n251110                   2                5  ...                      94   \n467475                   4                1  ...                      94   \n36195                    2                1  ...                      94   \n387719                   3                1  ...                      94   \n167794                   4                5  ...                      94   \n\n        contents_attribute_h_m  contents_attribute_l_n  \\\n66599                      547                     763   \n363576                     373                     407   \n278571                     514                     561   \n160686                     403                     668   \n208443                     404                    1580   \n...                        ...                     ...   \n251110                     418                    1647   \n467475                     422                     936   \n36195                      422                    1807   \n387719                     421                    1812   \n167794                     405                    1936   \n\n        contents_attribute_l_s  contents_attribute_l_m  \\\n66599                      760                     759   \n363576                     407                     407   \n278571                     544                     527   \n160686                     667                     651   \n208443                    1579                    1572   \n...                        ...                     ...   \n251110                    1646                    1645   \n467475                     931                     930   \n36195                     1806                    1752   \n387719                    1811                    1810   \n167794                    1927                    1918   \n\n        contents_attribute_l_l  attr_a_1_mean_encode  attr_b_mean_encode  \\\n66599                     2006              0.515074            0.500850   \n363576                    2006              0.493002            0.503328   \n278571                    2006              0.497688            0.503328   \n160686                    2006              0.483610            0.503328   \n208443                    2016              0.497688            0.500850   \n...                        ...                   ...                 ...   \n251110                    2017              0.486858            0.503328   \n467475                    2009              0.515074            0.500850   \n36195                     2019              0.493002            0.503328   \n387719                    2020              0.496374            0.487071   \n167794                    2022              0.496387            0.500850   \n\n        prefer_e_mean_encode  attr_e_mean_encode  \n66599               0.531888            0.506072  \n363576              0.488677            0.498611  \n278571              0.488677            0.504105  \n160686              0.500543            0.498611  \n208443              0.500543            0.506072  \n...                      ...                 ...  \n251110              0.500543            0.498611  \n467475              0.652376            0.555721  \n36195               0.500543            0.498611  \n387719              0.500543            0.498611  \n167794              0.479206            0.504105  \n\n[351365 rows x 62 columns]",
      "text/html": "<div>\n<style scoped>\n    .dataframe tbody tr th:only-of-type {\n        vertical-align: middle;\n    }\n\n    .dataframe tbody tr th {\n        vertical-align: top;\n    }\n\n    .dataframe thead th {\n        text-align: right;\n    }\n</style>\n<table border=\"1\" class=\"dataframe\">\n  <thead>\n    <tr style=\"text-align: right;\">\n      <th></th>\n      <th>d_l_match_yn</th>\n      <th>d_m_match_yn</th>\n      <th>d_s_match_yn</th>\n      <th>h_l_match_yn</th>\n      <th>h_m_match_yn</th>\n      <th>h_s_match_yn</th>\n      <th>person_attribute_a</th>\n      <th>person_attribute_a_1</th>\n      <th>person_attribute_b</th>\n      <th>person_prefer_c</th>\n      <th>...</th>\n      <th>contents_attribute_h_l</th>\n      <th>contents_attribute_h_m</th>\n      <th>contents_attribute_l_n</th>\n      <th>contents_attribute_l_s</th>\n      <th>contents_attribute_l_m</th>\n      <th>contents_attribute_l_l</th>\n      <th>attr_a_1_mean_encode</th>\n      <th>attr_b_mean_encode</th>\n      <th>prefer_e_mean_encode</th>\n      <th>attr_e_mean_encode</th>\n    </tr>\n  </thead>\n  <tbody>\n    <tr>\n      <th>66599</th>\n      <td>0</td>\n      <td>0</td>\n      <td>0</td>\n      <td>0</td>\n      <td>0</td>\n      <td>0</td>\n      <td>1</td>\n      <td>6</td>\n      <td>4</td>\n      <td>1</td>\n      <td>...</td>\n      <td>277</td>\n      <td>547</td>\n      <td>763</td>\n      <td>760</td>\n      <td>759</td>\n      <td>2006</td>\n      <td>0.515074</td>\n      <td>0.500850</td>\n      <td>0.531888</td>\n      <td>0.506072</td>\n    </tr>\n    <tr>\n      <th>363576</th>\n      <td>1</td>\n      <td>0</td>\n      <td>0</td>\n      <td>1</td>\n      <td>1</td>\n      <td>1</td>\n      <td>2</td>\n      <td>0</td>\n      <td>2</td>\n      <td>5</td>\n      <td>...</td>\n      <td>58</td>\n      <td>373</td>\n      <td>407</td>\n      <td>407</td>\n      <td>407</td>\n      <td>2006</td>\n      <td>0.493002</td>\n      <td>0.503328</td>\n      <td>0.488677</td>\n      <td>0.498611</td>\n    </tr>\n    <tr>\n      <th>278571</th>\n      <td>0</td>\n      <td>0</td>\n      <td>0</td>\n      <td>0</td>\n      <td>0</td>\n      <td>0</td>\n      <td>1</td>\n      <td>1</td>\n      <td>2</td>\n      <td>5</td>\n      <td>...</td>\n      <td>226</td>\n      <td>514</td>\n      <td>561</td>\n      <td>544</td>\n      <td>527</td>\n      <td>2006</td>\n      <td>0.497688</td>\n      <td>0.503328</td>\n      <td>0.488677</td>\n      <td>0.504105</td>\n    </tr>\n    <tr>\n      <th>160686</th>\n      <td>1</td>\n      <td>0</td>\n      <td>0</td>\n      <td>0</td>\n      <td>0</td>\n      <td>0</td>\n      <td>1</td>\n      <td>4</td>\n      <td>2</td>\n      <td>1</td>\n      <td>...</td>\n      <td>94</td>\n      <td>403</td>\n      <td>668</td>\n      <td>667</td>\n      <td>651</td>\n      <td>2006</td>\n      <td>0.483610</td>\n      <td>0.503328</td>\n      <td>0.500543</td>\n      <td>0.498611</td>\n    </tr>\n    <tr>\n      <th>208443</th>\n      <td>1</td>\n      <td>0</td>\n      <td>0</td>\n      <td>0</td>\n      <td>0</td>\n      <td>0</td>\n      <td>1</td>\n      <td>1</td>\n      <td>4</td>\n      <td>1</td>\n      <td>...</td>\n      <td>94</td>\n      <td>404</td>\n      <td>1580</td>\n      <td>1579</td>\n      <td>1572</td>\n      <td>2016</td>\n      <td>0.497688</td>\n      <td>0.500850</td>\n      <td>0.500543</td>\n      <td>0.506072</td>\n    </tr>\n    <tr>\n      <th>...</th>\n      <td>...</td>\n      <td>...</td>\n      <td>...</td>\n      <td>...</td>\n      <td>...</td>\n      <td>...</td>\n      <td>...</td>\n      <td>...</td>\n      <td>...</td>\n      <td>...</td>\n      <td>...</td>\n      <td>...</td>\n      <td>...</td>\n      <td>...</td>\n      <td>...</td>\n      <td>...</td>\n      <td>...</td>\n      <td>...</td>\n      <td>...</td>\n      <td>...</td>\n      <td>...</td>\n    </tr>\n    <tr>\n      <th>251110</th>\n      <td>1</td>\n      <td>0</td>\n      <td>0</td>\n      <td>1</td>\n      <td>1</td>\n      <td>1</td>\n      <td>1</td>\n      <td>3</td>\n      <td>2</td>\n      <td>5</td>\n      <td>...</td>\n      <td>94</td>\n      <td>418</td>\n      <td>1647</td>\n      <td>1646</td>\n      <td>1645</td>\n      <td>2017</td>\n      <td>0.486858</td>\n      <td>0.503328</td>\n      <td>0.500543</td>\n      <td>0.498611</td>\n    </tr>\n    <tr>\n      <th>467475</th>\n      <td>1</td>\n      <td>1</td>\n      <td>0</td>\n      <td>1</td>\n      <td>1</td>\n      <td>1</td>\n      <td>1</td>\n      <td>6</td>\n      <td>4</td>\n      <td>1</td>\n      <td>...</td>\n      <td>94</td>\n      <td>422</td>\n      <td>936</td>\n      <td>931</td>\n      <td>930</td>\n      <td>2009</td>\n      <td>0.515074</td>\n      <td>0.500850</td>\n      <td>0.652376</td>\n      <td>0.555721</td>\n    </tr>\n    <tr>\n      <th>36195</th>\n      <td>1</td>\n      <td>0</td>\n      <td>0</td>\n      <td>0</td>\n      <td>0</td>\n      <td>0</td>\n      <td>2</td>\n      <td>0</td>\n      <td>2</td>\n      <td>1</td>\n      <td>...</td>\n      <td>94</td>\n      <td>422</td>\n      <td>1807</td>\n      <td>1806</td>\n      <td>1752</td>\n      <td>2019</td>\n      <td>0.493002</td>\n      <td>0.503328</td>\n      <td>0.500543</td>\n      <td>0.498611</td>\n    </tr>\n    <tr>\n      <th>387719</th>\n      <td>1</td>\n      <td>0</td>\n      <td>0</td>\n      <td>1</td>\n      <td>1</td>\n      <td>1</td>\n      <td>1</td>\n      <td>5</td>\n      <td>3</td>\n      <td>1</td>\n      <td>...</td>\n      <td>94</td>\n      <td>421</td>\n      <td>1812</td>\n      <td>1811</td>\n      <td>1810</td>\n      <td>2020</td>\n      <td>0.496374</td>\n      <td>0.487071</td>\n      <td>0.500543</td>\n      <td>0.498611</td>\n    </tr>\n    <tr>\n      <th>167794</th>\n      <td>0</td>\n      <td>0</td>\n      <td>0</td>\n      <td>0</td>\n      <td>0</td>\n      <td>0</td>\n      <td>2</td>\n      <td>2</td>\n      <td>4</td>\n      <td>5</td>\n      <td>...</td>\n      <td>94</td>\n      <td>405</td>\n      <td>1936</td>\n      <td>1927</td>\n      <td>1918</td>\n      <td>2022</td>\n      <td>0.496387</td>\n      <td>0.500850</td>\n      <td>0.479206</td>\n      <td>0.504105</td>\n    </tr>\n  </tbody>\n</table>\n<p>351365 rows × 62 columns</p>\n</div>"
     },
     "execution_count": 171,
     "metadata": {},
     "output_type": "execute_result"
    }
   ],
   "source": [],
   "metadata": {
    "collapsed": false,
    "pycharm": {
     "name": "#%%\n"
    }
   }
  },
  {
   "cell_type": "code",
   "execution_count": null,
   "outputs": [],
   "source": [
    "# 일치 비율 봐야된다"
   ],
   "metadata": {
    "collapsed": false,
    "pycharm": {
     "name": "#%%\n"
    }
   }
  },
  {
   "cell_type": "code",
   "execution_count": 169,
   "outputs": [
    {
     "data": {
      "text/plain": "Text(0.5, 0, 'match_yn-target Distribution')"
     },
     "execution_count": 169,
     "metadata": {},
     "output_type": "execute_result"
    },
    {
     "data": {
      "text/plain": "<Figure size 360x360 with 1 Axes>",
      "image/png": "[encoded data removed]"
     },
     "metadata": {},
     "output_type": "display_data"
    }
   ],
   "source": [
    "plt.subplots(len_cols,2 figsize=(5,5))\n",
    "for col in cols:\n",
    "\n",
    "plt.style.use(['seaborn-whitegrid'])\n",
    "plt.figure(figsize=(5,5))\n",
    "plt.bar(index,train_data[['d_l_match_yn']].value_counts(),width=0.1)\n",
    "plt.xticks(index,train_data[['d_l_match_yn']].value_counts().index)\n",
    "plt.xlabel('match_yn-target Distribution')"
   ],
   "metadata": {
    "collapsed": false,
    "pycharm": {
     "name": "#%%\n"
    }
   }
  },
  {
   "cell_type": "code",
   "execution_count": null,
   "outputs": [],
   "source": [
    "index = np.arange(len(train_data[['d_l_match_yn','target']].value_counts().index))+ 0.3\n",
    "plt.style.use(['seaborn-whitegrid'])\n",
    "plt.figure(figsize=(5,5))\n",
    "plt.bar(index,train_data[['d_l_match_yn','target']].value_counts(),width=0.1)\n",
    "plt.xticks(index,train_data[['d_l_match_yn','target']].value_counts().index)\n",
    "plt.xlabel('match_yn-target Distribution')"
   ],
   "metadata": {
    "collapsed": false,
    "pycharm": {
     "name": "#%%\n"
    }
   }
  },
  {
   "cell_type": "code",
   "execution_count": 8,
   "outputs": [
    {
     "ename": "KeyboardInterrupt",
     "evalue": "",
     "output_type": "error",
     "traceback": [
      "\u001B[0;31m---------------------------------------------------------------------------\u001B[0m",
      "\u001B[0;31mKeyboardInterrupt\u001B[0m                         Traceback (most recent call last)",
      "\u001B[0;32m/var/folders/c6/2j22b1rd02778st12c0mcr3w0000gn/T/ipykernel_45084/1419074518.py\u001B[0m in \u001B[0;36m<module>\u001B[0;34m\u001B[0m\n\u001B[1;32m      1\u001B[0m \u001B[0;32mimport\u001B[0m \u001B[0mmatplotlib\u001B[0m\u001B[0;34m.\u001B[0m\u001B[0mpyplot\u001B[0m \u001B[0;32mas\u001B[0m \u001B[0mplt\u001B[0m\u001B[0;34m\u001B[0m\u001B[0;34m\u001B[0m\u001B[0m\n\u001B[0;32m----> 2\u001B[0;31m \u001B[0mplt\u001B[0m\u001B[0;34m.\u001B[0m\u001B[0mpie\u001B[0m\u001B[0;34m(\u001B[0m\u001B[0mtrain_data\u001B[0m\u001B[0;34m[\u001B[0m\u001B[0;34m'd_m_match_yn'\u001B[0m\u001B[0;34m]\u001B[0m\u001B[0;34m,\u001B[0m \u001B[0mlabels\u001B[0m\u001B[0;34m=\u001B[0m\u001B[0mtrain_data\u001B[0m\u001B[0;34m[\u001B[0m\u001B[0;34m'd_m_match_yn'\u001B[0m\u001B[0;34m]\u001B[0m\u001B[0;34m.\u001B[0m\u001B[0mindex\u001B[0m\u001B[0;34m)\u001B[0m\u001B[0;34m\u001B[0m\u001B[0;34m\u001B[0m\u001B[0m\n\u001B[0m",
      "\u001B[0;32m~/PycharmProjects/pythonProject/venv/lib/python3.8/site-packages/matplotlib/pyplot.py\u001B[0m in \u001B[0;36mpie\u001B[0;34m(x, explode, labels, colors, autopct, pctdistance, shadow, labeldistance, startangle, radius, counterclock, wedgeprops, textprops, center, frame, rotatelabels, normalize, data)\u001B[0m\n\u001B[1;32m   3004\u001B[0m         \u001B[0mtextprops\u001B[0m\u001B[0;34m=\u001B[0m\u001B[0;32mNone\u001B[0m\u001B[0;34m,\u001B[0m \u001B[0mcenter\u001B[0m\u001B[0;34m=\u001B[0m\u001B[0;34m(\u001B[0m\u001B[0;36m0\u001B[0m\u001B[0;34m,\u001B[0m \u001B[0;36m0\u001B[0m\u001B[0;34m)\u001B[0m\u001B[0;34m,\u001B[0m \u001B[0mframe\u001B[0m\u001B[0;34m=\u001B[0m\u001B[0;32mFalse\u001B[0m\u001B[0;34m,\u001B[0m\u001B[0;34m\u001B[0m\u001B[0;34m\u001B[0m\u001B[0m\n\u001B[1;32m   3005\u001B[0m         rotatelabels=False, *, normalize=None, data=None):\n\u001B[0;32m-> 3006\u001B[0;31m     return gca().pie(\n\u001B[0m\u001B[1;32m   3007\u001B[0m         \u001B[0mx\u001B[0m\u001B[0;34m,\u001B[0m \u001B[0mexplode\u001B[0m\u001B[0;34m=\u001B[0m\u001B[0mexplode\u001B[0m\u001B[0;34m,\u001B[0m \u001B[0mlabels\u001B[0m\u001B[0;34m=\u001B[0m\u001B[0mlabels\u001B[0m\u001B[0;34m,\u001B[0m \u001B[0mcolors\u001B[0m\u001B[0;34m=\u001B[0m\u001B[0mcolors\u001B[0m\u001B[0;34m,\u001B[0m\u001B[0;34m\u001B[0m\u001B[0;34m\u001B[0m\u001B[0m\n\u001B[1;32m   3008\u001B[0m         \u001B[0mautopct\u001B[0m\u001B[0;34m=\u001B[0m\u001B[0mautopct\u001B[0m\u001B[0;34m,\u001B[0m \u001B[0mpctdistance\u001B[0m\u001B[0;34m=\u001B[0m\u001B[0mpctdistance\u001B[0m\u001B[0;34m,\u001B[0m \u001B[0mshadow\u001B[0m\u001B[0;34m=\u001B[0m\u001B[0mshadow\u001B[0m\u001B[0;34m,\u001B[0m\u001B[0;34m\u001B[0m\u001B[0;34m\u001B[0m\u001B[0m\n",
      "\u001B[0;32m~/PycharmProjects/pythonProject/venv/lib/python3.8/site-packages/matplotlib/__init__.py\u001B[0m in \u001B[0;36minner\u001B[0;34m(ax, data, *args, **kwargs)\u001B[0m\n\u001B[1;32m   1359\u001B[0m     \u001B[0;32mdef\u001B[0m \u001B[0minner\u001B[0m\u001B[0;34m(\u001B[0m\u001B[0max\u001B[0m\u001B[0;34m,\u001B[0m \u001B[0;34m*\u001B[0m\u001B[0margs\u001B[0m\u001B[0;34m,\u001B[0m \u001B[0mdata\u001B[0m\u001B[0;34m=\u001B[0m\u001B[0;32mNone\u001B[0m\u001B[0;34m,\u001B[0m \u001B[0;34m**\u001B[0m\u001B[0mkwargs\u001B[0m\u001B[0;34m)\u001B[0m\u001B[0;34m:\u001B[0m\u001B[0;34m\u001B[0m\u001B[0;34m\u001B[0m\u001B[0m\n\u001B[1;32m   1360\u001B[0m         \u001B[0;32mif\u001B[0m \u001B[0mdata\u001B[0m \u001B[0;32mis\u001B[0m \u001B[0;32mNone\u001B[0m\u001B[0;34m:\u001B[0m\u001B[0;34m\u001B[0m\u001B[0;34m\u001B[0m\u001B[0m\n\u001B[0;32m-> 1361\u001B[0;31m             \u001B[0;32mreturn\u001B[0m \u001B[0mfunc\u001B[0m\u001B[0;34m(\u001B[0m\u001B[0max\u001B[0m\u001B[0;34m,\u001B[0m \u001B[0;34m*\u001B[0m\u001B[0mmap\u001B[0m\u001B[0;34m(\u001B[0m\u001B[0msanitize_sequence\u001B[0m\u001B[0;34m,\u001B[0m \u001B[0margs\u001B[0m\u001B[0;34m)\u001B[0m\u001B[0;34m,\u001B[0m \u001B[0;34m**\u001B[0m\u001B[0mkwargs\u001B[0m\u001B[0;34m)\u001B[0m\u001B[0;34m\u001B[0m\u001B[0;34m\u001B[0m\u001B[0m\n\u001B[0m\u001B[1;32m   1362\u001B[0m \u001B[0;34m\u001B[0m\u001B[0m\n\u001B[1;32m   1363\u001B[0m         \u001B[0mbound\u001B[0m \u001B[0;34m=\u001B[0m \u001B[0mnew_sig\u001B[0m\u001B[0;34m.\u001B[0m\u001B[0mbind\u001B[0m\u001B[0;34m(\u001B[0m\u001B[0max\u001B[0m\u001B[0;34m,\u001B[0m \u001B[0;34m*\u001B[0m\u001B[0margs\u001B[0m\u001B[0;34m,\u001B[0m \u001B[0;34m**\u001B[0m\u001B[0mkwargs\u001B[0m\u001B[0;34m)\u001B[0m\u001B[0;34m\u001B[0m\u001B[0;34m\u001B[0m\u001B[0m\n",
      "\u001B[0;32m~/PycharmProjects/pythonProject/venv/lib/python3.8/site-packages/matplotlib/axes/_axes.py\u001B[0m in \u001B[0;36mpie\u001B[0;34m(self, x, explode, labels, colors, autopct, pctdistance, shadow, labeldistance, startangle, radius, counterclock, wedgeprops, textprops, center, frame, rotatelabels, normalize)\u001B[0m\n\u001B[1;32m   3100\u001B[0m             \u001B[0my\u001B[0m \u001B[0;34m+=\u001B[0m \u001B[0mexpl\u001B[0m \u001B[0;34m*\u001B[0m \u001B[0mmath\u001B[0m\u001B[0;34m.\u001B[0m\u001B[0msin\u001B[0m\u001B[0;34m(\u001B[0m\u001B[0mthetam\u001B[0m\u001B[0;34m)\u001B[0m\u001B[0;34m\u001B[0m\u001B[0;34m\u001B[0m\u001B[0m\n\u001B[1;32m   3101\u001B[0m \u001B[0;34m\u001B[0m\u001B[0m\n\u001B[0;32m-> 3102\u001B[0;31m             w = mpatches.Wedge((x, y), radius, 360. * min(theta1, theta2),\n\u001B[0m\u001B[1;32m   3103\u001B[0m                                \u001B[0;36m360.\u001B[0m \u001B[0;34m*\u001B[0m \u001B[0mmax\u001B[0m\u001B[0;34m(\u001B[0m\u001B[0mtheta1\u001B[0m\u001B[0;34m,\u001B[0m \u001B[0mtheta2\u001B[0m\u001B[0;34m)\u001B[0m\u001B[0;34m,\u001B[0m\u001B[0;34m\u001B[0m\u001B[0;34m\u001B[0m\u001B[0m\n\u001B[1;32m   3104\u001B[0m                                \u001B[0mfacecolor\u001B[0m\u001B[0;34m=\u001B[0m\u001B[0mget_next_color\u001B[0m\u001B[0;34m(\u001B[0m\u001B[0;34m)\u001B[0m\u001B[0;34m,\u001B[0m\u001B[0;34m\u001B[0m\u001B[0;34m\u001B[0m\u001B[0m\n",
      "\u001B[0;32m~/PycharmProjects/pythonProject/venv/lib/python3.8/site-packages/matplotlib/patches.py\u001B[0m in \u001B[0;36m__init__\u001B[0;34m(self, center, r, theta1, theta2, width, **kwargs)\u001B[0m\n\u001B[1;32m   1160\u001B[0m         \u001B[0;34m%\u001B[0m\u001B[0;34m(\u001B[0m\u001B[0mPatch_kwdoc\u001B[0m\u001B[0;34m)\u001B[0m\u001B[0ms\u001B[0m\u001B[0;34m\u001B[0m\u001B[0;34m\u001B[0m\u001B[0m\n\u001B[1;32m   1161\u001B[0m         \"\"\"\n\u001B[0;32m-> 1162\u001B[0;31m         \u001B[0msuper\u001B[0m\u001B[0;34m(\u001B[0m\u001B[0;34m)\u001B[0m\u001B[0;34m.\u001B[0m\u001B[0m__init__\u001B[0m\u001B[0;34m(\u001B[0m\u001B[0;34m**\u001B[0m\u001B[0mkwargs\u001B[0m\u001B[0;34m)\u001B[0m\u001B[0;34m\u001B[0m\u001B[0;34m\u001B[0m\u001B[0m\n\u001B[0m\u001B[1;32m   1163\u001B[0m         \u001B[0mself\u001B[0m\u001B[0;34m.\u001B[0m\u001B[0mcenter\u001B[0m \u001B[0;34m=\u001B[0m \u001B[0mcenter\u001B[0m\u001B[0;34m\u001B[0m\u001B[0;34m\u001B[0m\u001B[0m\n\u001B[1;32m   1164\u001B[0m         \u001B[0mself\u001B[0m\u001B[0;34m.\u001B[0m\u001B[0mr\u001B[0m\u001B[0;34m,\u001B[0m \u001B[0mself\u001B[0m\u001B[0;34m.\u001B[0m\u001B[0mwidth\u001B[0m \u001B[0;34m=\u001B[0m \u001B[0mr\u001B[0m\u001B[0;34m,\u001B[0m \u001B[0mwidth\u001B[0m\u001B[0;34m\u001B[0m\u001B[0;34m\u001B[0m\u001B[0m\n",
      "\u001B[0;32m~/PycharmProjects/pythonProject/venv/lib/python3.8/site-packages/matplotlib/patches.py\u001B[0m in \u001B[0;36m__init__\u001B[0;34m(self, edgecolor, facecolor, color, linewidth, linestyle, antialiased, hatch, fill, capstyle, joinstyle, **kwargs)\u001B[0m\n\u001B[1;32m     69\u001B[0m         \u001B[0;34m%\u001B[0m\u001B[0;34m(\u001B[0m\u001B[0mPatch_kwdoc\u001B[0m\u001B[0;34m)\u001B[0m\u001B[0ms\u001B[0m\u001B[0;34m\u001B[0m\u001B[0;34m\u001B[0m\u001B[0m\n\u001B[1;32m     70\u001B[0m         \"\"\"\n\u001B[0;32m---> 71\u001B[0;31m         \u001B[0msuper\u001B[0m\u001B[0;34m(\u001B[0m\u001B[0;34m)\u001B[0m\u001B[0;34m.\u001B[0m\u001B[0m__init__\u001B[0m\u001B[0;34m(\u001B[0m\u001B[0;34m)\u001B[0m\u001B[0;34m\u001B[0m\u001B[0;34m\u001B[0m\u001B[0m\n\u001B[0m\u001B[1;32m     72\u001B[0m \u001B[0;34m\u001B[0m\u001B[0m\n\u001B[1;32m     73\u001B[0m         \u001B[0;32mif\u001B[0m \u001B[0mlinewidth\u001B[0m \u001B[0;32mis\u001B[0m \u001B[0;32mNone\u001B[0m\u001B[0;34m:\u001B[0m\u001B[0;34m\u001B[0m\u001B[0;34m\u001B[0m\u001B[0m\n",
      "\u001B[0;32m~/PycharmProjects/pythonProject/venv/lib/python3.8/site-packages/matplotlib/artist.py\u001B[0m in \u001B[0;36m__init__\u001B[0;34m(self)\u001B[0m\n\u001B[1;32m    129\u001B[0m         \u001B[0mself\u001B[0m\u001B[0;34m.\u001B[0m\u001B[0m_gid\u001B[0m \u001B[0;34m=\u001B[0m \u001B[0;32mNone\u001B[0m\u001B[0;34m\u001B[0m\u001B[0;34m\u001B[0m\u001B[0m\n\u001B[1;32m    130\u001B[0m         \u001B[0mself\u001B[0m\u001B[0;34m.\u001B[0m\u001B[0m_snap\u001B[0m \u001B[0;34m=\u001B[0m \u001B[0;32mNone\u001B[0m\u001B[0;34m\u001B[0m\u001B[0;34m\u001B[0m\u001B[0m\n\u001B[0;32m--> 131\u001B[0;31m         \u001B[0mself\u001B[0m\u001B[0;34m.\u001B[0m\u001B[0m_sketch\u001B[0m \u001B[0;34m=\u001B[0m \u001B[0mmpl\u001B[0m\u001B[0;34m.\u001B[0m\u001B[0mrcParams\u001B[0m\u001B[0;34m[\u001B[0m\u001B[0;34m'path.sketch'\u001B[0m\u001B[0;34m]\u001B[0m\u001B[0;34m\u001B[0m\u001B[0;34m\u001B[0m\u001B[0m\n\u001B[0m\u001B[1;32m    132\u001B[0m         \u001B[0mself\u001B[0m\u001B[0;34m.\u001B[0m\u001B[0m_path_effects\u001B[0m \u001B[0;34m=\u001B[0m \u001B[0mmpl\u001B[0m\u001B[0;34m.\u001B[0m\u001B[0mrcParams\u001B[0m\u001B[0;34m[\u001B[0m\u001B[0;34m'path.effects'\u001B[0m\u001B[0;34m]\u001B[0m\u001B[0;34m\u001B[0m\u001B[0;34m\u001B[0m\u001B[0m\n\u001B[1;32m    133\u001B[0m         \u001B[0mself\u001B[0m\u001B[0;34m.\u001B[0m\u001B[0m_sticky_edges\u001B[0m \u001B[0;34m=\u001B[0m \u001B[0m_XYPair\u001B[0m\u001B[0;34m(\u001B[0m\u001B[0;34m[\u001B[0m\u001B[0;34m]\u001B[0m\u001B[0;34m,\u001B[0m \u001B[0;34m[\u001B[0m\u001B[0;34m]\u001B[0m\u001B[0;34m)\u001B[0m\u001B[0;34m\u001B[0m\u001B[0;34m\u001B[0m\u001B[0m\n",
      "\u001B[0;32m~/PycharmProjects/pythonProject/venv/lib/python3.8/site-packages/matplotlib/__init__.py\u001B[0m in \u001B[0;36m__getitem__\u001B[0;34m(self, key)\u001B[0m\n\u001B[1;32m    603\u001B[0m \u001B[0;34m\u001B[0m\u001B[0m\n\u001B[1;32m    604\u001B[0m     \u001B[0;32mdef\u001B[0m \u001B[0m__getitem__\u001B[0m\u001B[0;34m(\u001B[0m\u001B[0mself\u001B[0m\u001B[0;34m,\u001B[0m \u001B[0mkey\u001B[0m\u001B[0;34m)\u001B[0m\u001B[0;34m:\u001B[0m\u001B[0;34m\u001B[0m\u001B[0;34m\u001B[0m\u001B[0m\n\u001B[0;32m--> 605\u001B[0;31m         \u001B[0;32mif\u001B[0m \u001B[0mkey\u001B[0m \u001B[0;32min\u001B[0m \u001B[0m_deprecated_map\u001B[0m\u001B[0;34m:\u001B[0m\u001B[0;34m\u001B[0m\u001B[0;34m\u001B[0m\u001B[0m\n\u001B[0m\u001B[1;32m    606\u001B[0m             \u001B[0mversion\u001B[0m\u001B[0;34m,\u001B[0m \u001B[0malt_key\u001B[0m\u001B[0;34m,\u001B[0m \u001B[0malt_val\u001B[0m\u001B[0;34m,\u001B[0m \u001B[0minverse_alt\u001B[0m \u001B[0;34m=\u001B[0m \u001B[0m_deprecated_map\u001B[0m\u001B[0;34m[\u001B[0m\u001B[0mkey\u001B[0m\u001B[0;34m]\u001B[0m\u001B[0;34m\u001B[0m\u001B[0;34m\u001B[0m\u001B[0m\n\u001B[1;32m    607\u001B[0m             _api.warn_deprecated(\n",
      "\u001B[0;31mKeyboardInterrupt\u001B[0m: "
     ]
    },
    {
     "name": "stdout",
     "output_type": "stream",
     "text": [
      "Error in callback <function flush_figures at 0x1208f4ca0> (for post_execute):\n"
     ]
    },
    {
     "ename": "KeyboardInterrupt",
     "evalue": "",
     "output_type": "error",
     "traceback": [
      "\u001B[0;31m---------------------------------------------------------------------------\u001B[0m",
      "\u001B[0;31mStopIteration\u001B[0m                             Traceback (most recent call last)",
      "\u001B[0;32m/Library/Developer/CommandLineTools/Library/Frameworks/Python3.framework/Versions/3.8/lib/python3.8/contextlib.py\u001B[0m in \u001B[0;36m__exit__\u001B[0;34m(self, type, value, traceback)\u001B[0m\n\u001B[1;32m    119\u001B[0m             \u001B[0;32mtry\u001B[0m\u001B[0;34m:\u001B[0m\u001B[0;34m\u001B[0m\u001B[0;34m\u001B[0m\u001B[0m\n\u001B[0;32m--> 120\u001B[0;31m                 \u001B[0mnext\u001B[0m\u001B[0;34m(\u001B[0m\u001B[0mself\u001B[0m\u001B[0;34m.\u001B[0m\u001B[0mgen\u001B[0m\u001B[0;34m)\u001B[0m\u001B[0;34m\u001B[0m\u001B[0;34m\u001B[0m\u001B[0m\n\u001B[0m\u001B[1;32m    121\u001B[0m             \u001B[0;32mexcept\u001B[0m \u001B[0mStopIteration\u001B[0m\u001B[0;34m:\u001B[0m\u001B[0;34m\u001B[0m\u001B[0;34m\u001B[0m\u001B[0m\n",
      "\u001B[0;31mStopIteration\u001B[0m: ",
      "\nDuring handling of the above exception, another exception occurred:\n",
      "\u001B[0;31mKeyboardInterrupt\u001B[0m                         Traceback (most recent call last)",
      "\u001B[0;32m~/PycharmProjects/pythonProject/venv/lib/python3.8/site-packages/matplotlib_inline/backend_inline.py\u001B[0m in \u001B[0;36mflush_figures\u001B[0;34m()\u001B[0m\n\u001B[1;32m    119\u001B[0m         \u001B[0;31m# ignore the tracking, just draw and close all figures\u001B[0m\u001B[0;34m\u001B[0m\u001B[0;34m\u001B[0m\u001B[0;34m\u001B[0m\u001B[0m\n\u001B[1;32m    120\u001B[0m         \u001B[0;32mtry\u001B[0m\u001B[0;34m:\u001B[0m\u001B[0;34m\u001B[0m\u001B[0;34m\u001B[0m\u001B[0m\n\u001B[0;32m--> 121\u001B[0;31m             \u001B[0;32mreturn\u001B[0m \u001B[0mshow\u001B[0m\u001B[0;34m(\u001B[0m\u001B[0;32mTrue\u001B[0m\u001B[0;34m)\u001B[0m\u001B[0;34m\u001B[0m\u001B[0;34m\u001B[0m\u001B[0m\n\u001B[0m\u001B[1;32m    122\u001B[0m         \u001B[0;32mexcept\u001B[0m \u001B[0mException\u001B[0m \u001B[0;32mas\u001B[0m \u001B[0me\u001B[0m\u001B[0;34m:\u001B[0m\u001B[0;34m\u001B[0m\u001B[0;34m\u001B[0m\u001B[0m\n\u001B[1;32m    123\u001B[0m             \u001B[0;31m# safely show traceback if in IPython, else raise\u001B[0m\u001B[0;34m\u001B[0m\u001B[0;34m\u001B[0m\u001B[0;34m\u001B[0m\u001B[0m\n",
      "\u001B[0;32m~/PycharmProjects/pythonProject/venv/lib/python3.8/site-packages/matplotlib_inline/backend_inline.py\u001B[0m in \u001B[0;36mshow\u001B[0;34m(close, block)\u001B[0m\n\u001B[1;32m     39\u001B[0m     \u001B[0;32mtry\u001B[0m\u001B[0;34m:\u001B[0m\u001B[0;34m\u001B[0m\u001B[0;34m\u001B[0m\u001B[0m\n\u001B[1;32m     40\u001B[0m         \u001B[0;32mfor\u001B[0m \u001B[0mfigure_manager\u001B[0m \u001B[0;32min\u001B[0m \u001B[0mGcf\u001B[0m\u001B[0;34m.\u001B[0m\u001B[0mget_all_fig_managers\u001B[0m\u001B[0;34m(\u001B[0m\u001B[0;34m)\u001B[0m\u001B[0;34m:\u001B[0m\u001B[0;34m\u001B[0m\u001B[0;34m\u001B[0m\u001B[0m\n\u001B[0;32m---> 41\u001B[0;31m             display(\n\u001B[0m\u001B[1;32m     42\u001B[0m                 \u001B[0mfigure_manager\u001B[0m\u001B[0;34m.\u001B[0m\u001B[0mcanvas\u001B[0m\u001B[0;34m.\u001B[0m\u001B[0mfigure\u001B[0m\u001B[0;34m,\u001B[0m\u001B[0;34m\u001B[0m\u001B[0;34m\u001B[0m\u001B[0m\n\u001B[1;32m     43\u001B[0m                 \u001B[0mmetadata\u001B[0m\u001B[0;34m=\u001B[0m\u001B[0m_fetch_figure_metadata\u001B[0m\u001B[0;34m(\u001B[0m\u001B[0mfigure_manager\u001B[0m\u001B[0;34m.\u001B[0m\u001B[0mcanvas\u001B[0m\u001B[0;34m.\u001B[0m\u001B[0mfigure\u001B[0m\u001B[0;34m)\u001B[0m\u001B[0;34m\u001B[0m\u001B[0;34m\u001B[0m\u001B[0m\n",
      "\u001B[0;32m~/PycharmProjects/pythonProject/venv/lib/python3.8/site-packages/IPython/core/display.py\u001B[0m in \u001B[0;36mdisplay\u001B[0;34m(include, exclude, metadata, transient, display_id, *objs, **kwargs)\u001B[0m\n\u001B[1;32m    318\u001B[0m             \u001B[0mpublish_display_data\u001B[0m\u001B[0;34m(\u001B[0m\u001B[0mdata\u001B[0m\u001B[0;34m=\u001B[0m\u001B[0mobj\u001B[0m\u001B[0;34m,\u001B[0m \u001B[0mmetadata\u001B[0m\u001B[0;34m=\u001B[0m\u001B[0mmetadata\u001B[0m\u001B[0;34m,\u001B[0m \u001B[0;34m**\u001B[0m\u001B[0mkwargs\u001B[0m\u001B[0;34m)\u001B[0m\u001B[0;34m\u001B[0m\u001B[0;34m\u001B[0m\u001B[0m\n\u001B[1;32m    319\u001B[0m         \u001B[0;32melse\u001B[0m\u001B[0;34m:\u001B[0m\u001B[0;34m\u001B[0m\u001B[0;34m\u001B[0m\u001B[0m\n\u001B[0;32m--> 320\u001B[0;31m             \u001B[0mformat_dict\u001B[0m\u001B[0;34m,\u001B[0m \u001B[0mmd_dict\u001B[0m \u001B[0;34m=\u001B[0m \u001B[0mformat\u001B[0m\u001B[0;34m(\u001B[0m\u001B[0mobj\u001B[0m\u001B[0;34m,\u001B[0m \u001B[0minclude\u001B[0m\u001B[0;34m=\u001B[0m\u001B[0minclude\u001B[0m\u001B[0;34m,\u001B[0m \u001B[0mexclude\u001B[0m\u001B[0;34m=\u001B[0m\u001B[0mexclude\u001B[0m\u001B[0;34m)\u001B[0m\u001B[0;34m\u001B[0m\u001B[0;34m\u001B[0m\u001B[0m\n\u001B[0m\u001B[1;32m    321\u001B[0m             \u001B[0;32mif\u001B[0m \u001B[0;32mnot\u001B[0m \u001B[0mformat_dict\u001B[0m\u001B[0;34m:\u001B[0m\u001B[0;34m\u001B[0m\u001B[0;34m\u001B[0m\u001B[0m\n\u001B[1;32m    322\u001B[0m                 \u001B[0;31m# nothing to display (e.g. _ipython_display_ took over)\u001B[0m\u001B[0;34m\u001B[0m\u001B[0;34m\u001B[0m\u001B[0;34m\u001B[0m\u001B[0m\n",
      "\u001B[0;32m~/PycharmProjects/pythonProject/venv/lib/python3.8/site-packages/IPython/core/formatters.py\u001B[0m in \u001B[0;36mformat\u001B[0;34m(self, obj, include, exclude)\u001B[0m\n\u001B[1;32m    178\u001B[0m             \u001B[0mmd\u001B[0m \u001B[0;34m=\u001B[0m \u001B[0;32mNone\u001B[0m\u001B[0;34m\u001B[0m\u001B[0;34m\u001B[0m\u001B[0m\n\u001B[1;32m    179\u001B[0m             \u001B[0;32mtry\u001B[0m\u001B[0;34m:\u001B[0m\u001B[0;34m\u001B[0m\u001B[0;34m\u001B[0m\u001B[0m\n\u001B[0;32m--> 180\u001B[0;31m                 \u001B[0mdata\u001B[0m \u001B[0;34m=\u001B[0m \u001B[0mformatter\u001B[0m\u001B[0;34m(\u001B[0m\u001B[0mobj\u001B[0m\u001B[0;34m)\u001B[0m\u001B[0;34m\u001B[0m\u001B[0;34m\u001B[0m\u001B[0m\n\u001B[0m\u001B[1;32m    181\u001B[0m             \u001B[0;32mexcept\u001B[0m\u001B[0;34m:\u001B[0m\u001B[0;34m\u001B[0m\u001B[0;34m\u001B[0m\u001B[0m\n\u001B[1;32m    182\u001B[0m                 \u001B[0;31m# FIXME: log the exception\u001B[0m\u001B[0;34m\u001B[0m\u001B[0;34m\u001B[0m\u001B[0;34m\u001B[0m\u001B[0m\n",
      "\u001B[0;32m~/PycharmProjects/pythonProject/venv/lib/python3.8/site-packages/decorator.py\u001B[0m in \u001B[0;36mfun\u001B[0;34m(*args, **kw)\u001B[0m\n\u001B[1;32m    230\u001B[0m             \u001B[0;32mif\u001B[0m \u001B[0;32mnot\u001B[0m \u001B[0mkwsyntax\u001B[0m\u001B[0;34m:\u001B[0m\u001B[0;34m\u001B[0m\u001B[0;34m\u001B[0m\u001B[0m\n\u001B[1;32m    231\u001B[0m                 \u001B[0margs\u001B[0m\u001B[0;34m,\u001B[0m \u001B[0mkw\u001B[0m \u001B[0;34m=\u001B[0m \u001B[0mfix\u001B[0m\u001B[0;34m(\u001B[0m\u001B[0margs\u001B[0m\u001B[0;34m,\u001B[0m \u001B[0mkw\u001B[0m\u001B[0;34m,\u001B[0m \u001B[0msig\u001B[0m\u001B[0;34m)\u001B[0m\u001B[0;34m\u001B[0m\u001B[0;34m\u001B[0m\u001B[0m\n\u001B[0;32m--> 232\u001B[0;31m             \u001B[0;32mreturn\u001B[0m \u001B[0mcaller\u001B[0m\u001B[0;34m(\u001B[0m\u001B[0mfunc\u001B[0m\u001B[0;34m,\u001B[0m \u001B[0;34m*\u001B[0m\u001B[0;34m(\u001B[0m\u001B[0mextras\u001B[0m \u001B[0;34m+\u001B[0m \u001B[0margs\u001B[0m\u001B[0;34m)\u001B[0m\u001B[0;34m,\u001B[0m \u001B[0;34m**\u001B[0m\u001B[0mkw\u001B[0m\u001B[0;34m)\u001B[0m\u001B[0;34m\u001B[0m\u001B[0;34m\u001B[0m\u001B[0m\n\u001B[0m\u001B[1;32m    233\u001B[0m     \u001B[0mfun\u001B[0m\u001B[0;34m.\u001B[0m\u001B[0m__name__\u001B[0m \u001B[0;34m=\u001B[0m \u001B[0mfunc\u001B[0m\u001B[0;34m.\u001B[0m\u001B[0m__name__\u001B[0m\u001B[0;34m\u001B[0m\u001B[0;34m\u001B[0m\u001B[0m\n\u001B[1;32m    234\u001B[0m     \u001B[0mfun\u001B[0m\u001B[0;34m.\u001B[0m\u001B[0m__doc__\u001B[0m \u001B[0;34m=\u001B[0m \u001B[0mfunc\u001B[0m\u001B[0;34m.\u001B[0m\u001B[0m__doc__\u001B[0m\u001B[0;34m\u001B[0m\u001B[0;34m\u001B[0m\u001B[0m\n",
      "\u001B[0;32m~/PycharmProjects/pythonProject/venv/lib/python3.8/site-packages/IPython/core/formatters.py\u001B[0m in \u001B[0;36mcatch_format_error\u001B[0;34m(method, self, *args, **kwargs)\u001B[0m\n\u001B[1;32m    222\u001B[0m     \u001B[0;34m\"\"\"show traceback on failed format call\"\"\"\u001B[0m\u001B[0;34m\u001B[0m\u001B[0;34m\u001B[0m\u001B[0m\n\u001B[1;32m    223\u001B[0m     \u001B[0;32mtry\u001B[0m\u001B[0;34m:\u001B[0m\u001B[0;34m\u001B[0m\u001B[0;34m\u001B[0m\u001B[0m\n\u001B[0;32m--> 224\u001B[0;31m         \u001B[0mr\u001B[0m \u001B[0;34m=\u001B[0m \u001B[0mmethod\u001B[0m\u001B[0;34m(\u001B[0m\u001B[0mself\u001B[0m\u001B[0;34m,\u001B[0m \u001B[0;34m*\u001B[0m\u001B[0margs\u001B[0m\u001B[0;34m,\u001B[0m \u001B[0;34m**\u001B[0m\u001B[0mkwargs\u001B[0m\u001B[0;34m)\u001B[0m\u001B[0;34m\u001B[0m\u001B[0;34m\u001B[0m\u001B[0m\n\u001B[0m\u001B[1;32m    225\u001B[0m     \u001B[0;32mexcept\u001B[0m \u001B[0mNotImplementedError\u001B[0m\u001B[0;34m:\u001B[0m\u001B[0;34m\u001B[0m\u001B[0;34m\u001B[0m\u001B[0m\n\u001B[1;32m    226\u001B[0m         \u001B[0;31m# don't warn on NotImplementedErrors\u001B[0m\u001B[0;34m\u001B[0m\u001B[0;34m\u001B[0m\u001B[0;34m\u001B[0m\u001B[0m\n",
      "\u001B[0;32m~/PycharmProjects/pythonProject/venv/lib/python3.8/site-packages/IPython/core/formatters.py\u001B[0m in \u001B[0;36m__call__\u001B[0;34m(self, obj)\u001B[0m\n\u001B[1;32m    339\u001B[0m                 \u001B[0;32mpass\u001B[0m\u001B[0;34m\u001B[0m\u001B[0;34m\u001B[0m\u001B[0m\n\u001B[1;32m    340\u001B[0m             \u001B[0;32melse\u001B[0m\u001B[0;34m:\u001B[0m\u001B[0;34m\u001B[0m\u001B[0;34m\u001B[0m\u001B[0m\n\u001B[0;32m--> 341\u001B[0;31m                 \u001B[0;32mreturn\u001B[0m \u001B[0mprinter\u001B[0m\u001B[0;34m(\u001B[0m\u001B[0mobj\u001B[0m\u001B[0;34m)\u001B[0m\u001B[0;34m\u001B[0m\u001B[0;34m\u001B[0m\u001B[0m\n\u001B[0m\u001B[1;32m    342\u001B[0m             \u001B[0;31m# Finally look for special method names\u001B[0m\u001B[0;34m\u001B[0m\u001B[0;34m\u001B[0m\u001B[0;34m\u001B[0m\u001B[0m\n\u001B[1;32m    343\u001B[0m             \u001B[0mmethod\u001B[0m \u001B[0;34m=\u001B[0m \u001B[0mget_real_method\u001B[0m\u001B[0;34m(\u001B[0m\u001B[0mobj\u001B[0m\u001B[0;34m,\u001B[0m \u001B[0mself\u001B[0m\u001B[0;34m.\u001B[0m\u001B[0mprint_method\u001B[0m\u001B[0;34m)\u001B[0m\u001B[0;34m\u001B[0m\u001B[0;34m\u001B[0m\u001B[0m\n",
      "\u001B[0;32m~/PycharmProjects/pythonProject/venv/lib/python3.8/site-packages/IPython/core/pylabtools.py\u001B[0m in \u001B[0;36m<lambda>\u001B[0;34m(fig)\u001B[0m\n\u001B[1;32m    248\u001B[0m \u001B[0;34m\u001B[0m\u001B[0m\n\u001B[1;32m    249\u001B[0m     \u001B[0;32mif\u001B[0m \u001B[0;34m'png'\u001B[0m \u001B[0;32min\u001B[0m \u001B[0mformats\u001B[0m\u001B[0;34m:\u001B[0m\u001B[0;34m\u001B[0m\u001B[0;34m\u001B[0m\u001B[0m\n\u001B[0;32m--> 250\u001B[0;31m         \u001B[0mpng_formatter\u001B[0m\u001B[0;34m.\u001B[0m\u001B[0mfor_type\u001B[0m\u001B[0;34m(\u001B[0m\u001B[0mFigure\u001B[0m\u001B[0;34m,\u001B[0m \u001B[0;32mlambda\u001B[0m \u001B[0mfig\u001B[0m\u001B[0;34m:\u001B[0m \u001B[0mprint_figure\u001B[0m\u001B[0;34m(\u001B[0m\u001B[0mfig\u001B[0m\u001B[0;34m,\u001B[0m \u001B[0;34m'png'\u001B[0m\u001B[0;34m,\u001B[0m \u001B[0;34m**\u001B[0m\u001B[0mkwargs\u001B[0m\u001B[0;34m)\u001B[0m\u001B[0;34m)\u001B[0m\u001B[0;34m\u001B[0m\u001B[0;34m\u001B[0m\u001B[0m\n\u001B[0m\u001B[1;32m    251\u001B[0m     \u001B[0;32mif\u001B[0m \u001B[0;34m'retina'\u001B[0m \u001B[0;32min\u001B[0m \u001B[0mformats\u001B[0m \u001B[0;32mor\u001B[0m \u001B[0;34m'png2x'\u001B[0m \u001B[0;32min\u001B[0m \u001B[0mformats\u001B[0m\u001B[0;34m:\u001B[0m\u001B[0;34m\u001B[0m\u001B[0;34m\u001B[0m\u001B[0m\n\u001B[1;32m    252\u001B[0m         \u001B[0mpng_formatter\u001B[0m\u001B[0;34m.\u001B[0m\u001B[0mfor_type\u001B[0m\u001B[0;34m(\u001B[0m\u001B[0mFigure\u001B[0m\u001B[0;34m,\u001B[0m \u001B[0;32mlambda\u001B[0m \u001B[0mfig\u001B[0m\u001B[0;34m:\u001B[0m \u001B[0mretina_figure\u001B[0m\u001B[0;34m(\u001B[0m\u001B[0mfig\u001B[0m\u001B[0;34m,\u001B[0m \u001B[0;34m**\u001B[0m\u001B[0mkwargs\u001B[0m\u001B[0;34m)\u001B[0m\u001B[0;34m)\u001B[0m\u001B[0;34m\u001B[0m\u001B[0;34m\u001B[0m\u001B[0m\n",
      "\u001B[0;32m~/PycharmProjects/pythonProject/venv/lib/python3.8/site-packages/IPython/core/pylabtools.py\u001B[0m in \u001B[0;36mprint_figure\u001B[0;34m(fig, fmt, bbox_inches, **kwargs)\u001B[0m\n\u001B[1;32m    132\u001B[0m         \u001B[0mFigureCanvasBase\u001B[0m\u001B[0;34m(\u001B[0m\u001B[0mfig\u001B[0m\u001B[0;34m)\u001B[0m\u001B[0;34m\u001B[0m\u001B[0;34m\u001B[0m\u001B[0m\n\u001B[1;32m    133\u001B[0m \u001B[0;34m\u001B[0m\u001B[0m\n\u001B[0;32m--> 134\u001B[0;31m     \u001B[0mfig\u001B[0m\u001B[0;34m.\u001B[0m\u001B[0mcanvas\u001B[0m\u001B[0;34m.\u001B[0m\u001B[0mprint_figure\u001B[0m\u001B[0;34m(\u001B[0m\u001B[0mbytes_io\u001B[0m\u001B[0;34m,\u001B[0m \u001B[0;34m**\u001B[0m\u001B[0mkw\u001B[0m\u001B[0;34m)\u001B[0m\u001B[0;34m\u001B[0m\u001B[0;34m\u001B[0m\u001B[0m\n\u001B[0m\u001B[1;32m    135\u001B[0m     \u001B[0mdata\u001B[0m \u001B[0;34m=\u001B[0m \u001B[0mbytes_io\u001B[0m\u001B[0;34m.\u001B[0m\u001B[0mgetvalue\u001B[0m\u001B[0;34m(\u001B[0m\u001B[0;34m)\u001B[0m\u001B[0;34m\u001B[0m\u001B[0;34m\u001B[0m\u001B[0m\n\u001B[1;32m    136\u001B[0m     \u001B[0;32mif\u001B[0m \u001B[0mfmt\u001B[0m \u001B[0;34m==\u001B[0m \u001B[0;34m'svg'\u001B[0m\u001B[0;34m:\u001B[0m\u001B[0;34m\u001B[0m\u001B[0;34m\u001B[0m\u001B[0m\n",
      "\u001B[0;32m~/PycharmProjects/pythonProject/venv/lib/python3.8/site-packages/matplotlib/backend_bases.py\u001B[0m in \u001B[0;36mprint_figure\u001B[0;34m(self, filename, dpi, facecolor, edgecolor, orientation, format, bbox_inches, pad_inches, bbox_extra_artists, backend, **kwargs)\u001B[0m\n\u001B[1;32m   2228\u001B[0m                        else suppress())\n\u001B[1;32m   2229\u001B[0m                 \u001B[0;32mwith\u001B[0m \u001B[0mctx\u001B[0m\u001B[0;34m:\u001B[0m\u001B[0;34m\u001B[0m\u001B[0;34m\u001B[0m\u001B[0m\n\u001B[0;32m-> 2230\u001B[0;31m                     \u001B[0mself\u001B[0m\u001B[0;34m.\u001B[0m\u001B[0mfigure\u001B[0m\u001B[0;34m.\u001B[0m\u001B[0mdraw\u001B[0m\u001B[0;34m(\u001B[0m\u001B[0mrenderer\u001B[0m\u001B[0;34m)\u001B[0m\u001B[0;34m\u001B[0m\u001B[0;34m\u001B[0m\u001B[0m\n\u001B[0m\u001B[1;32m   2231\u001B[0m \u001B[0;34m\u001B[0m\u001B[0m\n\u001B[1;32m   2232\u001B[0m             \u001B[0;32mif\u001B[0m \u001B[0mbbox_inches\u001B[0m\u001B[0;34m:\u001B[0m\u001B[0;34m\u001B[0m\u001B[0;34m\u001B[0m\u001B[0m\n",
      "\u001B[0;32m~/PycharmProjects/pythonProject/venv/lib/python3.8/site-packages/matplotlib/artist.py\u001B[0m in \u001B[0;36mdraw_wrapper\u001B[0;34m(artist, renderer, *args, **kwargs)\u001B[0m\n\u001B[1;32m     72\u001B[0m     \u001B[0;34m@\u001B[0m\u001B[0mwraps\u001B[0m\u001B[0;34m(\u001B[0m\u001B[0mdraw\u001B[0m\u001B[0;34m)\u001B[0m\u001B[0;34m\u001B[0m\u001B[0;34m\u001B[0m\u001B[0m\n\u001B[1;32m     73\u001B[0m     \u001B[0;32mdef\u001B[0m \u001B[0mdraw_wrapper\u001B[0m\u001B[0;34m(\u001B[0m\u001B[0martist\u001B[0m\u001B[0;34m,\u001B[0m \u001B[0mrenderer\u001B[0m\u001B[0;34m,\u001B[0m \u001B[0;34m*\u001B[0m\u001B[0margs\u001B[0m\u001B[0;34m,\u001B[0m \u001B[0;34m**\u001B[0m\u001B[0mkwargs\u001B[0m\u001B[0;34m)\u001B[0m\u001B[0;34m:\u001B[0m\u001B[0;34m\u001B[0m\u001B[0;34m\u001B[0m\u001B[0m\n\u001B[0;32m---> 74\u001B[0;31m         \u001B[0mresult\u001B[0m \u001B[0;34m=\u001B[0m \u001B[0mdraw\u001B[0m\u001B[0;34m(\u001B[0m\u001B[0martist\u001B[0m\u001B[0;34m,\u001B[0m \u001B[0mrenderer\u001B[0m\u001B[0;34m,\u001B[0m \u001B[0;34m*\u001B[0m\u001B[0margs\u001B[0m\u001B[0;34m,\u001B[0m \u001B[0;34m**\u001B[0m\u001B[0mkwargs\u001B[0m\u001B[0;34m)\u001B[0m\u001B[0;34m\u001B[0m\u001B[0;34m\u001B[0m\u001B[0m\n\u001B[0m\u001B[1;32m     75\u001B[0m         \u001B[0;32mif\u001B[0m \u001B[0mrenderer\u001B[0m\u001B[0;34m.\u001B[0m\u001B[0m_rasterizing\u001B[0m\u001B[0;34m:\u001B[0m\u001B[0;34m\u001B[0m\u001B[0;34m\u001B[0m\u001B[0m\n\u001B[1;32m     76\u001B[0m             \u001B[0mrenderer\u001B[0m\u001B[0;34m.\u001B[0m\u001B[0mstop_rasterizing\u001B[0m\u001B[0;34m(\u001B[0m\u001B[0;34m)\u001B[0m\u001B[0;34m\u001B[0m\u001B[0;34m\u001B[0m\u001B[0m\n",
      "\u001B[0;32m~/PycharmProjects/pythonProject/venv/lib/python3.8/site-packages/matplotlib/artist.py\u001B[0m in \u001B[0;36mdraw_wrapper\u001B[0;34m(artist, renderer, *args, **kwargs)\u001B[0m\n\u001B[1;32m     49\u001B[0m                 \u001B[0mrenderer\u001B[0m\u001B[0;34m.\u001B[0m\u001B[0mstart_filter\u001B[0m\u001B[0;34m(\u001B[0m\u001B[0;34m)\u001B[0m\u001B[0;34m\u001B[0m\u001B[0;34m\u001B[0m\u001B[0m\n\u001B[1;32m     50\u001B[0m \u001B[0;34m\u001B[0m\u001B[0m\n\u001B[0;32m---> 51\u001B[0;31m             \u001B[0;32mreturn\u001B[0m \u001B[0mdraw\u001B[0m\u001B[0;34m(\u001B[0m\u001B[0martist\u001B[0m\u001B[0;34m,\u001B[0m \u001B[0mrenderer\u001B[0m\u001B[0;34m,\u001B[0m \u001B[0;34m*\u001B[0m\u001B[0margs\u001B[0m\u001B[0;34m,\u001B[0m \u001B[0;34m**\u001B[0m\u001B[0mkwargs\u001B[0m\u001B[0;34m)\u001B[0m\u001B[0;34m\u001B[0m\u001B[0;34m\u001B[0m\u001B[0m\n\u001B[0m\u001B[1;32m     52\u001B[0m         \u001B[0;32mfinally\u001B[0m\u001B[0;34m:\u001B[0m\u001B[0;34m\u001B[0m\u001B[0;34m\u001B[0m\u001B[0m\n\u001B[1;32m     53\u001B[0m             \u001B[0;32mif\u001B[0m \u001B[0martist\u001B[0m\u001B[0;34m.\u001B[0m\u001B[0mget_agg_filter\u001B[0m\u001B[0;34m(\u001B[0m\u001B[0;34m)\u001B[0m \u001B[0;32mis\u001B[0m \u001B[0;32mnot\u001B[0m \u001B[0;32mNone\u001B[0m\u001B[0;34m:\u001B[0m\u001B[0;34m\u001B[0m\u001B[0;34m\u001B[0m\u001B[0m\n",
      "\u001B[0;32m~/PycharmProjects/pythonProject/venv/lib/python3.8/site-packages/matplotlib/figure.py\u001B[0m in \u001B[0;36mdraw\u001B[0;34m(self, renderer)\u001B[0m\n\u001B[1;32m   2778\u001B[0m \u001B[0;34m\u001B[0m\u001B[0m\n\u001B[1;32m   2779\u001B[0m             \u001B[0mself\u001B[0m\u001B[0;34m.\u001B[0m\u001B[0mpatch\u001B[0m\u001B[0;34m.\u001B[0m\u001B[0mdraw\u001B[0m\u001B[0;34m(\u001B[0m\u001B[0mrenderer\u001B[0m\u001B[0;34m)\u001B[0m\u001B[0;34m\u001B[0m\u001B[0;34m\u001B[0m\u001B[0m\n\u001B[0;32m-> 2780\u001B[0;31m             mimage._draw_list_compositing_images(\n\u001B[0m\u001B[1;32m   2781\u001B[0m                 renderer, self, artists, self.suppressComposite)\n\u001B[1;32m   2782\u001B[0m \u001B[0;34m\u001B[0m\u001B[0m\n",
      "\u001B[0;32m~/PycharmProjects/pythonProject/venv/lib/python3.8/site-packages/matplotlib/image.py\u001B[0m in \u001B[0;36m_draw_list_compositing_images\u001B[0;34m(renderer, parent, artists, suppress_composite)\u001B[0m\n\u001B[1;32m    130\u001B[0m     \u001B[0;32mif\u001B[0m \u001B[0mnot_composite\u001B[0m \u001B[0;32mor\u001B[0m \u001B[0;32mnot\u001B[0m \u001B[0mhas_images\u001B[0m\u001B[0;34m:\u001B[0m\u001B[0;34m\u001B[0m\u001B[0;34m\u001B[0m\u001B[0m\n\u001B[1;32m    131\u001B[0m         \u001B[0;32mfor\u001B[0m \u001B[0ma\u001B[0m \u001B[0;32min\u001B[0m \u001B[0martists\u001B[0m\u001B[0;34m:\u001B[0m\u001B[0;34m\u001B[0m\u001B[0;34m\u001B[0m\u001B[0m\n\u001B[0;32m--> 132\u001B[0;31m             \u001B[0ma\u001B[0m\u001B[0;34m.\u001B[0m\u001B[0mdraw\u001B[0m\u001B[0;34m(\u001B[0m\u001B[0mrenderer\u001B[0m\u001B[0;34m)\u001B[0m\u001B[0;34m\u001B[0m\u001B[0;34m\u001B[0m\u001B[0m\n\u001B[0m\u001B[1;32m    133\u001B[0m     \u001B[0;32melse\u001B[0m\u001B[0;34m:\u001B[0m\u001B[0;34m\u001B[0m\u001B[0;34m\u001B[0m\u001B[0m\n\u001B[1;32m    134\u001B[0m         \u001B[0;31m# Composite any adjacent images together\u001B[0m\u001B[0;34m\u001B[0m\u001B[0;34m\u001B[0m\u001B[0;34m\u001B[0m\u001B[0m\n",
      "\u001B[0;32m~/PycharmProjects/pythonProject/venv/lib/python3.8/site-packages/matplotlib/artist.py\u001B[0m in \u001B[0;36mdraw_wrapper\u001B[0;34m(artist, renderer, *args, **kwargs)\u001B[0m\n\u001B[1;32m     49\u001B[0m                 \u001B[0mrenderer\u001B[0m\u001B[0;34m.\u001B[0m\u001B[0mstart_filter\u001B[0m\u001B[0;34m(\u001B[0m\u001B[0;34m)\u001B[0m\u001B[0;34m\u001B[0m\u001B[0;34m\u001B[0m\u001B[0m\n\u001B[1;32m     50\u001B[0m \u001B[0;34m\u001B[0m\u001B[0m\n\u001B[0;32m---> 51\u001B[0;31m             \u001B[0;32mreturn\u001B[0m \u001B[0mdraw\u001B[0m\u001B[0;34m(\u001B[0m\u001B[0martist\u001B[0m\u001B[0;34m,\u001B[0m \u001B[0mrenderer\u001B[0m\u001B[0;34m,\u001B[0m \u001B[0;34m*\u001B[0m\u001B[0margs\u001B[0m\u001B[0;34m,\u001B[0m \u001B[0;34m**\u001B[0m\u001B[0mkwargs\u001B[0m\u001B[0;34m)\u001B[0m\u001B[0;34m\u001B[0m\u001B[0;34m\u001B[0m\u001B[0m\n\u001B[0m\u001B[1;32m     52\u001B[0m         \u001B[0;32mfinally\u001B[0m\u001B[0;34m:\u001B[0m\u001B[0;34m\u001B[0m\u001B[0;34m\u001B[0m\u001B[0m\n\u001B[1;32m     53\u001B[0m             \u001B[0;32mif\u001B[0m \u001B[0martist\u001B[0m\u001B[0;34m.\u001B[0m\u001B[0mget_agg_filter\u001B[0m\u001B[0;34m(\u001B[0m\u001B[0;34m)\u001B[0m \u001B[0;32mis\u001B[0m \u001B[0;32mnot\u001B[0m \u001B[0;32mNone\u001B[0m\u001B[0;34m:\u001B[0m\u001B[0;34m\u001B[0m\u001B[0;34m\u001B[0m\u001B[0m\n",
      "\u001B[0;32m~/PycharmProjects/pythonProject/venv/lib/python3.8/site-packages/matplotlib/_api/deprecation.py\u001B[0m in \u001B[0;36mwrapper\u001B[0;34m(*inner_args, **inner_kwargs)\u001B[0m\n\u001B[1;32m    429\u001B[0m                          \u001B[0;32melse\u001B[0m \u001B[0mdeprecation_addendum\u001B[0m\u001B[0;34m,\u001B[0m\u001B[0;34m\u001B[0m\u001B[0;34m\u001B[0m\u001B[0m\n\u001B[1;32m    430\u001B[0m                 **kwargs)\n\u001B[0;32m--> 431\u001B[0;31m         \u001B[0;32mreturn\u001B[0m \u001B[0mfunc\u001B[0m\u001B[0;34m(\u001B[0m\u001B[0;34m*\u001B[0m\u001B[0minner_args\u001B[0m\u001B[0;34m,\u001B[0m \u001B[0;34m**\u001B[0m\u001B[0minner_kwargs\u001B[0m\u001B[0;34m)\u001B[0m\u001B[0;34m\u001B[0m\u001B[0;34m\u001B[0m\u001B[0m\n\u001B[0m\u001B[1;32m    432\u001B[0m \u001B[0;34m\u001B[0m\u001B[0m\n\u001B[1;32m    433\u001B[0m     \u001B[0;32mreturn\u001B[0m \u001B[0mwrapper\u001B[0m\u001B[0;34m\u001B[0m\u001B[0;34m\u001B[0m\u001B[0m\n",
      "\u001B[0;32m~/PycharmProjects/pythonProject/venv/lib/python3.8/site-packages/matplotlib/axes/_base.py\u001B[0m in \u001B[0;36mdraw\u001B[0;34m(self, renderer, inframe)\u001B[0m\n\u001B[1;32m   2919\u001B[0m             \u001B[0mrenderer\u001B[0m\u001B[0;34m.\u001B[0m\u001B[0mstop_rasterizing\u001B[0m\u001B[0;34m(\u001B[0m\u001B[0;34m)\u001B[0m\u001B[0;34m\u001B[0m\u001B[0;34m\u001B[0m\u001B[0m\n\u001B[1;32m   2920\u001B[0m \u001B[0;34m\u001B[0m\u001B[0m\n\u001B[0;32m-> 2921\u001B[0;31m         \u001B[0mmimage\u001B[0m\u001B[0;34m.\u001B[0m\u001B[0m_draw_list_compositing_images\u001B[0m\u001B[0;34m(\u001B[0m\u001B[0mrenderer\u001B[0m\u001B[0;34m,\u001B[0m \u001B[0mself\u001B[0m\u001B[0;34m,\u001B[0m \u001B[0martists\u001B[0m\u001B[0;34m)\u001B[0m\u001B[0;34m\u001B[0m\u001B[0;34m\u001B[0m\u001B[0m\n\u001B[0m\u001B[1;32m   2922\u001B[0m \u001B[0;34m\u001B[0m\u001B[0m\n\u001B[1;32m   2923\u001B[0m         \u001B[0mrenderer\u001B[0m\u001B[0;34m.\u001B[0m\u001B[0mclose_group\u001B[0m\u001B[0;34m(\u001B[0m\u001B[0;34m'axes'\u001B[0m\u001B[0;34m)\u001B[0m\u001B[0;34m\u001B[0m\u001B[0;34m\u001B[0m\u001B[0m\n",
      "\u001B[0;32m~/PycharmProjects/pythonProject/venv/lib/python3.8/site-packages/matplotlib/image.py\u001B[0m in \u001B[0;36m_draw_list_compositing_images\u001B[0;34m(renderer, parent, artists, suppress_composite)\u001B[0m\n\u001B[1;32m    130\u001B[0m     \u001B[0;32mif\u001B[0m \u001B[0mnot_composite\u001B[0m \u001B[0;32mor\u001B[0m \u001B[0;32mnot\u001B[0m \u001B[0mhas_images\u001B[0m\u001B[0;34m:\u001B[0m\u001B[0;34m\u001B[0m\u001B[0;34m\u001B[0m\u001B[0m\n\u001B[1;32m    131\u001B[0m         \u001B[0;32mfor\u001B[0m \u001B[0ma\u001B[0m \u001B[0;32min\u001B[0m \u001B[0martists\u001B[0m\u001B[0;34m:\u001B[0m\u001B[0;34m\u001B[0m\u001B[0;34m\u001B[0m\u001B[0m\n\u001B[0;32m--> 132\u001B[0;31m             \u001B[0ma\u001B[0m\u001B[0;34m.\u001B[0m\u001B[0mdraw\u001B[0m\u001B[0;34m(\u001B[0m\u001B[0mrenderer\u001B[0m\u001B[0;34m)\u001B[0m\u001B[0;34m\u001B[0m\u001B[0;34m\u001B[0m\u001B[0m\n\u001B[0m\u001B[1;32m    133\u001B[0m     \u001B[0;32melse\u001B[0m\u001B[0;34m:\u001B[0m\u001B[0;34m\u001B[0m\u001B[0;34m\u001B[0m\u001B[0m\n\u001B[1;32m    134\u001B[0m         \u001B[0;31m# Composite any adjacent images together\u001B[0m\u001B[0;34m\u001B[0m\u001B[0;34m\u001B[0m\u001B[0;34m\u001B[0m\u001B[0m\n",
      "\u001B[0;32m~/PycharmProjects/pythonProject/venv/lib/python3.8/site-packages/matplotlib/artist.py\u001B[0m in \u001B[0;36mdraw_wrapper\u001B[0;34m(artist, renderer, *args, **kwargs)\u001B[0m\n\u001B[1;32m     49\u001B[0m                 \u001B[0mrenderer\u001B[0m\u001B[0;34m.\u001B[0m\u001B[0mstart_filter\u001B[0m\u001B[0;34m(\u001B[0m\u001B[0;34m)\u001B[0m\u001B[0;34m\u001B[0m\u001B[0;34m\u001B[0m\u001B[0m\n\u001B[1;32m     50\u001B[0m \u001B[0;34m\u001B[0m\u001B[0m\n\u001B[0;32m---> 51\u001B[0;31m             \u001B[0;32mreturn\u001B[0m \u001B[0mdraw\u001B[0m\u001B[0;34m(\u001B[0m\u001B[0martist\u001B[0m\u001B[0;34m,\u001B[0m \u001B[0mrenderer\u001B[0m\u001B[0;34m,\u001B[0m \u001B[0;34m*\u001B[0m\u001B[0margs\u001B[0m\u001B[0;34m,\u001B[0m \u001B[0;34m**\u001B[0m\u001B[0mkwargs\u001B[0m\u001B[0;34m)\u001B[0m\u001B[0;34m\u001B[0m\u001B[0;34m\u001B[0m\u001B[0m\n\u001B[0m\u001B[1;32m     52\u001B[0m         \u001B[0;32mfinally\u001B[0m\u001B[0;34m:\u001B[0m\u001B[0;34m\u001B[0m\u001B[0;34m\u001B[0m\u001B[0m\n\u001B[1;32m     53\u001B[0m             \u001B[0;32mif\u001B[0m \u001B[0martist\u001B[0m\u001B[0;34m.\u001B[0m\u001B[0mget_agg_filter\u001B[0m\u001B[0;34m(\u001B[0m\u001B[0;34m)\u001B[0m \u001B[0;32mis\u001B[0m \u001B[0;32mnot\u001B[0m \u001B[0;32mNone\u001B[0m\u001B[0;34m:\u001B[0m\u001B[0;34m\u001B[0m\u001B[0;34m\u001B[0m\u001B[0m\n",
      "\u001B[0;32m~/PycharmProjects/pythonProject/venv/lib/python3.8/site-packages/matplotlib/text.py\u001B[0m in \u001B[0;36mdraw\u001B[0;34m(self, renderer)\u001B[0m\n\u001B[1;32m    725\u001B[0m                                           mtext=mtext)\n\u001B[1;32m    726\u001B[0m                 \u001B[0;32melse\u001B[0m\u001B[0;34m:\u001B[0m\u001B[0;34m\u001B[0m\u001B[0;34m\u001B[0m\u001B[0m\n\u001B[0;32m--> 727\u001B[0;31m                     textrenderer.draw_text(gc, x, y, clean_line,\n\u001B[0m\u001B[1;32m    728\u001B[0m                                            \u001B[0mtextobj\u001B[0m\u001B[0;34m.\u001B[0m\u001B[0m_fontproperties\u001B[0m\u001B[0;34m,\u001B[0m \u001B[0mangle\u001B[0m\u001B[0;34m,\u001B[0m\u001B[0;34m\u001B[0m\u001B[0;34m\u001B[0m\u001B[0m\n\u001B[1;32m    729\u001B[0m                                            ismath=ismath, mtext=mtext)\n",
      "\u001B[0;32m/Library/Developer/CommandLineTools/Library/Frameworks/Python3.framework/Versions/3.8/lib/python3.8/contextlib.py\u001B[0m in \u001B[0;36m__exit__\u001B[0;34m(self, type, value, traceback)\u001B[0m\n\u001B[1;32m    118\u001B[0m         \u001B[0;32mif\u001B[0m \u001B[0mtype\u001B[0m \u001B[0;32mis\u001B[0m \u001B[0;32mNone\u001B[0m\u001B[0;34m:\u001B[0m\u001B[0;34m\u001B[0m\u001B[0;34m\u001B[0m\u001B[0m\n\u001B[1;32m    119\u001B[0m             \u001B[0;32mtry\u001B[0m\u001B[0;34m:\u001B[0m\u001B[0;34m\u001B[0m\u001B[0;34m\u001B[0m\u001B[0m\n\u001B[0;32m--> 120\u001B[0;31m                 \u001B[0mnext\u001B[0m\u001B[0;34m(\u001B[0m\u001B[0mself\u001B[0m\u001B[0;34m.\u001B[0m\u001B[0mgen\u001B[0m\u001B[0;34m)\u001B[0m\u001B[0;34m\u001B[0m\u001B[0;34m\u001B[0m\u001B[0m\n\u001B[0m\u001B[1;32m    121\u001B[0m             \u001B[0;32mexcept\u001B[0m \u001B[0mStopIteration\u001B[0m\u001B[0;34m:\u001B[0m\u001B[0;34m\u001B[0m\u001B[0;34m\u001B[0m\u001B[0m\n\u001B[1;32m    122\u001B[0m                 \u001B[0;32mreturn\u001B[0m \u001B[0;32mFalse\u001B[0m\u001B[0;34m\u001B[0m\u001B[0;34m\u001B[0m\u001B[0m\n",
      "\u001B[0;31mKeyboardInterrupt\u001B[0m: "
     ]
    }
   ],
   "source": [
    "import matplotlib.pyplot as plt\n",
    "plt.pie(train_data['d_m_match_yn'], labels=train_data['d_m_match_yn'].index)"
   ],
   "metadata": {
    "collapsed": false,
    "pycharm": {
     "name": "#%%\n"
    }
   }
  },
  {
   "cell_type": "code",
   "execution_count": 7,
   "outputs": [
    {
     "data": {
      "text/plain": "            id  d_l_match_yn  ...     contents_open_dt  target\n0            0          True  ...  2020-01-17 12:09:36       1\n1            1         False  ...  2020-06-18 17:48:52       0\n2            2         False  ...  2020-07-08 20:00:10       0\n3            3         False  ...  2020-01-13 18:09:34       0\n4            4          True  ...  2020-03-09 20:39:22       0\n...        ...           ...  ...                  ...     ...\n501946  501946         False  ...  2020-03-13 12:55:52       1\n501947  501947          True  ...  2020-01-20 11:51:51       1\n501948  501948          True  ...  2020-08-05 17:27:24       1\n501949  501949          True  ...  2020-06-15 09:23:21       1\n501950  501950          True  ...  2020-05-25 14:34:48       1\n\n[501951 rows x 35 columns]",
      "text/html": "<div>\n<style scoped>\n    .dataframe tbody tr th:only-of-type {\n        vertical-align: middle;\n    }\n\n    .dataframe tbody tr th {\n        vertical-align: top;\n    }\n\n    .dataframe thead th {\n        text-align: right;\n    }\n</style>\n<table border=\"1\" class=\"dataframe\">\n  <thead>\n    <tr style=\"text-align: right;\">\n      <th></th>\n      <th>id</th>\n      <th>d_l_match_yn</th>\n      <th>d_m_match_yn</th>\n      <th>d_s_match_yn</th>\n      <th>h_l_match_yn</th>\n      <th>h_m_match_yn</th>\n      <th>h_s_match_yn</th>\n      <th>person_attribute_a</th>\n      <th>person_attribute_a_1</th>\n      <th>person_attribute_b</th>\n      <th>person_prefer_c</th>\n      <th>person_prefer_d_1</th>\n      <th>person_prefer_d_2</th>\n      <th>person_prefer_d_3</th>\n      <th>person_prefer_e</th>\n      <th>person_prefer_f</th>\n      <th>person_prefer_g</th>\n      <th>person_prefer_h_1</th>\n      <th>person_prefer_h_2</th>\n      <th>person_prefer_h_3</th>\n      <th>contents_attribute_i</th>\n      <th>contents_attribute_a</th>\n      <th>contents_attribute_j_1</th>\n      <th>contents_attribute_j</th>\n      <th>contents_attribute_c</th>\n      <th>contents_attribute_k</th>\n      <th>contents_attribute_l</th>\n      <th>contents_attribute_d</th>\n      <th>contents_attribute_m</th>\n      <th>contents_attribute_e</th>\n      <th>contents_attribute_h</th>\n      <th>person_rn</th>\n      <th>contents_rn</th>\n      <th>contents_open_dt</th>\n      <th>target</th>\n    </tr>\n  </thead>\n  <tbody>\n    <tr>\n      <th>0</th>\n      <td>0</td>\n      <td>True</td>\n      <td>True</td>\n      <td>True</td>\n      <td>False</td>\n      <td>False</td>\n      <td>False</td>\n      <td>1</td>\n      <td>4</td>\n      <td>3</td>\n      <td>5</td>\n      <td>275</td>\n      <td>370</td>\n      <td>369</td>\n      <td>8</td>\n      <td>1</td>\n      <td>1</td>\n      <td>4</td>\n      <td>95</td>\n      <td>59</td>\n      <td>3</td>\n      <td>3</td>\n      <td>10</td>\n      <td>2</td>\n      <td>1</td>\n      <td>2</td>\n      <td>1608</td>\n      <td>275</td>\n      <td>1</td>\n      <td>4</td>\n      <td>139</td>\n      <td>618822</td>\n      <td>354805</td>\n      <td>2020-01-17 12:09:36</td>\n      <td>1</td>\n    </tr>\n    <tr>\n      <th>1</th>\n      <td>1</td>\n      <td>False</td>\n      <td>False</td>\n      <td>False</td>\n      <td>True</td>\n      <td>True</td>\n      <td>False</td>\n      <td>1</td>\n      <td>3</td>\n      <td>4</td>\n      <td>1</td>\n      <td>114</td>\n      <td>181</td>\n      <td>175</td>\n      <td>4</td>\n      <td>1</td>\n      <td>1</td>\n      <td>131</td>\n      <td>101</td>\n      <td>96</td>\n      <td>1</td>\n      <td>3</td>\n      <td>5</td>\n      <td>1</td>\n      <td>1</td>\n      <td>2</td>\n      <td>1608</td>\n      <td>275</td>\n      <td>1</td>\n      <td>4</td>\n      <td>133</td>\n      <td>571659</td>\n      <td>346213</td>\n      <td>2020-06-18 17:48:52</td>\n      <td>0</td>\n    </tr>\n    <tr>\n      <th>2</th>\n      <td>2</td>\n      <td>False</td>\n      <td>False</td>\n      <td>False</td>\n      <td>True</td>\n      <td>False</td>\n      <td>False</td>\n      <td>2</td>\n      <td>0</td>\n      <td>3</td>\n      <td>5</td>\n      <td>464</td>\n      <td>175</td>\n      <td>452</td>\n      <td>3</td>\n      <td>1</td>\n      <td>1</td>\n      <td>54</td>\n      <td>263</td>\n      <td>56</td>\n      <td>3</td>\n      <td>1</td>\n      <td>10</td>\n      <td>2</td>\n      <td>1</td>\n      <td>1</td>\n      <td>1600</td>\n      <td>94</td>\n      <td>1</td>\n      <td>4</td>\n      <td>53</td>\n      <td>399816</td>\n      <td>206408</td>\n      <td>2020-07-08 20:00:10</td>\n      <td>0</td>\n    </tr>\n    <tr>\n      <th>3</th>\n      <td>3</td>\n      <td>False</td>\n      <td>False</td>\n      <td>False</td>\n      <td>True</td>\n      <td>False</td>\n      <td>False</td>\n      <td>2</td>\n      <td>0</td>\n      <td>2</td>\n      <td>5</td>\n      <td>703</td>\n      <td>705</td>\n      <td>704</td>\n      <td>3</td>\n      <td>1</td>\n      <td>1</td>\n      <td>72</td>\n      <td>227</td>\n      <td>2</td>\n      <td>1</td>\n      <td>3</td>\n      <td>5</td>\n      <td>1</td>\n      <td>1</td>\n      <td>2</td>\n      <td>1608</td>\n      <td>275</td>\n      <td>5</td>\n      <td>3</td>\n      <td>74</td>\n      <td>827967</td>\n      <td>572323</td>\n      <td>2020-01-13 18:09:34</td>\n      <td>0</td>\n    </tr>\n    <tr>\n      <th>4</th>\n      <td>4</td>\n      <td>True</td>\n      <td>True</td>\n      <td>True</td>\n      <td>False</td>\n      <td>False</td>\n      <td>False</td>\n      <td>1</td>\n      <td>3</td>\n      <td>4</td>\n      <td>5</td>\n      <td>275</td>\n      <td>370</td>\n      <td>369</td>\n      <td>4</td>\n      <td>1</td>\n      <td>1</td>\n      <td>214</td>\n      <td>210</td>\n      <td>209</td>\n      <td>1</td>\n      <td>1</td>\n      <td>10</td>\n      <td>2</td>\n      <td>1</td>\n      <td>2</td>\n      <td>1608</td>\n      <td>275</td>\n      <td>1</td>\n      <td>4</td>\n      <td>74</td>\n      <td>831614</td>\n      <td>573899</td>\n      <td>2020-03-09 20:39:22</td>\n      <td>0</td>\n    </tr>\n    <tr>\n      <th>...</th>\n      <td>...</td>\n      <td>...</td>\n      <td>...</td>\n      <td>...</td>\n      <td>...</td>\n      <td>...</td>\n      <td>...</td>\n      <td>...</td>\n      <td>...</td>\n      <td>...</td>\n      <td>...</td>\n      <td>...</td>\n      <td>...</td>\n      <td>...</td>\n      <td>...</td>\n      <td>...</td>\n      <td>...</td>\n      <td>...</td>\n      <td>...</td>\n      <td>...</td>\n      <td>...</td>\n      <td>...</td>\n      <td>...</td>\n      <td>...</td>\n      <td>...</td>\n      <td>...</td>\n      <td>...</td>\n      <td>...</td>\n      <td>...</td>\n      <td>...</td>\n      <td>...</td>\n      <td>...</td>\n      <td>...</td>\n      <td>...</td>\n      <td>...</td>\n    </tr>\n    <tr>\n      <th>501946</th>\n      <td>501946</td>\n      <td>False</td>\n      <td>False</td>\n      <td>False</td>\n      <td>True</td>\n      <td>False</td>\n      <td>False</td>\n      <td>1</td>\n      <td>1</td>\n      <td>2</td>\n      <td>2</td>\n      <td>1192</td>\n      <td>935</td>\n      <td>1228</td>\n      <td>3</td>\n      <td>1</td>\n      <td>1</td>\n      <td>59</td>\n      <td>4</td>\n      <td>95</td>\n      <td>3</td>\n      <td>3</td>\n      <td>5</td>\n      <td>1</td>\n      <td>1</td>\n      <td>2</td>\n      <td>354</td>\n      <td>147</td>\n      <td>1</td>\n      <td>5</td>\n      <td>65</td>\n      <td>503156</td>\n      <td>285850</td>\n      <td>2020-03-13 12:55:52</td>\n      <td>1</td>\n    </tr>\n    <tr>\n      <th>501947</th>\n      <td>501947</td>\n      <td>True</td>\n      <td>True</td>\n      <td>False</td>\n      <td>True</td>\n      <td>False</td>\n      <td>False</td>\n      <td>1</td>\n      <td>6</td>\n      <td>2</td>\n      <td>1</td>\n      <td>118</td>\n      <td>113</td>\n      <td>110</td>\n      <td>4</td>\n      <td>1</td>\n      <td>1</td>\n      <td>105</td>\n      <td>142</td>\n      <td>95</td>\n      <td>3</td>\n      <td>3</td>\n      <td>10</td>\n      <td>2</td>\n      <td>1</td>\n      <td>2</td>\n      <td>163</td>\n      <td>120</td>\n      <td>1</td>\n      <td>4</td>\n      <td>142</td>\n      <td>676255</td>\n      <td>456996</td>\n      <td>2020-01-20 11:51:51</td>\n      <td>1</td>\n    </tr>\n    <tr>\n      <th>501948</th>\n      <td>501948</td>\n      <td>True</td>\n      <td>True</td>\n      <td>True</td>\n      <td>True</td>\n      <td>False</td>\n      <td>False</td>\n      <td>1</td>\n      <td>7</td>\n      <td>4</td>\n      <td>1</td>\n      <td>147</td>\n      <td>46</td>\n      <td>145</td>\n      <td>4</td>\n      <td>1</td>\n      <td>1</td>\n      <td>59</td>\n      <td>127</td>\n      <td>139</td>\n      <td>3</td>\n      <td>1</td>\n      <td>5</td>\n      <td>1</td>\n      <td>1</td>\n      <td>2</td>\n      <td>438</td>\n      <td>147</td>\n      <td>2</td>\n      <td>7</td>\n      <td>65</td>\n      <td>484528</td>\n      <td>293258</td>\n      <td>2020-08-05 17:27:24</td>\n      <td>1</td>\n    </tr>\n    <tr>\n      <th>501949</th>\n      <td>501949</td>\n      <td>True</td>\n      <td>False</td>\n      <td>False</td>\n      <td>True</td>\n      <td>False</td>\n      <td>False</td>\n      <td>1</td>\n      <td>1</td>\n      <td>2</td>\n      <td>1</td>\n      <td>46</td>\n      <td>147</td>\n      <td>145</td>\n      <td>4</td>\n      <td>1</td>\n      <td>1</td>\n      <td>251</td>\n      <td>49</td>\n      <td>258</td>\n      <td>3</td>\n      <td>2</td>\n      <td>5</td>\n      <td>1</td>\n      <td>1</td>\n      <td>2</td>\n      <td>660</td>\n      <td>147</td>\n      <td>3</td>\n      <td>4</td>\n      <td>259</td>\n      <td>456330</td>\n      <td>273797</td>\n      <td>2020-06-15 09:23:21</td>\n      <td>1</td>\n    </tr>\n    <tr>\n      <th>501950</th>\n      <td>501950</td>\n      <td>True</td>\n      <td>True</td>\n      <td>True</td>\n      <td>True</td>\n      <td>False</td>\n      <td>False</td>\n      <td>1</td>\n      <td>6</td>\n      <td>3</td>\n      <td>5</td>\n      <td>147</td>\n      <td>46</td>\n      <td>145</td>\n      <td>6</td>\n      <td>1</td>\n      <td>1</td>\n      <td>278</td>\n      <td>31</td>\n      <td>49</td>\n      <td>3</td>\n      <td>3</td>\n      <td>5</td>\n      <td>1</td>\n      <td>1</td>\n      <td>2</td>\n      <td>786</td>\n      <td>147</td>\n      <td>2</td>\n      <td>5</td>\n      <td>289</td>\n      <td>235596</td>\n      <td>176650</td>\n      <td>2020-05-25 14:34:48</td>\n      <td>1</td>\n    </tr>\n  </tbody>\n</table>\n<p>501951 rows × 35 columns</p>\n</div>"
     },
     "execution_count": 7,
     "metadata": {},
     "output_type": "execute_result"
    }
   ],
   "source": [],
   "metadata": {
    "collapsed": false,
    "pycharm": {
     "name": "#%%\n"
    }
   }
  },
  {
   "cell_type": "code",
   "execution_count": null,
   "outputs": [],
   "source": [
    "# category 는 feature 상관관계 잘 하지 않고 연속형 변수에서 많이 한다"
   ],
   "metadata": {
    "collapsed": false,
    "pycharm": {
     "name": "#%%\n"
    }
   }
  },
  {
   "cell_type": "code",
   "execution_count": null,
   "outputs": [],
   "source": [
    "labels = ['초코','딸기','치즈','생크림']\n",
    "frequency = [40,30,20,10]\n",
    "cake = DataFrame({'frequency':frequency}, index = labels)"
   ],
   "metadata": {
    "collapsed": false,
    "pycharm": {
     "name": "#%%\n"
    }
   }
  },
  {
   "cell_type": "code",
   "execution_count": 17,
   "outputs": [],
   "source": [
    "cols = train_data.columns"
   ],
   "metadata": {
    "collapsed": false,
    "pycharm": {
     "name": "#%%\n"
    }
   }
  },
  {
   "cell_type": "code",
   "execution_count": 21,
   "outputs": [
    {
     "data": {
      "text/plain": "15"
     },
     "execution_count": 21,
     "metadata": {},
     "output_type": "execute_result"
    }
   ],
   "source": [
    "len(cols)//2"
   ],
   "metadata": {
    "collapsed": false,
    "pycharm": {
     "name": "#%%\n"
    }
   }
  },
  {
   "cell_type": "code",
   "execution_count": 22,
   "outputs": [
    {
     "name": "stderr",
     "output_type": "stream",
     "text": [
      "/var/folders/c6/2j22b1rd02778st12c0mcr3w0000gn/T/ipykernel_45084/3207449361.py:2: DeprecationWarning: `np.int` is a deprecated alias for the builtin `int`. To silence this warning, use `int` by itself. Doing this will not modify any behavior and is safe. When replacing `np.int`, you may wish to use e.g. `np.int64` or `np.int32` to specify the precision. If you wish to review your current use, check the release note link for additional information.\n",
      "Deprecated in NumPy 1.20; for more details and guidance: https://numpy.org/devdocs/release/1.20.0-notes.html#deprecations\n",
      "  plt.pie(train_data[col].astype(np.int).value_counts(),labels=train_data[col].value_counts().index)\n"
     ]
    },
    {
     "ename": "NameError",
     "evalue": "name 'ax_idx' is not defined",
     "output_type": "error",
     "traceback": [
      "\u001B[0;31m---------------------------------------------------------------------------\u001B[0m",
      "\u001B[0;31mNameError\u001B[0m                                 Traceback (most recent call last)",
      "\u001B[0;32m/var/folders/c6/2j22b1rd02778st12c0mcr3w0000gn/T/ipykernel_45084/3207449361.py\u001B[0m in \u001B[0;36m<module>\u001B[0;34m\u001B[0m\n\u001B[1;32m      1\u001B[0m \u001B[0;32mfor\u001B[0m \u001B[0mcol\u001B[0m \u001B[0;32min\u001B[0m \u001B[0mcols\u001B[0m\u001B[0;34m:\u001B[0m\u001B[0;34m\u001B[0m\u001B[0;34m\u001B[0m\u001B[0m\n\u001B[1;32m      2\u001B[0m     \u001B[0mplt\u001B[0m\u001B[0;34m.\u001B[0m\u001B[0mpie\u001B[0m\u001B[0;34m(\u001B[0m\u001B[0mtrain_data\u001B[0m\u001B[0;34m[\u001B[0m\u001B[0mcol\u001B[0m\u001B[0;34m]\u001B[0m\u001B[0;34m.\u001B[0m\u001B[0mastype\u001B[0m\u001B[0;34m(\u001B[0m\u001B[0mnp\u001B[0m\u001B[0;34m.\u001B[0m\u001B[0mint\u001B[0m\u001B[0;34m)\u001B[0m\u001B[0;34m.\u001B[0m\u001B[0mvalue_counts\u001B[0m\u001B[0;34m(\u001B[0m\u001B[0;34m)\u001B[0m\u001B[0;34m,\u001B[0m\u001B[0mlabels\u001B[0m\u001B[0;34m=\u001B[0m\u001B[0mtrain_data\u001B[0m\u001B[0;34m[\u001B[0m\u001B[0mcol\u001B[0m\u001B[0;34m]\u001B[0m\u001B[0;34m.\u001B[0m\u001B[0mvalue_counts\u001B[0m\u001B[0;34m(\u001B[0m\u001B[0;34m)\u001B[0m\u001B[0;34m.\u001B[0m\u001B[0mindex\u001B[0m\u001B[0;34m)\u001B[0m\u001B[0;34m\u001B[0m\u001B[0;34m\u001B[0m\u001B[0m\n\u001B[0;32m----> 3\u001B[0;31m     \u001B[0max_idx\u001B[0m \u001B[0;34m+=\u001B[0m \u001B[0;36m1\u001B[0m\u001B[0;34m\u001B[0m\u001B[0;34m\u001B[0m\u001B[0m\n\u001B[0m",
      "\u001B[0;31mNameError\u001B[0m: name 'ax_idx' is not defined"
     ]
    },
    {
     "data": {
      "text/plain": "<Figure size 432x288 with 1 Axes>",
      "image/png": "[encoded data removed]"
     },
     "metadata": {},
     "output_type": "display_data"
    }
   ],
   "source": [],
   "metadata": {
    "collapsed": false,
    "pycharm": {
     "name": "#%%\n"
    }
   }
  },
  {
   "cell_type": "code",
   "execution_count": 43,
   "outputs": [
    {
     "data": {
      "text/plain": "30"
     },
     "execution_count": 43,
     "metadata": {},
     "output_type": "execute_result"
    }
   ],
   "source": [
    "len(cols)"
   ],
   "metadata": {
    "collapsed": false,
    "pycharm": {
     "name": "#%%\n"
    }
   }
  },
  {
   "cell_type": "code",
   "execution_count": 47,
   "outputs": [
    {
     "name": "stdout",
     "output_type": "stream",
     "text": [
      "0\n",
      "1\n",
      "2\n",
      "3\n",
      "4\n",
      "5\n",
      "6\n",
      "7\n",
      "8\n",
      "9\n",
      "10\n",
      "11\n",
      "12\n",
      "13\n",
      "14\n",
      "15\n",
      "16\n",
      "17\n",
      "18\n",
      "19\n",
      "20\n",
      "21\n",
      "22\n",
      "23\n",
      "24\n",
      "25\n",
      "26\n",
      "27\n",
      "28\n",
      "29\n"
     ]
    },
    {
     "data": {
      "text/plain": "<Figure size 1440x1440 with 31 Axes>",
      "image/png": "[encoded data removed]"
     },
     "metadata": {
      "needs_background": "light"
     },
     "output_type": "display_data"
    }
   ],
   "source": [],
   "metadata": {
    "collapsed": false,
    "pycharm": {
     "name": "#%%\n"
    }
   }
  },
  {
   "cell_type": "code",
   "execution_count": 61,
   "outputs": [
    {
     "data": {
      "text/plain": "<Figure size 1440x1440 with 32 Axes>",
      "image/png": "[encoded data removed]"
     },
     "metadata": {
      "needs_background": "light"
     },
     "output_type": "display_data"
    }
   ],
   "source": [
    "r = np.random.rand(len(cols))*0.8+0.6\n",
    "fig, axes=  plt.subplots(len(cols)//2+1,2,figsize=(20,20))\n",
    "fig.subplots_adjust(left=0.125, bottom=0.1, right=0.9, top=0.9)\n",
    "#for i in range(len(cols)//2+1):\n",
    "#    for j in range(2):\n",
    "for i, ax in enumerate(axes.flatten()):\n",
    "    col = cols[idx]\n",
    "    ax.pie(train_data[col].value_counts(),labels=train_data[col].value_counts().index,radius=r[i], autopct=\"%.1f%%\",pctdistance=0.9)\n",
    "    ax.set_title(col)\n",
    "    idx+=1\n",
    "    if idx >= 2:\n",
    "        break"
   ],
   "metadata": {
    "collapsed": false,
    "pycharm": {
     "name": "#%%\n"
    }
   }
  },
  {
   "cell_type": "code",
   "execution_count": null,
   "outputs": [
    {
     "data": {
      "text/plain": "<Figure size 720x360 with 32 Axes>",
      "image/png": "[encoded data removed]"
     },
     "metadata": {
      "needs_background": "light"
     },
     "output_type": "display_data"
    }
   ],
   "source": [],
   "metadata": {
    "collapsed": false,
    "pycharm": {
     "name": "#%%\n"
    }
   }
  },
  {
   "cell_type": "code",
   "execution_count": 67,
   "outputs": [
    {
     "data": {
      "text/plain": "<Figure size 720x360 with 4 Axes>",
      "image/png": "[encoded data removed]"
     },
     "metadata": {},
     "output_type": "display_data"
    }
   ],
   "source": [
    "idx = 0\n",
    "r = np.random.rand(len(cols))*0.8+0.6\n",
    "plt.rcParams.update({'font.size': 10})\n",
    "fig, axes = plt.subplots(2,2,figsize=(10,5))\n",
    "plt.subplots_adjust(wspace=0.5) # subplot간의 너비 간격 조절\n",
    "for i, ax in enumerate(axes.flatten()):\n",
    "    col = cols[idx]\n",
    "    ax.pie(train_data[col].value_counts(),labels=train_data[col].value_counts().index,radius=r[i], autopct=\"%.1f%%\",pctdistance=0.9)\n",
    "    ax.set_title(col)\n",
    "    idx+=1\n",
    "    if idx >= len(cols):\n",
    "        break"
   ],
   "metadata": {
    "collapsed": false,
    "pycharm": {
     "name": "#%%\n"
    }
   }
  },
  {
   "cell_type": "code",
   "execution_count": 68,
   "outputs": [],
   "source": [],
   "metadata": {
    "collapsed": false,
    "pycharm": {
     "name": "#%%\n"
    }
   }
  },
  {
   "cell_type": "code",
   "execution_count": 69,
   "outputs": [
    {
     "ename": "NameError",
     "evalue": "name 'data' is not defined",
     "output_type": "error",
     "traceback": [
      "\u001B[0;31m---------------------------------------------------------------------------\u001B[0m",
      "\u001B[0;31mNameError\u001B[0m                                 Traceback (most recent call last)",
      "\u001B[0;32m/var/folders/c6/2j22b1rd02778st12c0mcr3w0000gn/T/ipykernel_45084/4030381821.py\u001B[0m in \u001B[0;36m<module>\u001B[0;34m\u001B[0m\n\u001B[0;32m----> 1\u001B[0;31m \u001B[0mX\u001B[0m \u001B[0;34m=\u001B[0m \u001B[0mdata\u001B[0m\u001B[0;34m.\u001B[0m\u001B[0miloc\u001B[0m\u001B[0;34m[\u001B[0m\u001B[0;34m:\u001B[0m\u001B[0;34m,\u001B[0m\u001B[0;36m0\u001B[0m\u001B[0;34m:\u001B[0m\u001B[0;36m20\u001B[0m\u001B[0;34m]\u001B[0m  \u001B[0;31m#independent columns\u001B[0m\u001B[0;34m\u001B[0m\u001B[0;34m\u001B[0m\u001B[0m\n\u001B[0m\u001B[1;32m      2\u001B[0m \u001B[0my\u001B[0m \u001B[0;34m=\u001B[0m \u001B[0mdata\u001B[0m\u001B[0;34m.\u001B[0m\u001B[0miloc\u001B[0m\u001B[0;34m[\u001B[0m\u001B[0;34m:\u001B[0m\u001B[0;34m,\u001B[0m\u001B[0;34m-\u001B[0m\u001B[0;36m1\u001B[0m\u001B[0;34m]\u001B[0m    \u001B[0;31m#target column i.e price range\u001B[0m\u001B[0;34m\u001B[0m\u001B[0;34m\u001B[0m\u001B[0m\n\u001B[1;32m      3\u001B[0m \u001B[0;31m#apply SelectKBest class to extract top 10 best features\u001B[0m\u001B[0;34m\u001B[0m\u001B[0;34m\u001B[0m\u001B[0;34m\u001B[0m\u001B[0m\n\u001B[1;32m      4\u001B[0m \u001B[0;34m\u001B[0m\u001B[0m\n\u001B[1;32m      5\u001B[0m \u001B[0mbestfeatures\u001B[0m \u001B[0;34m=\u001B[0m \u001B[0mSelectKBest\u001B[0m\u001B[0;34m(\u001B[0m\u001B[0mscore_func\u001B[0m\u001B[0;34m=\u001B[0m\u001B[0mchi2\u001B[0m\u001B[0;34m,\u001B[0m \u001B[0mk\u001B[0m\u001B[0;34m=\u001B[0m\u001B[0;36m10\u001B[0m\u001B[0;34m)\u001B[0m\u001B[0;34m\u001B[0m\u001B[0;34m\u001B[0m\u001B[0m\n",
      "\u001B[0;31mNameError\u001B[0m: name 'data' is not defined"
     ]
    }
   ],
   "source": [
    "X = data.iloc[:,0:20]  #independent columns\n",
    "y = data.iloc[:,-1]    #target column i.e price range\n",
    "#apply SelectKBest class to extract top 10 best features"
   ],
   "metadata": {
    "collapsed": false,
    "pycharm": {
     "name": "#%%\n"
    }
   }
  },
  {
   "cell_type": "code",
   "execution_count": 77,
   "outputs": [],
   "source": [
    "train_data = train_data.drop(['id','person_rn','contents_rn','contents_open_dt'],axis=1)"
   ],
   "metadata": {
    "collapsed": false,
    "pycharm": {
     "name": "#%%\n"
    }
   }
  },
  {
   "cell_type": "code",
   "execution_count": 79,
   "outputs": [],
   "source": [
    "target = train_data['target']"
   ],
   "metadata": {
    "collapsed": false,
    "pycharm": {
     "name": "#%%\n"
    }
   }
  },
  {
   "cell_type": "code",
   "execution_count": 85,
   "outputs": [],
   "source": [
    "bestfeatures = SelectKBest(score_func=chi2, k=10)"
   ],
   "metadata": {
    "collapsed": false,
    "pycharm": {
     "name": "#%%\n"
    }
   }
  },
  {
   "cell_type": "code",
   "execution_count": 86,
   "outputs": [],
   "source": [
    "fit = bestfeatures.fit(train_data,target)\n"
   ],
   "metadata": {
    "collapsed": false,
    "pycharm": {
     "name": "#%%\n"
    }
   }
  },
  {
   "cell_type": "code",
   "execution_count": 87,
   "outputs": [
    {
     "name": "stdout",
     "output_type": "stream",
     "text": [
      "                   Specs          Score\n",
      "26  contents_attribute_d  710648.337579\n",
      "30                target  251106.000000\n",
      "10     person_prefer_d_1  139277.951935\n",
      "11     person_prefer_d_2  121750.746625\n",
      "12     person_prefer_d_3   92596.953925\n",
      "25  contents_attribute_l   76285.010872\n",
      "16     person_prefer_h_1   68778.519806\n",
      "29  contents_attribute_h   64351.442704\n",
      "17     person_prefer_h_2   41667.363362\n",
      "18     person_prefer_h_3   29968.002064\n"
     ]
    }
   ],
   "source": [
    "dfscores = pd.DataFrame(fit.scores_)\n",
    "dfcolumns = pd.DataFrame(train_data.columns)\n",
    "#concat two dataframes for better visualization\n",
    "featureScores = pd.concat([dfcolumns,dfscores],axis=1)\n",
    "featureScores.columns = ['Specs','Score']  #naming the dataframe columns\n",
    "print(featureScores.nlargest(10,'Score'))  #print 10 best features"
   ],
   "metadata": {
    "collapsed": false,
    "pycharm": {
     "name": "#%%\n"
    }
   }
  },
  {
   "cell_type": "code",
   "execution_count": null,
   "outputs": [],
   "source": [],
   "metadata": {
    "collapsed": false,
    "pycharm": {
     "name": "#%%\n"
    }
   }
  },
  {
   "cell_type": "code",
   "execution_count": null,
   "outputs": [],
   "source": [],
   "metadata": {
    "collapsed": false,
    "pycharm": {
     "name": "#%%\n"
    }
   }
  },
  {
   "cell_type": "code",
   "execution_count": 90,
   "outputs": [
    {
     "name": "stdout",
     "output_type": "stream",
     "text": [
      "[8.40602329e-03 4.77444141e-03 1.23902021e-03 6.14313207e-04\n",
      " 3.86170590e-04 3.16683737e-04 4.95613066e-04 1.13291785e-03\n",
      " 9.75840758e-04 8.13155962e-04 1.76690801e-03 1.51243832e-03\n",
      " 1.53162124e-03 1.23918063e-03 0.00000000e+00 0.00000000e+00\n",
      " 1.40101205e-03 1.32625697e-03 1.19505836e-03 7.42487127e-04\n",
      " 8.30375669e-04 2.17441787e-03 6.78673455e-04 1.21227738e-03\n",
      " 3.30611556e-04 1.78679537e-03 2.32251439e-03 1.03527626e-03\n",
      " 1.15309081e-03 1.58927709e-03 9.57017547e-01]\n"
     ]
    },
    {
     "ename": "ValueError",
     "evalue": "Length of passed values is 31, index implies 30.",
     "output_type": "error",
     "traceback": [
      "\u001B[0;31m---------------------------------------------------------------------------\u001B[0m",
      "\u001B[0;31mValueError\u001B[0m                                Traceback (most recent call last)",
      "\u001B[0;32m/var/folders/c6/2j22b1rd02778st12c0mcr3w0000gn/T/ipykernel_45084/310454211.py\u001B[0m in \u001B[0;36m<module>\u001B[0;34m\u001B[0m\n\u001B[1;32m     10\u001B[0m \u001B[0;31m#plot graph of feature importances for better visualization\u001B[0m\u001B[0;34m\u001B[0m\u001B[0;34m\u001B[0m\u001B[0;34m\u001B[0m\u001B[0m\n\u001B[1;32m     11\u001B[0m \u001B[0mexclude_target\u001B[0m \u001B[0;34m=\u001B[0m \u001B[0mlist\u001B[0m\u001B[0;34m(\u001B[0m\u001B[0mset\u001B[0m\u001B[0;34m(\u001B[0m\u001B[0mtrain_data\u001B[0m\u001B[0;34m.\u001B[0m\u001B[0mcolumns\u001B[0m\u001B[0;34m.\u001B[0m\u001B[0mtolist\u001B[0m\u001B[0;34m(\u001B[0m\u001B[0;34m)\u001B[0m\u001B[0;34m)\u001B[0m\u001B[0;34m-\u001B[0m \u001B[0mset\u001B[0m\u001B[0;34m(\u001B[0m\u001B[0;34m[\u001B[0m\u001B[0;34m'target'\u001B[0m\u001B[0;34m]\u001B[0m\u001B[0;34m)\u001B[0m\u001B[0;34m)\u001B[0m\u001B[0;34m\u001B[0m\u001B[0;34m\u001B[0m\u001B[0m\n\u001B[0;32m---> 12\u001B[0;31m \u001B[0mfeat_importances\u001B[0m \u001B[0;34m=\u001B[0m \u001B[0mpd\u001B[0m\u001B[0;34m.\u001B[0m\u001B[0mSeries\u001B[0m\u001B[0;34m(\u001B[0m\u001B[0mmodel\u001B[0m\u001B[0;34m.\u001B[0m\u001B[0mfeature_importances_\u001B[0m\u001B[0;34m,\u001B[0m \u001B[0mindex\u001B[0m\u001B[0;34m=\u001B[0m\u001B[0mexclude_target\u001B[0m\u001B[0;34m)\u001B[0m\u001B[0;34m\u001B[0m\u001B[0;34m\u001B[0m\u001B[0m\n\u001B[0m\u001B[1;32m     13\u001B[0m \u001B[0mfeat_importances\u001B[0m\u001B[0;34m.\u001B[0m\u001B[0mnlargest\u001B[0m\u001B[0;34m(\u001B[0m\u001B[0;36m10\u001B[0m\u001B[0;34m)\u001B[0m\u001B[0;34m.\u001B[0m\u001B[0mplot\u001B[0m\u001B[0;34m(\u001B[0m\u001B[0mkind\u001B[0m\u001B[0;34m=\u001B[0m\u001B[0;34m'barh'\u001B[0m\u001B[0;34m)\u001B[0m\u001B[0;34m\u001B[0m\u001B[0;34m\u001B[0m\u001B[0m\n\u001B[1;32m     14\u001B[0m \u001B[0mplt\u001B[0m\u001B[0;34m.\u001B[0m\u001B[0mshow\u001B[0m\u001B[0;34m(\u001B[0m\u001B[0;34m)\u001B[0m\u001B[0;34m\u001B[0m\u001B[0;34m\u001B[0m\u001B[0m\n",
      "\u001B[0;32m~/PycharmProjects/pythonProject/venv/lib/python3.8/site-packages/pandas/core/series.py\u001B[0m in \u001B[0;36m__init__\u001B[0;34m(self, data, index, dtype, name, copy, fastpath)\u001B[0m\n\u001B[1;32m    348\u001B[0m                 \u001B[0;32mtry\u001B[0m\u001B[0;34m:\u001B[0m\u001B[0;34m\u001B[0m\u001B[0;34m\u001B[0m\u001B[0m\n\u001B[1;32m    349\u001B[0m                     \u001B[0;32mif\u001B[0m \u001B[0mlen\u001B[0m\u001B[0;34m(\u001B[0m\u001B[0mindex\u001B[0m\u001B[0;34m)\u001B[0m \u001B[0;34m!=\u001B[0m \u001B[0mlen\u001B[0m\u001B[0;34m(\u001B[0m\u001B[0mdata\u001B[0m\u001B[0;34m)\u001B[0m\u001B[0;34m:\u001B[0m\u001B[0;34m\u001B[0m\u001B[0;34m\u001B[0m\u001B[0m\n\u001B[0;32m--> 350\u001B[0;31m                         raise ValueError(\n\u001B[0m\u001B[1;32m    351\u001B[0m                             \u001B[0;34mf\"Length of passed values is {len(data)}, \"\u001B[0m\u001B[0;34m\u001B[0m\u001B[0;34m\u001B[0m\u001B[0m\n\u001B[1;32m    352\u001B[0m                             \u001B[0;34mf\"index implies {len(index)}.\"\u001B[0m\u001B[0;34m\u001B[0m\u001B[0;34m\u001B[0m\u001B[0m\n",
      "\u001B[0;31mValueError\u001B[0m: Length of passed values is 31, index implies 30."
     ]
    }
   ],
   "source": [
    "# target 제외하면 역시 d feature가 가장 중요도와 상관관계가 높기는 하다\n",
    "\n",
    "from sklearn.ensemble import ExtraTreesClassifier\n",
    "import matplotlib.pyplot as plt\n",
    "model = ExtraTreesClassifier()"
   ],
   "metadata": {
    "collapsed": false,
    "pycharm": {
     "name": "#%%   #target column i.e price range\n"
    }
   }
  },
  {
   "cell_type": "code",
   "execution_count": 99,
   "outputs": [
    {
     "name": "stdout",
     "output_type": "stream",
     "text": [
      "[0.01459802 0.00804348 0.00548059 0.00872506 0.00795813 0.00844699\n",
      " 0.01750409 0.04971053 0.04343088 0.02980488 0.06076899 0.06330049\n",
      " 0.06061481 0.05272601 0.         0.         0.05345749 0.05798494\n",
      " 0.05489668 0.0299279  0.02715487 0.02200657 0.00526921 0.01748333\n",
      " 0.00672822 0.07351139 0.06833268 0.03871342 0.04968519 0.06373516]\n"
     ]
    },
    {
     "data": {
      "text/plain": "<Figure size 432x288 with 1 Axes>",
      "image/png": "[encoded data removed]"
     },
     "metadata": {
      "needs_background": "light"
     },
     "output_type": "display_data"
    }
   ],
   "source": [],
   "metadata": {
    "collapsed": false,
    "pycharm": {
     "name": "#%%\n"
    }
   }
  },
  {
   "cell_type": "code",
   "execution_count": null,
   "outputs": [],
   "source": [
    "train_data"
   ],
   "metadata": {
    "collapsed": false,
    "pycharm": {
     "name": "#%%\n"
    }
   }
  },
  {
   "cell_type": "code",
   "execution_count": 100,
   "outputs": [
    {
     "name": "stdout",
     "output_type": "stream",
     "text": [
      "[0.01440286 0.00814972 0.00565717 0.0086553  0.00798567 0.00826816\n",
      " 0.01776295 0.04995898 0.04336464 0.02965986 0.06068782 0.06330444\n",
      " 0.06060613 0.05307198 0.         0.         0.05329715 0.05766673\n",
      " 0.05457124 0.02997283 0.02782597 0.0225073  0.0056998  0.01676249\n",
      " 0.00676244 0.0732641  0.06848777 0.03839471 0.04971053 0.06354127]\n"
     ]
    },
    {
     "data": {
      "text/plain": "<Figure size 432x288 with 1 Axes>",
      "image/png": "[encoded data removed]"
     },
     "metadata": {
      "needs_background": "light"
     },
     "output_type": "display_data"
    }
   ],
   "source": [
    "model.fit(train_data,target)\n",
    "print(model.feature_importances_) #use inbuilt class feature_importances of tree based classifiers\n",
    "#plot graph of feature importances for better visualization\n",
    "exclude_target = list(set(train_data.columns.tolist())- set(['target']))\n",
    "feat_importances = pd.Series(model.feature_importances_, index=exclude_target)\n",
    "feat_importances.nlargest(10).plot(kind='barh')\n",
    "plt.show()"
   ],
   "metadata": {
    "collapsed": false,
    "pycharm": {
     "name": "#%%\n"
    }
   }
  },
  {
   "cell_type": "code",
   "execution_count": 112,
   "outputs": [
    {
     "data": {
      "text/plain": "contents_attribute_d      0.073264\ncontents_attribute_e      0.068488\nh_s_match_yn              0.063541\nperson_prefer_h_3         0.063304\nperson_prefer_d_1         0.060688\nperson_prefer_d_3         0.060606\nperson_prefer_g           0.057667\nperson_attribute_a        0.054571\nperson_prefer_d_2         0.053297\ncontents_attribute_k      0.053072\ncontents_attribute_j_1    0.049959\ncontents_attribute_l      0.049711\ncontents_attribute_i      0.043365\nd_l_match_yn              0.038395\nperson_attribute_b        0.029973\nd_m_match_yn              0.029660\ncontents_attribute_j      0.027826\nperson_attribute_a_1      0.022507\ncontents_attribute_a      0.017763\nperson_prefer_f           0.016762\ndtype: float64"
     },
     "execution_count": 112,
     "metadata": {},
     "output_type": "execute_result"
    }
   ],
   "source": [
    "feat_importances.nlargest(20)"
   ],
   "metadata": {
    "collapsed": false,
    "pycharm": {
     "name": "#%%\n"
    }
   }
  },
  {
   "cell_type": "code",
   "execution_count": 118,
   "outputs": [
    {
     "data": {
      "text/plain": "<AxesSubplot:ylabel='Frequency'>"
     },
     "execution_count": 118,
     "metadata": {},
     "output_type": "execute_result"
    },
    {
     "data": {
      "text/plain": "<Figure size 432x288 with 1 Axes>",
      "image/png": "[encoded data removed]"
     },
     "metadata": {
      "needs_background": "light"
     },
     "output_type": "display_data"
    }
   ],
   "source": [
    "# top feature importance hist\n",
    "train_data[feat_importances.nlargest(20).index[0]].plot.hist()"
   ],
   "metadata": {
    "collapsed": false,
    "pycharm": {
     "name": "#%%\n"
    }
   }
  },
  {
   "cell_type": "code",
   "execution_count": 131,
   "outputs": [
    {
     "data": {
      "text/plain": "contents_attribute_d  target\n4                     0           5\n5                     0          17\n                      1          18\n7                     0          10\n8                     0         197\n                      1         234\n9                     0          48\n                      1          59\n10                    0          90\n                      1         165\n11                    0          11\n                      1          15\n12                    0         126\n                      1         235\n13                    0          42\n                      1          40\n14                    0           9\n                      1          21\n15                    0          13\n                      1           7\ndtype: int64"
     },
     "execution_count": 131,
     "metadata": {},
     "output_type": "execute_result"
    }
   ],
   "source": [
    "# target 분류값이 높은 속성 raw만 취한다 ? 속성별 분류해서 합치기 ?\n",
    "# 피쳐별 target 차가 큰 속성값들을 위주로 활용하는 게 좋을 듯하다 대 중소 세분류 라임로봇 카테고리분류에서 아이디어\n",
    "train[[feat_importances.nlargest(20).index[0],'target']].value_counts().sort_index()[:20]"
   ],
   "metadata": {
    "collapsed": false,
    "pycharm": {
     "name": "#%%\n"
    }
   }
  },
  {
   "cell_type": "code",
   "execution_count": null,
   "outputs": [],
   "source": [
    "train_data[[feat_importances.nlargest(20).index[0],'target']]"
   ],
   "metadata": {
    "collapsed": false,
    "pycharm": {
     "name": "#%%\n"
    }
   }
  },
  {
   "cell_type": "code",
   "execution_count": 140,
   "outputs": [
    {
     "data": {
      "text/plain": "        d_l_match_yn  d_m_match_yn  ...  contents_attribute_e  contents_attribute_h\n0               True          True  ...                     4                   139\n1              False         False  ...                     4                   133\n2              False         False  ...                     4                    53\n3              False         False  ...                     3                    74\n4               True          True  ...                     4                    74\n...              ...           ...  ...                   ...                   ...\n501946         False         False  ...                     5                    65\n501947          True          True  ...                     4                   142\n501948          True          True  ...                     7                    65\n501949          True         False  ...                     4                   259\n501950          True          True  ...                     5                   289\n\n[501951 rows x 30 columns]",
      "text/html": "<div>\n<style scoped>\n    .dataframe tbody tr th:only-of-type {\n        vertical-align: middle;\n    }\n\n    .dataframe tbody tr th {\n        vertical-align: top;\n    }\n\n    .dataframe thead th {\n        text-align: right;\n    }\n</style>\n<table border=\"1\" class=\"dataframe\">\n  <thead>\n    <tr style=\"text-align: right;\">\n      <th></th>\n      <th>d_l_match_yn</th>\n      <th>d_m_match_yn</th>\n      <th>d_s_match_yn</th>\n      <th>h_l_match_yn</th>\n      <th>h_m_match_yn</th>\n      <th>h_s_match_yn</th>\n      <th>person_attribute_a</th>\n      <th>person_attribute_a_1</th>\n      <th>person_attribute_b</th>\n      <th>person_prefer_c</th>\n      <th>person_prefer_d_1</th>\n      <th>person_prefer_d_2</th>\n      <th>person_prefer_d_3</th>\n      <th>person_prefer_e</th>\n      <th>person_prefer_f</th>\n      <th>person_prefer_g</th>\n      <th>person_prefer_h_1</th>\n      <th>person_prefer_h_2</th>\n      <th>person_prefer_h_3</th>\n      <th>contents_attribute_i</th>\n      <th>contents_attribute_a</th>\n      <th>contents_attribute_j_1</th>\n      <th>contents_attribute_j</th>\n      <th>contents_attribute_c</th>\n      <th>contents_attribute_k</th>\n      <th>contents_attribute_l</th>\n      <th>contents_attribute_d</th>\n      <th>contents_attribute_m</th>\n      <th>contents_attribute_e</th>\n      <th>contents_attribute_h</th>\n    </tr>\n  </thead>\n  <tbody>\n    <tr>\n      <th>0</th>\n      <td>True</td>\n      <td>True</td>\n      <td>True</td>\n      <td>False</td>\n      <td>False</td>\n      <td>False</td>\n      <td>1</td>\n      <td>4</td>\n      <td>3</td>\n      <td>5</td>\n      <td>275</td>\n      <td>370</td>\n      <td>369</td>\n      <td>8</td>\n      <td>1</td>\n      <td>1</td>\n      <td>4</td>\n      <td>95</td>\n      <td>59</td>\n      <td>3</td>\n      <td>3</td>\n      <td>10</td>\n      <td>2</td>\n      <td>1</td>\n      <td>2</td>\n      <td>1608</td>\n      <td>275</td>\n      <td>1</td>\n      <td>4</td>\n      <td>139</td>\n    </tr>\n    <tr>\n      <th>1</th>\n      <td>False</td>\n      <td>False</td>\n      <td>False</td>\n      <td>True</td>\n      <td>True</td>\n      <td>False</td>\n      <td>1</td>\n      <td>3</td>\n      <td>4</td>\n      <td>1</td>\n      <td>114</td>\n      <td>181</td>\n      <td>175</td>\n      <td>4</td>\n      <td>1</td>\n      <td>1</td>\n      <td>131</td>\n      <td>101</td>\n      <td>96</td>\n      <td>1</td>\n      <td>3</td>\n      <td>5</td>\n      <td>1</td>\n      <td>1</td>\n      <td>2</td>\n      <td>1608</td>\n      <td>275</td>\n      <td>1</td>\n      <td>4</td>\n      <td>133</td>\n    </tr>\n    <tr>\n      <th>2</th>\n      <td>False</td>\n      <td>False</td>\n      <td>False</td>\n      <td>True</td>\n      <td>False</td>\n      <td>False</td>\n      <td>2</td>\n      <td>0</td>\n      <td>3</td>\n      <td>5</td>\n      <td>464</td>\n      <td>175</td>\n      <td>452</td>\n      <td>3</td>\n      <td>1</td>\n      <td>1</td>\n      <td>54</td>\n      <td>263</td>\n      <td>56</td>\n      <td>3</td>\n      <td>1</td>\n      <td>10</td>\n      <td>2</td>\n      <td>1</td>\n      <td>1</td>\n      <td>1600</td>\n      <td>94</td>\n      <td>1</td>\n      <td>4</td>\n      <td>53</td>\n    </tr>\n    <tr>\n      <th>3</th>\n      <td>False</td>\n      <td>False</td>\n      <td>False</td>\n      <td>True</td>\n      <td>False</td>\n      <td>False</td>\n      <td>2</td>\n      <td>0</td>\n      <td>2</td>\n      <td>5</td>\n      <td>703</td>\n      <td>705</td>\n      <td>704</td>\n      <td>3</td>\n      <td>1</td>\n      <td>1</td>\n      <td>72</td>\n      <td>227</td>\n      <td>2</td>\n      <td>1</td>\n      <td>3</td>\n      <td>5</td>\n      <td>1</td>\n      <td>1</td>\n      <td>2</td>\n      <td>1608</td>\n      <td>275</td>\n      <td>5</td>\n      <td>3</td>\n      <td>74</td>\n    </tr>\n    <tr>\n      <th>4</th>\n      <td>True</td>\n      <td>True</td>\n      <td>True</td>\n      <td>False</td>\n      <td>False</td>\n      <td>False</td>\n      <td>1</td>\n      <td>3</td>\n      <td>4</td>\n      <td>5</td>\n      <td>275</td>\n      <td>370</td>\n      <td>369</td>\n      <td>4</td>\n      <td>1</td>\n      <td>1</td>\n      <td>214</td>\n      <td>210</td>\n      <td>209</td>\n      <td>1</td>\n      <td>1</td>\n      <td>10</td>\n      <td>2</td>\n      <td>1</td>\n      <td>2</td>\n      <td>1608</td>\n      <td>275</td>\n      <td>1</td>\n      <td>4</td>\n      <td>74</td>\n    </tr>\n    <tr>\n      <th>...</th>\n      <td>...</td>\n      <td>...</td>\n      <td>...</td>\n      <td>...</td>\n      <td>...</td>\n      <td>...</td>\n      <td>...</td>\n      <td>...</td>\n      <td>...</td>\n      <td>...</td>\n      <td>...</td>\n      <td>...</td>\n      <td>...</td>\n      <td>...</td>\n      <td>...</td>\n      <td>...</td>\n      <td>...</td>\n      <td>...</td>\n      <td>...</td>\n      <td>...</td>\n      <td>...</td>\n      <td>...</td>\n      <td>...</td>\n      <td>...</td>\n      <td>...</td>\n      <td>...</td>\n      <td>...</td>\n      <td>...</td>\n      <td>...</td>\n      <td>...</td>\n    </tr>\n    <tr>\n      <th>501946</th>\n      <td>False</td>\n      <td>False</td>\n      <td>False</td>\n      <td>True</td>\n      <td>False</td>\n      <td>False</td>\n      <td>1</td>\n      <td>1</td>\n      <td>2</td>\n      <td>2</td>\n      <td>1192</td>\n      <td>935</td>\n      <td>1228</td>\n      <td>3</td>\n      <td>1</td>\n      <td>1</td>\n      <td>59</td>\n      <td>4</td>\n      <td>95</td>\n      <td>3</td>\n      <td>3</td>\n      <td>5</td>\n      <td>1</td>\n      <td>1</td>\n      <td>2</td>\n      <td>354</td>\n      <td>147</td>\n      <td>1</td>\n      <td>5</td>\n      <td>65</td>\n    </tr>\n    <tr>\n      <th>501947</th>\n      <td>True</td>\n      <td>True</td>\n      <td>False</td>\n      <td>True</td>\n      <td>False</td>\n      <td>False</td>\n      <td>1</td>\n      <td>6</td>\n      <td>2</td>\n      <td>1</td>\n      <td>118</td>\n      <td>113</td>\n      <td>110</td>\n      <td>4</td>\n      <td>1</td>\n      <td>1</td>\n      <td>105</td>\n      <td>142</td>\n      <td>95</td>\n      <td>3</td>\n      <td>3</td>\n      <td>10</td>\n      <td>2</td>\n      <td>1</td>\n      <td>2</td>\n      <td>163</td>\n      <td>120</td>\n      <td>1</td>\n      <td>4</td>\n      <td>142</td>\n    </tr>\n    <tr>\n      <th>501948</th>\n      <td>True</td>\n      <td>True</td>\n      <td>True</td>\n      <td>True</td>\n      <td>False</td>\n      <td>False</td>\n      <td>1</td>\n      <td>7</td>\n      <td>4</td>\n      <td>1</td>\n      <td>147</td>\n      <td>46</td>\n      <td>145</td>\n      <td>4</td>\n      <td>1</td>\n      <td>1</td>\n      <td>59</td>\n      <td>127</td>\n      <td>139</td>\n      <td>3</td>\n      <td>1</td>\n      <td>5</td>\n      <td>1</td>\n      <td>1</td>\n      <td>2</td>\n      <td>438</td>\n      <td>147</td>\n      <td>2</td>\n      <td>7</td>\n      <td>65</td>\n    </tr>\n    <tr>\n      <th>501949</th>\n      <td>True</td>\n      <td>False</td>\n      <td>False</td>\n      <td>True</td>\n      <td>False</td>\n      <td>False</td>\n      <td>1</td>\n      <td>1</td>\n      <td>2</td>\n      <td>1</td>\n      <td>46</td>\n      <td>147</td>\n      <td>145</td>\n      <td>4</td>\n      <td>1</td>\n      <td>1</td>\n      <td>251</td>\n      <td>49</td>\n      <td>258</td>\n      <td>3</td>\n      <td>2</td>\n      <td>5</td>\n      <td>1</td>\n      <td>1</td>\n      <td>2</td>\n      <td>660</td>\n      <td>147</td>\n      <td>3</td>\n      <td>4</td>\n      <td>259</td>\n    </tr>\n    <tr>\n      <th>501950</th>\n      <td>True</td>\n      <td>True</td>\n      <td>True</td>\n      <td>True</td>\n      <td>False</td>\n      <td>False</td>\n      <td>1</td>\n      <td>6</td>\n      <td>3</td>\n      <td>5</td>\n      <td>147</td>\n      <td>46</td>\n      <td>145</td>\n      <td>6</td>\n      <td>1</td>\n      <td>1</td>\n      <td>278</td>\n      <td>31</td>\n      <td>49</td>\n      <td>3</td>\n      <td>3</td>\n      <td>5</td>\n      <td>1</td>\n      <td>1</td>\n      <td>2</td>\n      <td>786</td>\n      <td>147</td>\n      <td>2</td>\n      <td>5</td>\n      <td>289</td>\n    </tr>\n  </tbody>\n</table>\n<p>501951 rows × 30 columns</p>\n</div>"
     },
     "execution_count": 140,
     "metadata": {},
     "output_type": "execute_result"
    }
   ],
   "source": [
    "train_data"
   ],
   "metadata": {
    "collapsed": false,
    "pycharm": {
     "name": "#%%\n"
    }
   }
  },
  {
   "cell_type": "code",
   "execution_count": null,
   "outputs": [],
   "source": [
    "import pandas as pd\n",
    "import numpy as np\n",
    "\n",
    "import warnings\n",
    "warnings.filterwarnings('ignore')\n",
    "# !pip install iterative-stratification\n",
    "# import joblib"
   ],
   "metadata": {
    "collapsed": false,
    "pycharm": {
     "name": "#%%\n"
    }
   }
  },
  {
   "cell_type": "code",
   "execution_count": 135,
   "outputs": [],
   "source": [
    "# from iterstrat.ml_stratifiers import MultilabelStratifiedKFold"
   ],
   "metadata": {
    "collapsed": false,
    "pycharm": {
     "name": "#%%\n"
    }
   }
  },
  {
   "cell_type": "code",
   "execution_count": 136,
   "outputs": [
    {
     "ename": "ValueError",
     "evalue": "Setting a random_state has no effect since shuffle is False. You should leave random_state to its default (None), or set shuffle=True.",
     "output_type": "error",
     "traceback": [
      "\u001B[0;31m---------------------------------------------------------------------------\u001B[0m",
      "\u001B[0;31mValueError\u001B[0m                                Traceback (most recent call last)",
      "\u001B[0;32m/var/folders/c6/2j22b1rd02778st12c0mcr3w0000gn/T/ipykernel_45084/724515939.py\u001B[0m in \u001B[0;36m<module>\u001B[0;34m\u001B[0m\n\u001B[0;32m----> 1\u001B[0;31m \u001B[0mmlsk\u001B[0m \u001B[0;34m=\u001B[0m \u001B[0mMultilabelStratifiedKFold\u001B[0m\u001B[0;34m(\u001B[0m \u001B[0mrandom_state\u001B[0m\u001B[0;34m=\u001B[0m\u001B[0;36m42\u001B[0m\u001B[0;34m,\u001B[0m \u001B[0mn_splits\u001B[0m\u001B[0;34m=\u001B[0m\u001B[0;36m5\u001B[0m\u001B[0;34m)\u001B[0m\u001B[0;34m\u001B[0m\u001B[0;34m\u001B[0m\u001B[0m\n\u001B[0m",
      "\u001B[0;32m~/PycharmProjects/pythonProject/venv/lib/python3.8/site-packages/iterstrat/ml_stratifiers.py\u001B[0m in \u001B[0;36m__init__\u001B[0;34m(self, n_splits, shuffle, random_state)\u001B[0m\n\u001B[1;32m    155\u001B[0m \u001B[0;34m\u001B[0m\u001B[0m\n\u001B[1;32m    156\u001B[0m     \u001B[0;32mdef\u001B[0m \u001B[0m__init__\u001B[0m\u001B[0;34m(\u001B[0m\u001B[0mself\u001B[0m\u001B[0;34m,\u001B[0m \u001B[0mn_splits\u001B[0m\u001B[0;34m=\u001B[0m\u001B[0;36m3\u001B[0m\u001B[0;34m,\u001B[0m \u001B[0;34m*\u001B[0m\u001B[0;34m,\u001B[0m \u001B[0mshuffle\u001B[0m\u001B[0;34m=\u001B[0m\u001B[0;32mFalse\u001B[0m\u001B[0;34m,\u001B[0m \u001B[0mrandom_state\u001B[0m\u001B[0;34m=\u001B[0m\u001B[0;32mNone\u001B[0m\u001B[0;34m)\u001B[0m\u001B[0;34m:\u001B[0m\u001B[0;34m\u001B[0m\u001B[0;34m\u001B[0m\u001B[0m\n\u001B[0;32m--> 157\u001B[0;31m         \u001B[0msuper\u001B[0m\u001B[0;34m(\u001B[0m\u001B[0mMultilabelStratifiedKFold\u001B[0m\u001B[0;34m,\u001B[0m \u001B[0mself\u001B[0m\u001B[0;34m)\u001B[0m\u001B[0;34m.\u001B[0m\u001B[0m__init__\u001B[0m\u001B[0;34m(\u001B[0m\u001B[0mn_splits\u001B[0m\u001B[0;34m=\u001B[0m\u001B[0mn_splits\u001B[0m\u001B[0;34m,\u001B[0m \u001B[0mshuffle\u001B[0m\u001B[0;34m=\u001B[0m\u001B[0mshuffle\u001B[0m\u001B[0;34m,\u001B[0m \u001B[0mrandom_state\u001B[0m\u001B[0;34m=\u001B[0m\u001B[0mrandom_state\u001B[0m\u001B[0;34m)\u001B[0m\u001B[0;34m\u001B[0m\u001B[0;34m\u001B[0m\u001B[0m\n\u001B[0m\u001B[1;32m    158\u001B[0m \u001B[0;34m\u001B[0m\u001B[0m\n\u001B[1;32m    159\u001B[0m     \u001B[0;32mdef\u001B[0m \u001B[0m_make_test_folds\u001B[0m\u001B[0;34m(\u001B[0m\u001B[0mself\u001B[0m\u001B[0;34m,\u001B[0m \u001B[0mX\u001B[0m\u001B[0;34m,\u001B[0m \u001B[0my\u001B[0m\u001B[0;34m)\u001B[0m\u001B[0;34m:\u001B[0m\u001B[0;34m\u001B[0m\u001B[0;34m\u001B[0m\u001B[0m\n",
      "\u001B[0;32m~/PycharmProjects/pythonProject/venv/lib/python3.8/site-packages/sklearn/utils/validation.py\u001B[0m in \u001B[0;36minner_f\u001B[0;34m(*args, **kwargs)\u001B[0m\n\u001B[1;32m     61\u001B[0m             \u001B[0mextra_args\u001B[0m \u001B[0;34m=\u001B[0m \u001B[0mlen\u001B[0m\u001B[0;34m(\u001B[0m\u001B[0margs\u001B[0m\u001B[0;34m)\u001B[0m \u001B[0;34m-\u001B[0m \u001B[0mlen\u001B[0m\u001B[0;34m(\u001B[0m\u001B[0mall_args\u001B[0m\u001B[0;34m)\u001B[0m\u001B[0;34m\u001B[0m\u001B[0;34m\u001B[0m\u001B[0m\n\u001B[1;32m     62\u001B[0m             \u001B[0;32mif\u001B[0m \u001B[0mextra_args\u001B[0m \u001B[0;34m<=\u001B[0m \u001B[0;36m0\u001B[0m\u001B[0;34m:\u001B[0m\u001B[0;34m\u001B[0m\u001B[0;34m\u001B[0m\u001B[0m\n\u001B[0;32m---> 63\u001B[0;31m                 \u001B[0;32mreturn\u001B[0m \u001B[0mf\u001B[0m\u001B[0;34m(\u001B[0m\u001B[0;34m*\u001B[0m\u001B[0margs\u001B[0m\u001B[0;34m,\u001B[0m \u001B[0;34m**\u001B[0m\u001B[0mkwargs\u001B[0m\u001B[0;34m)\u001B[0m\u001B[0;34m\u001B[0m\u001B[0;34m\u001B[0m\u001B[0m\n\u001B[0m\u001B[1;32m     64\u001B[0m \u001B[0;34m\u001B[0m\u001B[0m\n\u001B[1;32m     65\u001B[0m             \u001B[0;31m# extra_args > 0\u001B[0m\u001B[0;34m\u001B[0m\u001B[0;34m\u001B[0m\u001B[0;34m\u001B[0m\u001B[0m\n",
      "\u001B[0;32m~/PycharmProjects/pythonProject/venv/lib/python3.8/site-packages/sklearn/model_selection/_split.py\u001B[0m in \u001B[0;36m__init__\u001B[0;34m(self, n_splits, shuffle, random_state)\u001B[0m\n\u001B[1;32m    288\u001B[0m \u001B[0;34m\u001B[0m\u001B[0m\n\u001B[1;32m    289\u001B[0m         \u001B[0;32mif\u001B[0m \u001B[0;32mnot\u001B[0m \u001B[0mshuffle\u001B[0m \u001B[0;32mand\u001B[0m \u001B[0mrandom_state\u001B[0m \u001B[0;32mis\u001B[0m \u001B[0;32mnot\u001B[0m \u001B[0;32mNone\u001B[0m\u001B[0;34m:\u001B[0m  \u001B[0;31m# None is the default\u001B[0m\u001B[0;34m\u001B[0m\u001B[0;34m\u001B[0m\u001B[0m\n\u001B[0;32m--> 290\u001B[0;31m             raise ValueError(\n\u001B[0m\u001B[1;32m    291\u001B[0m                 \u001B[0;34m'Setting a random_state has no effect since shuffle is '\u001B[0m\u001B[0;34m\u001B[0m\u001B[0;34m\u001B[0m\u001B[0m\n\u001B[1;32m    292\u001B[0m                 \u001B[0;34m'False. You should leave '\u001B[0m\u001B[0;34m\u001B[0m\u001B[0;34m\u001B[0m\u001B[0m\n",
      "\u001B[0;31mValueError\u001B[0m: Setting a random_state has no effect since shuffle is False. You should leave random_state to its default (None), or set shuffle=True."
     ]
    }
   ],
   "source": [
    "# mlsk = MultilabelStratifiedKFold( random_state=42, n_splits=5)"
   ],
   "metadata": {
    "collapsed": false,
    "pycharm": {
     "name": "#%%\n"
    }
   }
  },
  {
   "cell_type": "code",
   "execution_count": 138,
   "outputs": [
    {
     "data": {
      "text/plain": "        d_l_match_yn  d_m_match_yn  ...  contents_attribute_e  contents_attribute_h\n0               True          True  ...                     4                   139\n1              False         False  ...                     4                   133\n2              False         False  ...                     4                    53\n3              False         False  ...                     3                    74\n4               True          True  ...                     4                    74\n...              ...           ...  ...                   ...                   ...\n501946         False         False  ...                     5                    65\n501947          True          True  ...                     4                   142\n501948          True          True  ...                     7                    65\n501949          True         False  ...                     4                   259\n501950          True          True  ...                     5                   289\n\n[501951 rows x 30 columns]",
      "text/html": "<div>\n<style scoped>\n    .dataframe tbody tr th:only-of-type {\n        vertical-align: middle;\n    }\n\n    .dataframe tbody tr th {\n        vertical-align: top;\n    }\n\n    .dataframe thead th {\n        text-align: right;\n    }\n</style>\n<table border=\"1\" class=\"dataframe\">\n  <thead>\n    <tr style=\"text-align: right;\">\n      <th></th>\n      <th>d_l_match_yn</th>\n      <th>d_m_match_yn</th>\n      <th>d_s_match_yn</th>\n      <th>h_l_match_yn</th>\n      <th>h_m_match_yn</th>\n      <th>h_s_match_yn</th>\n      <th>person_attribute_a</th>\n      <th>person_attribute_a_1</th>\n      <th>person_attribute_b</th>\n      <th>person_prefer_c</th>\n      <th>person_prefer_d_1</th>\n      <th>person_prefer_d_2</th>\n      <th>person_prefer_d_3</th>\n      <th>person_prefer_e</th>\n      <th>person_prefer_f</th>\n      <th>person_prefer_g</th>\n      <th>person_prefer_h_1</th>\n      <th>person_prefer_h_2</th>\n      <th>person_prefer_h_3</th>\n      <th>contents_attribute_i</th>\n      <th>contents_attribute_a</th>\n      <th>contents_attribute_j_1</th>\n      <th>contents_attribute_j</th>\n      <th>contents_attribute_c</th>\n      <th>contents_attribute_k</th>\n      <th>contents_attribute_l</th>\n      <th>contents_attribute_d</th>\n      <th>contents_attribute_m</th>\n      <th>contents_attribute_e</th>\n      <th>contents_attribute_h</th>\n    </tr>\n  </thead>\n  <tbody>\n    <tr>\n      <th>0</th>\n      <td>True</td>\n      <td>True</td>\n      <td>True</td>\n      <td>False</td>\n      <td>False</td>\n      <td>False</td>\n      <td>1</td>\n      <td>4</td>\n      <td>3</td>\n      <td>5</td>\n      <td>275</td>\n      <td>370</td>\n      <td>369</td>\n      <td>8</td>\n      <td>1</td>\n      <td>1</td>\n      <td>4</td>\n      <td>95</td>\n      <td>59</td>\n      <td>3</td>\n      <td>3</td>\n      <td>10</td>\n      <td>2</td>\n      <td>1</td>\n      <td>2</td>\n      <td>1608</td>\n      <td>275</td>\n      <td>1</td>\n      <td>4</td>\n      <td>139</td>\n    </tr>\n    <tr>\n      <th>1</th>\n      <td>False</td>\n      <td>False</td>\n      <td>False</td>\n      <td>True</td>\n      <td>True</td>\n      <td>False</td>\n      <td>1</td>\n      <td>3</td>\n      <td>4</td>\n      <td>1</td>\n      <td>114</td>\n      <td>181</td>\n      <td>175</td>\n      <td>4</td>\n      <td>1</td>\n      <td>1</td>\n      <td>131</td>\n      <td>101</td>\n      <td>96</td>\n      <td>1</td>\n      <td>3</td>\n      <td>5</td>\n      <td>1</td>\n      <td>1</td>\n      <td>2</td>\n      <td>1608</td>\n      <td>275</td>\n      <td>1</td>\n      <td>4</td>\n      <td>133</td>\n    </tr>\n    <tr>\n      <th>2</th>\n      <td>False</td>\n      <td>False</td>\n      <td>False</td>\n      <td>True</td>\n      <td>False</td>\n      <td>False</td>\n      <td>2</td>\n      <td>0</td>\n      <td>3</td>\n      <td>5</td>\n      <td>464</td>\n      <td>175</td>\n      <td>452</td>\n      <td>3</td>\n      <td>1</td>\n      <td>1</td>\n      <td>54</td>\n      <td>263</td>\n      <td>56</td>\n      <td>3</td>\n      <td>1</td>\n      <td>10</td>\n      <td>2</td>\n      <td>1</td>\n      <td>1</td>\n      <td>1600</td>\n      <td>94</td>\n      <td>1</td>\n      <td>4</td>\n      <td>53</td>\n    </tr>\n    <tr>\n      <th>3</th>\n      <td>False</td>\n      <td>False</td>\n      <td>False</td>\n      <td>True</td>\n      <td>False</td>\n      <td>False</td>\n      <td>2</td>\n      <td>0</td>\n      <td>2</td>\n      <td>5</td>\n      <td>703</td>\n      <td>705</td>\n      <td>704</td>\n      <td>3</td>\n      <td>1</td>\n      <td>1</td>\n      <td>72</td>\n      <td>227</td>\n      <td>2</td>\n      <td>1</td>\n      <td>3</td>\n      <td>5</td>\n      <td>1</td>\n      <td>1</td>\n      <td>2</td>\n      <td>1608</td>\n      <td>275</td>\n      <td>5</td>\n      <td>3</td>\n      <td>74</td>\n    </tr>\n    <tr>\n      <th>4</th>\n      <td>True</td>\n      <td>True</td>\n      <td>True</td>\n      <td>False</td>\n      <td>False</td>\n      <td>False</td>\n      <td>1</td>\n      <td>3</td>\n      <td>4</td>\n      <td>5</td>\n      <td>275</td>\n      <td>370</td>\n      <td>369</td>\n      <td>4</td>\n      <td>1</td>\n      <td>1</td>\n      <td>214</td>\n      <td>210</td>\n      <td>209</td>\n      <td>1</td>\n      <td>1</td>\n      <td>10</td>\n      <td>2</td>\n      <td>1</td>\n      <td>2</td>\n      <td>1608</td>\n      <td>275</td>\n      <td>1</td>\n      <td>4</td>\n      <td>74</td>\n    </tr>\n    <tr>\n      <th>...</th>\n      <td>...</td>\n      <td>...</td>\n      <td>...</td>\n      <td>...</td>\n      <td>...</td>\n      <td>...</td>\n      <td>...</td>\n      <td>...</td>\n      <td>...</td>\n      <td>...</td>\n      <td>...</td>\n      <td>...</td>\n      <td>...</td>\n      <td>...</td>\n      <td>...</td>\n      <td>...</td>\n      <td>...</td>\n      <td>...</td>\n      <td>...</td>\n      <td>...</td>\n      <td>...</td>\n      <td>...</td>\n      <td>...</td>\n      <td>...</td>\n      <td>...</td>\n      <td>...</td>\n      <td>...</td>\n      <td>...</td>\n      <td>...</td>\n      <td>...</td>\n    </tr>\n    <tr>\n      <th>501946</th>\n      <td>False</td>\n      <td>False</td>\n      <td>False</td>\n      <td>True</td>\n      <td>False</td>\n      <td>False</td>\n      <td>1</td>\n      <td>1</td>\n      <td>2</td>\n      <td>2</td>\n      <td>1192</td>\n      <td>935</td>\n      <td>1228</td>\n      <td>3</td>\n      <td>1</td>\n      <td>1</td>\n      <td>59</td>\n      <td>4</td>\n      <td>95</td>\n      <td>3</td>\n      <td>3</td>\n      <td>5</td>\n      <td>1</td>\n      <td>1</td>\n      <td>2</td>\n      <td>354</td>\n      <td>147</td>\n      <td>1</td>\n      <td>5</td>\n      <td>65</td>\n    </tr>\n    <tr>\n      <th>501947</th>\n      <td>True</td>\n      <td>True</td>\n      <td>False</td>\n      <td>True</td>\n      <td>False</td>\n      <td>False</td>\n      <td>1</td>\n      <td>6</td>\n      <td>2</td>\n      <td>1</td>\n      <td>118</td>\n      <td>113</td>\n      <td>110</td>\n      <td>4</td>\n      <td>1</td>\n      <td>1</td>\n      <td>105</td>\n      <td>142</td>\n      <td>95</td>\n      <td>3</td>\n      <td>3</td>\n      <td>10</td>\n      <td>2</td>\n      <td>1</td>\n      <td>2</td>\n      <td>163</td>\n      <td>120</td>\n      <td>1</td>\n      <td>4</td>\n      <td>142</td>\n    </tr>\n    <tr>\n      <th>501948</th>\n      <td>True</td>\n      <td>True</td>\n      <td>True</td>\n      <td>True</td>\n      <td>False</td>\n      <td>False</td>\n      <td>1</td>\n      <td>7</td>\n      <td>4</td>\n      <td>1</td>\n      <td>147</td>\n      <td>46</td>\n      <td>145</td>\n      <td>4</td>\n      <td>1</td>\n      <td>1</td>\n      <td>59</td>\n      <td>127</td>\n      <td>139</td>\n      <td>3</td>\n      <td>1</td>\n      <td>5</td>\n      <td>1</td>\n      <td>1</td>\n      <td>2</td>\n      <td>438</td>\n      <td>147</td>\n      <td>2</td>\n      <td>7</td>\n      <td>65</td>\n    </tr>\n    <tr>\n      <th>501949</th>\n      <td>True</td>\n      <td>False</td>\n      <td>False</td>\n      <td>True</td>\n      <td>False</td>\n      <td>False</td>\n      <td>1</td>\n      <td>1</td>\n      <td>2</td>\n      <td>1</td>\n      <td>46</td>\n      <td>147</td>\n      <td>145</td>\n      <td>4</td>\n      <td>1</td>\n      <td>1</td>\n      <td>251</td>\n      <td>49</td>\n      <td>258</td>\n      <td>3</td>\n      <td>2</td>\n      <td>5</td>\n      <td>1</td>\n      <td>1</td>\n      <td>2</td>\n      <td>660</td>\n      <td>147</td>\n      <td>3</td>\n      <td>4</td>\n      <td>259</td>\n    </tr>\n    <tr>\n      <th>501950</th>\n      <td>True</td>\n      <td>True</td>\n      <td>True</td>\n      <td>True</td>\n      <td>False</td>\n      <td>False</td>\n      <td>1</td>\n      <td>6</td>\n      <td>3</td>\n      <td>5</td>\n      <td>147</td>\n      <td>46</td>\n      <td>145</td>\n      <td>6</td>\n      <td>1</td>\n      <td>1</td>\n      <td>278</td>\n      <td>31</td>\n      <td>49</td>\n      <td>3</td>\n      <td>3</td>\n      <td>5</td>\n      <td>1</td>\n      <td>1</td>\n      <td>2</td>\n      <td>786</td>\n      <td>147</td>\n      <td>2</td>\n      <td>5</td>\n      <td>289</td>\n    </tr>\n  </tbody>\n</table>\n<p>501951 rows × 30 columns</p>\n</div>"
     },
     "execution_count": 138,
     "metadata": {},
     "output_type": "execute_result"
    }
   ],
   "source": [
    "# train_data"
   ],
   "metadata": {
    "collapsed": false,
    "pycharm": {
     "name": "#%%\n"
    }
   }
  },
  {
   "cell_type": "code",
   "execution_count": null,
   "outputs": [],
   "source": [
    "# for i , (trn_idx, vid,idx) in enumerate(mlsk.split(train_data,target)):\n",
    "#     train_data.loc[trn_idx,'fold'] = i"
   ],
   "metadata": {
    "collapsed": false,
    "pycharm": {
     "name": "#%%\n"
    }
   }
  },
  {
   "cell_type": "code",
   "execution_count": null,
   "outputs": [],
   "source": [
    "# train_data['fold'].value_counts()\n",
    "# from tqdm import tqdm"
   ],
   "metadata": {
    "collapsed": false,
    "pycharm": {
     "name": "#%%\n"
    }
   }
  },
  {
   "cell_type": "code",
   "execution_count": null,
   "outputs": [],
   "source": [],
   "metadata": {
    "collapsed": false,
    "pycharm": {
     "name": "#%%\n"
    }
   }
  },
  {
   "cell_type": "code",
   "execution_count": 139,
   "outputs": [
    {
     "name": "stdout",
     "output_type": "stream",
     "text": [
      "CPU times: user 44.4 ms, sys: 3.1 ms, total: 47.5 ms\n",
      "Wall time: 46.5 ms\n"
     ]
    },
    {
     "data": {
      "text/plain": "<AxesSubplot:>"
     },
     "execution_count": 139,
     "metadata": {},
     "output_type": "execute_result"
    },
    {
     "data": {
      "text/plain": "<Figure size 720x1440 with 1 Axes>",
      "image/png": "[encoded data removed]"
     },
     "metadata": {
      "needs_background": "light"
     },
     "output_type": "display_data"
    }
   ],
   "source": [
    "# %%time\n",
    "# plt.figure(figsize=(10,20))\n",
    "# train_data['person_prefer_c'].value_counts().plot.barh()\n",
    "# 각각의 feature 가 불균형하므로 stratifiedKFold를 적용해야한다"
   ],
   "metadata": {
    "collapsed": false,
    "pycharm": {
     "name": "#%%\n"
    }
   }
  },
  {
   "cell_type": "code",
   "execution_count": null,
   "outputs": [],
   "source": [
    "# test = 'test'\n",
    "#\n",
    "# joblib.dump(train_data,f'train_data{test}.pkl')\n",
    "# joblib.load(train_data,f'train_data{test}.pkl')"
   ],
   "metadata": {
    "collapsed": false,
    "pycharm": {
     "name": "#%%\n"
    }
   }
  },
  {
   "cell_type": "code",
   "execution_count": null,
   "outputs": [],
   "source": [],
   "metadata": {
    "collapsed": false,
    "pycharm": {
     "name": "#%%\n"
    }
   }
  },
  {
   "cell_type": "code",
   "execution_count": null,
   "outputs": [],
   "source": [
    "# train_data['id'] = train_data['train_id'].apply(lambda x : x.split('_')[1])"
   ],
   "metadata": {
    "collapsed": false,
    "pycharm": {
     "name": "#%%\n"
    }
   }
  },
  {
   "cell_type": "code",
   "execution_count": null,
   "outputs": [],
   "source": [
    "data_dir = './JobCare_data/'\n",
    "# files = [fname for fname in filenames if 'csv' in fname]"
   ],
   "metadata": {
    "collapsed": false,
    "pycharm": {
     "name": "#%%\n"
    }
   }
  },
  {
   "cell_type": "code",
   "execution_count": null,
   "outputs": [],
   "source": [
    "# import os"
   ],
   "metadata": {
    "collapsed": false,
    "pycharm": {
     "name": "#%%\n"
    }
   }
  },
  {
   "cell_type": "code",
   "execution_count": null,
   "outputs": [],
   "source": [
    "# for file in files:\n",
    "#     F = os.path.join(data_dir, file)\n",
    "#     #file =joblib.load(F)\n",
    "#     df_train = pd.read_parquet(F)\n",
    "#     # numpy or pkl so fast don't pandas\n",
    "#     img_ids = df_train['image_id'].values\n",
    "#     img = df_train.iloc[:,1:].values\n",
    "#     # 파일별로 row (이미지) 저장\n",
    "#     for idx in"
   ],
   "metadata": {
    "collapsed": false,
    "pycharm": {
     "name": "#%%\n"
    }
   }
  },
  {
   "cell_type": "code",
   "execution_count": null,
   "outputs": [],
   "source": [
    "#대 중 소 세 네 개의 카테고리 조합으로 타겟 예측\n",
    "\n",
    "from itertools import combinations"
   ],
   "metadata": {
    "collapsed": false,
    "pycharm": {
     "name": "#%%\n"
    }
   }
  },
  {
   "cell_type": "code",
   "execution_count": 108,
   "outputs": [
    {
     "data": {
      "text/plain": "        d_l_match_yn  d_m_match_yn  ...  contents_attribute_e  contents_attribute_h\n0               True          True  ...                     4                   139\n1              False         False  ...                     4                   133\n2              False         False  ...                     4                    53\n3              False         False  ...                     3                    74\n4               True          True  ...                     4                    74\n...              ...           ...  ...                   ...                   ...\n501946         False         False  ...                     5                    65\n501947          True          True  ...                     4                   142\n501948          True          True  ...                     7                    65\n501949          True         False  ...                     4                   259\n501950          True          True  ...                     5                   289\n\n[501951 rows x 30 columns]",
      "text/html": "<div>\n<style scoped>\n    .dataframe tbody tr th:only-of-type {\n        vertical-align: middle;\n    }\n\n    .dataframe tbody tr th {\n        vertical-align: top;\n    }\n\n    .dataframe thead th {\n        text-align: right;\n    }\n</style>\n<table border=\"1\" class=\"dataframe\">\n  <thead>\n    <tr style=\"text-align: right;\">\n      <th></th>\n      <th>d_l_match_yn</th>\n      <th>d_m_match_yn</th>\n      <th>d_s_match_yn</th>\n      <th>h_l_match_yn</th>\n      <th>h_m_match_yn</th>\n      <th>h_s_match_yn</th>\n      <th>person_attribute_a</th>\n      <th>person_attribute_a_1</th>\n      <th>person_attribute_b</th>\n      <th>person_prefer_c</th>\n      <th>person_prefer_d_1</th>\n      <th>person_prefer_d_2</th>\n      <th>person_prefer_d_3</th>\n      <th>person_prefer_e</th>\n      <th>person_prefer_f</th>\n      <th>person_prefer_g</th>\n      <th>person_prefer_h_1</th>\n      <th>person_prefer_h_2</th>\n      <th>person_prefer_h_3</th>\n      <th>contents_attribute_i</th>\n      <th>contents_attribute_a</th>\n      <th>contents_attribute_j_1</th>\n      <th>contents_attribute_j</th>\n      <th>contents_attribute_c</th>\n      <th>contents_attribute_k</th>\n      <th>contents_attribute_l</th>\n      <th>contents_attribute_d</th>\n      <th>contents_attribute_m</th>\n      <th>contents_attribute_e</th>\n      <th>contents_attribute_h</th>\n    </tr>\n  </thead>\n  <tbody>\n    <tr>\n      <th>0</th>\n      <td>True</td>\n      <td>True</td>\n      <td>True</td>\n      <td>False</td>\n      <td>False</td>\n      <td>False</td>\n      <td>1</td>\n      <td>4</td>\n      <td>3</td>\n      <td>5</td>\n      <td>275</td>\n      <td>370</td>\n      <td>369</td>\n      <td>8</td>\n      <td>1</td>\n      <td>1</td>\n      <td>4</td>\n      <td>95</td>\n      <td>59</td>\n      <td>3</td>\n      <td>3</td>\n      <td>10</td>\n      <td>2</td>\n      <td>1</td>\n      <td>2</td>\n      <td>1608</td>\n      <td>275</td>\n      <td>1</td>\n      <td>4</td>\n      <td>139</td>\n    </tr>\n    <tr>\n      <th>1</th>\n      <td>False</td>\n      <td>False</td>\n      <td>False</td>\n      <td>True</td>\n      <td>True</td>\n      <td>False</td>\n      <td>1</td>\n      <td>3</td>\n      <td>4</td>\n      <td>1</td>\n      <td>114</td>\n      <td>181</td>\n      <td>175</td>\n      <td>4</td>\n      <td>1</td>\n      <td>1</td>\n      <td>131</td>\n      <td>101</td>\n      <td>96</td>\n      <td>1</td>\n      <td>3</td>\n      <td>5</td>\n      <td>1</td>\n      <td>1</td>\n      <td>2</td>\n      <td>1608</td>\n      <td>275</td>\n      <td>1</td>\n      <td>4</td>\n      <td>133</td>\n    </tr>\n    <tr>\n      <th>2</th>\n      <td>False</td>\n      <td>False</td>\n      <td>False</td>\n      <td>True</td>\n      <td>False</td>\n      <td>False</td>\n      <td>2</td>\n      <td>0</td>\n      <td>3</td>\n      <td>5</td>\n      <td>464</td>\n      <td>175</td>\n      <td>452</td>\n      <td>3</td>\n      <td>1</td>\n      <td>1</td>\n      <td>54</td>\n      <td>263</td>\n      <td>56</td>\n      <td>3</td>\n      <td>1</td>\n      <td>10</td>\n      <td>2</td>\n      <td>1</td>\n      <td>1</td>\n      <td>1600</td>\n      <td>94</td>\n      <td>1</td>\n      <td>4</td>\n      <td>53</td>\n    </tr>\n    <tr>\n      <th>3</th>\n      <td>False</td>\n      <td>False</td>\n      <td>False</td>\n      <td>True</td>\n      <td>False</td>\n      <td>False</td>\n      <td>2</td>\n      <td>0</td>\n      <td>2</td>\n      <td>5</td>\n      <td>703</td>\n      <td>705</td>\n      <td>704</td>\n      <td>3</td>\n      <td>1</td>\n      <td>1</td>\n      <td>72</td>\n      <td>227</td>\n      <td>2</td>\n      <td>1</td>\n      <td>3</td>\n      <td>5</td>\n      <td>1</td>\n      <td>1</td>\n      <td>2</td>\n      <td>1608</td>\n      <td>275</td>\n      <td>5</td>\n      <td>3</td>\n      <td>74</td>\n    </tr>\n    <tr>\n      <th>4</th>\n      <td>True</td>\n      <td>True</td>\n      <td>True</td>\n      <td>False</td>\n      <td>False</td>\n      <td>False</td>\n      <td>1</td>\n      <td>3</td>\n      <td>4</td>\n      <td>5</td>\n      <td>275</td>\n      <td>370</td>\n      <td>369</td>\n      <td>4</td>\n      <td>1</td>\n      <td>1</td>\n      <td>214</td>\n      <td>210</td>\n      <td>209</td>\n      <td>1</td>\n      <td>1</td>\n      <td>10</td>\n      <td>2</td>\n      <td>1</td>\n      <td>2</td>\n      <td>1608</td>\n      <td>275</td>\n      <td>1</td>\n      <td>4</td>\n      <td>74</td>\n    </tr>\n    <tr>\n      <th>...</th>\n      <td>...</td>\n      <td>...</td>\n      <td>...</td>\n      <td>...</td>\n      <td>...</td>\n      <td>...</td>\n      <td>...</td>\n      <td>...</td>\n      <td>...</td>\n      <td>...</td>\n      <td>...</td>\n      <td>...</td>\n      <td>...</td>\n      <td>...</td>\n      <td>...</td>\n      <td>...</td>\n      <td>...</td>\n      <td>...</td>\n      <td>...</td>\n      <td>...</td>\n      <td>...</td>\n      <td>...</td>\n      <td>...</td>\n      <td>...</td>\n      <td>...</td>\n      <td>...</td>\n      <td>...</td>\n      <td>...</td>\n      <td>...</td>\n      <td>...</td>\n    </tr>\n    <tr>\n      <th>501946</th>\n      <td>False</td>\n      <td>False</td>\n      <td>False</td>\n      <td>True</td>\n      <td>False</td>\n      <td>False</td>\n      <td>1</td>\n      <td>1</td>\n      <td>2</td>\n      <td>2</td>\n      <td>1192</td>\n      <td>935</td>\n      <td>1228</td>\n      <td>3</td>\n      <td>1</td>\n      <td>1</td>\n      <td>59</td>\n      <td>4</td>\n      <td>95</td>\n      <td>3</td>\n      <td>3</td>\n      <td>5</td>\n      <td>1</td>\n      <td>1</td>\n      <td>2</td>\n      <td>354</td>\n      <td>147</td>\n      <td>1</td>\n      <td>5</td>\n      <td>65</td>\n    </tr>\n    <tr>\n      <th>501947</th>\n      <td>True</td>\n      <td>True</td>\n      <td>False</td>\n      <td>True</td>\n      <td>False</td>\n      <td>False</td>\n      <td>1</td>\n      <td>6</td>\n      <td>2</td>\n      <td>1</td>\n      <td>118</td>\n      <td>113</td>\n      <td>110</td>\n      <td>4</td>\n      <td>1</td>\n      <td>1</td>\n      <td>105</td>\n      <td>142</td>\n      <td>95</td>\n      <td>3</td>\n      <td>3</td>\n      <td>10</td>\n      <td>2</td>\n      <td>1</td>\n      <td>2</td>\n      <td>163</td>\n      <td>120</td>\n      <td>1</td>\n      <td>4</td>\n      <td>142</td>\n    </tr>\n    <tr>\n      <th>501948</th>\n      <td>True</td>\n      <td>True</td>\n      <td>True</td>\n      <td>True</td>\n      <td>False</td>\n      <td>False</td>\n      <td>1</td>\n      <td>7</td>\n      <td>4</td>\n      <td>1</td>\n      <td>147</td>\n      <td>46</td>\n      <td>145</td>\n      <td>4</td>\n      <td>1</td>\n      <td>1</td>\n      <td>59</td>\n      <td>127</td>\n      <td>139</td>\n      <td>3</td>\n      <td>1</td>\n      <td>5</td>\n      <td>1</td>\n      <td>1</td>\n      <td>2</td>\n      <td>438</td>\n      <td>147</td>\n      <td>2</td>\n      <td>7</td>\n      <td>65</td>\n    </tr>\n    <tr>\n      <th>501949</th>\n      <td>True</td>\n      <td>False</td>\n      <td>False</td>\n      <td>True</td>\n      <td>False</td>\n      <td>False</td>\n      <td>1</td>\n      <td>1</td>\n      <td>2</td>\n      <td>1</td>\n      <td>46</td>\n      <td>147</td>\n      <td>145</td>\n      <td>4</td>\n      <td>1</td>\n      <td>1</td>\n      <td>251</td>\n      <td>49</td>\n      <td>258</td>\n      <td>3</td>\n      <td>2</td>\n      <td>5</td>\n      <td>1</td>\n      <td>1</td>\n      <td>2</td>\n      <td>660</td>\n      <td>147</td>\n      <td>3</td>\n      <td>4</td>\n      <td>259</td>\n    </tr>\n    <tr>\n      <th>501950</th>\n      <td>True</td>\n      <td>True</td>\n      <td>True</td>\n      <td>True</td>\n      <td>False</td>\n      <td>False</td>\n      <td>1</td>\n      <td>6</td>\n      <td>3</td>\n      <td>5</td>\n      <td>147</td>\n      <td>46</td>\n      <td>145</td>\n      <td>6</td>\n      <td>1</td>\n      <td>1</td>\n      <td>278</td>\n      <td>31</td>\n      <td>49</td>\n      <td>3</td>\n      <td>3</td>\n      <td>5</td>\n      <td>1</td>\n      <td>1</td>\n      <td>2</td>\n      <td>786</td>\n      <td>147</td>\n      <td>2</td>\n      <td>5</td>\n      <td>289</td>\n    </tr>\n  </tbody>\n</table>\n<p>501951 rows × 30 columns</p>\n</div>"
     },
     "execution_count": 108,
     "metadata": {},
     "output_type": "execute_result"
    }
   ],
   "source": [
    "train_data"
   ],
   "metadata": {
    "collapsed": false,
    "pycharm": {
     "name": "#%%\n"
    }
   }
  },
  {
   "cell_type": "code",
   "execution_count": 107,
   "outputs": [
    {
     "data": {
      "text/plain": "[('d_l_match_yn', 'd_m_match_yn'),\n ('d_l_match_yn', 'd_s_match_yn'),\n ('d_l_match_yn', 'h_l_match_yn'),\n ('d_l_match_yn', 'h_m_match_yn'),\n ('d_l_match_yn', 'h_s_match_yn'),\n ('d_m_match_yn', 'd_s_match_yn'),\n ('d_m_match_yn', 'h_l_match_yn'),\n ('d_m_match_yn', 'h_m_match_yn'),\n ('d_m_match_yn', 'h_s_match_yn'),\n ('d_s_match_yn', 'h_l_match_yn'),\n ('d_s_match_yn', 'h_m_match_yn'),\n ('d_s_match_yn', 'h_s_match_yn'),\n ('h_l_match_yn', 'h_m_match_yn'),\n ('h_l_match_yn', 'h_s_match_yn'),\n ('h_m_match_yn', 'h_s_match_yn')]"
     },
     "execution_count": 107,
     "metadata": {},
     "output_type": "execute_result"
    }
   ],
   "source": [
    "list(combinations([col for col in train_data.columns if 'match_yn' in col],2))"
   ],
   "metadata": {
    "collapsed": false,
    "pycharm": {
     "name": "#%%\n"
    }
   }
  },
  {
   "cell_type": "code",
   "execution_count": null,
   "outputs": [],
   "source": [],
   "metadata": {
    "collapsed": false,
    "pycharm": {
     "name": "#%%\n"
    }
   }
  },
  {
   "cell_type": "code",
   "execution_count": null,
   "outputs": [],
   "source": [
    "train_data"
   ],
   "metadata": {
    "collapsed": false,
    "pycharm": {
     "name": "#%%\n"
    }
   }
  },
  {
   "cell_type": "code",
   "execution_count": null,
   "outputs": [],
   "source": [
    "np.asarray(exclude_target).shape"
   ],
   "metadata": {
    "collapsed": false,
    "pycharm": {
     "name": "#%%\n"
    }
   }
  },
  {
   "cell_type": "code",
   "execution_count": null,
   "outputs": [],
   "source": [],
   "metadata": {
    "collapsed": false,
    "pycharm": {
     "name": "#%%\n"
    }
   }
  },
  {
   "cell_type": "code",
   "execution_count": null,
   "outputs": [],
   "source": [
    "# feature importance 모형 기반 추출,"
   ],
   "metadata": {
    "collapsed": false,
    "pycharm": {
     "name": "#%%\n"
    }
   }
  },
  {
   "cell_type": "code",
   "execution_count": null,
   "outputs": [],
   "source": [],
   "metadata": {
    "collapsed": false,
    "pycharm": {
     "name": "#%%\n"
    }
   }
  },
  {
   "cell_type": "code",
   "execution_count": null,
   "outputs": [],
   "source": [
    "# 너무 길어지면 필연적으로 작아지니 나눠서 plot 한다"
   ],
   "metadata": {
    "collapsed": false,
    "pycharm": {
     "name": "#%%\n"
    }
   }
  },
  {
   "cell_type": "code",
   "execution_count": null,
   "outputs": [],
   "source": [],
   "metadata": {
    "collapsed": false,
    "pycharm": {
     "name": "#%%\n"
    }
   }
  },
  {
   "cell_type": "code",
   "execution_count": null,
   "outputs": [],
   "source": [],
   "metadata": {
    "collapsed": false,
    "pycharm": {
     "name": "#%%\n"
    }
   }
  },
  {
   "cell_type": "code",
   "execution_count": null,
   "outputs": [],
   "source": [],
   "metadata": {
    "collapsed": false,
    "pycharm": {
     "name": "#%%\n"
    }
   }
  },
  {
   "cell_type": "code",
   "execution_count": null,
   "outputs": [],
   "source": [
    "# feature selection\n",
    "# 통계기반, 모형기반\n",
    "from sklearn.feature_selection import SelectKBest, chi2\n",
    "feature_selector  = SelectKBest(chi2)"
   ],
   "metadata": {
    "collapsed": false,
    "pycharm": {
     "name": "#%%\n"
    }
   }
  },
  {
   "cell_type": "code",
   "execution_count": null,
   "outputs": [],
   "source": [],
   "metadata": {
    "collapsed": false,
    "pycharm": {
     "name": "#%%\n"
    }
   }
  },
  {
   "cell_type": "code",
   "execution_count": null,
   "outputs": [],
   "source": [],
   "metadata": {
    "collapsed": false,
    "pycharm": {
     "name": "#%%\n"
    }
   }
  }
 ],
 "metadata": {
  "kernelspec": {
   "display_name": "Python 3",
   "language": "python",
   "name": "python3"
  },
  "language_info": {
   "codemirror_mode": {
    "name": "ipython",
    "version": 2
   },
   "file_extension": ".py",
   "mimetype": "text/x-python",
   "name": "python",
   "nbconvert_exporter": "python",
   "pygments_lexer": "ipython2",
   "version": "2.7.6"
  }
 },
 "nbformat": 4,
 "nbformat_minor": 0
}