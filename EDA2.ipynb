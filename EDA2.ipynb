{
 "cells": [
  {
   "cell_type": "code",
   "execution_count": 1,
   "metadata": {
    "collapsed": true
   },
   "outputs": [],
   "source": [
    "import pandas as pd\n",
    "from sklearn.ensemble import RandomForestClassifier\n",
    "from sklearn.model_selection import train_test_split\n",
    "\n",
    "from typing import List ,Dict, Tuple\n",
    "import numpy as np"
   ]
  },
  {
   "cell_type": "code",
   "execution_count": 6,
   "outputs": [],
   "source": [
    "train = pd.read_csv('./JobCare_data/train.csv')"
   ],
   "metadata": {
    "collapsed": false,
    "pycharm": {
     "name": "#%%\n"
    }
   }
  },
  {
   "cell_type": "code",
   "execution_count": 7,
   "outputs": [],
   "source": [
    "nominal_cols = ['person_attribute_a_1','person_attribute_b','person_prefer_e','contents_attribute_e']"
   ],
   "metadata": {
    "collapsed": false,
    "pycharm": {
     "name": "#%%\n"
    }
   }
  },
  {
   "cell_type": "code",
   "execution_count": null,
   "outputs": [],
   "source": [
    "# 오버피팅이 자주 발생하는 mean encoding 이므로 cross validation 과 정규화 같이 사용한다=\n",
    "# 변환 하고자 하는 범주형 변수 선택\n",
    "# 범주형 변수 그룹화 -> 타깃 변수 총합 합계\n",
    "# 범주형 변수 그룹화 타깃 빈도수 합계\n",
    "# 총합을 카운트로 나누고 본래 범주 값에 업데이트\n",
    "# 여러가지 방법으로 적용 가능하다\n",
    "# 비슷한 범주 사이에 있는 관계 표현 특징, 범주와 타깃사이에만 국한된다\n",
    "# 범주가 많은 경우 이 방법은 데이터를 훨씬 더 단순화 한다"
   ],
   "metadata": {
    "collapsed": false,
    "pycharm": {
     "name": "#%%\n"
    }
   }
  },
  {
   "cell_type": "code",
   "execution_count": null,
   "outputs": [],
   "source": [],
   "metadata": {
    "collapsed": false,
    "pycharm": {
     "name": "#%%\n"
    }
   }
  },
  {
   "cell_type": "code",
   "execution_count": 8,
   "outputs": [],
   "source": [
    "for col in nominal_cols:\n",
    "    if 'attribute' in col:\n",
    "        name = col[col.index('attribute') + len('attribute')+1:]\n",
    "        var_name = 'attr_{}_mean_encode'.format(name)\n",
    "        locals()[var_name] = train.groupby(col)[\"target\"].mean()\n",
    "    elif 'prefer' in col:\n",
    "        name = col[col.index('prefer') + len('prefer')+1:]\n",
    "        var_name = 'prefer_{}_mean_encode'.format(name)\n",
    "        locals()[var_name] = train.groupby(col)[\"target\"].mean()\n",
    "    train.loc[:,var_name] = train[col].map(locals()[var_name])"
   ],
   "metadata": {
    "collapsed": false,
    "pycharm": {
     "name": "#%%\n"
    }
   }
  },
  {
   "cell_type": "code",
   "execution_count": 9,
   "outputs": [],
   "source": [
    "target = train.target\n",
    "train = train.drop('target',axis=1)"
   ],
   "metadata": {
    "collapsed": false,
    "pycharm": {
     "name": "#%%\n"
    }
   }
  },
  {
   "cell_type": "code",
   "execution_count": 10,
   "outputs": [],
   "source": [
    "train = train.drop(['contents_open_dt','id'],axis=1)"
   ],
   "metadata": {
    "collapsed": false,
    "pycharm": {
     "name": "#%%\n"
    }
   }
  },
  {
   "cell_type": "code",
   "execution_count": 10,
   "outputs": [],
   "source": [],
   "metadata": {
    "collapsed": false,
    "pycharm": {
     "name": "#%%\n"
    }
   }
  },
  {
   "cell_type": "code",
   "execution_count": 11,
   "outputs": [
    {
     "data": {
      "text/plain": "RandomForestClassifier(max_depth=8, max_features=0.2, min_samples_split=4,\n                       n_estimators=150, n_jobs=-1, random_state=0)"
     },
     "execution_count": 11,
     "metadata": {},
     "output_type": "execute_result"
    }
   ],
   "source": [
    "x_train, x_valid, y_train, y_valid = train_test_split(train,target , test_size=0.3 , shuffle=True, stratify=target, random_state=34)\n",
    "rf= RandomForestClassifier(n_estimators=150 , max_depth=8 , min_samples_split=4, max_features=0.2, n_jobs=-1 ,random_state=0)\n",
    "rf.fit(x_train,y_train)"
   ],
   "metadata": {
    "collapsed": false,
    "pycharm": {
     "name": "#%%\n"
    }
   }
  },
  {
   "cell_type": "code",
   "execution_count": 57,
   "outputs": [
    {
     "data": {
      "text/plain": "0.5970076899578978"
     },
     "execution_count": 57,
     "metadata": {},
     "output_type": "execute_result"
    }
   ],
   "source": [
    "\n",
    "# 과적합일진 모르지만 그래도많이올랐따 만족할 수 없음\n",
    "# 0.57정도에서 0.59 정도로 mean encoding 으로 상승\n",
    "\n",
    "(y_valid == rf.predict(x_valid)).mean()"
   ],
   "metadata": {
    "collapsed": false,
    "pycharm": {
     "name": "#%%\n"
    }
   }
  },
  {
   "cell_type": "code",
   "execution_count": null,
   "outputs": [],
   "source": [
    "#catboost + cv 5fold + threshold"
   ],
   "metadata": {
    "collapsed": false,
    "pycharm": {
     "name": "#%%\n"
    }
   }
  },
  {
   "cell_type": "code",
   "execution_count": 37,
   "outputs": [],
   "source": [
    "# 전역 변수\n",
    "SEED = 42\n",
    "DATA_PATH = './JobCare_data/'"
   ],
   "metadata": {
    "collapsed": false,
    "pycharm": {
     "name": "#%%\n"
    }
   }
  },
  {
   "cell_type": "code",
   "execution_count": 29,
   "outputs": [],
   "source": [
    "train_data = pd.read_csv(f'{DATA_PATH}train.csv')\n",
    "test_data = pd.read_csv(f'{DATA_PATH}test.csv')"
   ],
   "metadata": {
    "collapsed": false,
    "pycharm": {
     "name": "#%%\n"
    }
   }
  },
  {
   "cell_type": "code",
   "execution_count": null,
   "outputs": [],
   "source": [
    "code_d = pd.read_csv(f'{DATA_PATH}속성_D_코드.csv').iloc[:,:-1]\n",
    "code_h = pd.read_csv(f'{DATA_PATH}속성_H_코드.csv')\n",
    "code_l = pd.read_csv(f'{DATA_PATH}속성_L_코드.csv')"
   ],
   "metadata": {
    "collapsed": false,
    "pycharm": {
     "name": "#%%\n"
    }
   }
  },
  {
   "cell_type": "code",
   "execution_count": 19,
   "outputs": [],
   "source": [
    "code_d.columns  = [\"attribute_d\", \"attribute_d_d\" , \"attribute_d_s\", \"attribute_d_m\" , \"attribute_d_l\"]\n",
    "code_h.columns = [\"attribute_h\" , \"attribute_h_p\"]\n",
    "code_l.columns = [\"attribute_l\", \"attribute_l_d\", \"attribute_l_s\" , \"attribute_l_m\", \"attribute_l_l\"]\n"
   ],
   "metadata": {
    "collapsed": false,
    "pycharm": {
     "name": "#%%\n"
    }
   }
  },
  {
   "cell_type": "code",
   "execution_count": null,
   "outputs": [],
   "source": [
    "col"
   ],
   "metadata": {
    "collapsed": false,
    "pycharm": {
     "name": "#%%\n"
    }
   }
  },
  {
   "cell_type": "code",
   "execution_count": 49,
   "outputs": [
    {
     "data": {
      "text/plain": "      contents_attribute_e_attribute_d  contents_attribute_e_attribute_d_d  \\\n0                                    4                                   4   \n1                                    5                                   5   \n2                                    7                                   7   \n3                                    8                                   8   \n4                                    9                                   8   \n...                                ...                                 ...   \n1109                              1254                                1254   \n1110                              1255                                1254   \n1111                              1256                                1254   \n1112                              1257                                1254   \n1113                              1258                                1258   \n\n      contents_attribute_e_attribute_d_s  contents_attribute_e_attribute_d_m  \\\n0                                      2                                   3   \n1                                      2                                   3   \n2                                      2                                   6   \n3                                      2                                   6   \n4                                      2                                   6   \n...                                  ...                                 ...   \n1109                                1235                                1254   \n1110                                1235                                1254   \n1111                                1235                                1254   \n1112                                1235                                1254   \n1113                                1258                                1258   \n\n      contents_attribute_e_attribute_d_l  \n0                                      1  \n1                                      1  \n2                                      1  \n3                                      1  \n4                                      1  \n...                                  ...  \n1109                                1235  \n1110                                1235  \n1111                                1235  \n1112                                1235  \n1113                                1258  \n\n[1114 rows x 5 columns]",
      "text/html": "<div>\n<style scoped>\n    .dataframe tbody tr th:only-of-type {\n        vertical-align: middle;\n    }\n\n    .dataframe tbody tr th {\n        vertical-align: top;\n    }\n\n    .dataframe thead th {\n        text-align: right;\n    }\n</style>\n<table border=\"1\" class=\"dataframe\">\n  <thead>\n    <tr style=\"text-align: right;\">\n      <th></th>\n      <th>contents_attribute_e_attribute_d</th>\n      <th>contents_attribute_e_attribute_d_d</th>\n      <th>contents_attribute_e_attribute_d_s</th>\n      <th>contents_attribute_e_attribute_d_m</th>\n      <th>contents_attribute_e_attribute_d_l</th>\n    </tr>\n  </thead>\n  <tbody>\n    <tr>\n      <th>0</th>\n      <td>4</td>\n      <td>4</td>\n      <td>2</td>\n      <td>3</td>\n      <td>1</td>\n    </tr>\n    <tr>\n      <th>1</th>\n      <td>5</td>\n      <td>5</td>\n      <td>2</td>\n      <td>3</td>\n      <td>1</td>\n    </tr>\n    <tr>\n      <th>2</th>\n      <td>7</td>\n      <td>7</td>\n      <td>2</td>\n      <td>6</td>\n      <td>1</td>\n    </tr>\n    <tr>\n      <th>3</th>\n      <td>8</td>\n      <td>8</td>\n      <td>2</td>\n      <td>6</td>\n      <td>1</td>\n    </tr>\n    <tr>\n      <th>4</th>\n      <td>9</td>\n      <td>8</td>\n      <td>2</td>\n      <td>6</td>\n      <td>1</td>\n    </tr>\n    <tr>\n      <th>...</th>\n      <td>...</td>\n      <td>...</td>\n      <td>...</td>\n      <td>...</td>\n      <td>...</td>\n    </tr>\n    <tr>\n      <th>1109</th>\n      <td>1254</td>\n      <td>1254</td>\n      <td>1235</td>\n      <td>1254</td>\n      <td>1235</td>\n    </tr>\n    <tr>\n      <th>1110</th>\n      <td>1255</td>\n      <td>1254</td>\n      <td>1235</td>\n      <td>1254</td>\n      <td>1235</td>\n    </tr>\n    <tr>\n      <th>1111</th>\n      <td>1256</td>\n      <td>1254</td>\n      <td>1235</td>\n      <td>1254</td>\n      <td>1235</td>\n    </tr>\n    <tr>\n      <th>1112</th>\n      <td>1257</td>\n      <td>1254</td>\n      <td>1235</td>\n      <td>1254</td>\n      <td>1235</td>\n    </tr>\n    <tr>\n      <th>1113</th>\n      <td>1258</td>\n      <td>1258</td>\n      <td>1258</td>\n      <td>1258</td>\n      <td>1258</td>\n    </tr>\n  </tbody>\n</table>\n<p>1114 rows × 5 columns</p>\n</div>"
     },
     "execution_count": 49,
     "metadata": {},
     "output_type": "execute_result"
    }
   ],
   "source": [
    "code_d.add_prefix(\"contents_attribute_e_\")"
   ],
   "metadata": {
    "collapsed": false,
    "pycharm": {
     "name": "#%%\n"
    }
   }
  },
  {
   "cell_type": "code",
   "execution_count": 50,
   "outputs": [
    {
     "data": {
      "text/plain": "            id  d_l_match_yn  d_m_match_yn  d_s_match_yn  h_l_match_yn  \\\n0            0          True          True          True         False   \n1            1         False         False         False          True   \n2            2         False         False         False          True   \n3            3         False         False         False          True   \n4            4          True          True          True         False   \n...        ...           ...           ...           ...           ...   \n501946  501946         False         False         False          True   \n501947  501947          True          True         False          True   \n501948  501948          True          True          True          True   \n501949  501949          True         False         False          True   \n501950  501950          True          True          True          True   \n\n        h_m_match_yn  h_s_match_yn  person_attribute_a  person_attribute_a_1  \\\n0              False         False                   1                     4   \n1               True         False                   1                     3   \n2              False         False                   2                     0   \n3              False         False                   2                     0   \n4              False         False                   1                     3   \n...              ...           ...                 ...                   ...   \n501946         False         False                   1                     1   \n501947         False         False                   1                     6   \n501948         False         False                   1                     7   \n501949         False         False                   1                     1   \n501950         False         False                   1                     6   \n\n        person_attribute_b  ...  contents_attribute_k  contents_attribute_l  \\\n0                        3  ...                     2                  1608   \n1                        4  ...                     2                  1608   \n2                        3  ...                     1                  1600   \n3                        2  ...                     2                  1608   \n4                        4  ...                     2                  1608   \n...                    ...  ...                   ...                   ...   \n501946                   2  ...                     2                   354   \n501947                   2  ...                     2                   163   \n501948                   4  ...                     2                   438   \n501949                   2  ...                     2                   660   \n501950                   3  ...                     2                   786   \n\n        contents_attribute_d  contents_attribute_m  contents_attribute_e  \\\n0                        275                     1                     4   \n1                        275                     1                     4   \n2                         94                     1                     4   \n3                        275                     5                     3   \n4                        275                     1                     4   \n...                      ...                   ...                   ...   \n501946                   147                     1                     5   \n501947                   120                     1                     4   \n501948                   147                     2                     7   \n501949                   147                     3                     4   \n501950                   147                     2                     5   \n\n        contents_attribute_h  person_rn  contents_rn     contents_open_dt  \\\n0                        139     618822       354805  2020-01-17 12:09:36   \n1                        133     571659       346213  2020-06-18 17:48:52   \n2                         53     399816       206408  2020-07-08 20:00:10   \n3                         74     827967       572323  2020-01-13 18:09:34   \n4                         74     831614       573899  2020-03-09 20:39:22   \n...                      ...        ...          ...                  ...   \n501946                    65     503156       285850  2020-03-13 12:55:52   \n501947                   142     676255       456996  2020-01-20 11:51:51   \n501948                    65     484528       293258  2020-08-05 17:27:24   \n501949                   259     456330       273797  2020-06-15 09:23:21   \n501950                   289     235596       176650  2020-05-25 14:34:48   \n\n        target  \n0            1  \n1            0  \n2            0  \n3            0  \n4            0  \n...        ...  \n501946       1  \n501947       1  \n501948       1  \n501949       1  \n501950       1  \n\n[501951 rows x 35 columns]",
      "text/html": "<div>\n<style scoped>\n    .dataframe tbody tr th:only-of-type {\n        vertical-align: middle;\n    }\n\n    .dataframe tbody tr th {\n        vertical-align: top;\n    }\n\n    .dataframe thead th {\n        text-align: right;\n    }\n</style>\n<table border=\"1\" class=\"dataframe\">\n  <thead>\n    <tr style=\"text-align: right;\">\n      <th></th>\n      <th>id</th>\n      <th>d_l_match_yn</th>\n      <th>d_m_match_yn</th>\n      <th>d_s_match_yn</th>\n      <th>h_l_match_yn</th>\n      <th>h_m_match_yn</th>\n      <th>h_s_match_yn</th>\n      <th>person_attribute_a</th>\n      <th>person_attribute_a_1</th>\n      <th>person_attribute_b</th>\n      <th>...</th>\n      <th>contents_attribute_k</th>\n      <th>contents_attribute_l</th>\n      <th>contents_attribute_d</th>\n      <th>contents_attribute_m</th>\n      <th>contents_attribute_e</th>\n      <th>contents_attribute_h</th>\n      <th>person_rn</th>\n      <th>contents_rn</th>\n      <th>contents_open_dt</th>\n      <th>target</th>\n    </tr>\n  </thead>\n  <tbody>\n    <tr>\n      <th>0</th>\n      <td>0</td>\n      <td>True</td>\n      <td>True</td>\n      <td>True</td>\n      <td>False</td>\n      <td>False</td>\n      <td>False</td>\n      <td>1</td>\n      <td>4</td>\n      <td>3</td>\n      <td>...</td>\n      <td>2</td>\n      <td>1608</td>\n      <td>275</td>\n      <td>1</td>\n      <td>4</td>\n      <td>139</td>\n      <td>618822</td>\n      <td>354805</td>\n      <td>2020-01-17 12:09:36</td>\n      <td>1</td>\n    </tr>\n    <tr>\n      <th>1</th>\n      <td>1</td>\n      <td>False</td>\n      <td>False</td>\n      <td>False</td>\n      <td>True</td>\n      <td>True</td>\n      <td>False</td>\n      <td>1</td>\n      <td>3</td>\n      <td>4</td>\n      <td>...</td>\n      <td>2</td>\n      <td>1608</td>\n      <td>275</td>\n      <td>1</td>\n      <td>4</td>\n      <td>133</td>\n      <td>571659</td>\n      <td>346213</td>\n      <td>2020-06-18 17:48:52</td>\n      <td>0</td>\n    </tr>\n    <tr>\n      <th>2</th>\n      <td>2</td>\n      <td>False</td>\n      <td>False</td>\n      <td>False</td>\n      <td>True</td>\n      <td>False</td>\n      <td>False</td>\n      <td>2</td>\n      <td>0</td>\n      <td>3</td>\n      <td>...</td>\n      <td>1</td>\n      <td>1600</td>\n      <td>94</td>\n      <td>1</td>\n      <td>4</td>\n      <td>53</td>\n      <td>399816</td>\n      <td>206408</td>\n      <td>2020-07-08 20:00:10</td>\n      <td>0</td>\n    </tr>\n    <tr>\n      <th>3</th>\n      <td>3</td>\n      <td>False</td>\n      <td>False</td>\n      <td>False</td>\n      <td>True</td>\n      <td>False</td>\n      <td>False</td>\n      <td>2</td>\n      <td>0</td>\n      <td>2</td>\n      <td>...</td>\n      <td>2</td>\n      <td>1608</td>\n      <td>275</td>\n      <td>5</td>\n      <td>3</td>\n      <td>74</td>\n      <td>827967</td>\n      <td>572323</td>\n      <td>2020-01-13 18:09:34</td>\n      <td>0</td>\n    </tr>\n    <tr>\n      <th>4</th>\n      <td>4</td>\n      <td>True</td>\n      <td>True</td>\n      <td>True</td>\n      <td>False</td>\n      <td>False</td>\n      <td>False</td>\n      <td>1</td>\n      <td>3</td>\n      <td>4</td>\n      <td>...</td>\n      <td>2</td>\n      <td>1608</td>\n      <td>275</td>\n      <td>1</td>\n      <td>4</td>\n      <td>74</td>\n      <td>831614</td>\n      <td>573899</td>\n      <td>2020-03-09 20:39:22</td>\n      <td>0</td>\n    </tr>\n    <tr>\n      <th>...</th>\n      <td>...</td>\n      <td>...</td>\n      <td>...</td>\n      <td>...</td>\n      <td>...</td>\n      <td>...</td>\n      <td>...</td>\n      <td>...</td>\n      <td>...</td>\n      <td>...</td>\n      <td>...</td>\n      <td>...</td>\n      <td>...</td>\n      <td>...</td>\n      <td>...</td>\n      <td>...</td>\n      <td>...</td>\n      <td>...</td>\n      <td>...</td>\n      <td>...</td>\n      <td>...</td>\n    </tr>\n    <tr>\n      <th>501946</th>\n      <td>501946</td>\n      <td>False</td>\n      <td>False</td>\n      <td>False</td>\n      <td>True</td>\n      <td>False</td>\n      <td>False</td>\n      <td>1</td>\n      <td>1</td>\n      <td>2</td>\n      <td>...</td>\n      <td>2</td>\n      <td>354</td>\n      <td>147</td>\n      <td>1</td>\n      <td>5</td>\n      <td>65</td>\n      <td>503156</td>\n      <td>285850</td>\n      <td>2020-03-13 12:55:52</td>\n      <td>1</td>\n    </tr>\n    <tr>\n      <th>501947</th>\n      <td>501947</td>\n      <td>True</td>\n      <td>True</td>\n      <td>False</td>\n      <td>True</td>\n      <td>False</td>\n      <td>False</td>\n      <td>1</td>\n      <td>6</td>\n      <td>2</td>\n      <td>...</td>\n      <td>2</td>\n      <td>163</td>\n      <td>120</td>\n      <td>1</td>\n      <td>4</td>\n      <td>142</td>\n      <td>676255</td>\n      <td>456996</td>\n      <td>2020-01-20 11:51:51</td>\n      <td>1</td>\n    </tr>\n    <tr>\n      <th>501948</th>\n      <td>501948</td>\n      <td>True</td>\n      <td>True</td>\n      <td>True</td>\n      <td>True</td>\n      <td>False</td>\n      <td>False</td>\n      <td>1</td>\n      <td>7</td>\n      <td>4</td>\n      <td>...</td>\n      <td>2</td>\n      <td>438</td>\n      <td>147</td>\n      <td>2</td>\n      <td>7</td>\n      <td>65</td>\n      <td>484528</td>\n      <td>293258</td>\n      <td>2020-08-05 17:27:24</td>\n      <td>1</td>\n    </tr>\n    <tr>\n      <th>501949</th>\n      <td>501949</td>\n      <td>True</td>\n      <td>False</td>\n      <td>False</td>\n      <td>True</td>\n      <td>False</td>\n      <td>False</td>\n      <td>1</td>\n      <td>1</td>\n      <td>2</td>\n      <td>...</td>\n      <td>2</td>\n      <td>660</td>\n      <td>147</td>\n      <td>3</td>\n      <td>4</td>\n      <td>259</td>\n      <td>456330</td>\n      <td>273797</td>\n      <td>2020-06-15 09:23:21</td>\n      <td>1</td>\n    </tr>\n    <tr>\n      <th>501950</th>\n      <td>501950</td>\n      <td>True</td>\n      <td>True</td>\n      <td>True</td>\n      <td>True</td>\n      <td>False</td>\n      <td>False</td>\n      <td>1</td>\n      <td>6</td>\n      <td>3</td>\n      <td>...</td>\n      <td>2</td>\n      <td>786</td>\n      <td>147</td>\n      <td>2</td>\n      <td>5</td>\n      <td>289</td>\n      <td>235596</td>\n      <td>176650</td>\n      <td>2020-05-25 14:34:48</td>\n      <td>1</td>\n    </tr>\n  </tbody>\n</table>\n<p>501951 rows × 35 columns</p>\n</div>"
     },
     "execution_count": 50,
     "metadata": {},
     "output_type": "execute_result"
    }
   ],
   "source": [],
   "metadata": {
    "collapsed": false,
    "pycharm": {
     "name": "#%%\n"
    }
   }
  },
  {
   "cell_type": "code",
   "execution_count": null,
   "outputs": [],
   "source": [
    "train_data"
   ],
   "metadata": {
    "collapsed": false,
    "pycharm": {
     "name": "#%%\n"
    }
   }
  },
  {
   "cell_type": "code",
   "execution_count": 54,
   "outputs": [],
   "source": [
    "# 하나는 있는 거니까 , left merge는 있는 컬럼키면 그대로두고\n",
    "# 없는 컬럼 키면 그대로 붙이니까 merge가 가능하다"
   ],
   "metadata": {
    "collapsed": false,
    "pycharm": {
     "name": "#%%\n"
    }
   }
  },
  {
   "cell_type": "code",
   "execution_count": null,
   "outputs": [],
   "source": [],
   "metadata": {
    "collapsed": false,
    "pycharm": {
     "name": "#%%\n"
    }
   }
  },
  {
   "cell_type": "code",
   "execution_count": 56,
   "outputs": [],
   "source": [
    "def merge_codes(df:pd.DataFrame, df_code:pd.DataFrame, col:str) -> pd.DataFrame:\n",
    "    df = df.copy()\n",
    "    df_code = df_code.copy()\n",
    "    df_code = df_code.add_prefix(f\"{col}_\")\n",
    "    df_code.columns.values[0] = col\n",
    "    print('df :' ,df)\n",
    "    print('df_code : ', df_code)\n",
    "    print('merge data : ',pd.merge(df,df_code , how='left', on= col) )\n",
    "    return pd.merge(df,df_code , how='left', on= col)"
   ],
   "metadata": {
    "collapsed": false,
    "pycharm": {
     "name": "#%%\n"
    }
   }
  },
  {
   "cell_type": "code",
   "execution_count": 25,
   "outputs": [
    {
     "data": {
      "text/plain": "typing.List[typing.Tuple[str, pandas.core.frame.DataFrame]]"
     },
     "execution_count": 25,
     "metadata": {},
     "output_type": "execute_result"
    }
   ],
   "source": [],
   "metadata": {
    "collapsed": false,
    "pycharm": {
     "name": "#%%\n"
    }
   }
  },
  {
   "cell_type": "code",
   "execution_count": null,
   "outputs": [],
   "source": [
    "List[Tuple[str,pd.DataFrame]]"
   ],
   "metadata": {
    "collapsed": false,
    "pycharm": {
     "name": "#%%\n"
    }
   }
  },
  {
   "cell_type": "code",
   "execution_count": null,
   "outputs": [],
   "source": [],
   "metadata": {
    "collapsed": false,
    "pycharm": {
     "name": "#%%\n"
    }
   }
  },
  {
   "cell_type": "code",
   "execution_count": 52,
   "outputs": [],
   "source": [
    "# type hinting , type annotation 타입에 대한 메타 정보를 제공한다 중대규모 이상프로젝트에서는 컴파일 위험 에러\n",
    "def preprocess_data(\n",
    "                    df:pd.DataFrame,is_train:bool = True,\n",
    "                    cols_merge:List[Tuple[str,pd.DataFrame]] = []  ,\n",
    "                    cols_equi:List[Tuple[str,str]]= [] ,\n",
    "                    cols_drop:List[str] = [\"id\",\"person_prefer_f\",\"person_prefer_g\" ,\"contents_open_dt\"]\n",
    "                    )->Tuple[pd.DataFrame,np.ndarray]:\n",
    "\n",
    "    y_data = None\n",
    "\n",
    "    if is_train:\n",
    "        y_data = df[\"target\"].to_numpy()\n",
    "        df = df.drop(columns=\"target\")\n",
    "\n",
    "    for col , df_code in cols_merge:\n",
    "        df = merge_codes(df, df_code, col)\n",
    "\n",
    "    cols = df.select_dtypes(bool).columns.tolist()\n",
    "    df[cols] = df[cols].astype(int)\n",
    "\n",
    "    for col1, col2 in cols_equi:\n",
    "        df[f\"{col1}_{col2}\"] = (df[col1] == df[col2]).astype(int)\n",
    "    df = df.drop(columns=cols_drop)\n",
    "\n",
    "    return (df,y_data)"
   ],
   "metadata": {
    "collapsed": false,
    "pycharm": {
     "name": "#%%\n"
    }
   }
  },
  {
   "cell_type": "code",
   "execution_count": 26,
   "outputs": [],
   "source": [],
   "metadata": {
    "collapsed": false,
    "pycharm": {
     "name": "#%%\n"
    }
   }
  },
  {
   "cell_type": "code",
   "execution_count": null,
   "outputs": [],
   "source": [
    "cols_merge = [\n",
    "              (\"person_prefer_d_1\" , code_d),\n",
    "              (\"person_prefer_d_2\" , code_d),\n",
    "              (\"person_prefer_d_3\" , code_d),\n",
    "              (\"contents_attribute_d\" , code_d),\n",
    "              (\"person_prefer_h_1\" , code_h),\n",
    "              (\"person_prefer_h_2\" , code_h),\n",
    "              (\"person_prefer_h_3\" , code_h),\n",
    "              (\"contents_attribute_h\" , code_h),\n",
    "              (\"contents_attribute_l\" , code_l),\n",
    "]"
   ],
   "metadata": {
    "collapsed": false,
    "pycharm": {
     "name": "#%%\n"
    }
   }
  },
  {
   "cell_type": "code",
   "execution_count": 27,
   "outputs": [],
   "source": [
    "\n",
    "# 회원 속성과 콘텐츠 속성의 동일한 코드 여부에 대한 컬럼명 리스트\n",
    "cols_equi = [\n",
    "    (\"contents_attribute_c\",\"person_prefer_c\"),\n",
    "    (\"contents_attribute_e\",\"person_prefer_e\"),\n",
    "    (\"person_prefer_d_2_attribute_d_s\" , \"contents_attribute_d_attribute_d_s\"),\n",
    "    (\"person_prefer_d_2_attribute_d_m\" , \"contents_attribute_d_attribute_d_m\"),\n",
    "    (\"person_prefer_d_2_attribute_d_l\" , \"contents_attribute_d_attribute_d_l\"),\n",
    "    (\"person_prefer_d_3_attribute_d_s\" , \"contents_attribute_d_attribute_d_s\"),\n",
    "    (\"person_prefer_d_3_attribute_d_m\" , \"contents_attribute_d_attribute_d_m\"),\n",
    "    (\"person_prefer_d_3_attribute_d_l\" , \"contents_attribute_d_attribute_d_l\"),\n",
    "    (\"person_prefer_h_1_attribute_h_p\" , \"contents_attribute_h_attribute_h_p\"),\n",
    "    (\"person_prefer_h_2_attribute_h_p\" , \"contents_attribute_h_attribute_h_p\"),\n",
    "    (\"person_prefer_h_3_attribute_h_p\" , \"contents_attribute_h_attribute_h_p\"),\n",
    "]\n",
    "\n",
    "# 학습에 필요없는 컬럼 리스트\n",
    "cols_drop = [\"id\",\"person_prefer_f\",\"person_prefer_g\" ,\"contents_open_dt\", \"contents_rn\", ]"
   ],
   "metadata": {
    "collapsed": false,
    "pycharm": {
     "name": "#%%\n"
    }
   }
  },
  {
   "cell_type": "code",
   "execution_count": 27,
   "outputs": [],
   "source": [],
   "metadata": {
    "collapsed": false,
    "pycharm": {
     "name": "#%%%\n"
    }
   }
  },
  {
   "cell_type": "code",
   "execution_count": 55,
   "outputs": [
    {
     "name": "stdout",
     "output_type": "stream",
     "text": [
      "df :             id  d_l_match_yn  d_m_match_yn  d_s_match_yn  h_l_match_yn  \\\n",
      "0            0          True          True          True         False   \n",
      "1            1         False         False         False          True   \n",
      "2            2         False         False         False          True   \n",
      "3            3         False         False         False          True   \n",
      "4            4          True          True          True         False   \n",
      "...        ...           ...           ...           ...           ...   \n",
      "501946  501946         False         False         False          True   \n",
      "501947  501947          True          True         False          True   \n",
      "501948  501948          True          True          True          True   \n",
      "501949  501949          True         False         False          True   \n",
      "501950  501950          True          True          True          True   \n",
      "\n",
      "        h_m_match_yn  h_s_match_yn  person_attribute_a  person_attribute_a_1  \\\n",
      "0              False         False                   1                     4   \n",
      "1               True         False                   1                     3   \n",
      "2              False         False                   2                     0   \n",
      "3              False         False                   2                     0   \n",
      "4              False         False                   1                     3   \n",
      "...              ...           ...                 ...                   ...   \n",
      "501946         False         False                   1                     1   \n",
      "501947         False         False                   1                     6   \n",
      "501948         False         False                   1                     7   \n",
      "501949         False         False                   1                     1   \n",
      "501950         False         False                   1                     6   \n",
      "\n",
      "        person_attribute_b  ...  contents_attribute_c  contents_attribute_k  \\\n",
      "0                        3  ...                     1                     2   \n",
      "1                        4  ...                     1                     2   \n",
      "2                        3  ...                     1                     1   \n",
      "3                        2  ...                     1                     2   \n",
      "4                        4  ...                     1                     2   \n",
      "...                    ...  ...                   ...                   ...   \n",
      "501946                   2  ...                     1                     2   \n",
      "501947                   2  ...                     1                     2   \n",
      "501948                   4  ...                     1                     2   \n",
      "501949                   2  ...                     1                     2   \n",
      "501950                   3  ...                     1                     2   \n",
      "\n",
      "        contents_attribute_l  contents_attribute_d  contents_attribute_m  \\\n",
      "0                       1608                   275                     1   \n",
      "1                       1608                   275                     1   \n",
      "2                       1600                    94                     1   \n",
      "3                       1608                   275                     5   \n",
      "4                       1608                   275                     1   \n",
      "...                      ...                   ...                   ...   \n",
      "501946                   354                   147                     1   \n",
      "501947                   163                   120                     1   \n",
      "501948                   438                   147                     2   \n",
      "501949                   660                   147                     3   \n",
      "501950                   786                   147                     2   \n",
      "\n",
      "        contents_attribute_e  contents_attribute_h  person_rn  contents_rn  \\\n",
      "0                          4                   139     618822       354805   \n",
      "1                          4                   133     571659       346213   \n",
      "2                          4                    53     399816       206408   \n",
      "3                          3                    74     827967       572323   \n",
      "4                          4                    74     831614       573899   \n",
      "...                      ...                   ...        ...          ...   \n",
      "501946                     5                    65     503156       285850   \n",
      "501947                     4                   142     676255       456996   \n",
      "501948                     7                    65     484528       293258   \n",
      "501949                     4                   259     456330       273797   \n",
      "501950                     5                   289     235596       176650   \n",
      "\n",
      "           contents_open_dt  \n",
      "0       2020-01-17 12:09:36  \n",
      "1       2020-06-18 17:48:52  \n",
      "2       2020-07-08 20:00:10  \n",
      "3       2020-01-13 18:09:34  \n",
      "4       2020-03-09 20:39:22  \n",
      "...                     ...  \n",
      "501946  2020-03-13 12:55:52  \n",
      "501947  2020-01-20 11:51:51  \n",
      "501948  2020-08-05 17:27:24  \n",
      "501949  2020-06-15 09:23:21  \n",
      "501950  2020-05-25 14:34:48  \n",
      "\n",
      "[501951 rows x 34 columns]\n",
      "df_code :        person_prefer_d_1  person_prefer_d_1_attribute_d_d  \\\n",
      "0                     4                                4   \n",
      "1                     5                                5   \n",
      "2                     7                                7   \n",
      "3                     8                                8   \n",
      "4                     9                                8   \n",
      "...                 ...                              ...   \n",
      "1109               1254                             1254   \n",
      "1110               1255                             1254   \n",
      "1111               1256                             1254   \n",
      "1112               1257                             1254   \n",
      "1113               1258                             1258   \n",
      "\n",
      "      person_prefer_d_1_attribute_d_s  person_prefer_d_1_attribute_d_m  \\\n",
      "0                                   2                                3   \n",
      "1                                   2                                3   \n",
      "2                                   2                                6   \n",
      "3                                   2                                6   \n",
      "4                                   2                                6   \n",
      "...                               ...                              ...   \n",
      "1109                             1235                             1254   \n",
      "1110                             1235                             1254   \n",
      "1111                             1235                             1254   \n",
      "1112                             1235                             1254   \n",
      "1113                             1258                             1258   \n",
      "\n",
      "      person_prefer_d_1_attribute_d_l  \n",
      "0                                   1  \n",
      "1                                   1  \n",
      "2                                   1  \n",
      "3                                   1  \n",
      "4                                   1  \n",
      "...                               ...  \n",
      "1109                             1235  \n",
      "1110                             1235  \n",
      "1111                             1235  \n",
      "1112                             1235  \n",
      "1113                             1258  \n",
      "\n",
      "[1114 rows x 5 columns]\n",
      "merge data :              id  d_l_match_yn  d_m_match_yn  d_s_match_yn  h_l_match_yn  \\\n",
      "0            0          True          True          True         False   \n",
      "1            1         False         False         False          True   \n",
      "2            2         False         False         False          True   \n",
      "3            3         False         False         False          True   \n",
      "4            4          True          True          True         False   \n",
      "...        ...           ...           ...           ...           ...   \n",
      "501946  501946         False         False         False          True   \n",
      "501947  501947          True          True         False          True   \n",
      "501948  501948          True          True          True          True   \n",
      "501949  501949          True         False         False          True   \n",
      "501950  501950          True          True          True          True   \n",
      "\n",
      "        h_m_match_yn  h_s_match_yn  person_attribute_a  person_attribute_a_1  \\\n",
      "0              False         False                   1                     4   \n",
      "1               True         False                   1                     3   \n",
      "2              False         False                   2                     0   \n",
      "3              False         False                   2                     0   \n",
      "4              False         False                   1                     3   \n",
      "...              ...           ...                 ...                   ...   \n",
      "501946         False         False                   1                     1   \n",
      "501947         False         False                   1                     6   \n",
      "501948         False         False                   1                     7   \n",
      "501949         False         False                   1                     1   \n",
      "501950         False         False                   1                     6   \n",
      "\n",
      "        person_attribute_b  ...  contents_attribute_m  contents_attribute_e  \\\n",
      "0                        3  ...                     1                     4   \n",
      "1                        4  ...                     1                     4   \n",
      "2                        3  ...                     1                     4   \n",
      "3                        2  ...                     5                     3   \n",
      "4                        4  ...                     1                     4   \n",
      "...                    ...  ...                   ...                   ...   \n",
      "501946                   2  ...                     1                     5   \n",
      "501947                   2  ...                     1                     4   \n",
      "501948                   4  ...                     2                     7   \n",
      "501949                   2  ...                     3                     4   \n",
      "501950                   3  ...                     2                     5   \n",
      "\n",
      "        contents_attribute_h  person_rn  contents_rn     contents_open_dt  \\\n",
      "0                        139     618822       354805  2020-01-17 12:09:36   \n",
      "1                        133     571659       346213  2020-06-18 17:48:52   \n",
      "2                         53     399816       206408  2020-07-08 20:00:10   \n",
      "3                         74     827967       572323  2020-01-13 18:09:34   \n",
      "4                         74     831614       573899  2020-03-09 20:39:22   \n",
      "...                      ...        ...          ...                  ...   \n",
      "501946                    65     503156       285850  2020-03-13 12:55:52   \n",
      "501947                   142     676255       456996  2020-01-20 11:51:51   \n",
      "501948                    65     484528       293258  2020-08-05 17:27:24   \n",
      "501949                   259     456330       273797  2020-06-15 09:23:21   \n",
      "501950                   289     235596       176650  2020-05-25 14:34:48   \n",
      "\n",
      "        person_prefer_d_1_attribute_d_d  person_prefer_d_1_attribute_d_s  \\\n",
      "0                                   275                              274   \n",
      "1                                   114                               56   \n",
      "2                                   464                              450   \n",
      "3                                   703                              690   \n",
      "4                                   275                              274   \n",
      "...                                 ...                              ...   \n",
      "501946                             1192                             1169   \n",
      "501947                              114                               56   \n",
      "501948                              145                               56   \n",
      "501949                               46                                2   \n",
      "501950                              145                               56   \n",
      "\n",
      "        person_prefer_d_1_attribute_d_m  person_prefer_d_1_attribute_d_l  \n",
      "0                                   274                              216  \n",
      "1                                   109                                1  \n",
      "2                                   463                              377  \n",
      "3                                   703                              618  \n",
      "4                                   274                              216  \n",
      "...                                 ...                              ...  \n",
      "501946                             1180                              926  \n",
      "501947                              109                                1  \n",
      "501948                              123                                1  \n",
      "501949                               43                                1  \n",
      "501950                              123                                1  \n",
      "\n",
      "[501951 rows x 38 columns]\n",
      "df :             id  d_l_match_yn  d_m_match_yn  d_s_match_yn  h_l_match_yn  \\\n",
      "0            0          True          True          True         False   \n",
      "1            1         False         False         False          True   \n",
      "2            2         False         False         False          True   \n",
      "3            3         False         False         False          True   \n",
      "4            4          True          True          True         False   \n",
      "...        ...           ...           ...           ...           ...   \n",
      "501946  501946         False         False         False          True   \n",
      "501947  501947          True          True         False          True   \n",
      "501948  501948          True          True          True          True   \n",
      "501949  501949          True         False         False          True   \n",
      "501950  501950          True          True          True          True   \n",
      "\n",
      "        h_m_match_yn  h_s_match_yn  person_attribute_a  person_attribute_a_1  \\\n",
      "0              False         False                   1                     4   \n",
      "1               True         False                   1                     3   \n",
      "2              False         False                   2                     0   \n",
      "3              False         False                   2                     0   \n",
      "4              False         False                   1                     3   \n",
      "...              ...           ...                 ...                   ...   \n",
      "501946         False         False                   1                     1   \n",
      "501947         False         False                   1                     6   \n",
      "501948         False         False                   1                     7   \n",
      "501949         False         False                   1                     1   \n",
      "501950         False         False                   1                     6   \n",
      "\n",
      "        person_attribute_b  ...  contents_attribute_m  contents_attribute_e  \\\n",
      "0                        3  ...                     1                     4   \n",
      "1                        4  ...                     1                     4   \n",
      "2                        3  ...                     1                     4   \n",
      "3                        2  ...                     5                     3   \n",
      "4                        4  ...                     1                     4   \n",
      "...                    ...  ...                   ...                   ...   \n",
      "501946                   2  ...                     1                     5   \n",
      "501947                   2  ...                     1                     4   \n",
      "501948                   4  ...                     2                     7   \n",
      "501949                   2  ...                     3                     4   \n",
      "501950                   3  ...                     2                     5   \n",
      "\n",
      "        contents_attribute_h  person_rn  contents_rn     contents_open_dt  \\\n",
      "0                        139     618822       354805  2020-01-17 12:09:36   \n",
      "1                        133     571659       346213  2020-06-18 17:48:52   \n",
      "2                         53     399816       206408  2020-07-08 20:00:10   \n",
      "3                         74     827967       572323  2020-01-13 18:09:34   \n",
      "4                         74     831614       573899  2020-03-09 20:39:22   \n",
      "...                      ...        ...          ...                  ...   \n",
      "501946                    65     503156       285850  2020-03-13 12:55:52   \n",
      "501947                   142     676255       456996  2020-01-20 11:51:51   \n",
      "501948                    65     484528       293258  2020-08-05 17:27:24   \n",
      "501949                   259     456330       273797  2020-06-15 09:23:21   \n",
      "501950                   289     235596       176650  2020-05-25 14:34:48   \n",
      "\n",
      "        person_prefer_d_1_attribute_d_d  person_prefer_d_1_attribute_d_s  \\\n",
      "0                                   275                              274   \n",
      "1                                   114                               56   \n",
      "2                                   464                              450   \n",
      "3                                   703                              690   \n",
      "4                                   275                              274   \n",
      "...                                 ...                              ...   \n",
      "501946                             1192                             1169   \n",
      "501947                              114                               56   \n",
      "501948                              145                               56   \n",
      "501949                               46                                2   \n",
      "501950                              145                               56   \n",
      "\n",
      "        person_prefer_d_1_attribute_d_m  person_prefer_d_1_attribute_d_l  \n",
      "0                                   274                              216  \n",
      "1                                   109                                1  \n",
      "2                                   463                              377  \n",
      "3                                   703                              618  \n",
      "4                                   274                              216  \n",
      "...                                 ...                              ...  \n",
      "501946                             1180                              926  \n",
      "501947                              109                                1  \n",
      "501948                              123                                1  \n",
      "501949                               43                                1  \n",
      "501950                              123                                1  \n",
      "\n",
      "[501951 rows x 38 columns]\n",
      "df_code :        person_prefer_d_2  person_prefer_d_2_attribute_d_d  \\\n",
      "0                     4                                4   \n",
      "1                     5                                5   \n",
      "2                     7                                7   \n",
      "3                     8                                8   \n",
      "4                     9                                8   \n",
      "...                 ...                              ...   \n",
      "1109               1254                             1254   \n",
      "1110               1255                             1254   \n",
      "1111               1256                             1254   \n",
      "1112               1257                             1254   \n",
      "1113               1258                             1258   \n",
      "\n",
      "      person_prefer_d_2_attribute_d_s  person_prefer_d_2_attribute_d_m  \\\n",
      "0                                   2                                3   \n",
      "1                                   2                                3   \n",
      "2                                   2                                6   \n",
      "3                                   2                                6   \n",
      "4                                   2                                6   \n",
      "...                               ...                              ...   \n",
      "1109                             1235                             1254   \n",
      "1110                             1235                             1254   \n",
      "1111                             1235                             1254   \n",
      "1112                             1235                             1254   \n",
      "1113                             1258                             1258   \n",
      "\n",
      "      person_prefer_d_2_attribute_d_l  \n",
      "0                                   1  \n",
      "1                                   1  \n",
      "2                                   1  \n",
      "3                                   1  \n",
      "4                                   1  \n",
      "...                               ...  \n",
      "1109                             1235  \n",
      "1110                             1235  \n",
      "1111                             1235  \n",
      "1112                             1235  \n",
      "1113                             1258  \n",
      "\n",
      "[1114 rows x 5 columns]\n",
      "merge data :              id  d_l_match_yn  d_m_match_yn  d_s_match_yn  h_l_match_yn  \\\n",
      "0            0          True          True          True         False   \n",
      "1            1         False         False         False          True   \n",
      "2            2         False         False         False          True   \n",
      "3            3         False         False         False          True   \n",
      "4            4          True          True          True         False   \n",
      "...        ...           ...           ...           ...           ...   \n",
      "501946  501946         False         False         False          True   \n",
      "501947  501947          True          True         False          True   \n",
      "501948  501948          True          True          True          True   \n",
      "501949  501949          True         False         False          True   \n",
      "501950  501950          True          True          True          True   \n",
      "\n",
      "        h_m_match_yn  h_s_match_yn  person_attribute_a  person_attribute_a_1  \\\n",
      "0              False         False                   1                     4   \n",
      "1               True         False                   1                     3   \n",
      "2              False         False                   2                     0   \n",
      "3              False         False                   2                     0   \n",
      "4              False         False                   1                     3   \n",
      "...              ...           ...                 ...                   ...   \n",
      "501946         False         False                   1                     1   \n",
      "501947         False         False                   1                     6   \n",
      "501948         False         False                   1                     7   \n",
      "501949         False         False                   1                     1   \n",
      "501950         False         False                   1                     6   \n",
      "\n",
      "        person_attribute_b  ...  contents_rn     contents_open_dt  \\\n",
      "0                        3  ...       354805  2020-01-17 12:09:36   \n",
      "1                        4  ...       346213  2020-06-18 17:48:52   \n",
      "2                        3  ...       206408  2020-07-08 20:00:10   \n",
      "3                        2  ...       572323  2020-01-13 18:09:34   \n",
      "4                        4  ...       573899  2020-03-09 20:39:22   \n",
      "...                    ...  ...          ...                  ...   \n",
      "501946                   2  ...       285850  2020-03-13 12:55:52   \n",
      "501947                   2  ...       456996  2020-01-20 11:51:51   \n",
      "501948                   4  ...       293258  2020-08-05 17:27:24   \n",
      "501949                   2  ...       273797  2020-06-15 09:23:21   \n",
      "501950                   3  ...       176650  2020-05-25 14:34:48   \n",
      "\n",
      "        person_prefer_d_1_attribute_d_d  person_prefer_d_1_attribute_d_s  \\\n",
      "0                                   275                              274   \n",
      "1                                   114                               56   \n",
      "2                                   464                              450   \n",
      "3                                   703                              690   \n",
      "4                                   275                              274   \n",
      "...                                 ...                              ...   \n",
      "501946                             1192                             1169   \n",
      "501947                              114                               56   \n",
      "501948                              145                               56   \n",
      "501949                               46                                2   \n",
      "501950                              145                               56   \n",
      "\n",
      "        person_prefer_d_1_attribute_d_m  person_prefer_d_1_attribute_d_l  \\\n",
      "0                                   274                              216   \n",
      "1                                   109                                1   \n",
      "2                                   463                              377   \n",
      "3                                   703                              618   \n",
      "4                                   274                              216   \n",
      "...                                 ...                              ...   \n",
      "501946                             1180                              926   \n",
      "501947                              109                                1   \n",
      "501948                              123                                1   \n",
      "501949                               43                                1   \n",
      "501950                              123                                1   \n",
      "\n",
      "        person_prefer_d_2_attribute_d_d  person_prefer_d_2_attribute_d_s  \\\n",
      "0                                   369                              297   \n",
      "1                                   175                               56   \n",
      "2                                   175                               56   \n",
      "3                                   703                              690   \n",
      "4                                   369                              297   \n",
      "...                                 ...                              ...   \n",
      "501946                              929                              927   \n",
      "501947                              110                               56   \n",
      "501948                               46                                2   \n",
      "501949                              145                               56   \n",
      "501950                               46                                2   \n",
      "\n",
      "        person_prefer_d_2_attribute_d_m  person_prefer_d_2_attribute_d_l  \n",
      "0                                   368                              216  \n",
      "1                                   152                                1  \n",
      "2                                   152                                1  \n",
      "3                                   703                              618  \n",
      "4                                   368                              216  \n",
      "...                                 ...                              ...  \n",
      "501946                              928                              926  \n",
      "501947                              109                                1  \n",
      "501948                               43                                1  \n",
      "501949                              123                                1  \n",
      "501950                               43                                1  \n",
      "\n",
      "[501951 rows x 42 columns]\n",
      "df :             id  d_l_match_yn  d_m_match_yn  d_s_match_yn  h_l_match_yn  \\\n",
      "0            0          True          True          True         False   \n",
      "1            1         False         False         False          True   \n",
      "2            2         False         False         False          True   \n",
      "3            3         False         False         False          True   \n",
      "4            4          True          True          True         False   \n",
      "...        ...           ...           ...           ...           ...   \n",
      "501946  501946         False         False         False          True   \n",
      "501947  501947          True          True         False          True   \n",
      "501948  501948          True          True          True          True   \n",
      "501949  501949          True         False         False          True   \n",
      "501950  501950          True          True          True          True   \n",
      "\n",
      "        h_m_match_yn  h_s_match_yn  person_attribute_a  person_attribute_a_1  \\\n",
      "0              False         False                   1                     4   \n",
      "1               True         False                   1                     3   \n",
      "2              False         False                   2                     0   \n",
      "3              False         False                   2                     0   \n",
      "4              False         False                   1                     3   \n",
      "...              ...           ...                 ...                   ...   \n",
      "501946         False         False                   1                     1   \n",
      "501947         False         False                   1                     6   \n",
      "501948         False         False                   1                     7   \n",
      "501949         False         False                   1                     1   \n",
      "501950         False         False                   1                     6   \n",
      "\n",
      "        person_attribute_b  ...  contents_rn     contents_open_dt  \\\n",
      "0                        3  ...       354805  2020-01-17 12:09:36   \n",
      "1                        4  ...       346213  2020-06-18 17:48:52   \n",
      "2                        3  ...       206408  2020-07-08 20:00:10   \n",
      "3                        2  ...       572323  2020-01-13 18:09:34   \n",
      "4                        4  ...       573899  2020-03-09 20:39:22   \n",
      "...                    ...  ...          ...                  ...   \n",
      "501946                   2  ...       285850  2020-03-13 12:55:52   \n",
      "501947                   2  ...       456996  2020-01-20 11:51:51   \n",
      "501948                   4  ...       293258  2020-08-05 17:27:24   \n",
      "501949                   2  ...       273797  2020-06-15 09:23:21   \n",
      "501950                   3  ...       176650  2020-05-25 14:34:48   \n",
      "\n",
      "        person_prefer_d_1_attribute_d_d  person_prefer_d_1_attribute_d_s  \\\n",
      "0                                   275                              274   \n",
      "1                                   114                               56   \n",
      "2                                   464                              450   \n",
      "3                                   703                              690   \n",
      "4                                   275                              274   \n",
      "...                                 ...                              ...   \n",
      "501946                             1192                             1169   \n",
      "501947                              114                               56   \n",
      "501948                              145                               56   \n",
      "501949                               46                                2   \n",
      "501950                              145                               56   \n",
      "\n",
      "        person_prefer_d_1_attribute_d_m  person_prefer_d_1_attribute_d_l  \\\n",
      "0                                   274                              216   \n",
      "1                                   109                                1   \n",
      "2                                   463                              377   \n",
      "3                                   703                              618   \n",
      "4                                   274                              216   \n",
      "...                                 ...                              ...   \n",
      "501946                             1180                              926   \n",
      "501947                              109                                1   \n",
      "501948                              123                                1   \n",
      "501949                               43                                1   \n",
      "501950                              123                                1   \n",
      "\n",
      "        person_prefer_d_2_attribute_d_d  person_prefer_d_2_attribute_d_s  \\\n",
      "0                                   369                              297   \n",
      "1                                   175                               56   \n",
      "2                                   175                               56   \n",
      "3                                   703                              690   \n",
      "4                                   369                              297   \n",
      "...                                 ...                              ...   \n",
      "501946                              929                              927   \n",
      "501947                              110                               56   \n",
      "501948                               46                                2   \n",
      "501949                              145                               56   \n",
      "501950                               46                                2   \n",
      "\n",
      "        person_prefer_d_2_attribute_d_m  person_prefer_d_2_attribute_d_l  \n",
      "0                                   368                              216  \n",
      "1                                   152                                1  \n",
      "2                                   152                                1  \n",
      "3                                   703                              618  \n",
      "4                                   368                              216  \n",
      "...                                 ...                              ...  \n",
      "501946                              928                              926  \n",
      "501947                              109                                1  \n",
      "501948                               43                                1  \n",
      "501949                              123                                1  \n",
      "501950                               43                                1  \n",
      "\n",
      "[501951 rows x 42 columns]\n",
      "df_code :        person_prefer_d_3  person_prefer_d_3_attribute_d_d  \\\n",
      "0                     4                                4   \n",
      "1                     5                                5   \n",
      "2                     7                                7   \n",
      "3                     8                                8   \n",
      "4                     9                                8   \n",
      "...                 ...                              ...   \n",
      "1109               1254                             1254   \n",
      "1110               1255                             1254   \n",
      "1111               1256                             1254   \n",
      "1112               1257                             1254   \n",
      "1113               1258                             1258   \n",
      "\n",
      "      person_prefer_d_3_attribute_d_s  person_prefer_d_3_attribute_d_m  \\\n",
      "0                                   2                                3   \n",
      "1                                   2                                3   \n",
      "2                                   2                                6   \n",
      "3                                   2                                6   \n",
      "4                                   2                                6   \n",
      "...                               ...                              ...   \n",
      "1109                             1235                             1254   \n",
      "1110                             1235                             1254   \n",
      "1111                             1235                             1254   \n",
      "1112                             1235                             1254   \n",
      "1113                             1258                             1258   \n",
      "\n",
      "      person_prefer_d_3_attribute_d_l  \n",
      "0                                   1  \n",
      "1                                   1  \n",
      "2                                   1  \n",
      "3                                   1  \n",
      "4                                   1  \n",
      "...                               ...  \n",
      "1109                             1235  \n",
      "1110                             1235  \n",
      "1111                             1235  \n",
      "1112                             1235  \n",
      "1113                             1258  \n",
      "\n",
      "[1114 rows x 5 columns]\n"
     ]
    },
    {
     "ename": "KeyboardInterrupt",
     "evalue": "",
     "output_type": "error",
     "traceback": [
      "\u001B[0;31m---------------------------------------------------------------------------\u001B[0m",
      "\u001B[0;31mKeyboardInterrupt\u001B[0m                         Traceback (most recent call last)",
      "\u001B[0;32m/var/folders/c6/2j22b1rd02778st12c0mcr3w0000gn/T/ipykernel_50975/1572445868.py\u001B[0m in \u001B[0;36m<module>\u001B[0;34m\u001B[0m\n\u001B[0;32m----> 1\u001B[0;31m \u001B[0mx_train\u001B[0m\u001B[0;34m,\u001B[0m \u001B[0my_train\u001B[0m \u001B[0;34m=\u001B[0m \u001B[0mpreprocess_data\u001B[0m\u001B[0;34m(\u001B[0m\u001B[0mtrain_data\u001B[0m\u001B[0;34m,\u001B[0m \u001B[0mcols_merge\u001B[0m \u001B[0;34m=\u001B[0m \u001B[0mcols_merge\u001B[0m \u001B[0;34m,\u001B[0m \u001B[0mcols_equi\u001B[0m\u001B[0;34m=\u001B[0m \u001B[0mcols_equi\u001B[0m \u001B[0;34m,\u001B[0m \u001B[0mcols_drop\u001B[0m \u001B[0;34m=\u001B[0m \u001B[0mcols_drop\u001B[0m\u001B[0;34m)\u001B[0m\u001B[0;34m\u001B[0m\u001B[0;34m\u001B[0m\u001B[0m\n\u001B[0m\u001B[1;32m      2\u001B[0m \u001B[0mx_test\u001B[0m\u001B[0;34m,\u001B[0m \u001B[0m_\u001B[0m \u001B[0;34m=\u001B[0m \u001B[0mpreprocess_data\u001B[0m\u001B[0;34m(\u001B[0m\u001B[0mtest_data\u001B[0m\u001B[0;34m,\u001B[0m\u001B[0mis_train\u001B[0m \u001B[0;34m=\u001B[0m \u001B[0;32mFalse\u001B[0m\u001B[0;34m,\u001B[0m \u001B[0mcols_merge\u001B[0m \u001B[0;34m=\u001B[0m \u001B[0mcols_merge\u001B[0m \u001B[0;34m,\u001B[0m \u001B[0mcols_equi\u001B[0m\u001B[0;34m=\u001B[0m \u001B[0mcols_equi\u001B[0m  \u001B[0;34m,\u001B[0m \u001B[0mcols_drop\u001B[0m \u001B[0;34m=\u001B[0m \u001B[0mcols_drop\u001B[0m\u001B[0;34m)\u001B[0m\u001B[0;34m\u001B[0m\u001B[0;34m\u001B[0m\u001B[0m\n\u001B[1;32m      3\u001B[0m \u001B[0mx_train\u001B[0m\u001B[0;34m.\u001B[0m\u001B[0mshape\u001B[0m \u001B[0;34m,\u001B[0m \u001B[0my_train\u001B[0m\u001B[0;34m.\u001B[0m\u001B[0mshape\u001B[0m \u001B[0;34m,\u001B[0m \u001B[0mx_test\u001B[0m\u001B[0;34m.\u001B[0m\u001B[0mshape\u001B[0m\u001B[0;34m\u001B[0m\u001B[0;34m\u001B[0m\u001B[0m\n",
      "\u001B[0;32m/var/folders/c6/2j22b1rd02778st12c0mcr3w0000gn/T/ipykernel_50975/2873443545.py\u001B[0m in \u001B[0;36mpreprocess_data\u001B[0;34m(df, is_train, cols_merge, cols_equi, cols_drop)\u001B[0m\n\u001B[1;32m     14\u001B[0m \u001B[0;34m\u001B[0m\u001B[0m\n\u001B[1;32m     15\u001B[0m     \u001B[0;32mfor\u001B[0m \u001B[0mcol\u001B[0m \u001B[0;34m,\u001B[0m \u001B[0mdf_code\u001B[0m \u001B[0;32min\u001B[0m \u001B[0mcols_merge\u001B[0m\u001B[0;34m:\u001B[0m\u001B[0;34m\u001B[0m\u001B[0;34m\u001B[0m\u001B[0m\n\u001B[0;32m---> 16\u001B[0;31m         \u001B[0mdf\u001B[0m \u001B[0;34m=\u001B[0m \u001B[0mmerge_codes\u001B[0m\u001B[0;34m(\u001B[0m\u001B[0mdf\u001B[0m\u001B[0;34m,\u001B[0m \u001B[0mdf_code\u001B[0m\u001B[0;34m,\u001B[0m \u001B[0mcol\u001B[0m\u001B[0;34m)\u001B[0m\u001B[0;34m\u001B[0m\u001B[0;34m\u001B[0m\u001B[0m\n\u001B[0m\u001B[1;32m     17\u001B[0m \u001B[0;34m\u001B[0m\u001B[0m\n\u001B[1;32m     18\u001B[0m     \u001B[0mcols\u001B[0m \u001B[0;34m=\u001B[0m \u001B[0mdf\u001B[0m\u001B[0;34m.\u001B[0m\u001B[0mselect_dtypes\u001B[0m\u001B[0;34m(\u001B[0m\u001B[0mbool\u001B[0m\u001B[0;34m)\u001B[0m\u001B[0;34m.\u001B[0m\u001B[0mcolumns\u001B[0m\u001B[0;34m.\u001B[0m\u001B[0mtolist\u001B[0m\u001B[0;34m(\u001B[0m\u001B[0;34m)\u001B[0m\u001B[0;34m\u001B[0m\u001B[0;34m\u001B[0m\u001B[0m\n",
      "\u001B[0;32m/var/folders/c6/2j22b1rd02778st12c0mcr3w0000gn/T/ipykernel_50975/2668153162.py\u001B[0m in \u001B[0;36mmerge_codes\u001B[0;34m(df, df_code, col)\u001B[0m\n\u001B[1;32m      6\u001B[0m     \u001B[0mprint\u001B[0m\u001B[0;34m(\u001B[0m\u001B[0;34m'df :'\u001B[0m \u001B[0;34m,\u001B[0m\u001B[0mdf\u001B[0m\u001B[0;34m)\u001B[0m\u001B[0;34m\u001B[0m\u001B[0;34m\u001B[0m\u001B[0m\n\u001B[1;32m      7\u001B[0m     \u001B[0mprint\u001B[0m\u001B[0;34m(\u001B[0m\u001B[0;34m'df_code : '\u001B[0m\u001B[0;34m,\u001B[0m \u001B[0mdf_code\u001B[0m\u001B[0;34m)\u001B[0m\u001B[0;34m\u001B[0m\u001B[0;34m\u001B[0m\u001B[0m\n\u001B[0;32m----> 8\u001B[0;31m     \u001B[0mprint\u001B[0m\u001B[0;34m(\u001B[0m\u001B[0;34m'merge data : '\u001B[0m\u001B[0;34m,\u001B[0m\u001B[0mpd\u001B[0m\u001B[0;34m.\u001B[0m\u001B[0mmerge\u001B[0m\u001B[0;34m(\u001B[0m\u001B[0mdf\u001B[0m\u001B[0;34m,\u001B[0m\u001B[0mdf_code\u001B[0m \u001B[0;34m,\u001B[0m \u001B[0mhow\u001B[0m\u001B[0;34m=\u001B[0m\u001B[0;34m'left'\u001B[0m\u001B[0;34m,\u001B[0m \u001B[0mon\u001B[0m\u001B[0;34m=\u001B[0m \u001B[0mcol\u001B[0m\u001B[0;34m)\u001B[0m \u001B[0;34m)\u001B[0m\u001B[0;34m\u001B[0m\u001B[0;34m\u001B[0m\u001B[0m\n\u001B[0m\u001B[1;32m      9\u001B[0m     \u001B[0;32mreturn\u001B[0m \u001B[0mpd\u001B[0m\u001B[0;34m.\u001B[0m\u001B[0mmerge\u001B[0m\u001B[0;34m(\u001B[0m\u001B[0mdf\u001B[0m\u001B[0;34m,\u001B[0m\u001B[0mdf_code\u001B[0m \u001B[0;34m,\u001B[0m \u001B[0mhow\u001B[0m\u001B[0;34m=\u001B[0m\u001B[0;34m'left'\u001B[0m\u001B[0;34m,\u001B[0m \u001B[0mon\u001B[0m\u001B[0;34m=\u001B[0m \u001B[0mcol\u001B[0m\u001B[0;34m)\u001B[0m\u001B[0;34m\u001B[0m\u001B[0;34m\u001B[0m\u001B[0m\n",
      "\u001B[0;32m~/PycharmProjects/pythonProject/venv/lib/python3.8/site-packages/pandas/core/reshape/merge.py\u001B[0m in \u001B[0;36mmerge\u001B[0;34m(left, right, how, on, left_on, right_on, left_index, right_index, sort, suffixes, copy, indicator, validate)\u001B[0m\n\u001B[1;32m     87\u001B[0m         \u001B[0mvalidate\u001B[0m\u001B[0;34m=\u001B[0m\u001B[0mvalidate\u001B[0m\u001B[0;34m,\u001B[0m\u001B[0;34m\u001B[0m\u001B[0;34m\u001B[0m\u001B[0m\n\u001B[1;32m     88\u001B[0m     )\n\u001B[0;32m---> 89\u001B[0;31m     \u001B[0;32mreturn\u001B[0m \u001B[0mop\u001B[0m\u001B[0;34m.\u001B[0m\u001B[0mget_result\u001B[0m\u001B[0;34m(\u001B[0m\u001B[0;34m)\u001B[0m\u001B[0;34m\u001B[0m\u001B[0;34m\u001B[0m\u001B[0m\n\u001B[0m\u001B[1;32m     90\u001B[0m \u001B[0;34m\u001B[0m\u001B[0m\n\u001B[1;32m     91\u001B[0m \u001B[0;34m\u001B[0m\u001B[0m\n",
      "\u001B[0;32m~/PycharmProjects/pythonProject/venv/lib/python3.8/site-packages/pandas/core/reshape/merge.py\u001B[0m in \u001B[0;36mget_result\u001B[0;34m(self)\u001B[0m\n\u001B[1;32m    691\u001B[0m         \u001B[0mrindexers\u001B[0m \u001B[0;34m=\u001B[0m \u001B[0;34m{\u001B[0m\u001B[0;36m1\u001B[0m\u001B[0;34m:\u001B[0m \u001B[0mright_indexer\u001B[0m\u001B[0;34m}\u001B[0m \u001B[0;32mif\u001B[0m \u001B[0mright_indexer\u001B[0m \u001B[0;32mis\u001B[0m \u001B[0;32mnot\u001B[0m \u001B[0;32mNone\u001B[0m \u001B[0;32melse\u001B[0m \u001B[0;34m{\u001B[0m\u001B[0;34m}\u001B[0m\u001B[0;34m\u001B[0m\u001B[0;34m\u001B[0m\u001B[0m\n\u001B[1;32m    692\u001B[0m \u001B[0;34m\u001B[0m\u001B[0m\n\u001B[0;32m--> 693\u001B[0;31m         result_data = concatenate_block_managers(\n\u001B[0m\u001B[1;32m    694\u001B[0m             \u001B[0;34m[\u001B[0m\u001B[0;34m(\u001B[0m\u001B[0mself\u001B[0m\u001B[0;34m.\u001B[0m\u001B[0mleft\u001B[0m\u001B[0;34m.\u001B[0m\u001B[0m_mgr\u001B[0m\u001B[0;34m,\u001B[0m \u001B[0mlindexers\u001B[0m\u001B[0;34m)\u001B[0m\u001B[0;34m,\u001B[0m \u001B[0;34m(\u001B[0m\u001B[0mself\u001B[0m\u001B[0;34m.\u001B[0m\u001B[0mright\u001B[0m\u001B[0;34m.\u001B[0m\u001B[0m_mgr\u001B[0m\u001B[0;34m,\u001B[0m \u001B[0mrindexers\u001B[0m\u001B[0;34m)\u001B[0m\u001B[0;34m]\u001B[0m\u001B[0;34m,\u001B[0m\u001B[0;34m\u001B[0m\u001B[0;34m\u001B[0m\u001B[0m\n\u001B[1;32m    695\u001B[0m             \u001B[0maxes\u001B[0m\u001B[0;34m=\u001B[0m\u001B[0;34m[\u001B[0m\u001B[0mllabels\u001B[0m\u001B[0;34m.\u001B[0m\u001B[0mappend\u001B[0m\u001B[0;34m(\u001B[0m\u001B[0mrlabels\u001B[0m\u001B[0;34m)\u001B[0m\u001B[0;34m,\u001B[0m \u001B[0mjoin_index\u001B[0m\u001B[0;34m]\u001B[0m\u001B[0;34m,\u001B[0m\u001B[0;34m\u001B[0m\u001B[0;34m\u001B[0m\u001B[0m\n",
      "\u001B[0;32m~/PycharmProjects/pythonProject/venv/lib/python3.8/site-packages/pandas/core/internals/concat.py\u001B[0m in \u001B[0;36mconcatenate_block_managers\u001B[0;34m(mgrs_indexers, axes, concat_axis, copy)\u001B[0m\n\u001B[1;32m     81\u001B[0m         \u001B[0;32melse\u001B[0m\u001B[0;34m:\u001B[0m\u001B[0;34m\u001B[0m\u001B[0;34m\u001B[0m\u001B[0m\n\u001B[1;32m     82\u001B[0m             b = make_block(\n\u001B[0;32m---> 83\u001B[0;31m                 \u001B[0m_concatenate_join_units\u001B[0m\u001B[0;34m(\u001B[0m\u001B[0mjoin_units\u001B[0m\u001B[0;34m,\u001B[0m \u001B[0mconcat_axis\u001B[0m\u001B[0;34m,\u001B[0m \u001B[0mcopy\u001B[0m\u001B[0;34m=\u001B[0m\u001B[0mcopy\u001B[0m\u001B[0;34m)\u001B[0m\u001B[0;34m,\u001B[0m\u001B[0;34m\u001B[0m\u001B[0;34m\u001B[0m\u001B[0m\n\u001B[0m\u001B[1;32m     84\u001B[0m                 \u001B[0mplacement\u001B[0m\u001B[0;34m=\u001B[0m\u001B[0mplacement\u001B[0m\u001B[0;34m,\u001B[0m\u001B[0;34m\u001B[0m\u001B[0;34m\u001B[0m\u001B[0m\n\u001B[1;32m     85\u001B[0m                 \u001B[0mndim\u001B[0m\u001B[0;34m=\u001B[0m\u001B[0mlen\u001B[0m\u001B[0;34m(\u001B[0m\u001B[0maxes\u001B[0m\u001B[0;34m)\u001B[0m\u001B[0;34m,\u001B[0m\u001B[0;34m\u001B[0m\u001B[0;34m\u001B[0m\u001B[0m\n",
      "\u001B[0;32m~/PycharmProjects/pythonProject/venv/lib/python3.8/site-packages/pandas/core/internals/concat.py\u001B[0m in \u001B[0;36m_concatenate_join_units\u001B[0;34m(join_units, concat_axis, copy)\u001B[0m\n\u001B[1;32m    311\u001B[0m     \u001B[0mempty_dtype\u001B[0m\u001B[0;34m,\u001B[0m \u001B[0mupcasted_na\u001B[0m \u001B[0;34m=\u001B[0m \u001B[0m_get_empty_dtype_and_na\u001B[0m\u001B[0;34m(\u001B[0m\u001B[0mjoin_units\u001B[0m\u001B[0;34m)\u001B[0m\u001B[0;34m\u001B[0m\u001B[0;34m\u001B[0m\u001B[0m\n\u001B[1;32m    312\u001B[0m \u001B[0;34m\u001B[0m\u001B[0m\n\u001B[0;32m--> 313\u001B[0;31m     to_concat = [\n\u001B[0m\u001B[1;32m    314\u001B[0m         \u001B[0mju\u001B[0m\u001B[0;34m.\u001B[0m\u001B[0mget_reindexed_values\u001B[0m\u001B[0;34m(\u001B[0m\u001B[0mempty_dtype\u001B[0m\u001B[0;34m=\u001B[0m\u001B[0mempty_dtype\u001B[0m\u001B[0;34m,\u001B[0m \u001B[0mupcasted_na\u001B[0m\u001B[0;34m=\u001B[0m\u001B[0mupcasted_na\u001B[0m\u001B[0;34m)\u001B[0m\u001B[0;34m\u001B[0m\u001B[0;34m\u001B[0m\u001B[0m\n\u001B[1;32m    315\u001B[0m         \u001B[0;32mfor\u001B[0m \u001B[0mju\u001B[0m \u001B[0;32min\u001B[0m \u001B[0mjoin_units\u001B[0m\u001B[0;34m\u001B[0m\u001B[0;34m\u001B[0m\u001B[0m\n",
      "\u001B[0;32m~/PycharmProjects/pythonProject/venv/lib/python3.8/site-packages/pandas/core/internals/concat.py\u001B[0m in \u001B[0;36m<listcomp>\u001B[0;34m(.0)\u001B[0m\n\u001B[1;32m    312\u001B[0m \u001B[0;34m\u001B[0m\u001B[0m\n\u001B[1;32m    313\u001B[0m     to_concat = [\n\u001B[0;32m--> 314\u001B[0;31m         \u001B[0mju\u001B[0m\u001B[0;34m.\u001B[0m\u001B[0mget_reindexed_values\u001B[0m\u001B[0;34m(\u001B[0m\u001B[0mempty_dtype\u001B[0m\u001B[0;34m=\u001B[0m\u001B[0mempty_dtype\u001B[0m\u001B[0;34m,\u001B[0m \u001B[0mupcasted_na\u001B[0m\u001B[0;34m=\u001B[0m\u001B[0mupcasted_na\u001B[0m\u001B[0;34m)\u001B[0m\u001B[0;34m\u001B[0m\u001B[0;34m\u001B[0m\u001B[0m\n\u001B[0m\u001B[1;32m    315\u001B[0m         \u001B[0;32mfor\u001B[0m \u001B[0mju\u001B[0m \u001B[0;32min\u001B[0m \u001B[0mjoin_units\u001B[0m\u001B[0;34m\u001B[0m\u001B[0;34m\u001B[0m\u001B[0m\n\u001B[1;32m    316\u001B[0m     ]\n",
      "\u001B[0;32m~/PycharmProjects/pythonProject/venv/lib/python3.8/site-packages/pandas/core/internals/concat.py\u001B[0m in \u001B[0;36mget_reindexed_values\u001B[0;34m(self, empty_dtype, upcasted_na)\u001B[0m\n\u001B[1;32m    296\u001B[0m         \u001B[0;32melse\u001B[0m\u001B[0;34m:\u001B[0m\u001B[0;34m\u001B[0m\u001B[0;34m\u001B[0m\u001B[0m\n\u001B[1;32m    297\u001B[0m             \u001B[0;32mfor\u001B[0m \u001B[0max\u001B[0m\u001B[0;34m,\u001B[0m \u001B[0mindexer\u001B[0m \u001B[0;32min\u001B[0m \u001B[0mself\u001B[0m\u001B[0;34m.\u001B[0m\u001B[0mindexers\u001B[0m\u001B[0;34m.\u001B[0m\u001B[0mitems\u001B[0m\u001B[0;34m(\u001B[0m\u001B[0;34m)\u001B[0m\u001B[0;34m:\u001B[0m\u001B[0;34m\u001B[0m\u001B[0;34m\u001B[0m\u001B[0m\n\u001B[0;32m--> 298\u001B[0;31m                 \u001B[0mvalues\u001B[0m \u001B[0;34m=\u001B[0m \u001B[0malgos\u001B[0m\u001B[0;34m.\u001B[0m\u001B[0mtake_nd\u001B[0m\u001B[0;34m(\u001B[0m\u001B[0mvalues\u001B[0m\u001B[0;34m,\u001B[0m \u001B[0mindexer\u001B[0m\u001B[0;34m,\u001B[0m \u001B[0maxis\u001B[0m\u001B[0;34m=\u001B[0m\u001B[0max\u001B[0m\u001B[0;34m,\u001B[0m \u001B[0mfill_value\u001B[0m\u001B[0;34m=\u001B[0m\u001B[0mfill_value\u001B[0m\u001B[0;34m)\u001B[0m\u001B[0;34m\u001B[0m\u001B[0;34m\u001B[0m\u001B[0m\n\u001B[0m\u001B[1;32m    299\u001B[0m \u001B[0;34m\u001B[0m\u001B[0m\n\u001B[1;32m    300\u001B[0m         \u001B[0;32mreturn\u001B[0m \u001B[0mvalues\u001B[0m\u001B[0;34m\u001B[0m\u001B[0;34m\u001B[0m\u001B[0m\n",
      "\u001B[0;32m~/PycharmProjects/pythonProject/venv/lib/python3.8/site-packages/pandas/core/algorithms.py\u001B[0m in \u001B[0;36mtake_nd\u001B[0;34m(arr, indexer, axis, out, fill_value, allow_fill)\u001B[0m\n\u001B[1;32m   1757\u001B[0m         \u001B[0marr\u001B[0m\u001B[0;34m.\u001B[0m\u001B[0mndim\u001B[0m\u001B[0;34m,\u001B[0m \u001B[0marr\u001B[0m\u001B[0;34m.\u001B[0m\u001B[0mdtype\u001B[0m\u001B[0;34m,\u001B[0m \u001B[0mout\u001B[0m\u001B[0;34m.\u001B[0m\u001B[0mdtype\u001B[0m\u001B[0;34m,\u001B[0m \u001B[0maxis\u001B[0m\u001B[0;34m=\u001B[0m\u001B[0maxis\u001B[0m\u001B[0;34m,\u001B[0m \u001B[0mmask_info\u001B[0m\u001B[0;34m=\u001B[0m\u001B[0mmask_info\u001B[0m\u001B[0;34m\u001B[0m\u001B[0;34m\u001B[0m\u001B[0m\n\u001B[1;32m   1758\u001B[0m     )\n\u001B[0;32m-> 1759\u001B[0;31m     \u001B[0mfunc\u001B[0m\u001B[0;34m(\u001B[0m\u001B[0marr\u001B[0m\u001B[0;34m,\u001B[0m \u001B[0mindexer\u001B[0m\u001B[0;34m,\u001B[0m \u001B[0mout\u001B[0m\u001B[0;34m,\u001B[0m \u001B[0mfill_value\u001B[0m\u001B[0;34m)\u001B[0m\u001B[0;34m\u001B[0m\u001B[0;34m\u001B[0m\u001B[0m\n\u001B[0m\u001B[1;32m   1760\u001B[0m \u001B[0;34m\u001B[0m\u001B[0m\n\u001B[1;32m   1761\u001B[0m     \u001B[0;32mif\u001B[0m \u001B[0mflip_order\u001B[0m\u001B[0;34m:\u001B[0m\u001B[0;34m\u001B[0m\u001B[0;34m\u001B[0m\u001B[0m\n",
      "\u001B[0;31mKeyboardInterrupt\u001B[0m: "
     ]
    }
   ],
   "source": [
    "x_train, y_train = preprocess_data(train_data, cols_merge = cols_merge , cols_equi= cols_equi , cols_drop = cols_drop)\n",
    "x_test, _ = preprocess_data(test_data,is_train = False, cols_merge = cols_merge , cols_equi= cols_equi  , cols_drop = cols_drop)\n",
    "x_train.shape , y_train.shape , x_test.shape"
   ],
   "metadata": {
    "collapsed": false,
    "pycharm": {
     "name": "#%%\n"
    }
   }
  },
  {
   "cell_type": "code",
   "execution_count": null,
   "outputs": [],
   "source": [
    "# 범주형 컬럼 리스트"
   ],
   "metadata": {
    "collapsed": false,
    "pycharm": {
     "name": "#%%\n"
    }
   }
  },
  {
   "cell_type": "code",
   "execution_count": 33,
   "outputs": [],
   "source": [
    "cat_features = x_train.columns[x_train.nunique() > 2].tolist()"
   ],
   "metadata": {
    "collapsed": false,
    "pycharm": {
     "name": "#%%\n"
    }
   }
  },
  {
   "cell_type": "code",
   "execution_count": 62,
   "outputs": [
    {
     "data": {
      "text/plain": "        d_l_match_yn  d_m_match_yn  d_s_match_yn  h_l_match_yn  h_m_match_yn  \\\n0                  1             1             1             0             0   \n1                  0             0             0             1             1   \n2                  0             0             0             1             0   \n3                  0             0             0             1             0   \n4                  1             1             1             0             0   \n...              ...           ...           ...           ...           ...   \n501946             0             0             0             1             0   \n501947             1             1             0             1             0   \n501948             1             1             1             1             0   \n501949             1             0             0             1             0   \n501950             1             1             1             1             0   \n\n        h_s_match_yn  person_attribute_a  person_attribute_a_1  \\\n0                  0                   1                     4   \n1                  0                   1                     3   \n2                  0                   2                     0   \n3                  0                   2                     0   \n4                  0                   1                     3   \n...              ...                 ...                   ...   \n501946             0                   1                     1   \n501947             0                   1                     6   \n501948             0                   1                     7   \n501949             0                   1                     1   \n501950             0                   1                     6   \n\n        person_attribute_b  person_prefer_c  ...  \\\n0                        3                5  ...   \n1                        4                1  ...   \n2                        3                5  ...   \n3                        2                5  ...   \n4                        4                5  ...   \n...                    ...              ...  ...   \n501946                   2                2  ...   \n501947                   2                1  ...   \n501948                   4                1  ...   \n501949                   2                1  ...   \n501950                   3                5  ...   \n\n        contents_attribute_e_person_prefer_e  \\\n0                                          0   \n1                                          1   \n2                                          0   \n3                                          1   \n4                                          1   \n...                                      ...   \n501946                                     0   \n501947                                     1   \n501948                                     0   \n501949                                     1   \n501950                                     0   \n\n        person_prefer_d_2_attribute_d_s_contents_attribute_d_attribute_d_s  \\\n0                                                       0                    \n1                                                       0                    \n2                                                       1                    \n3                                                       0                    \n4                                                       0                    \n...                                                   ...                    \n501946                                                  0                    \n501947                                                  1                    \n501948                                                  0                    \n501949                                                  1                    \n501950                                                  0                    \n\n        person_prefer_d_2_attribute_d_m_contents_attribute_d_attribute_d_m  \\\n0                                                       0                    \n1                                                       0                    \n2                                                       0                    \n3                                                       0                    \n4                                                       0                    \n...                                                   ...                    \n501946                                                  0                    \n501947                                                  1                    \n501948                                                  0                    \n501949                                                  1                    \n501950                                                  0                    \n\n        person_prefer_d_2_attribute_d_l_contents_attribute_d_attribute_d_l  \\\n0                                                       1                    \n1                                                       0                    \n2                                                       1                    \n3                                                       0                    \n4                                                       1                    \n...                                                   ...                    \n501946                                                  0                    \n501947                                                  1                    \n501948                                                  1                    \n501949                                                  1                    \n501950                                                  1                    \n\n        person_prefer_d_3_attribute_d_s_contents_attribute_d_attribute_d_s  \\\n0                                                       0                    \n1                                                       0                    \n2                                                       0                    \n3                                                       0                    \n4                                                       0                    \n...                                                   ...                    \n501946                                                  0                    \n501947                                                  1                    \n501948                                                  1                    \n501949                                                  1                    \n501950                                                  1                    \n\n        person_prefer_d_3_attribute_d_m_contents_attribute_d_attribute_d_m  \\\n0                                                       0                    \n1                                                       0                    \n2                                                       0                    \n3                                                       0                    \n4                                                       0                    \n...                                                   ...                    \n501946                                                  0                    \n501947                                                  1                    \n501948                                                  1                    \n501949                                                  1                    \n501950                                                  1                    \n\n        person_prefer_d_3_attribute_d_l_contents_attribute_d_attribute_d_l  \\\n0                                                       1                    \n1                                                       0                    \n2                                                       0                    \n3                                                       0                    \n4                                                       1                    \n...                                                   ...                    \n501946                                                  0                    \n501947                                                  1                    \n501948                                                  1                    \n501949                                                  1                    \n501950                                                  1                    \n\n        person_prefer_h_1_attribute_h_p_contents_attribute_h_attribute_h_p  \\\n0                                                       0                    \n1                                                       1                    \n2                                                       1                    \n3                                                       1                    \n4                                                       0                    \n...                                                   ...                    \n501946                                                  1                    \n501947                                                  1                    \n501948                                                  1                    \n501949                                                  1                    \n501950                                                  1                    \n\n        person_prefer_h_2_attribute_h_p_contents_attribute_h_attribute_h_p  \\\n0                                                       1                    \n1                                                       1                    \n2                                                       0                    \n3                                                       0                    \n4                                                       0                    \n...                                                   ...                    \n501946                                                  0                    \n501947                                                  1                    \n501948                                                  0                    \n501949                                                  0                    \n501950                                                  0                    \n\n        person_prefer_h_3_attribute_h_p_contents_attribute_h_attribute_h_p  \n0                                                       0                   \n1                                                       1                   \n2                                                       1                   \n3                                                       0                   \n4                                                       0                   \n...                                                   ...                   \n501946                                                  0                   \n501947                                                  1                   \n501948                                                  0                   \n501949                                                  1                   \n501950                                                  0                   \n\n[501951 rows x 64 columns]",
      "text/html": "<div>\n<style scoped>\n    .dataframe tbody tr th:only-of-type {\n        vertical-align: middle;\n    }\n\n    .dataframe tbody tr th {\n        vertical-align: top;\n    }\n\n    .dataframe thead th {\n        text-align: right;\n    }\n</style>\n<table border=\"1\" class=\"dataframe\">\n  <thead>\n    <tr style=\"text-align: right;\">\n      <th></th>\n      <th>d_l_match_yn</th>\n      <th>d_m_match_yn</th>\n      <th>d_s_match_yn</th>\n      <th>h_l_match_yn</th>\n      <th>h_m_match_yn</th>\n      <th>h_s_match_yn</th>\n      <th>person_attribute_a</th>\n      <th>person_attribute_a_1</th>\n      <th>person_attribute_b</th>\n      <th>person_prefer_c</th>\n      <th>...</th>\n      <th>contents_attribute_e_person_prefer_e</th>\n      <th>person_prefer_d_2_attribute_d_s_contents_attribute_d_attribute_d_s</th>\n      <th>person_prefer_d_2_attribute_d_m_contents_attribute_d_attribute_d_m</th>\n      <th>person_prefer_d_2_attribute_d_l_contents_attribute_d_attribute_d_l</th>\n      <th>person_prefer_d_3_attribute_d_s_contents_attribute_d_attribute_d_s</th>\n      <th>person_prefer_d_3_attribute_d_m_contents_attribute_d_attribute_d_m</th>\n      <th>person_prefer_d_3_attribute_d_l_contents_attribute_d_attribute_d_l</th>\n      <th>person_prefer_h_1_attribute_h_p_contents_attribute_h_attribute_h_p</th>\n      <th>person_prefer_h_2_attribute_h_p_contents_attribute_h_attribute_h_p</th>\n      <th>person_prefer_h_3_attribute_h_p_contents_attribute_h_attribute_h_p</th>\n    </tr>\n  </thead>\n  <tbody>\n    <tr>\n      <th>0</th>\n      <td>1</td>\n      <td>1</td>\n      <td>1</td>\n      <td>0</td>\n      <td>0</td>\n      <td>0</td>\n      <td>1</td>\n      <td>4</td>\n      <td>3</td>\n      <td>5</td>\n      <td>...</td>\n      <td>0</td>\n      <td>0</td>\n      <td>0</td>\n      <td>1</td>\n      <td>0</td>\n      <td>0</td>\n      <td>1</td>\n      <td>0</td>\n      <td>1</td>\n      <td>0</td>\n    </tr>\n    <tr>\n      <th>1</th>\n      <td>0</td>\n      <td>0</td>\n      <td>0</td>\n      <td>1</td>\n      <td>1</td>\n      <td>0</td>\n      <td>1</td>\n      <td>3</td>\n      <td>4</td>\n      <td>1</td>\n      <td>...</td>\n      <td>1</td>\n      <td>0</td>\n      <td>0</td>\n      <td>0</td>\n      <td>0</td>\n      <td>0</td>\n      <td>0</td>\n      <td>1</td>\n      <td>1</td>\n      <td>1</td>\n    </tr>\n    <tr>\n      <th>2</th>\n      <td>0</td>\n      <td>0</td>\n      <td>0</td>\n      <td>1</td>\n      <td>0</td>\n      <td>0</td>\n      <td>2</td>\n      <td>0</td>\n      <td>3</td>\n      <td>5</td>\n      <td>...</td>\n      <td>0</td>\n      <td>1</td>\n      <td>0</td>\n      <td>1</td>\n      <td>0</td>\n      <td>0</td>\n      <td>0</td>\n      <td>1</td>\n      <td>0</td>\n      <td>1</td>\n    </tr>\n    <tr>\n      <th>3</th>\n      <td>0</td>\n      <td>0</td>\n      <td>0</td>\n      <td>1</td>\n      <td>0</td>\n      <td>0</td>\n      <td>2</td>\n      <td>0</td>\n      <td>2</td>\n      <td>5</td>\n      <td>...</td>\n      <td>1</td>\n      <td>0</td>\n      <td>0</td>\n      <td>0</td>\n      <td>0</td>\n      <td>0</td>\n      <td>0</td>\n      <td>1</td>\n      <td>0</td>\n      <td>0</td>\n    </tr>\n    <tr>\n      <th>4</th>\n      <td>1</td>\n      <td>1</td>\n      <td>1</td>\n      <td>0</td>\n      <td>0</td>\n      <td>0</td>\n      <td>1</td>\n      <td>3</td>\n      <td>4</td>\n      <td>5</td>\n      <td>...</td>\n      <td>1</td>\n      <td>0</td>\n      <td>0</td>\n      <td>1</td>\n      <td>0</td>\n      <td>0</td>\n      <td>1</td>\n      <td>0</td>\n      <td>0</td>\n      <td>0</td>\n    </tr>\n    <tr>\n      <th>...</th>\n      <td>...</td>\n      <td>...</td>\n      <td>...</td>\n      <td>...</td>\n      <td>...</td>\n      <td>...</td>\n      <td>...</td>\n      <td>...</td>\n      <td>...</td>\n      <td>...</td>\n      <td>...</td>\n      <td>...</td>\n      <td>...</td>\n      <td>...</td>\n      <td>...</td>\n      <td>...</td>\n      <td>...</td>\n      <td>...</td>\n      <td>...</td>\n      <td>...</td>\n      <td>...</td>\n    </tr>\n    <tr>\n      <th>501946</th>\n      <td>0</td>\n      <td>0</td>\n      <td>0</td>\n      <td>1</td>\n      <td>0</td>\n      <td>0</td>\n      <td>1</td>\n      <td>1</td>\n      <td>2</td>\n      <td>2</td>\n      <td>...</td>\n      <td>0</td>\n      <td>0</td>\n      <td>0</td>\n      <td>0</td>\n      <td>0</td>\n      <td>0</td>\n      <td>0</td>\n      <td>1</td>\n      <td>0</td>\n      <td>0</td>\n    </tr>\n    <tr>\n      <th>501947</th>\n      <td>1</td>\n      <td>1</td>\n      <td>0</td>\n      <td>1</td>\n      <td>0</td>\n      <td>0</td>\n      <td>1</td>\n      <td>6</td>\n      <td>2</td>\n      <td>1</td>\n      <td>...</td>\n      <td>1</td>\n      <td>1</td>\n      <td>1</td>\n      <td>1</td>\n      <td>1</td>\n      <td>1</td>\n      <td>1</td>\n      <td>1</td>\n      <td>1</td>\n      <td>1</td>\n    </tr>\n    <tr>\n      <th>501948</th>\n      <td>1</td>\n      <td>1</td>\n      <td>1</td>\n      <td>1</td>\n      <td>0</td>\n      <td>0</td>\n      <td>1</td>\n      <td>7</td>\n      <td>4</td>\n      <td>1</td>\n      <td>...</td>\n      <td>0</td>\n      <td>0</td>\n      <td>0</td>\n      <td>1</td>\n      <td>1</td>\n      <td>1</td>\n      <td>1</td>\n      <td>1</td>\n      <td>0</td>\n      <td>0</td>\n    </tr>\n    <tr>\n      <th>501949</th>\n      <td>1</td>\n      <td>0</td>\n      <td>0</td>\n      <td>1</td>\n      <td>0</td>\n      <td>0</td>\n      <td>1</td>\n      <td>1</td>\n      <td>2</td>\n      <td>1</td>\n      <td>...</td>\n      <td>1</td>\n      <td>1</td>\n      <td>1</td>\n      <td>1</td>\n      <td>1</td>\n      <td>1</td>\n      <td>1</td>\n      <td>1</td>\n      <td>0</td>\n      <td>1</td>\n    </tr>\n    <tr>\n      <th>501950</th>\n      <td>1</td>\n      <td>1</td>\n      <td>1</td>\n      <td>1</td>\n      <td>0</td>\n      <td>0</td>\n      <td>1</td>\n      <td>6</td>\n      <td>3</td>\n      <td>5</td>\n      <td>...</td>\n      <td>0</td>\n      <td>0</td>\n      <td>0</td>\n      <td>1</td>\n      <td>1</td>\n      <td>1</td>\n      <td>1</td>\n      <td>1</td>\n      <td>0</td>\n      <td>0</td>\n    </tr>\n  </tbody>\n</table>\n<p>501951 rows × 64 columns</p>\n</div>"
     },
     "execution_count": 62,
     "metadata": {},
     "output_type": "execute_result"
    }
   ],
   "source": [
    "x_train"
   ],
   "metadata": {
    "collapsed": false,
    "pycharm": {
     "name": "#%%\n"
    }
   }
  },
  {
   "cell_type": "code",
   "execution_count": 34,
   "outputs": [
    {
     "data": {
      "text/plain": "['person_attribute_a_1',\n 'person_attribute_b',\n 'person_prefer_c',\n 'person_prefer_d_1',\n 'person_prefer_d_2',\n 'person_prefer_d_3',\n 'person_prefer_e',\n 'person_prefer_h_1',\n 'person_prefer_h_2',\n 'person_prefer_h_3',\n 'contents_attribute_i',\n 'contents_attribute_a',\n 'contents_attribute_j_1',\n 'contents_attribute_c',\n 'contents_attribute_l',\n 'contents_attribute_d',\n 'contents_attribute_m',\n 'contents_attribute_e',\n 'contents_attribute_h',\n 'person_rn',\n 'person_prefer_d_1_attribute_d_d',\n 'person_prefer_d_1_attribute_d_s',\n 'person_prefer_d_1_attribute_d_m',\n 'person_prefer_d_1_attribute_d_l',\n 'person_prefer_d_2_attribute_d_d',\n 'person_prefer_d_2_attribute_d_s',\n 'person_prefer_d_2_attribute_d_m',\n 'person_prefer_d_2_attribute_d_l',\n 'person_prefer_d_3_attribute_d_d',\n 'person_prefer_d_3_attribute_d_s',\n 'person_prefer_d_3_attribute_d_m',\n 'person_prefer_d_3_attribute_d_l',\n 'contents_attribute_d_attribute_d_d',\n 'contents_attribute_d_attribute_d_s',\n 'contents_attribute_d_attribute_d_m',\n 'contents_attribute_d_attribute_d_l',\n 'person_prefer_h_1_attribute_h_p',\n 'person_prefer_h_2_attribute_h_p',\n 'person_prefer_h_3_attribute_h_p',\n 'contents_attribute_h_attribute_h_p',\n 'contents_attribute_l_attribute_l_d',\n 'contents_attribute_l_attribute_l_s',\n 'contents_attribute_l_attribute_l_m',\n 'contents_attribute_l_attribute_l_l']"
     },
     "execution_count": 34,
     "metadata": {},
     "output_type": "execute_result"
    }
   ],
   "source": [
    "cat_features"
   ],
   "metadata": {
    "collapsed": false,
    "pycharm": {
     "name": "#%%\n"
    }
   }
  },
  {
   "cell_type": "code",
   "execution_count": null,
   "outputs": [],
   "source": [
    "\n",
    "from sklearn.model_selection import StratifiedKFold , KFold"
   ],
   "metadata": {
    "collapsed": false,
    "pycharm": {
     "name": "#%%\n"
    }
   }
  },
  {
   "cell_type": "code",
   "execution_count": 38,
   "outputs": [],
   "source": [
    "is_holdout = False\n",
    "n_splits = 5\n",
    "iterations = 3000\n",
    "patiencex = 50\n",
    "\n",
    "cv = KFold(n_splits=n_splits, shuffle=True, random_state=SEED)"
   ],
   "metadata": {
    "collapsed": false,
    "pycharm": {
     "name": "#%%\n"
    }
   }
  },
  {
   "cell_type": "code",
   "execution_count": 41,
   "outputs": [],
   "source": [
    "from catboost import Pool,CatBoostClassifier"
   ],
   "metadata": {
    "collapsed": false,
    "pycharm": {
     "name": "#%%f\\\n"
    }
   }
  },
  {
   "cell_type": "code",
   "execution_count": 44,
   "outputs": [
    {
     "name": "stdout",
     "output_type": "stream",
     "text": [
      "==================================================\n"
     ]
    },
    {
     "name": "stderr",
     "output_type": "stream",
     "text": [
      "Custom logger is already specified. Specify more than one logger at same time is not thread safe."
     ]
    },
    {
     "name": "stdout",
     "output_type": "stream",
     "text": [
      "Learning rate set to 0.086395\n",
      "0:\tlearn: 0.5918078\ttest: 0.5960459\tbest: 0.5960459 (0)\ttotal: 2.27s\tremaining: 1h 53m 20s\n",
      "100:\tlearn: 0.6633124\ttest: 0.6885151\tbest: 0.6886768 (99)\ttotal: 2m 54s\tremaining: 1h 23m 20s\n",
      "200:\tlearn: 0.6694600\ttest: 0.6917862\tbest: 0.6919422 (160)\ttotal: 5m 43s\tremaining: 1h 19m 38s\n",
      "300:\tlearn: 0.6733411\ttest: 0.6930620\tbest: 0.6932168 (288)\ttotal: 8m 53s\tremaining: 1h 19m 44s\n",
      "400:\tlearn: 0.6758620\ttest: 0.6938391\tbest: 0.6941906 (393)\ttotal: 11m 24s\tremaining: 1h 13m 56s\n",
      "Stopped by overfitting detector  (50 iterations wait)\n",
      "\n",
      "bestTest = 0.6941906097\n",
      "bestIteration = 393\n",
      "\n",
      "Shrink model to first 394 iterations.\n",
      "==================================================\n",
      "Learning rate set to 0.086395\n",
      "0:\tlearn: 0.6394136\ttest: 0.6463440\tbest: 0.6463440 (0)\ttotal: 1.75s\tremaining: 1h 27m 32s\n",
      "100:\tlearn: 0.6625279\ttest: 0.6892628\tbest: 0.6892681 (98)\ttotal: 3m 16s\tremaining: 1h 33m 51s\n",
      "200:\tlearn: 0.6693477\ttest: 0.6922710\tbest: 0.6922904 (196)\ttotal: 6m 16s\tremaining: 1h 27m 21s\n",
      "300:\tlearn: 0.6735453\ttest: 0.6961930\tbest: 0.6961930 (300)\ttotal: 8m 51s\tremaining: 1h 19m 24s\n",
      "400:\tlearn: 0.6760217\ttest: 0.6973085\tbest: 0.6973671 (394)\ttotal: 11m 29s\tremaining: 1h 14m 27s\n",
      "500:\tlearn: 0.6778682\ttest: 0.6975612\tbest: 0.6976870 (487)\ttotal: 13m 50s\tremaining: 1h 9m 4s\n",
      "600:\tlearn: 0.6798473\ttest: 0.6977933\tbest: 0.6979525 (568)\ttotal: 16m 37s\tremaining: 1h 6m 21s\n",
      "700:\tlearn: 0.6814361\ttest: 0.6982441\tbest: 0.6983140 (697)\ttotal: 19m 2s\tremaining: 1h 2m 27s\n",
      "800:\tlearn: 0.6825663\ttest: 0.6989064\tbest: 0.6989782 (799)\ttotal: 21m 34s\tremaining: 59m 14s\n",
      "Stopped by overfitting detector  (50 iterations wait)\n",
      "\n",
      "bestTest = 0.6990193331\n",
      "bestIteration = 812\n",
      "\n",
      "Shrink model to first 813 iterations.\n",
      "==================================================\n",
      "Learning rate set to 0.086395\n",
      "0:\tlearn: 0.6242329\ttest: 0.6294032\tbest: 0.6294032 (0)\ttotal: 2.17s\tremaining: 1h 48m 26s\n",
      "100:\tlearn: 0.6630361\ttest: 0.6839719\tbest: 0.6847665 (75)\ttotal: 3m 3s\tremaining: 1h 27m 55s\n",
      "200:\tlearn: 0.6701580\ttest: 0.6816230\tbest: 0.6853624 (153)\ttotal: 6m\tremaining: 1h 23m 39s\n",
      "Stopped by overfitting detector  (50 iterations wait)\n",
      "\n",
      "bestTest = 0.6853624395\n",
      "bestIteration = 153\n",
      "\n",
      "Shrink model to first 154 iterations.\n",
      "==================================================\n",
      "Learning rate set to 0.086395\n",
      "0:\tlearn: 0.6164276\ttest: 0.6192029\tbest: 0.6192029 (0)\ttotal: 1.73s\tremaining: 1h 26m 39s\n"
     ]
    },
    {
     "name": "stderr",
     "output_type": "stream",
     "text": [
      "ERROR:root:Internal Python error in the inspect module.\n",
      "Below is the traceback from this internal error.\n",
      "\n",
      "\n",
      "KeyboardInterrupt\n",
      "\n"
     ]
    }
   ],
   "source": [],
   "metadata": {
    "collapsed": false,
    "pycharm": {
     "name": "#%%\n"
    }
   }
  },
  {
   "cell_type": "code",
   "execution_count": null,
   "outputs": [],
   "source": [
    "# train start\n",
    "\n",
    "scores = []\n",
    "models = []\n"
   ],
   "metadata": {
    "collapsed": false,
    "pycharm": {
     "name": "#%%\n"
    }
   }
  },
  {
   "cell_type": "code",
   "execution_count": 61,
   "outputs": [
    {
     "data": {
      "text/plain": "['person_attribute_a_1',\n 'person_attribute_b',\n 'person_prefer_c',\n 'person_prefer_d_1',\n 'person_prefer_d_2',\n 'person_prefer_d_3',\n 'person_prefer_e',\n 'person_prefer_h_1',\n 'person_prefer_h_2',\n 'person_prefer_h_3',\n 'contents_attribute_i',\n 'contents_attribute_a',\n 'contents_attribute_j_1',\n 'contents_attribute_c',\n 'contents_attribute_l',\n 'contents_attribute_d',\n 'contents_attribute_m',\n 'contents_attribute_e',\n 'contents_attribute_h',\n 'person_rn',\n 'person_prefer_d_1_attribute_d_d',\n 'person_prefer_d_1_attribute_d_s',\n 'person_prefer_d_1_attribute_d_m',\n 'person_prefer_d_1_attribute_d_l',\n 'person_prefer_d_2_attribute_d_d',\n 'person_prefer_d_2_attribute_d_s',\n 'person_prefer_d_2_attribute_d_m',\n 'person_prefer_d_2_attribute_d_l',\n 'person_prefer_d_3_attribute_d_d',\n 'person_prefer_d_3_attribute_d_s',\n 'person_prefer_d_3_attribute_d_m',\n 'person_prefer_d_3_attribute_d_l',\n 'contents_attribute_d_attribute_d_d',\n 'contents_attribute_d_attribute_d_s',\n 'contents_attribute_d_attribute_d_m',\n 'contents_attribute_d_attribute_d_l',\n 'person_prefer_h_1_attribute_h_p',\n 'person_prefer_h_2_attribute_h_p',\n 'person_prefer_h_3_attribute_h_p',\n 'contents_attribute_h_attribute_h_p',\n 'contents_attribute_l_attribute_l_d',\n 'contents_attribute_l_attribute_l_s',\n 'contents_attribute_l_attribute_l_m',\n 'contents_attribute_l_attribute_l_l']"
     },
     "execution_count": 61,
     "metadata": {},
     "output_type": "execute_result"
    }
   ],
   "source": [
    "cat_features"
   ],
   "metadata": {
    "collapsed": false,
    "pycharm": {
     "name": "#%%\n"
    }
   }
  },
  {
   "cell_type": "code",
   "execution_count": 64,
   "outputs": [
    {
     "data": {
      "text/plain": "{}"
     },
     "execution_count": 64,
     "metadata": {},
     "output_type": "execute_result"
    }
   ],
   "source": [],
   "metadata": {
    "collapsed": false,
    "pycharm": {
     "name": "#%%\n"
    }
   }
  },
  {
   "cell_type": "code",
   "execution_count": 63,
   "outputs": [
    {
     "name": "stdout",
     "output_type": "stream",
     "text": [
      "==================================================\n"
     ]
    },
    {
     "name": "stderr",
     "output_type": "stream",
     "text": [
      "Custom logger is already specified. Specify more than one logger at same time is not thread safe."
     ]
    },
    {
     "name": "stdout",
     "output_type": "stream",
     "text": [
      "Learning rate set to 0.086395\n",
      "0:\tlearn: 0.5918078\ttest: 0.5960459\tbest: 0.5960459 (0)\ttotal: 1.68s\tremaining: 1h 24m 1s\n"
     ]
    },
    {
     "ename": "KeyboardInterrupt",
     "evalue": "",
     "output_type": "error",
     "traceback": [
      "\u001B[0;31m---------------------------------------------------------------------------\u001B[0m",
      "\u001B[0;31mKeyboardInterrupt\u001B[0m                         Traceback (most recent call last)",
      "\u001B[0;32m/var/folders/c6/2j22b1rd02778st12c0mcr3w0000gn/T/ipykernel_50975/1398272385.py\u001B[0m in \u001B[0;36m<module>\u001B[0;34m\u001B[0m\n\u001B[1;32m      5\u001B[0m \u001B[0;34m\u001B[0m\u001B[0m\n\u001B[1;32m      6\u001B[0m     \u001B[0mmodel\u001B[0m \u001B[0;34m=\u001B[0m \u001B[0mCatBoostClassifier\u001B[0m\u001B[0;34m(\u001B[0m\u001B[0miterations\u001B[0m\u001B[0;34m=\u001B[0m\u001B[0miterations\u001B[0m\u001B[0;34m,\u001B[0m\u001B[0mrandom_state\u001B[0m\u001B[0;34m=\u001B[0m\u001B[0mSEED\u001B[0m\u001B[0;34m,\u001B[0m\u001B[0meval_metric\u001B[0m\u001B[0;34m=\u001B[0m\u001B[0;34m\"F1\"\u001B[0m\u001B[0;34m,\u001B[0m\u001B[0mcat_features\u001B[0m\u001B[0;34m=\u001B[0m\u001B[0mcat_features\u001B[0m\u001B[0;34m,\u001B[0m\u001B[0mone_hot_max_size\u001B[0m\u001B[0;34m=\u001B[0m\u001B[0;36m4\u001B[0m\u001B[0;34m)\u001B[0m\u001B[0;34m\u001B[0m\u001B[0;34m\u001B[0m\u001B[0m\n\u001B[0;32m----> 7\u001B[0;31m     model.fit(x_train.iloc[tri], y_train[tri],\n\u001B[0m\u001B[1;32m      8\u001B[0m             \u001B[0meval_set\u001B[0m\u001B[0;34m=\u001B[0m\u001B[0;34m[\u001B[0m\u001B[0;34m(\u001B[0m\u001B[0mx_train\u001B[0m\u001B[0;34m.\u001B[0m\u001B[0miloc\u001B[0m\u001B[0;34m[\u001B[0m\u001B[0mvai\u001B[0m\u001B[0;34m]\u001B[0m\u001B[0;34m,\u001B[0m \u001B[0my_train\u001B[0m\u001B[0;34m[\u001B[0m\u001B[0mvai\u001B[0m\u001B[0;34m]\u001B[0m\u001B[0;34m)\u001B[0m\u001B[0;34m]\u001B[0m\u001B[0;34m,\u001B[0m\u001B[0;34m\u001B[0m\u001B[0;34m\u001B[0m\u001B[0m\n\u001B[1;32m      9\u001B[0m             \u001B[0mearly_stopping_rounds\u001B[0m\u001B[0;34m=\u001B[0m\u001B[0mpatience\u001B[0m \u001B[0;34m,\u001B[0m\u001B[0;34m\u001B[0m\u001B[0;34m\u001B[0m\u001B[0m\n",
      "\u001B[0;32m~/PycharmProjects/pythonProject/venv/lib/python3.8/site-packages/catboost/core.py\u001B[0m in \u001B[0;36mfit\u001B[0;34m(self, X, y, cat_features, text_features, embedding_features, sample_weight, baseline, use_best_model, eval_set, verbose, logging_level, plot, column_description, verbose_eval, metric_period, silent, early_stopping_rounds, save_snapshot, snapshot_file, snapshot_interval, init_model, callbacks, log_cout, log_cerr)\u001B[0m\n\u001B[1;32m   4714\u001B[0m             \u001B[0mCatBoostClassifier\u001B[0m\u001B[0;34m.\u001B[0m\u001B[0m_check_is_compatible_loss\u001B[0m\u001B[0;34m(\u001B[0m\u001B[0mparams\u001B[0m\u001B[0;34m[\u001B[0m\u001B[0;34m'loss_function'\u001B[0m\u001B[0;34m]\u001B[0m\u001B[0;34m)\u001B[0m\u001B[0;34m\u001B[0m\u001B[0;34m\u001B[0m\u001B[0m\n\u001B[1;32m   4715\u001B[0m \u001B[0;34m\u001B[0m\u001B[0m\n\u001B[0;32m-> 4716\u001B[0;31m         self._fit(X, y, cat_features, text_features, embedding_features, None, sample_weight, None, None, None, None, baseline, use_best_model,\n\u001B[0m\u001B[1;32m   4717\u001B[0m                   \u001B[0meval_set\u001B[0m\u001B[0;34m,\u001B[0m \u001B[0mverbose\u001B[0m\u001B[0;34m,\u001B[0m \u001B[0mlogging_level\u001B[0m\u001B[0;34m,\u001B[0m \u001B[0mplot\u001B[0m\u001B[0;34m,\u001B[0m \u001B[0mcolumn_description\u001B[0m\u001B[0;34m,\u001B[0m \u001B[0mverbose_eval\u001B[0m\u001B[0;34m,\u001B[0m \u001B[0mmetric_period\u001B[0m\u001B[0;34m,\u001B[0m\u001B[0;34m\u001B[0m\u001B[0;34m\u001B[0m\u001B[0m\n\u001B[1;32m   4718\u001B[0m                   silent, early_stopping_rounds, save_snapshot, snapshot_file, snapshot_interval, init_model, callbacks, log_cout, log_cerr)\n",
      "\u001B[0;32m~/PycharmProjects/pythonProject/venv/lib/python3.8/site-packages/catboost/core.py\u001B[0m in \u001B[0;36m_fit\u001B[0;34m(self, X, y, cat_features, text_features, embedding_features, pairs, sample_weight, group_id, group_weight, subgroup_id, pairs_weight, baseline, use_best_model, eval_set, verbose, logging_level, plot, column_description, verbose_eval, metric_period, silent, early_stopping_rounds, save_snapshot, snapshot_file, snapshot_interval, init_model, callbacks, log_cout, log_cerr)\u001B[0m\n\u001B[1;32m   2035\u001B[0m         \u001B[0;32mwith\u001B[0m \u001B[0mlog_fixup\u001B[0m\u001B[0;34m(\u001B[0m\u001B[0mlog_cout\u001B[0m\u001B[0;34m,\u001B[0m \u001B[0mlog_cerr\u001B[0m\u001B[0;34m)\u001B[0m\u001B[0;34m,\u001B[0m\u001B[0;31m \u001B[0m\u001B[0;31m\\\u001B[0m\u001B[0;34m\u001B[0m\u001B[0;34m\u001B[0m\u001B[0m\n\u001B[1;32m   2036\u001B[0m             \u001B[0mplot_wrapper\u001B[0m\u001B[0;34m(\u001B[0m\u001B[0mplot\u001B[0m\u001B[0;34m,\u001B[0m \u001B[0;34m[\u001B[0m\u001B[0m_get_train_dir\u001B[0m\u001B[0;34m(\u001B[0m\u001B[0mself\u001B[0m\u001B[0;34m.\u001B[0m\u001B[0mget_params\u001B[0m\u001B[0;34m(\u001B[0m\u001B[0;34m)\u001B[0m\u001B[0;34m)\u001B[0m\u001B[0;34m]\u001B[0m\u001B[0;34m)\u001B[0m\u001B[0;34m:\u001B[0m\u001B[0;34m\u001B[0m\u001B[0;34m\u001B[0m\u001B[0m\n\u001B[0;32m-> 2037\u001B[0;31m             self._train(\n\u001B[0m\u001B[1;32m   2038\u001B[0m                 \u001B[0mtrain_pool\u001B[0m\u001B[0;34m,\u001B[0m\u001B[0;34m\u001B[0m\u001B[0;34m\u001B[0m\u001B[0m\n\u001B[1;32m   2039\u001B[0m                 \u001B[0mtrain_params\u001B[0m\u001B[0;34m[\u001B[0m\u001B[0;34m\"eval_sets\"\u001B[0m\u001B[0;34m]\u001B[0m\u001B[0;34m,\u001B[0m\u001B[0;34m\u001B[0m\u001B[0;34m\u001B[0m\u001B[0m\n",
      "\u001B[0;32m~/PycharmProjects/pythonProject/venv/lib/python3.8/site-packages/catboost/core.py\u001B[0m in \u001B[0;36m_train\u001B[0;34m(self, train_pool, test_pool, params, allow_clear_pool, init_model)\u001B[0m\n\u001B[1;32m   1462\u001B[0m \u001B[0;34m\u001B[0m\u001B[0m\n\u001B[1;32m   1463\u001B[0m     \u001B[0;32mdef\u001B[0m \u001B[0m_train\u001B[0m\u001B[0;34m(\u001B[0m\u001B[0mself\u001B[0m\u001B[0;34m,\u001B[0m \u001B[0mtrain_pool\u001B[0m\u001B[0;34m,\u001B[0m \u001B[0mtest_pool\u001B[0m\u001B[0;34m,\u001B[0m \u001B[0mparams\u001B[0m\u001B[0;34m,\u001B[0m \u001B[0mallow_clear_pool\u001B[0m\u001B[0;34m,\u001B[0m \u001B[0minit_model\u001B[0m\u001B[0;34m)\u001B[0m\u001B[0;34m:\u001B[0m\u001B[0;34m\u001B[0m\u001B[0;34m\u001B[0m\u001B[0m\n\u001B[0;32m-> 1464\u001B[0;31m         \u001B[0mself\u001B[0m\u001B[0;34m.\u001B[0m\u001B[0m_object\u001B[0m\u001B[0;34m.\u001B[0m\u001B[0m_train\u001B[0m\u001B[0;34m(\u001B[0m\u001B[0mtrain_pool\u001B[0m\u001B[0;34m,\u001B[0m \u001B[0mtest_pool\u001B[0m\u001B[0;34m,\u001B[0m \u001B[0mparams\u001B[0m\u001B[0;34m,\u001B[0m \u001B[0mallow_clear_pool\u001B[0m\u001B[0;34m,\u001B[0m \u001B[0minit_model\u001B[0m\u001B[0;34m.\u001B[0m\u001B[0m_object\u001B[0m \u001B[0;32mif\u001B[0m \u001B[0minit_model\u001B[0m \u001B[0;32melse\u001B[0m \u001B[0;32mNone\u001B[0m\u001B[0;34m)\u001B[0m\u001B[0;34m\u001B[0m\u001B[0;34m\u001B[0m\u001B[0m\n\u001B[0m\u001B[1;32m   1465\u001B[0m         \u001B[0mself\u001B[0m\u001B[0;34m.\u001B[0m\u001B[0m_set_trained_model_attributes\u001B[0m\u001B[0;34m(\u001B[0m\u001B[0;34m)\u001B[0m\u001B[0;34m\u001B[0m\u001B[0;34m\u001B[0m\u001B[0m\n\u001B[1;32m   1466\u001B[0m \u001B[0;34m\u001B[0m\u001B[0m\n",
      "\u001B[0;32m_catboost.pyx\u001B[0m in \u001B[0;36m_catboost._CatBoost._train\u001B[0;34m()\u001B[0m\n",
      "\u001B[0;32m_catboost.pyx\u001B[0m in \u001B[0;36m_catboost._CatBoost._train\u001B[0;34m()\u001B[0m\n",
      "\u001B[0;31mKeyboardInterrupt\u001B[0m: "
     ]
    }
   ],
   "source": [
    "models = []\n",
    "for tri, vai in cv.split(x_train):\n",
    "    print(\"=\"*50)\n",
    "    preds = []\n",
    "\n",
    "    model = CatBoostClassifier(iterations=iterations,random_state=SEED,eval_metric=\"F1\",cat_features=cat_features,one_hot_max_size=4)\n",
    "    model.fit(x_train.iloc[tri], y_train[tri],\n",
    "            eval_set=[(x_train.iloc[vai], y_train[vai])],\n",
    "            early_stopping_rounds=patience ,\n",
    "            verbose = 100\n",
    "        )\n",
    "\n",
    "    models.append(model)\n",
    "    scores.append(model.get_best_score()[\"validation\"][\"F1\"])\n",
    "    if is_holdout:\n",
    "        break"
   ],
   "metadata": {
    "collapsed": false,
    "pycharm": {
     "name": "#%%\n"
    }
   }
  },
  {
   "cell_type": "code",
   "execution_count": null,
   "outputs": [],
   "source": [],
   "metadata": {
    "collapsed": false,
    "pycharm": {
     "name": "#%%\n"
    }
   }
  }
 ],
 "metadata": {
  "kernelspec": {
   "display_name": "Python 3",
   "language": "python",
   "name": "python3"
  },
  "language_info": {
   "codemirror_mode": {
    "name": "ipython",
    "version": 2
   },
   "file_extension": ".py",
   "mimetype": "text/x-python",
   "name": "python",
   "nbconvert_exporter": "python",
   "pygments_lexer": "ipython2",
   "version": "2.7.6"
  }
 },
 "nbformat": 4,
 "nbformat_minor": 0
}